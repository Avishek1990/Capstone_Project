{
 "cells": [
  {
   "cell_type": "code",
   "execution_count": 1,
   "metadata": {},
   "outputs": [],
   "source": [
    "import os\n",
    "import sys\n",
    "os.environ[\"PYSPARK_PYTHON\"]=\"/home/ubuntu/spark-2.4.4-bin-hadoop2.7/python\"\n",
    "os.environ[\"JAVA_HOME\"] = \"/usr/java/jdk1.8.0_161/jre\"\n",
    "os.environ[\"SPARK_HOME\"] = \"/home/ubuntu/spark-2.4.4-bin-hadoop2.7\"\n",
    "os.environ[\"PYLIB\"] = os.environ[\"SPARK_HOME\"] + \"/python/lib\"\n",
    "sys.path.insert(0, os.environ[\"PYLIB\"] + \"/py4j-0.10.7-src.zip\")\n",
    "sys.path.insert(0, os.environ[\"PYLIB\"] + \"/pyspark.zip\")"
   ]
  },
  {
   "cell_type": "code",
   "execution_count": 2,
   "metadata": {},
   "outputs": [],
   "source": [
    "# export SPARK_HOME=/home/ubuntu/spark-2.4.4-bin-hadoop2.7\n",
    "# export PYTHONPATH=$SPARK_HOME/python:$SPARK_HOME/python/lib/py4j-0.10.7-src.zip:$PYTHONPATH\n",
    "# export PATH=$SPARK_HOME/bin:$SPARK_HOME/python:$PATH"
   ]
  },
  {
   "cell_type": "code",
   "execution_count": 3,
   "metadata": {},
   "outputs": [
    {
     "name": "stdout",
     "output_type": "stream",
     "text": [
      "WARNING: pip is being invoked by an old script wrapper. This will fail in a future version of pip.\n",
      "Please see https://github.com/pypa/pip/issues/5599 for advice on fixing the underlying issue.\n",
      "To avoid this problem you can invoke Python with '-m pip' instead of running pip directly.\n",
      "Defaulting to user installation because normal site-packages is not writeable\n",
      "Requirement already satisfied: pyspark in ./.local/lib/python3.6/site-packages (3.2.1)\n",
      "Requirement already satisfied: py4j==0.10.9.3 in ./.local/lib/python3.6/site-packages (from pyspark) (0.10.9.3)\n"
     ]
    }
   ],
   "source": [
    "! pip3 install pyspark"
   ]
  },
  {
   "cell_type": "code",
   "execution_count": 4,
   "metadata": {},
   "outputs": [],
   "source": [
    "from pyspark.sql import SparkSession"
   ]
  },
  {
   "cell_type": "code",
   "execution_count": 5,
   "metadata": {},
   "outputs": [],
   "source": [
    "spark = SparkSession.builder.appName(\"CapstoneV1\").getOrCreate()"
   ]
  },
  {
   "cell_type": "code",
   "execution_count": 6,
   "metadata": {},
   "outputs": [
    {
     "data": {
      "text/html": [
       "\n",
       "            <div>\n",
       "                <p><b>SparkSession - in-memory</b></p>\n",
       "                \n",
       "        <div>\n",
       "            <p><b>SparkContext</b></p>\n",
       "\n",
       "            <p><a href=\"http://ip-172-31-67-40.ec2.internal:4040\">Spark UI</a></p>\n",
       "\n",
       "            <dl>\n",
       "              <dt>Version</dt>\n",
       "                <dd><code>v2.4.4</code></dd>\n",
       "              <dt>Master</dt>\n",
       "                <dd><code>local[*]</code></dd>\n",
       "              <dt>AppName</dt>\n",
       "                <dd><code>CapstoneV1</code></dd>\n",
       "            </dl>\n",
       "        </div>\n",
       "        \n",
       "            </div>\n",
       "        "
      ],
      "text/plain": [
       "<pyspark.sql.session.SparkSession at 0x7fa45f08b940>"
      ]
     },
     "execution_count": 6,
     "metadata": {},
     "output_type": "execute_result"
    }
   ],
   "source": [
    "spark"
   ]
  },
  {
   "cell_type": "code",
   "execution_count": 7,
   "metadata": {},
   "outputs": [],
   "source": [
    "import numpy as np"
   ]
  },
  {
   "cell_type": "code",
   "execution_count": 8,
   "metadata": {},
   "outputs": [],
   "source": [
    "import matplotlib.pyplot as plt\n",
    "import pandas as pd\n",
    "import numpy as np\n",
    "import seaborn as sns"
   ]
  },
  {
   "cell_type": "code",
   "execution_count": 9,
   "metadata": {},
   "outputs": [],
   "source": [
    "def custom_graph(ax,xlabel,ylabel,title):\n",
    "    ax.set_xlabel(xlabel)\n",
    "    ax.set_ylabel(ylabel)\n",
    "    ax.set_title(title)\n",
    "    ax.spines['bottom'].set_color('grey')\n",
    "    ax.spines['top'].set_color('white')\n",
    "    ax.spines['left'].set_color('grey')\n",
    "    ax.spines['right'].set_color('white')"
   ]
  },
  {
   "cell_type": "code",
   "execution_count": 10,
   "metadata": {},
   "outputs": [],
   "source": [
    "df = spark.read.csv(\"app_data_V1.csv\",header =False,inferSchema =True)"
   ]
  },
  {
   "cell_type": "code",
   "execution_count": 11,
   "metadata": {},
   "outputs": [
    {
     "name": "stdout",
     "output_type": "stream",
     "text": [
      "root\n",
      " |-- _c0: integer (nullable = true)\n",
      " |-- _c1: long (nullable = true)\n",
      " |-- _c2: integer (nullable = true)\n",
      " |-- _c3: integer (nullable = true)\n",
      " |-- _c4: integer (nullable = true)\n",
      " |-- _c5: string (nullable = true)\n",
      "\n"
     ]
    }
   ],
   "source": [
    "df.printSchema()"
   ]
  },
  {
   "cell_type": "code",
   "execution_count": 12,
   "metadata": {},
   "outputs": [],
   "source": [
    "df = df.withColumnRenamed(\"_c0\", \"event_id\")\n",
    "df = df.withColumnRenamed(\"_c1\", \"app_id\")\n",
    "df = df.withColumnRenamed(\"_c2\", \"is_installed\")\n",
    "df = df.withColumnRenamed(\"_c3\", \"is_active\")\n",
    "df = df.withColumnRenamed(\"_c4\", \"label_id\")\n",
    "df = df.withColumnRenamed(\"_c5\", \"category\")"
   ]
  },
  {
   "cell_type": "code",
   "execution_count": 12,
   "metadata": {},
   "outputs": [
    {
     "name": "stdout",
     "output_type": "stream",
     "text": [
      "+--------+--------------------+------------+---------+--------+-------------+\n",
      "|event_id|              app_id|is_installed|is_active|label_id|     category|\n",
      "+--------+--------------------+------------+---------+--------+-------------+\n",
      "| 1000000|-1051986413094956896|           1|        0|     787|     Low Risk|\n",
      "| 1000000|-1234297064722937607|           1|        0|     405| Custom label|\n",
      "| 1000000|-1234297064722937607|           1|        0|     737|         fund|\n",
      "| 1000000|-1234297064722937607|           1|        0|     738|Monetary Fund|\n",
      "| 1000000|-1562373526021293187|           1|        0|    1007| P2P net loan|\n",
      "+--------+--------------------+------------+---------+--------+-------------+\n",
      "only showing top 5 rows\n",
      "\n"
     ]
    }
   ],
   "source": [
    "df.show(5)"
   ]
  },
  {
   "cell_type": "code",
   "execution_count": 13,
   "metadata": {},
   "outputs": [],
   "source": [
    "from pyspark.sql.functions import col,isnan, when, count, lower"
   ]
  },
  {
   "cell_type": "code",
   "execution_count": 14,
   "metadata": {},
   "outputs": [
    {
     "name": "stdout",
     "output_type": "stream",
     "text": [
      "+--------------------+-------+\n",
      "|            category|  count|\n",
      "+--------------------+-------+\n",
      "|        Industry tag|8078173|\n",
      "|Property Industry...|5608408|\n",
      "|Property Industry...|4559681|\n",
      "|             unknown|4343890|\n",
      "|        Custom label|2747018|\n",
      "|          Services 1|2726645|\n",
      "|      And the Church|2419418|\n",
      "|    Internet banking|1993626|\n",
      "|             Finance|1669583|\n",
      "|                 P2P|1540816|\n",
      "|        P2P net loan|1343128|\n",
      "|       Liquid medium|1239639|\n",
      "|         Relatives 1|1041629|\n",
      "|                 Pay|1026006|\n",
      "|           High risk| 960460|\n",
      "|              1 free| 942537|\n",
      "|            Low risk| 878120|\n",
      "|Personal Effectiv...| 841133|\n",
      "|                  IM| 836491|\n",
      "|   Wealth Management| 822508|\n",
      "+--------------------+-------+\n",
      "only showing top 20 rows\n",
      "\n"
     ]
    }
   ],
   "source": [
    "df.groupby('category').count().sort(col('count').desc()).show()"
   ]
  },
  {
   "cell_type": "code",
   "execution_count": 15,
   "metadata": {},
   "outputs": [
    {
     "data": {
      "text/plain": [
       "455"
      ]
     },
     "execution_count": 15,
     "metadata": {},
     "output_type": "execute_result"
    }
   ],
   "source": [
    "df.select('category').distinct().count()"
   ]
  },
  {
   "cell_type": "code",
   "execution_count": 14,
   "metadata": {},
   "outputs": [],
   "source": [
    "df_V1 = spark.read.csv(\"app_data_V2.csv\",header =False,inferSchema =True)\n",
    "df_V2 = spark.read.csv(\"app_data_V3.csv\",header =False,inferSchema =True)"
   ]
  },
  {
   "cell_type": "code",
   "execution_count": 15,
   "metadata": {},
   "outputs": [],
   "source": [
    "df_V1 = df_V1.withColumnRenamed(\"_c0\", \"event_id\")\n",
    "df_V1 = df_V1.withColumnRenamed(\"_c1\", \"app_id\")\n",
    "df_V1 = df_V1.withColumnRenamed(\"_c2\", \"is_installed\")\n",
    "df_V1 = df_V1.withColumnRenamed(\"_c3\", \"is_active\")\n",
    "df_V1 = df_V1.withColumnRenamed(\"_c4\", \"label_id\")\n",
    "df_V1 = df_V1.withColumnRenamed(\"_c5\", \"category\")\n",
    "\n",
    "df_V2 = df_V2.withColumnRenamed(\"_c0\", \"event_id\")\n",
    "df_V2 = df_V2.withColumnRenamed(\"_c1\", \"app_id\")\n",
    "df_V2 = df_V2.withColumnRenamed(\"_c2\", \"is_installed\")\n",
    "df_V2 = df_V2.withColumnRenamed(\"_c3\", \"is_active\")\n",
    "df_V2 = df_V2.withColumnRenamed(\"_c4\", \"label_id\")\n",
    "df_V2 = df_V2.withColumnRenamed(\"_c5\", \"category\")"
   ]
  },
  {
   "cell_type": "code",
   "execution_count": 19,
   "metadata": {},
   "outputs": [
    {
     "name": "stdout",
     "output_type": "stream",
     "text": [
      "+--------+--------------------+------------+---------+--------+------------------+\n",
      "|event_id|              app_id|is_installed|is_active|label_id|          category|\n",
      "+--------+--------------------+------------+---------+--------+------------------+\n",
      "| 1000000|-1051986413094956896|           1|        0|     730|    And the Church|\n",
      "| 1000000|-1051986413094956896|           1|        0|     756|  Internet banking|\n",
      "| 1000000|-1051986413094956896|           1|        0|     761|Financial Services|\n",
      "| 1000000|-1234297064722937607|           1|        0|     730|    And the Church|\n",
      "| 1000000|-1234297064722937607|           1|        0|     774|     High mobility|\n",
      "+--------+--------------------+------------+---------+--------+------------------+\n",
      "only showing top 5 rows\n",
      "\n"
     ]
    }
   ],
   "source": [
    "df_V2.show(5)"
   ]
  },
  {
   "cell_type": "code",
   "execution_count": 16,
   "metadata": {},
   "outputs": [],
   "source": [
    "df = df.withColumn('category',lower(col('category')))\n",
    "df_V1 = df_V1.withColumn('category',lower(col('category')))\n",
    "df_V2 = df_V2.withColumn('category',lower(col('category')))"
   ]
  },
  {
   "cell_type": "code",
   "execution_count": 22,
   "metadata": {},
   "outputs": [
    {
     "name": "stdout",
     "output_type": "stream",
     "text": [
      "+--------+--------------------+------------+---------+--------+-------------+\n",
      "|event_id|              app_id|is_installed|is_active|label_id|     category|\n",
      "+--------+--------------------+------------+---------+--------+-------------+\n",
      "| 1000000|-1051986413094956896|           1|        0|     787|     low risk|\n",
      "| 1000000|-1234297064722937607|           1|        0|     405| custom label|\n",
      "| 1000000|-1234297064722937607|           1|        0|     737|         fund|\n",
      "| 1000000|-1234297064722937607|           1|        0|     738|monetary fund|\n",
      "| 1000000|-1562373526021293187|           1|        0|    1007| p2p net loan|\n",
      "+--------+--------------------+------------+---------+--------+-------------+\n",
      "only showing top 5 rows\n",
      "\n"
     ]
    }
   ],
   "source": [
    "df.show(5)"
   ]
  },
  {
   "cell_type": "code",
   "execution_count": 23,
   "metadata": {},
   "outputs": [
    {
     "data": {
      "text/plain": [
       "208074434"
      ]
     },
     "execution_count": 23,
     "metadata": {},
     "output_type": "execute_result"
    }
   ],
   "source": [
    "df.count()"
   ]
  },
  {
   "cell_type": "code",
   "execution_count": 24,
   "metadata": {},
   "outputs": [
    {
     "data": {
      "text/plain": [
       "453"
      ]
     },
     "execution_count": 24,
     "metadata": {},
     "output_type": "execute_result"
    }
   ],
   "source": [
    "df.select('category').distinct().count()"
   ]
  },
  {
   "cell_type": "code",
   "execution_count": 25,
   "metadata": {},
   "outputs": [
    {
     "name": "stdout",
     "output_type": "stream",
     "text": [
      "+--------+------+------------+---------+--------+--------+\n",
      "|event_id|app_id|is_installed|is_active|label_id|category|\n",
      "+--------+------+------------+---------+--------+--------+\n",
      "|       0|     0|           0|        0|       0|       0|\n",
      "+--------+------+------------+---------+--------+--------+\n",
      "\n"
     ]
    }
   ],
   "source": [
    "df.select([count(when(isnan(c) | col(c).isNull(), c)).alias(c) for c in df.columns]).show()"
   ]
  },
  {
   "cell_type": "code",
   "execution_count": 17,
   "metadata": {},
   "outputs": [],
   "source": [
    "df_event_data = spark.read.csv(\"event_data.csv\",header =False,inferSchema =True)"
   ]
  },
  {
   "cell_type": "code",
   "execution_count": 18,
   "metadata": {},
   "outputs": [
    {
     "name": "stdout",
     "output_type": "stream",
     "text": [
      "root\n",
      " |-- _c0: long (nullable = true)\n",
      " |-- _c1: string (nullable = true)\n",
      " |-- _c2: integer (nullable = true)\n",
      " |-- _c3: string (nullable = true)\n",
      " |-- _c4: integer (nullable = true)\n",
      " |-- _c5: timestamp (nullable = true)\n",
      " |-- _c6: double (nullable = true)\n",
      " |-- _c7: double (nullable = true)\n",
      "\n"
     ]
    }
   ],
   "source": [
    "df_event_data.printSchema()"
   ]
  },
  {
   "cell_type": "code",
   "execution_count": 19,
   "metadata": {},
   "outputs": [],
   "source": [
    "df_event_data = df_event_data.withColumnRenamed(\"_c0\", \"device_id\")\n",
    "df_event_data = df_event_data.withColumnRenamed(\"_c1\", \"gender\")\n",
    "df_event_data = df_event_data.withColumnRenamed(\"_c2\", \"age\")\n",
    "df_event_data = df_event_data.withColumnRenamed(\"_c3\", \"groups\")\n",
    "df_event_data = df_event_data.withColumnRenamed(\"_c4\", \"event_id\")\n",
    "df_event_data = df_event_data.withColumnRenamed(\"_c5\", \"time_stamp\")\n",
    "df_event_data = df_event_data.withColumnRenamed(\"_c6\", \"longitude\")\n",
    "df_event_data = df_event_data.withColumnRenamed(\"_c7\", \"latitude\")"
   ]
  },
  {
   "cell_type": "code",
   "execution_count": 29,
   "metadata": {},
   "outputs": [
    {
     "name": "stdout",
     "output_type": "stream",
     "text": [
      "root\n",
      " |-- device_id: long (nullable = true)\n",
      " |-- gender: string (nullable = true)\n",
      " |-- age: integer (nullable = true)\n",
      " |-- groups: string (nullable = true)\n",
      " |-- event_id: integer (nullable = true)\n",
      " |-- time_stamp: timestamp (nullable = true)\n",
      " |-- longitude: double (nullable = true)\n",
      " |-- latitude: double (nullable = true)\n",
      "\n"
     ]
    }
   ],
   "source": [
    "df_event_data.printSchema()"
   ]
  },
  {
   "cell_type": "code",
   "execution_count": 24,
   "metadata": {},
   "outputs": [
    {
     "name": "stdout",
     "output_type": "stream",
     "text": [
      "+---------+------+---+------+--------+----------+---------+--------+\n",
      "|device_id|gender|age|groups|event_id|time_stamp|longitude|latitude|\n",
      "+---------+------+---+------+--------+----------+---------+--------+\n",
      "|        0|     0|  0|     0|       0|         0|        0|       0|\n",
      "+---------+------+---+------+--------+----------+---------+--------+\n",
      "\n"
     ]
    }
   ],
   "source": [
    "df_event_data.select([count(when(col(c).isNull(), c)).alias(c) for c in df_event_data.columns]).show()"
   ]
  },
  {
   "cell_type": "code",
   "execution_count": 25,
   "metadata": {},
   "outputs": [
    {
     "name": "stdout",
     "output_type": "stream",
     "text": [
      "+--------------------+------+---+------+--------+-------------------+---------+--------+\n",
      "|           device_id|gender|age|groups|event_id|         time_stamp|longitude|latitude|\n",
      "+--------------------+------+---+------+--------+-------------------+---------+--------+\n",
      "|-1001337759327040000|     M| 30|M25-32| 1040336|2016-05-04 13:59:23|   120.11|   30.29|\n",
      "|-1001337759327040000|     M| 30|M25-32| 1058003|2016-05-04 08:26:47|   120.19|    30.2|\n",
      "|-1001337759327040000|     M| 30|M25-32| 1083521|2016-05-04 08:30:06|   120.19|    30.2|\n",
      "|-1001337759327040000|     M| 30|M25-32| 1092240|2016-05-06 13:56:26|   120.19|    30.2|\n",
      "|-1001337759327040000|     M| 30|M25-32| 1114412|2016-05-04 10:04:12|    120.3|   30.41|\n",
      "+--------------------+------+---+------+--------+-------------------+---------+--------+\n",
      "only showing top 5 rows\n",
      "\n"
     ]
    }
   ],
   "source": [
    "df_event_data.show(5)"
   ]
  },
  {
   "cell_type": "code",
   "execution_count": 26,
   "metadata": {},
   "outputs": [
    {
     "name": "stdout",
     "output_type": "stream",
     "text": [
      "+---------+--------+\n",
      "|longitude|latitude|\n",
      "+---------+--------+\n",
      "|   356161|  356301|\n",
      "+---------+--------+\n",
      "\n"
     ]
    }
   ],
   "source": [
    "df_event_data.select([count(when(col(c) == 0, c)).alias(c) for c in ['longitude','latitude']]).show()"
   ]
  },
  {
   "cell_type": "code",
   "execution_count": 20,
   "metadata": {},
   "outputs": [],
   "source": [
    "df_event_data_llc = df_event_data.filter((col('longitude') != 0)&(col('latitude') != 0))"
   ]
  },
  {
   "cell_type": "code",
   "execution_count": 28,
   "metadata": {},
   "outputs": [
    {
     "data": {
      "text/plain": [
       "859293"
      ]
     },
     "execution_count": 28,
     "metadata": {},
     "output_type": "execute_result"
    }
   ],
   "source": [
    "df_event_data_llc.count()"
   ]
  },
  {
   "cell_type": "code",
   "execution_count": 29,
   "metadata": {},
   "outputs": [
    {
     "name": "stdout",
     "output_type": "stream",
     "text": [
      "+------+------+\n",
      "|groups| count|\n",
      "+------+------+\n",
      "| M0-24| 89356|\n",
      "|M25-32|253881|\n",
      "|  M32+|280535|\n",
      "| F0-24| 35838|\n",
      "|F25-32| 87274|\n",
      "|  F32+|112409|\n",
      "+------+------+\n",
      "\n"
     ]
    }
   ],
   "source": [
    "df_event_data_llc.groupby('groups').count().show()"
   ]
  },
  {
   "cell_type": "code",
   "execution_count": 31,
   "metadata": {},
   "outputs": [
    {
     "name": "stdout",
     "output_type": "stream",
     "text": [
      "+--------------------+------+---+------+--------+-------------------+---------+--------+\n",
      "|           device_id|gender|age|groups|event_id|         time_stamp|longitude|latitude|\n",
      "+--------------------+------+---+------+--------+-------------------+---------+--------+\n",
      "|-1001337759327040000|     M| 30|M25-32| 1040336|2016-05-04 13:59:23|   120.11|   30.29|\n",
      "|-1001337759327040000|     M| 30|M25-32| 1058003|2016-05-04 08:26:47|   120.19|    30.2|\n",
      "|-1001337759327040000|     M| 30|M25-32| 1083521|2016-05-04 08:30:06|   120.19|    30.2|\n",
      "|-1001337759327040000|     M| 30|M25-32| 1092240|2016-05-06 13:56:26|   120.19|    30.2|\n",
      "|-1001337759327040000|     M| 30|M25-32| 1114412|2016-05-04 10:04:12|    120.3|   30.41|\n",
      "+--------------------+------+---+------+--------+-------------------+---------+--------+\n",
      "only showing top 5 rows\n",
      "\n"
     ]
    }
   ],
   "source": [
    "df_event_data_llc.show(5)"
   ]
  },
  {
   "cell_type": "code",
   "execution_count": 21,
   "metadata": {},
   "outputs": [],
   "source": [
    "df_non_event_data = spark.read.csv('non_event_data.csv',header = False, inferSchema = True)"
   ]
  },
  {
   "cell_type": "code",
   "execution_count": 22,
   "metadata": {},
   "outputs": [
    {
     "name": "stdout",
     "output_type": "stream",
     "text": [
      "root\n",
      " |-- _c0: long (nullable = true)\n",
      " |-- _c1: string (nullable = true)\n",
      " |-- _c2: integer (nullable = true)\n",
      " |-- _c3: string (nullable = true)\n",
      " |-- _c4: string (nullable = true)\n",
      " |-- _c5: string (nullable = true)\n",
      "\n"
     ]
    }
   ],
   "source": [
    "df_non_event_data.printSchema()"
   ]
  },
  {
   "cell_type": "code",
   "execution_count": 23,
   "metadata": {},
   "outputs": [],
   "source": [
    "df_non_event_data = df_non_event_data.withColumnRenamed(\"_c0\", \"device_id\")\n",
    "df_non_event_data = df_non_event_data.withColumnRenamed(\"_c1\", \"gender\")\n",
    "df_non_event_data = df_non_event_data.withColumnRenamed(\"_c2\", \"age\")\n",
    "df_non_event_data = df_non_event_data.withColumnRenamed(\"_c3\", \"groups\")\n",
    "df_non_event_data = df_non_event_data.withColumnRenamed(\"_c4\", \"phone_brand\")\n",
    "df_non_event_data = df_non_event_data.withColumnRenamed(\"_c5\", \"device_model\")"
   ]
  },
  {
   "cell_type": "code",
   "execution_count": 35,
   "metadata": {},
   "outputs": [
    {
     "name": "stdout",
     "output_type": "stream",
     "text": [
      "+--------------------+------+---+------+-----------+------------+\n",
      "|           device_id|gender|age|groups|phone_brand|device_model|\n",
      "+--------------------+------+---+------+-----------+------------+\n",
      "|-1000369272589010000|     F| 26|F25-32|       vivo|        Y17T|\n",
      "|-1000572055892390000|     F| 27|F25-32|       OPPO|       R819T|\n",
      "|-1000643208750510000|     M| 29|M25-32|     Gionee|       GN137|\n",
      "|-1001337759327040000|     M| 30|M25-32|       OPPO|         A31|\n",
      "|-1001949518704260000|     M| 22| M0-24|       OPPO|          R1|\n",
      "+--------------------+------+---+------+-----------+------------+\n",
      "only showing top 5 rows\n",
      "\n"
     ]
    }
   ],
   "source": [
    "df_non_event_data.show(5)"
   ]
  },
  {
   "cell_type": "code",
   "execution_count": 35,
   "metadata": {},
   "outputs": [
    {
     "name": "stdout",
     "output_type": "stream",
     "text": [
      "+---------+------+---+------+-----------+------------+\n",
      "|device_id|gender|age|groups|phone_brand|device_model|\n",
      "+---------+------+---+------+-----------+------------+\n",
      "+---------+------+---+------+-----------+------------+\n",
      "\n"
     ]
    }
   ],
   "source": [
    "df_non_event_data.filter(col('age') == 0).show()"
   ]
  },
  {
   "cell_type": "code",
   "execution_count": 36,
   "metadata": {},
   "outputs": [
    {
     "name": "stdout",
     "output_type": "stream",
     "text": [
      "+---------+------+---+------+-----------+------------+\n",
      "|device_id|gender|age|groups|phone_brand|device_model|\n",
      "+---------+------+---+------+-----------+------------+\n",
      "|        0|     0|  0|     0|          0|           0|\n",
      "+---------+------+---+------+-----------+------------+\n",
      "\n"
     ]
    }
   ],
   "source": [
    "df_non_event_data.select([count(when(col(c).isNull(), c)).alias(c) for c in df_non_event_data.columns]).show()"
   ]
  },
  {
   "cell_type": "code",
   "execution_count": 37,
   "metadata": {},
   "outputs": [
    {
     "name": "stdout",
     "output_type": "stream",
     "text": [
      "+-----------+-----+\n",
      "|phone_brand|count|\n",
      "+-----------+-----+\n",
      "|    lingyun|   20|\n",
      "|    hisense|  204|\n",
      "|    bigcola|   10|\n",
      "|      ipair|   42|\n",
      "|      meitu|   57|\n",
      "|      yougo|   24|\n",
      "|      bodao|   41|\n",
      "|    xiangmi|    4|\n",
      "|       Sony|  715|\n",
      "|       mole|    1|\n",
      "|      Noain|   15|\n",
      "|  panosonic|   28|\n",
      "|     Ktouch|  159|\n",
      "|    Teclast|    3|\n",
      "|       PPTV|    3|\n",
      "|       OPPO| 5783|\n",
      "|        ada|    5|\n",
      "|     nibilu|   24|\n",
      "|      heymi|   35|\n",
      "|      Ramos|    3|\n",
      "+-----------+-----+\n",
      "only showing top 20 rows\n",
      "\n"
     ]
    }
   ],
   "source": [
    "df_non_event_data.groupby('phone_brand').count().show()"
   ]
  },
  {
   "cell_type": "code",
   "execution_count": 36,
   "metadata": {},
   "outputs": [],
   "source": [
    "ag_df_NE = df_non_event_data.select('age','gender')\n",
    "\n",
    "ag_df_NE = ag_df_NE.toPandas()"
   ]
  },
  {
   "cell_type": "code",
   "execution_count": 37,
   "metadata": {},
   "outputs": [
    {
     "data": {
      "text/html": [
       "<div>\n",
       "<style scoped>\n",
       "    .dataframe tbody tr th:only-of-type {\n",
       "        vertical-align: middle;\n",
       "    }\n",
       "\n",
       "    .dataframe tbody tr th {\n",
       "        vertical-align: top;\n",
       "    }\n",
       "\n",
       "    .dataframe thead th {\n",
       "        text-align: right;\n",
       "    }\n",
       "</style>\n",
       "<table border=\"1\" class=\"dataframe\">\n",
       "  <thead>\n",
       "    <tr style=\"text-align: right;\">\n",
       "      <th></th>\n",
       "      <th>age</th>\n",
       "      <th>gender</th>\n",
       "    </tr>\n",
       "  </thead>\n",
       "  <tbody>\n",
       "    <tr>\n",
       "      <th>0</th>\n",
       "      <td>26</td>\n",
       "      <td>F</td>\n",
       "    </tr>\n",
       "    <tr>\n",
       "      <th>1</th>\n",
       "      <td>27</td>\n",
       "      <td>F</td>\n",
       "    </tr>\n",
       "    <tr>\n",
       "      <th>2</th>\n",
       "      <td>29</td>\n",
       "      <td>M</td>\n",
       "    </tr>\n",
       "    <tr>\n",
       "      <th>3</th>\n",
       "      <td>30</td>\n",
       "      <td>M</td>\n",
       "    </tr>\n",
       "    <tr>\n",
       "      <th>4</th>\n",
       "      <td>22</td>\n",
       "      <td>M</td>\n",
       "    </tr>\n",
       "  </tbody>\n",
       "</table>\n",
       "</div>"
      ],
      "text/plain": [
       "   age gender\n",
       "0   26      F\n",
       "1   27      F\n",
       "2   29      M\n",
       "3   30      M\n",
       "4   22      M"
      ]
     },
     "execution_count": 37,
     "metadata": {},
     "output_type": "execute_result"
    }
   ],
   "source": [
    "ag_df_NE.head()"
   ]
  },
  {
   "cell_type": "code",
   "execution_count": 38,
   "metadata": {},
   "outputs": [],
   "source": [
    "ag_df_NE_g = ag_df_NE['gender'].value_counts()\n",
    "\n",
    "ag_df_NE_g = ag_df_NE_g.reset_index()"
   ]
  },
  {
   "cell_type": "code",
   "execution_count": 39,
   "metadata": {},
   "outputs": [
    {
     "data": {
      "text/html": [
       "<div>\n",
       "<style scoped>\n",
       "    .dataframe tbody tr th:only-of-type {\n",
       "        vertical-align: middle;\n",
       "    }\n",
       "\n",
       "    .dataframe tbody tr th {\n",
       "        vertical-align: top;\n",
       "    }\n",
       "\n",
       "    .dataframe thead th {\n",
       "        text-align: right;\n",
       "    }\n",
       "</style>\n",
       "<table border=\"1\" class=\"dataframe\">\n",
       "  <thead>\n",
       "    <tr style=\"text-align: right;\">\n",
       "      <th></th>\n",
       "      <th>index</th>\n",
       "      <th>gender</th>\n",
       "    </tr>\n",
       "  </thead>\n",
       "  <tbody>\n",
       "    <tr>\n",
       "      <th>0</th>\n",
       "      <td>M</td>\n",
       "      <td>47905</td>\n",
       "    </tr>\n",
       "    <tr>\n",
       "      <th>1</th>\n",
       "      <td>F</td>\n",
       "      <td>26741</td>\n",
       "    </tr>\n",
       "  </tbody>\n",
       "</table>\n",
       "</div>"
      ],
      "text/plain": [
       "  index  gender\n",
       "0     M   47905\n",
       "1     F   26741"
      ]
     },
     "execution_count": 39,
     "metadata": {},
     "output_type": "execute_result"
    }
   ],
   "source": [
    "ag_df_NE_g"
   ]
  },
  {
   "cell_type": "markdown",
   "metadata": {},
   "source": [
    "# Plot appropriate graphs representing the distribution of age and gender in the data set [univariate]."
   ]
  },
  {
   "cell_type": "code",
   "execution_count": 42,
   "metadata": {},
   "outputs": [
    {
     "data": {
      "image/png": "[encoded data removed]",
      "text/plain": [
       "<Figure size 720x288 with 1 Axes>"
      ]
     },
     "metadata": {},
     "output_type": "display_data"
    }
   ],
   "source": [
    "fig = plt.figure(figsize = (10,4))\n",
    "ax = plt.axes()\n",
    "plt.bar(ag_df_NE_g['index'],ag_df_NE_g['gender'])\n",
    "custom_graph(ax,'Gender','Gender Count Non Event Data','Gender Non Event Data')"
   ]
  },
  {
   "cell_type": "code",
   "execution_count": 24,
   "metadata": {},
   "outputs": [],
   "source": [
    "import warnings\n",
    "warnings.simplefilter('ignore')"
   ]
  },
  {
   "cell_type": "code",
   "execution_count": 44,
   "metadata": {},
   "outputs": [
    {
     "data": {
      "image/png": "[encoded data removed]",
      "text/plain": [
       "<Figure size 720x288 with 1 Axes>"
      ]
     },
     "metadata": {},
     "output_type": "display_data"
    }
   ],
   "source": [
    "fig = plt.figure(figsize = (10,4))\n",
    "ax = plt.axes()\n",
    "plt.hist(ag_df_NE['age'])\n",
    "custom_graph(ax,'Age','','Age Distribution Non Event Data')"
   ]
  },
  {
   "cell_type": "code",
   "execution_count": 41,
   "metadata": {},
   "outputs": [
    {
     "data": {
      "text/html": [
       "<div>\n",
       "<style scoped>\n",
       "    .dataframe tbody tr th:only-of-type {\n",
       "        vertical-align: middle;\n",
       "    }\n",
       "\n",
       "    .dataframe tbody tr th {\n",
       "        vertical-align: top;\n",
       "    }\n",
       "\n",
       "    .dataframe thead th {\n",
       "        text-align: right;\n",
       "    }\n",
       "</style>\n",
       "<table border=\"1\" class=\"dataframe\">\n",
       "  <thead>\n",
       "    <tr style=\"text-align: right;\">\n",
       "      <th></th>\n",
       "      <th>age</th>\n",
       "      <th>gender</th>\n",
       "    </tr>\n",
       "  </thead>\n",
       "  <tbody>\n",
       "    <tr>\n",
       "      <th>0</th>\n",
       "      <td>30</td>\n",
       "      <td>M</td>\n",
       "    </tr>\n",
       "    <tr>\n",
       "      <th>1</th>\n",
       "      <td>30</td>\n",
       "      <td>M</td>\n",
       "    </tr>\n",
       "    <tr>\n",
       "      <th>2</th>\n",
       "      <td>30</td>\n",
       "      <td>M</td>\n",
       "    </tr>\n",
       "    <tr>\n",
       "      <th>3</th>\n",
       "      <td>30</td>\n",
       "      <td>M</td>\n",
       "    </tr>\n",
       "    <tr>\n",
       "      <th>4</th>\n",
       "      <td>30</td>\n",
       "      <td>M</td>\n",
       "    </tr>\n",
       "  </tbody>\n",
       "</table>\n",
       "</div>"
      ],
      "text/plain": [
       "   age gender\n",
       "0   30      M\n",
       "1   30      M\n",
       "2   30      M\n",
       "3   30      M\n",
       "4   30      M"
      ]
     },
     "execution_count": 41,
     "metadata": {},
     "output_type": "execute_result"
    }
   ],
   "source": [
    "ag_df_E = df_event_data.select('age','gender')\n",
    "\n",
    "ag_df_E = ag_df_E.toPandas()\n",
    "\n",
    "ag_df_E.head()"
   ]
  },
  {
   "cell_type": "code",
   "execution_count": 42,
   "metadata": {},
   "outputs": [],
   "source": [
    "ag_df_E_g = ag_df_E['gender'].value_counts()\n",
    "\n",
    "ag_df_E_g = ag_df_E_g.reset_index()"
   ]
  },
  {
   "cell_type": "code",
   "execution_count": 47,
   "metadata": {},
   "outputs": [
    {
     "data": {
      "image/png": "[encoded data removed]",
      "text/plain": [
       "<Figure size 432x216 with 1 Axes>"
      ]
     },
     "metadata": {},
     "output_type": "display_data"
    }
   ],
   "source": [
    "fig = plt.figure(figsize = (6,3))\n",
    "ax = plt.axes()\n",
    "plt.bar(ag_df_E_g['index'],ag_df_E_g['gender'])\n",
    "custom_graph(ax,'Gender','Gender Count Event Data','Gender Event Data')"
   ]
  },
  {
   "cell_type": "code",
   "execution_count": 48,
   "metadata": {},
   "outputs": [
    {
     "data": {
      "image/png": "[encoded data removed]",
      "text/plain": [
       "<Figure size 720x288 with 1 Axes>"
      ]
     },
     "metadata": {},
     "output_type": "display_data"
    }
   ],
   "source": [
    "fig = plt.figure(figsize = (10,4))\n",
    "ax = plt.axes()\n",
    "plt.hist(ag_df_E['age'])\n",
    "custom_graph(ax,'Age','','Age Distribution Event Data')"
   ]
  },
  {
   "cell_type": "markdown",
   "metadata": {},
   "source": [
    "## Boxplot analysis for gender and age [bivariate]."
   ]
  },
  {
   "cell_type": "code",
   "execution_count": 25,
   "metadata": {},
   "outputs": [],
   "source": [
    "import seaborn as sns"
   ]
  },
  {
   "cell_type": "code",
   "execution_count": 51,
   "metadata": {},
   "outputs": [
    {
     "data": {
      "image/png": "[encoded data removed]",
      "text/plain": [
       "<Figure size 432x216 with 1 Axes>"
      ]
     },
     "metadata": {},
     "output_type": "display_data"
    }
   ],
   "source": [
    "fig = plt.figure(figsize = (6,3))\n",
    "ax = plt.axes()\n",
    "sns.boxplot(ag_df_E['gender'],ag_df_E['age'])\n",
    "custom_graph(ax,'Gender','Age','Gender Age Distribution Event Data')"
   ]
  },
  {
   "cell_type": "code",
   "execution_count": 52,
   "metadata": {},
   "outputs": [
    {
     "data": {
      "image/png": "[encoded data removed]",
      "text/plain": [
       "<Figure size 432x216 with 1 Axes>"
      ]
     },
     "metadata": {},
     "output_type": "display_data"
    }
   ],
   "source": [
    "fig = plt.figure(figsize = (6,3))\n",
    "ax = plt.axes()\n",
    "sns.boxplot(ag_df_NE['gender'],ag_df_NE['age'])\n",
    "custom_graph(ax,'Gender','Age','Gender Age Distribution Non Event Data')"
   ]
  },
  {
   "cell_type": "markdown",
   "metadata": {},
   "source": [
    "## Plot the percentage of the device_ids with and without event data. "
   ]
  },
  {
   "cell_type": "code",
   "execution_count": 54,
   "metadata": {},
   "outputs": [],
   "source": [
    "Total_Device_Id = 74645\n",
    "\n",
    "non_event_device_id = df_non_event_data.select('device_id').toPandas()\n",
    "\n",
    "event_device_id = df_event_data.select('device_id').toPandas()\n",
    "\n",
    "non_event_device_id_count = len(non_event_device_id.drop_duplicates())\n",
    "\n",
    "event_device_id_count = len(event_device_id.drop_duplicates())\n",
    "\n",
    "percentage_device_events = event_device_id_count/non_event_device_id_count\n",
    "\n",
    "percentage_device_non_events = (Total_Device_Id - event_device_id_count)/non_event_device_id_count"
   ]
  },
  {
   "cell_type": "code",
   "execution_count": 55,
   "metadata": {},
   "outputs": [
    {
     "data": {
      "image/png": "[encoded data removed]",
      "text/plain": [
       "<Figure size 504x216 with 1 Axes>"
      ]
     },
     "metadata": {},
     "output_type": "display_data"
    }
   ],
   "source": [
    "fig = plt.figure(figsize = (7,3))\n",
    "ax = plt.axes()\n",
    "plt.bar(['Devices_With_Events','Devices_With_No_Events'],[percentage_device_events,percentage_device_non_events])\n",
    "custom_graph(ax,'Devices With Events/ No Events','Percentage','Event - Non Event')"
   ]
  },
  {
   "cell_type": "markdown",
   "metadata": {},
   "source": [
    "## Plot a graph representing the distribution of events over different days of a week. "
   ]
  },
  {
   "cell_type": "code",
   "execution_count": 57,
   "metadata": {},
   "outputs": [
    {
     "name": "stdout",
     "output_type": "stream",
     "text": [
      "root\n",
      " |-- device_id: long (nullable = true)\n",
      " |-- gender: string (nullable = true)\n",
      " |-- age: integer (nullable = true)\n",
      " |-- groups: string (nullable = true)\n",
      " |-- event_id: integer (nullable = true)\n",
      " |-- time_stamp: timestamp (nullable = true)\n",
      " |-- longitude: double (nullable = true)\n",
      " |-- latitude: double (nullable = true)\n",
      "\n"
     ]
    }
   ],
   "source": [
    "df_event_data.printSchema()"
   ]
  },
  {
   "cell_type": "code",
   "execution_count": 26,
   "metadata": {},
   "outputs": [],
   "source": [
    "from pyspark.sql.functions import year, month, dayofmonth, weekofyear,dayofweek,hour,udf,mean\n",
    "from pyspark.sql.types import IntegerType,BooleanType,DateType,StringType"
   ]
  },
  {
   "cell_type": "code",
   "execution_count": 27,
   "metadata": {},
   "outputs": [],
   "source": [
    "df_event_data_llc = df_event_data_llc.withColumn('Month',month('time_stamp'))\n",
    "\n",
    "df_event_data_llc = df_event_data_llc.withColumn('Year',year('time_stamp'))\n",
    "\n",
    "df_event_data_llc = df_event_data_llc.withColumn('DayOfWeek',dayofweek('time_stamp'))"
   ]
  },
  {
   "cell_type": "code",
   "execution_count": 46,
   "metadata": {},
   "outputs": [
    {
     "name": "stdout",
     "output_type": "stream",
     "text": [
      "+--------------------+------+---+------+--------+-------------------+---------+--------+-----+----+---------+\n",
      "|           device_id|gender|age|groups|event_id|         time_stamp|longitude|latitude|Month|Year|DayOfWeek|\n",
      "+--------------------+------+---+------+--------+-------------------+---------+--------+-----+----+---------+\n",
      "|-1001337759327040000|     M| 30|M25-32| 1040336|2016-05-04 13:59:23|   120.11|   30.29|    5|2016|        4|\n",
      "|-1001337759327040000|     M| 30|M25-32| 1058003|2016-05-04 08:26:47|   120.19|    30.2|    5|2016|        4|\n",
      "|-1001337759327040000|     M| 30|M25-32| 1083521|2016-05-04 08:30:06|   120.19|    30.2|    5|2016|        4|\n",
      "|-1001337759327040000|     M| 30|M25-32| 1092240|2016-05-06 13:56:26|   120.19|    30.2|    5|2016|        6|\n",
      "|-1001337759327040000|     M| 30|M25-32| 1114412|2016-05-04 10:04:12|    120.3|   30.41|    5|2016|        4|\n",
      "+--------------------+------+---+------+--------+-------------------+---------+--------+-----+----+---------+\n",
      "only showing top 5 rows\n",
      "\n"
     ]
    }
   ],
   "source": [
    "df_event_data_llc.show(5)"
   ]
  },
  {
   "cell_type": "code",
   "execution_count": 28,
   "metadata": {},
   "outputs": [],
   "source": [
    "from collections import Counter"
   ]
  },
  {
   "cell_type": "code",
   "execution_count": 62,
   "metadata": {},
   "outputs": [],
   "source": [
    "Events_DOW = df_event_data_llc.select('DayOfWeek').toPandas()\n",
    "Events_DOW_Count = Events_DOW.value_counts()"
   ]
  },
  {
   "cell_type": "code",
   "execution_count": 63,
   "metadata": {},
   "outputs": [
    {
     "data": {
      "text/html": [
       "<div>\n",
       "<style scoped>\n",
       "    .dataframe tbody tr th:only-of-type {\n",
       "        vertical-align: middle;\n",
       "    }\n",
       "\n",
       "    .dataframe tbody tr th {\n",
       "        vertical-align: top;\n",
       "    }\n",
       "\n",
       "    .dataframe thead th {\n",
       "        text-align: right;\n",
       "    }\n",
       "</style>\n",
       "<table border=\"1\" class=\"dataframe\">\n",
       "  <thead>\n",
       "    <tr style=\"text-align: right;\">\n",
       "      <th></th>\n",
       "      <th>DayOfWeek</th>\n",
       "      <th>0</th>\n",
       "    </tr>\n",
       "  </thead>\n",
       "  <tbody>\n",
       "    <tr>\n",
       "      <th>0</th>\n",
       "      <td>3</td>\n",
       "      <td>128829</td>\n",
       "    </tr>\n",
       "    <tr>\n",
       "      <th>1</th>\n",
       "      <td>4</td>\n",
       "      <td>127701</td>\n",
       "    </tr>\n",
       "    <tr>\n",
       "      <th>2</th>\n",
       "      <td>5</td>\n",
       "      <td>127336</td>\n",
       "    </tr>\n",
       "    <tr>\n",
       "      <th>3</th>\n",
       "      <td>6</td>\n",
       "      <td>122111</td>\n",
       "    </tr>\n",
       "    <tr>\n",
       "      <th>4</th>\n",
       "      <td>2</td>\n",
       "      <td>120738</td>\n",
       "    </tr>\n",
       "    <tr>\n",
       "      <th>5</th>\n",
       "      <td>7</td>\n",
       "      <td>116556</td>\n",
       "    </tr>\n",
       "    <tr>\n",
       "      <th>6</th>\n",
       "      <td>1</td>\n",
       "      <td>116022</td>\n",
       "    </tr>\n",
       "  </tbody>\n",
       "</table>\n",
       "</div>"
      ],
      "text/plain": [
       "   DayOfWeek       0\n",
       "0          3  128829\n",
       "1          4  127701\n",
       "2          5  127336\n",
       "3          6  122111\n",
       "4          2  120738\n",
       "5          7  116556\n",
       "6          1  116022"
      ]
     },
     "execution_count": 63,
     "metadata": {},
     "output_type": "execute_result"
    }
   ],
   "source": [
    "Events_DOW_Count = Events_DOW_Count.reset_index()\n",
    "Events_DOW_Count"
   ]
  },
  {
   "cell_type": "code",
   "execution_count": 64,
   "metadata": {},
   "outputs": [
    {
     "data": {
      "image/png": "[encoded data removed]",
      "text/plain": [
       "<Figure size 432x216 with 1 Axes>"
      ]
     },
     "metadata": {},
     "output_type": "display_data"
    }
   ],
   "source": [
    "fig = plt.figure(figsize = (6,3))\n",
    "ax = plt.axes()\n",
    "plt.bar(Events_DOW_Count['DayOfWeek'],Events_DOW_Count[0])\n",
    "custom_graph(ax,'DayOfWeek','Count of Events','Day Of Week Events')"
   ]
  },
  {
   "cell_type": "markdown",
   "metadata": {},
   "source": [
    "## Plot a graph representing the distribution of events per hour [for one-week data]."
   ]
  },
  {
   "cell_type": "code",
   "execution_count": 29,
   "metadata": {},
   "outputs": [],
   "source": [
    "df_event_data_llc = df_event_data_llc.withColumn('Week',weekofyear('time_stamp'))"
   ]
  },
  {
   "cell_type": "code",
   "execution_count": 30,
   "metadata": {},
   "outputs": [],
   "source": [
    "df_event_data_llc = df_event_data_llc.withColumn('Hour',hour('time_stamp'))"
   ]
  },
  {
   "cell_type": "code",
   "execution_count": 38,
   "metadata": {},
   "outputs": [
    {
     "name": "stdout",
     "output_type": "stream",
     "text": [
      "+----+\n",
      "|Week|\n",
      "+----+\n",
      "|  18|\n",
      "|  18|\n",
      "|  18|\n",
      "|  18|\n",
      "|  18|\n",
      "+----+\n",
      "only showing top 5 rows\n",
      "\n"
     ]
    }
   ],
   "source": [
    "df_event_data_llc.select('Week').show(5)"
   ]
  },
  {
   "cell_type": "code",
   "execution_count": 50,
   "metadata": {},
   "outputs": [
    {
     "data": {
      "text/html": [
       "<div>\n",
       "<style scoped>\n",
       "    .dataframe tbody tr th:only-of-type {\n",
       "        vertical-align: middle;\n",
       "    }\n",
       "\n",
       "    .dataframe tbody tr th {\n",
       "        vertical-align: top;\n",
       "    }\n",
       "\n",
       "    .dataframe thead th {\n",
       "        text-align: right;\n",
       "    }\n",
       "</style>\n",
       "<table border=\"1\" class=\"dataframe\">\n",
       "  <thead>\n",
       "    <tr style=\"text-align: right;\">\n",
       "      <th></th>\n",
       "      <th>Week</th>\n",
       "      <th>Hour</th>\n",
       "    </tr>\n",
       "  </thead>\n",
       "  <tbody>\n",
       "    <tr>\n",
       "      <th>0</th>\n",
       "      <td>18</td>\n",
       "      <td>13</td>\n",
       "    </tr>\n",
       "    <tr>\n",
       "      <th>1</th>\n",
       "      <td>18</td>\n",
       "      <td>8</td>\n",
       "    </tr>\n",
       "    <tr>\n",
       "      <th>2</th>\n",
       "      <td>18</td>\n",
       "      <td>8</td>\n",
       "    </tr>\n",
       "    <tr>\n",
       "      <th>3</th>\n",
       "      <td>18</td>\n",
       "      <td>13</td>\n",
       "    </tr>\n",
       "    <tr>\n",
       "      <th>4</th>\n",
       "      <td>18</td>\n",
       "      <td>10</td>\n",
       "    </tr>\n",
       "  </tbody>\n",
       "</table>\n",
       "</div>"
      ],
      "text/plain": [
       "   Week  Hour\n",
       "0    18    13\n",
       "1    18     8\n",
       "2    18     8\n",
       "3    18    13\n",
       "4    18    10"
      ]
     },
     "execution_count": 50,
     "metadata": {},
     "output_type": "execute_result"
    }
   ],
   "source": [
    "df_event_one_week = df_event_data_llc.filter(col('Week') == 18).select(col('Week'),col('Hour'))\n",
    "\n",
    "df_event_one_week_ = df_event_one_week.toPandas()\n",
    "\n",
    "df_event_one_week_.head()"
   ]
  },
  {
   "cell_type": "code",
   "execution_count": 70,
   "metadata": {},
   "outputs": [],
   "source": [
    "hour_dist = df_event_one_week_.groupby('Hour').count()"
   ]
  },
  {
   "cell_type": "code",
   "execution_count": 71,
   "metadata": {},
   "outputs": [
    {
     "data": {
      "image/png": "[encoded data removed]",
      "text/plain": [
       "<Figure size 432x216 with 1 Axes>"
      ]
     },
     "metadata": {},
     "output_type": "display_data"
    }
   ],
   "source": [
    "fig = plt.figure(figsize = (6,3))\n",
    "ax = plt.axes()\n",
    "plt.bar(hour_dist.index,hour_dist['Week'])\n",
    "custom_graph(ax,'Hours','Count of Events','Hours Events')"
   ]
  },
  {
   "cell_type": "markdown",
   "metadata": {},
   "source": [
    "## The difference in the distribution of events per hour for Male and Female consumers. [Show the difference using an appropriate chart for one-week data.]"
   ]
  },
  {
   "cell_type": "code",
   "execution_count": 51,
   "metadata": {},
   "outputs": [
    {
     "data": {
      "text/html": [
       "<div>\n",
       "<style scoped>\n",
       "    .dataframe tbody tr th:only-of-type {\n",
       "        vertical-align: middle;\n",
       "    }\n",
       "\n",
       "    .dataframe tbody tr th {\n",
       "        vertical-align: top;\n",
       "    }\n",
       "\n",
       "    .dataframe thead th {\n",
       "        text-align: right;\n",
       "    }\n",
       "</style>\n",
       "<table border=\"1\" class=\"dataframe\">\n",
       "  <thead>\n",
       "    <tr style=\"text-align: right;\">\n",
       "      <th></th>\n",
       "      <th>Week</th>\n",
       "      <th>Hour</th>\n",
       "      <th>gender</th>\n",
       "    </tr>\n",
       "  </thead>\n",
       "  <tbody>\n",
       "    <tr>\n",
       "      <th>0</th>\n",
       "      <td>18</td>\n",
       "      <td>13</td>\n",
       "      <td>M</td>\n",
       "    </tr>\n",
       "    <tr>\n",
       "      <th>1</th>\n",
       "      <td>18</td>\n",
       "      <td>8</td>\n",
       "      <td>M</td>\n",
       "    </tr>\n",
       "    <tr>\n",
       "      <th>2</th>\n",
       "      <td>18</td>\n",
       "      <td>8</td>\n",
       "      <td>M</td>\n",
       "    </tr>\n",
       "    <tr>\n",
       "      <th>3</th>\n",
       "      <td>18</td>\n",
       "      <td>13</td>\n",
       "      <td>M</td>\n",
       "    </tr>\n",
       "    <tr>\n",
       "      <th>4</th>\n",
       "      <td>18</td>\n",
       "      <td>10</td>\n",
       "      <td>M</td>\n",
       "    </tr>\n",
       "  </tbody>\n",
       "</table>\n",
       "</div>"
      ],
      "text/plain": [
       "   Week  Hour gender\n",
       "0    18    13      M\n",
       "1    18     8      M\n",
       "2    18     8      M\n",
       "3    18    13      M\n",
       "4    18    10      M"
      ]
     },
     "execution_count": 51,
     "metadata": {},
     "output_type": "execute_result"
    }
   ],
   "source": [
    "df_event_one_week = df_event_data_llc.filter(col('Week') == 18).select(col('Week'),col('Hour'),col('gender'))\n",
    "\n",
    "df_event_one_week_ = df_event_one_week.toPandas()\n",
    "\n",
    "df_event_one_week_.head()"
   ]
  },
  {
   "cell_type": "code",
   "execution_count": 52,
   "metadata": {},
   "outputs": [],
   "source": [
    "df_event_one_week__ = df_event_one_week_.groupby(['gender','Hour']).count().reset_index().rename(columns = {'Week':'Count'})"
   ]
  },
  {
   "cell_type": "code",
   "execution_count": 53,
   "metadata": {},
   "outputs": [
    {
     "data": {
      "text/html": [
       "<div>\n",
       "<style scoped>\n",
       "    .dataframe tbody tr th:only-of-type {\n",
       "        vertical-align: middle;\n",
       "    }\n",
       "\n",
       "    .dataframe tbody tr th {\n",
       "        vertical-align: top;\n",
       "    }\n",
       "\n",
       "    .dataframe thead th {\n",
       "        text-align: right;\n",
       "    }\n",
       "</style>\n",
       "<table border=\"1\" class=\"dataframe\">\n",
       "  <thead>\n",
       "    <tr style=\"text-align: right;\">\n",
       "      <th></th>\n",
       "      <th>gender</th>\n",
       "      <th>Hour</th>\n",
       "      <th>Count</th>\n",
       "    </tr>\n",
       "  </thead>\n",
       "  <tbody>\n",
       "    <tr>\n",
       "      <th>0</th>\n",
       "      <td>F</td>\n",
       "      <td>0</td>\n",
       "      <td>6308</td>\n",
       "    </tr>\n",
       "    <tr>\n",
       "      <th>1</th>\n",
       "      <td>F</td>\n",
       "      <td>1</td>\n",
       "      <td>4020</td>\n",
       "    </tr>\n",
       "    <tr>\n",
       "      <th>2</th>\n",
       "      <td>F</td>\n",
       "      <td>2</td>\n",
       "      <td>3153</td>\n",
       "    </tr>\n",
       "    <tr>\n",
       "      <th>3</th>\n",
       "      <td>F</td>\n",
       "      <td>3</td>\n",
       "      <td>2543</td>\n",
       "    </tr>\n",
       "    <tr>\n",
       "      <th>4</th>\n",
       "      <td>F</td>\n",
       "      <td>4</td>\n",
       "      <td>2815</td>\n",
       "    </tr>\n",
       "  </tbody>\n",
       "</table>\n",
       "</div>"
      ],
      "text/plain": [
       "  gender  Hour  Count\n",
       "0      F     0   6308\n",
       "1      F     1   4020\n",
       "2      F     2   3153\n",
       "3      F     3   2543\n",
       "4      F     4   2815"
      ]
     },
     "execution_count": 53,
     "metadata": {},
     "output_type": "execute_result"
    }
   ],
   "source": [
    "df_event_one_week__.head()"
   ]
  },
  {
   "cell_type": "code",
   "execution_count": 76,
   "metadata": {},
   "outputs": [
    {
     "data": {
      "image/png": "[encoded data removed]",
      "text/plain": [
       "<Figure size 720x288 with 1 Axes>"
      ]
     },
     "metadata": {},
     "output_type": "display_data"
    }
   ],
   "source": [
    "fig = plt.figure(figsize = (10,4))\n",
    "ax = plt.axes()\n",
    "sns.barplot(x=df_event_one_week__.Hour, y=df_event_one_week__.Count, hue=df_event_one_week__.gender)\n",
    "custom_graph(ax,'Hour','Count of Events','Hour - Events')"
   ]
  },
  {
   "cell_type": "markdown",
   "metadata": {},
   "source": [
    "## Is there any difference in the distribution of Events for different Age Groups over different days of the week? [Consider the following age groups: 0–24, 25–32, 33–45, and 46+]"
   ]
  },
  {
   "cell_type": "code",
   "execution_count": 31,
   "metadata": {},
   "outputs": [],
   "source": [
    "def ageGroup(age):\n",
    "    \n",
    "    if age <= 24 :\n",
    "        \n",
    "        return '0-24'\n",
    "    \n",
    "    if age <=32 and age >= 25:\n",
    "        \n",
    "        return '25-32'\n",
    "    \n",
    "    if age >= 33 and age <= 45:\n",
    "        \n",
    "        return '33-45'\n",
    "    \n",
    "    if age >= 46:\n",
    "        \n",
    "        return '46+'\n",
    "        "
   ]
  },
  {
   "cell_type": "code",
   "execution_count": 31,
   "metadata": {},
   "outputs": [],
   "source": [
    "convertUDF = udf(lambda z: ageGroup(z)) "
   ]
  },
  {
   "cell_type": "code",
   "execution_count": 55,
   "metadata": {},
   "outputs": [],
   "source": [
    "df_event_data_llc_P = df_event_data_llc.toPandas()"
   ]
  },
  {
   "cell_type": "code",
   "execution_count": 56,
   "metadata": {},
   "outputs": [],
   "source": [
    "df_event_data_llc_P['ageCategory'] = df_event_data_llc_P['age'].apply(lambda x : ageGroup(x))"
   ]
  },
  {
   "cell_type": "code",
   "execution_count": 57,
   "metadata": {},
   "outputs": [
    {
     "data": {
      "text/plain": [
       "Index(['device_id', 'gender', 'age', 'groups', 'event_id', 'time_stamp',\n",
       "       'longitude', 'latitude', 'Month', 'Year', 'DayOfWeek', 'Week', 'Hour',\n",
       "       'ageCategory'],\n",
       "      dtype='object')"
      ]
     },
     "execution_count": 57,
     "metadata": {},
     "output_type": "execute_result"
    }
   ],
   "source": [
    "df_event_data_llc_P.columns"
   ]
  },
  {
   "cell_type": "code",
   "execution_count": 58,
   "metadata": {},
   "outputs": [
    {
     "name": "stdout",
     "output_type": "stream",
     "text": [
      "root\n",
      " |-- device_id: long (nullable = true)\n",
      " |-- gender: string (nullable = true)\n",
      " |-- age: integer (nullable = true)\n",
      " |-- groups: string (nullable = true)\n",
      " |-- event_id: integer (nullable = true)\n",
      " |-- time_stamp: timestamp (nullable = true)\n",
      " |-- longitude: double (nullable = true)\n",
      " |-- latitude: double (nullable = true)\n",
      " |-- Month: integer (nullable = true)\n",
      " |-- Year: integer (nullable = true)\n",
      " |-- DayOfWeek: integer (nullable = true)\n",
      " |-- Week: integer (nullable = true)\n",
      " |-- Hour: integer (nullable = true)\n",
      "\n"
     ]
    }
   ],
   "source": [
    "df_event_data_llc.printSchema()"
   ]
  },
  {
   "cell_type": "code",
   "execution_count": 59,
   "metadata": {},
   "outputs": [
    {
     "data": {
      "text/plain": [
       "gender  groups  Hour  Month  Year  ageCategory\n",
       "F       F0-24   0     5      2016  0-24           1179\n",
       "                1     5      2016  0-24            826\n",
       "                2     5      2016  0-24            524\n",
       "                3     5      2016  0-24            517\n",
       "                4     5      2016  0-24            395\n",
       "Name: ageCategory, dtype: int64"
      ]
     },
     "execution_count": 59,
     "metadata": {},
     "output_type": "execute_result"
    }
   ],
   "source": [
    "group_df = df_event_data_llc_P.groupby(['gender','groups','Hour','Month','Year'])['ageCategory'].value_counts()\n",
    "\n",
    "group_df.head()"
   ]
  },
  {
   "cell_type": "code",
   "execution_count": 60,
   "metadata": {},
   "outputs": [],
   "source": [
    "group_df_ = pd.DataFrame(group_df)"
   ]
  },
  {
   "cell_type": "code",
   "execution_count": 61,
   "metadata": {},
   "outputs": [],
   "source": [
    "group_df_ = group_df_.rename(columns = {'ageCategory':'count'}).reset_index()"
   ]
  },
  {
   "cell_type": "code",
   "execution_count": 62,
   "metadata": {},
   "outputs": [
    {
     "data": {
      "text/html": [
       "<div>\n",
       "<style scoped>\n",
       "    .dataframe tbody tr th:only-of-type {\n",
       "        vertical-align: middle;\n",
       "    }\n",
       "\n",
       "    .dataframe tbody tr th {\n",
       "        vertical-align: top;\n",
       "    }\n",
       "\n",
       "    .dataframe thead th {\n",
       "        text-align: right;\n",
       "    }\n",
       "</style>\n",
       "<table border=\"1\" class=\"dataframe\">\n",
       "  <thead>\n",
       "    <tr style=\"text-align: right;\">\n",
       "      <th></th>\n",
       "      <th>gender</th>\n",
       "      <th>groups</th>\n",
       "      <th>Hour</th>\n",
       "      <th>Month</th>\n",
       "      <th>Year</th>\n",
       "      <th>ageCategory</th>\n",
       "      <th>count</th>\n",
       "    </tr>\n",
       "  </thead>\n",
       "  <tbody>\n",
       "    <tr>\n",
       "      <th>0</th>\n",
       "      <td>F</td>\n",
       "      <td>F0-24</td>\n",
       "      <td>0</td>\n",
       "      <td>5</td>\n",
       "      <td>2016</td>\n",
       "      <td>0-24</td>\n",
       "      <td>1179</td>\n",
       "    </tr>\n",
       "    <tr>\n",
       "      <th>1</th>\n",
       "      <td>F</td>\n",
       "      <td>F0-24</td>\n",
       "      <td>1</td>\n",
       "      <td>5</td>\n",
       "      <td>2016</td>\n",
       "      <td>0-24</td>\n",
       "      <td>826</td>\n",
       "    </tr>\n",
       "    <tr>\n",
       "      <th>2</th>\n",
       "      <td>F</td>\n",
       "      <td>F0-24</td>\n",
       "      <td>2</td>\n",
       "      <td>5</td>\n",
       "      <td>2016</td>\n",
       "      <td>0-24</td>\n",
       "      <td>524</td>\n",
       "    </tr>\n",
       "    <tr>\n",
       "      <th>3</th>\n",
       "      <td>F</td>\n",
       "      <td>F0-24</td>\n",
       "      <td>3</td>\n",
       "      <td>5</td>\n",
       "      <td>2016</td>\n",
       "      <td>0-24</td>\n",
       "      <td>517</td>\n",
       "    </tr>\n",
       "    <tr>\n",
       "      <th>4</th>\n",
       "      <td>F</td>\n",
       "      <td>F0-24</td>\n",
       "      <td>4</td>\n",
       "      <td>5</td>\n",
       "      <td>2016</td>\n",
       "      <td>0-24</td>\n",
       "      <td>395</td>\n",
       "    </tr>\n",
       "  </tbody>\n",
       "</table>\n",
       "</div>"
      ],
      "text/plain": [
       "  gender groups  Hour  Month  Year ageCategory  count\n",
       "0      F  F0-24     0      5  2016        0-24   1179\n",
       "1      F  F0-24     1      5  2016        0-24    826\n",
       "2      F  F0-24     2      5  2016        0-24    524\n",
       "3      F  F0-24     3      5  2016        0-24    517\n",
       "4      F  F0-24     4      5  2016        0-24    395"
      ]
     },
     "execution_count": 62,
     "metadata": {},
     "output_type": "execute_result"
    }
   ],
   "source": [
    "group_df_.head()"
   ]
  },
  {
   "cell_type": "code",
   "execution_count": 63,
   "metadata": {},
   "outputs": [
    {
     "data": {
      "text/html": [
       "<div>\n",
       "<style scoped>\n",
       "    .dataframe tbody tr th:only-of-type {\n",
       "        vertical-align: middle;\n",
       "    }\n",
       "\n",
       "    .dataframe tbody tr th {\n",
       "        vertical-align: top;\n",
       "    }\n",
       "\n",
       "    .dataframe thead th {\n",
       "        text-align: right;\n",
       "    }\n",
       "</style>\n",
       "<table border=\"1\" class=\"dataframe\">\n",
       "  <thead>\n",
       "    <tr style=\"text-align: right;\">\n",
       "      <th></th>\n",
       "      <th>gender</th>\n",
       "      <th>ageCategory</th>\n",
       "      <th>Hour</th>\n",
       "      <th>mean</th>\n",
       "    </tr>\n",
       "  </thead>\n",
       "  <tbody>\n",
       "    <tr>\n",
       "      <th>0</th>\n",
       "      <td>F</td>\n",
       "      <td>0-24</td>\n",
       "      <td>0</td>\n",
       "      <td>1179.0</td>\n",
       "    </tr>\n",
       "    <tr>\n",
       "      <th>1</th>\n",
       "      <td>F</td>\n",
       "      <td>0-24</td>\n",
       "      <td>1</td>\n",
       "      <td>826.0</td>\n",
       "    </tr>\n",
       "    <tr>\n",
       "      <th>2</th>\n",
       "      <td>F</td>\n",
       "      <td>0-24</td>\n",
       "      <td>2</td>\n",
       "      <td>524.0</td>\n",
       "    </tr>\n",
       "    <tr>\n",
       "      <th>3</th>\n",
       "      <td>F</td>\n",
       "      <td>0-24</td>\n",
       "      <td>3</td>\n",
       "      <td>517.0</td>\n",
       "    </tr>\n",
       "    <tr>\n",
       "      <th>4</th>\n",
       "      <td>F</td>\n",
       "      <td>0-24</td>\n",
       "      <td>4</td>\n",
       "      <td>395.0</td>\n",
       "    </tr>\n",
       "  </tbody>\n",
       "</table>\n",
       "</div>"
      ],
      "text/plain": [
       "  gender ageCategory  Hour    mean\n",
       "0      F        0-24     0  1179.0\n",
       "1      F        0-24     1   826.0\n",
       "2      F        0-24     2   524.0\n",
       "3      F        0-24     3   517.0\n",
       "4      F        0-24     4   395.0"
      ]
     },
     "execution_count": 63,
     "metadata": {},
     "output_type": "execute_result"
    }
   ],
   "source": [
    "group_df_ = group_df_[['gender','ageCategory','Hour','count']].groupby(['gender','ageCategory','Hour'])['count'].mean()\n",
    "\n",
    "group_df__ = group_df_.reset_index().rename(columns = {'count':'mean'})\n",
    "\n",
    "group_df__.head()"
   ]
  },
  {
   "cell_type": "code",
   "execution_count": 64,
   "metadata": {},
   "outputs": [],
   "source": [
    "group_df__PM = group_df__[group_df__.gender == 'M'].pivot_table(index = 'Hour',columns = 'ageCategory',values = 'mean')"
   ]
  },
  {
   "cell_type": "code",
   "execution_count": 65,
   "metadata": {},
   "outputs": [],
   "source": [
    "group_df__FM = group_df__[group_df__.gender == 'F'].pivot_table(index = 'Hour',columns = 'ageCategory',values = 'mean')"
   ]
  },
  {
   "cell_type": "code",
   "execution_count": 66,
   "metadata": {},
   "outputs": [
    {
     "data": {
      "text/plain": [
       "array(['0-24', '25-32', '33-45', '46+'], dtype=object)"
      ]
     },
     "execution_count": 66,
     "metadata": {},
     "output_type": "execute_result"
    }
   ],
   "source": [
    "group_df__.ageCategory.unique()"
   ]
  },
  {
   "cell_type": "code",
   "execution_count": 91,
   "metadata": {},
   "outputs": [
    {
     "data": {
      "text/plain": [
       "<AxesSubplot:xlabel='Hour'>"
      ]
     },
     "execution_count": 91,
     "metadata": {},
     "output_type": "execute_result"
    },
    {
     "data": {
      "image/png": "[encoded data removed]",
      "text/plain": [
       "<Figure size 720x288 with 1 Axes>"
      ]
     },
     "metadata": {},
     "output_type": "display_data"
    },
    {
     "data": {
      "image/png": "[encoded data removed]",
      "text/plain": [
       "<Figure size 720x288 with 1 Axes>"
      ]
     },
     "metadata": {},
     "output_type": "display_data"
    }
   ],
   "source": [
    "# fig = plt.figure(figsize = (20,4))\n",
    "# ax = plt.axes()\n",
    "group_df__PM.plot(kind='bar', stacked=True,figsize=(10,4))\n",
    "# group_df__PM.plot(figsize=(10,4))\n",
    "group_df__FM.plot(kind='bar', stacked=True,figsize=(10,4))\n",
    "# group_df__PM.plot(figsize=(10,4))\n",
    "# custom_graph(ax,'Hour','Count of Events','Hour - Events')"
   ]
  },
  {
   "cell_type": "markdown",
   "metadata": {},
   "source": [
    "## Stacked bar chart for the top 10 mobile brands across male and female consumers."
   ]
  },
  {
   "cell_type": "code",
   "execution_count": 92,
   "metadata": {},
   "outputs": [
    {
     "name": "stdout",
     "output_type": "stream",
     "text": [
      "+--------------------+------+---+------+-----------+------------+\n",
      "|           device_id|gender|age|groups|phone_brand|device_model|\n",
      "+--------------------+------+---+------+-----------+------------+\n",
      "|-1000369272589010000|     F| 26|F25-32|       vivo|        Y17T|\n",
      "|-1000572055892390000|     F| 27|F25-32|       OPPO|       R819T|\n",
      "|-1000643208750510000|     M| 29|M25-32|     Gionee|       GN137|\n",
      "|-1001337759327040000|     M| 30|M25-32|       OPPO|         A31|\n",
      "|-1001949518704260000|     M| 22| M0-24|       OPPO|          R1|\n",
      "+--------------------+------+---+------+-----------+------------+\n",
      "only showing top 5 rows\n",
      "\n"
     ]
    }
   ],
   "source": [
    "df_non_event_data.show(5)"
   ]
  },
  {
   "cell_type": "code",
   "execution_count": 67,
   "metadata": {},
   "outputs": [],
   "source": [
    "df_non_event_data_Top_Brands = df_non_event_data.groupby('phone_brand').pivot('gender').count()"
   ]
  },
  {
   "cell_type": "code",
   "execution_count": 68,
   "metadata": {},
   "outputs": [
    {
     "name": "stdout",
     "output_type": "stream",
     "text": [
      "+-----------+---+---+\n",
      "|phone_brand|  F|  M|\n",
      "+-----------+---+---+\n",
      "|    lingyun|  6| 14|\n",
      "|    hisense| 63|141|\n",
      "|    bigcola|  1|  9|\n",
      "|      ipair|  9| 33|\n",
      "|      yougo|  6| 18|\n",
      "+-----------+---+---+\n",
      "only showing top 5 rows\n",
      "\n"
     ]
    }
   ],
   "source": [
    "df_non_event_data_Top_Brands.show(5)"
   ]
  },
  {
   "cell_type": "code",
   "execution_count": 69,
   "metadata": {},
   "outputs": [],
   "source": [
    "df_non_event_data_Top_Brands = df_non_event_data_Top_Brands.withColumn('Total',col('F')+col('M'))"
   ]
  },
  {
   "cell_type": "code",
   "execution_count": 70,
   "metadata": {},
   "outputs": [],
   "source": [
    "df_non_event_data_Top_Brands_20 = df_non_event_data_Top_Brands.sort(col('Total').desc()).limit(20)"
   ]
  },
  {
   "cell_type": "code",
   "execution_count": 71,
   "metadata": {},
   "outputs": [],
   "source": [
    "df_non_event_data_Top_Brands_20_P = df_non_event_data_Top_Brands_20.toPandas()"
   ]
  },
  {
   "cell_type": "code",
   "execution_count": 72,
   "metadata": {},
   "outputs": [],
   "source": [
    "df_non_event_data_Top_Brands_20_P_Per = df_non_event_data_Top_Brands_20_P.copy()"
   ]
  },
  {
   "cell_type": "code",
   "execution_count": 73,
   "metadata": {},
   "outputs": [],
   "source": [
    "df_non_event_data_Top_Brands_20_P_Per['F'] = df_non_event_data_Top_Brands_20_P_Per['F']/df_non_event_data_Top_Brands_20_P_Per['Total']\n",
    "df_non_event_data_Top_Brands_20_P_Per['M'] = df_non_event_data_Top_Brands_20_P_Per['M']/df_non_event_data_Top_Brands_20_P_Per['Total']"
   ]
  },
  {
   "cell_type": "code",
   "execution_count": 100,
   "metadata": {},
   "outputs": [
    {
     "data": {
      "text/plain": [
       "<AxesSubplot:xlabel='phone_brand'>"
      ]
     },
     "execution_count": 100,
     "metadata": {},
     "output_type": "execute_result"
    },
    {
     "data": {
      "image/png": "[encoded data removed]",
      "text/plain": [
       "<Figure size 720x288 with 1 Axes>"
      ]
     },
     "metadata": {},
     "output_type": "display_data"
    }
   ],
   "source": [
    "df_non_event_data_Top_Brands_20_P_Per[['phone_brand','F','M']].set_index('phone_brand').plot(kind='bar', stacked=True,figsize=(10,4))"
   ]
  },
  {
   "cell_type": "code",
   "execution_count": 101,
   "metadata": {},
   "outputs": [
    {
     "data": {
      "text/plain": [
       "<AxesSubplot:xlabel='phone_brand'>"
      ]
     },
     "execution_count": 101,
     "metadata": {},
     "output_type": "execute_result"
    },
    {
     "data": {
      "image/png": "[encoded data removed]",
      "text/plain": [
       "<Figure size 720x288 with 1 Axes>"
      ]
     },
     "metadata": {},
     "output_type": "display_data"
    }
   ],
   "source": [
    "df_non_event_data_Top_Brands_20_P[['phone_brand','F','M']].set_index('phone_brand').plot(kind='bar', stacked=True,figsize=(10,4))"
   ]
  },
  {
   "cell_type": "markdown",
   "metadata": {},
   "source": [
    "## Prepare a chart representing the ten frequently used applications and their respective male and female percentage."
   ]
  },
  {
   "cell_type": "code",
   "execution_count": 74,
   "metadata": {},
   "outputs": [
    {
     "name": "stdout",
     "output_type": "stream",
     "text": [
      "+--------+--------------------+------------+---------+--------+-------------+\n",
      "|event_id|              app_id|is_installed|is_active|label_id|     category|\n",
      "+--------+--------------------+------------+---------+--------+-------------+\n",
      "| 1000000|-1051986413094956896|           1|        0|     787|     low risk|\n",
      "| 1000000|-1234297064722937607|           1|        0|     405| custom label|\n",
      "| 1000000|-1234297064722937607|           1|        0|     737|         fund|\n",
      "| 1000000|-1234297064722937607|           1|        0|     738|monetary fund|\n",
      "| 1000000|-1562373526021293187|           1|        0|    1007| p2p net loan|\n",
      "+--------+--------------------+------------+---------+--------+-------------+\n",
      "only showing top 5 rows\n",
      "\n"
     ]
    }
   ],
   "source": [
    "df.show(5)"
   ]
  },
  {
   "cell_type": "code",
   "execution_count": 75,
   "metadata": {},
   "outputs": [],
   "source": [
    "merged_events_apps = df_event_data_llc.join(df,df_event_data_llc.event_id ==  df.event_id,\"inner\")"
   ]
  },
  {
   "cell_type": "code",
   "execution_count": 76,
   "metadata": {},
   "outputs": [
    {
     "name": "stdout",
     "output_type": "stream",
     "text": [
      "+-------------------+------+---+------+--------+-------------------+---------+--------+-----+----+---------+----+----+--------+--------------------+------------+---------+--------+--------------------+\n",
      "|          device_id|gender|age|groups|event_id|         time_stamp|longitude|latitude|Month|Year|DayOfWeek|Week|Hour|event_id|              app_id|is_installed|is_active|label_id|            category|\n",
      "+-------------------+------+---+------+--------+-------------------+---------+--------+-----+----+---------+----+----+--------+--------------------+------------+---------+--------+--------------------+\n",
      "|4452542815713600000|     M| 29|M25-32|    4818|2016-05-01 07:43:01|   120.99|   31.37|    5|2016|        1|  17|   7|    4818|-1066222546835696818|           1|        0|     704|property industry...|\n",
      "|4452542815713600000|     M| 29|M25-32|    4818|2016-05-01 07:43:01|   120.99|   31.37|    5|2016|        1|  17|   7|    4818|-1066222546835696818|           1|        0|     715|           passion 1|\n",
      "|4452542815713600000|     M| 29|M25-32|    4818|2016-05-01 07:43:01|   120.99|   31.37|    5|2016|        1|  17|   7|    4818|-1283213180505687235|           1|        0|     751|      bank financing|\n",
      "|4452542815713600000|     M| 29|M25-32|    4818|2016-05-01 07:43:01|   120.99|   31.37|    5|2016|        1|  17|   7|    4818|-1283213180505687235|           1|        0|     856|          total cost|\n",
      "|4452542815713600000|     M| 29|M25-32|    4818|2016-05-01 07:43:01|   120.99|   31.37|    5|2016|        1|  17|   7|    4818|-1283213180505687235|           1|        0|     870|personal effectiv...|\n",
      "+-------------------+------+---+------+--------+-------------------+---------+--------+-----+----+---------+----+----+--------+--------------------+------------+---------+--------+--------------------+\n",
      "only showing top 5 rows\n",
      "\n"
     ]
    }
   ],
   "source": [
    "merged_events_apps.show(5)"
   ]
  },
  {
   "cell_type": "code",
   "execution_count": 185,
   "metadata": {},
   "outputs": [
    {
     "data": {
      "text/plain": [
       "['device_id',\n",
       " 'gender',\n",
       " 'age',\n",
       " 'groups',\n",
       " 'event_id',\n",
       " 'time_stamp',\n",
       " 'longitude',\n",
       " 'latitude',\n",
       " 'Month',\n",
       " 'Year',\n",
       " 'DayOfWeek',\n",
       " 'Week',\n",
       " 'Hour',\n",
       " 'event_id',\n",
       " 'app_id',\n",
       " 'is_installed',\n",
       " 'is_active',\n",
       " 'label_id',\n",
       " 'category']"
      ]
     },
     "execution_count": 185,
     "metadata": {},
     "output_type": "execute_result"
    }
   ],
   "source": [
    "merged_events_apps.columns"
   ]
  },
  {
   "cell_type": "code",
   "execution_count": 77,
   "metadata": {},
   "outputs": [],
   "source": [
    "merged_events_apps_P = merged_events_apps.groupby('category').pivot('gender').count()"
   ]
  },
  {
   "cell_type": "code",
   "execution_count": 78,
   "metadata": {},
   "outputs": [
    {
     "name": "stdout",
     "output_type": "stream",
     "text": [
      "+--------------------+-----+-----+\n",
      "|            category|    F|    M|\n",
      "+--------------------+-----+-----+\n",
      "|        reality show|    1|   35|\n",
      "|              travel|19359|83824|\n",
      "|              poetry|  123|  396|\n",
      "|cultivation fanta...|   35|  512|\n",
      "|       trendy / cool| 4473| 9129|\n",
      "+--------------------+-----+-----+\n",
      "only showing top 5 rows\n",
      "\n"
     ]
    }
   ],
   "source": [
    "merged_events_apps_P.show(5)"
   ]
  },
  {
   "cell_type": "code",
   "execution_count": 62,
   "metadata": {},
   "outputs": [],
   "source": [
    "merged_events_apps_P_ = merged_events_apps_P.toPandas()"
   ]
  },
  {
   "cell_type": "code",
   "execution_count": 108,
   "metadata": {},
   "outputs": [],
   "source": [
    "merged_events_apps_P_.fillna(0,inplace = True)"
   ]
  },
  {
   "cell_type": "code",
   "execution_count": 109,
   "metadata": {},
   "outputs": [
    {
     "data": {
      "text/plain": [
       "(431, 3)"
      ]
     },
     "execution_count": 109,
     "metadata": {},
     "output_type": "execute_result"
    }
   ],
   "source": [
    "merged_events_apps_P_.shape"
   ]
  },
  {
   "cell_type": "code",
   "execution_count": 110,
   "metadata": {},
   "outputs": [
    {
     "data": {
      "text/html": [
       "<div>\n",
       "<style scoped>\n",
       "    .dataframe tbody tr th:only-of-type {\n",
       "        vertical-align: middle;\n",
       "    }\n",
       "\n",
       "    .dataframe tbody tr th {\n",
       "        vertical-align: top;\n",
       "    }\n",
       "\n",
       "    .dataframe thead th {\n",
       "        text-align: right;\n",
       "    }\n",
       "</style>\n",
       "<table border=\"1\" class=\"dataframe\">\n",
       "  <thead>\n",
       "    <tr style=\"text-align: right;\">\n",
       "      <th></th>\n",
       "      <th>category</th>\n",
       "      <th>F</th>\n",
       "      <th>M</th>\n",
       "    </tr>\n",
       "  </thead>\n",
       "  <tbody>\n",
       "    <tr>\n",
       "      <th>0</th>\n",
       "      <td>travel</td>\n",
       "      <td>6479.0</td>\n",
       "      <td>27921.0</td>\n",
       "    </tr>\n",
       "    <tr>\n",
       "      <th>1</th>\n",
       "      <td>reality show</td>\n",
       "      <td>0.0</td>\n",
       "      <td>17.0</td>\n",
       "    </tr>\n",
       "    <tr>\n",
       "      <th>2</th>\n",
       "      <td>poetry</td>\n",
       "      <td>38.0</td>\n",
       "      <td>129.0</td>\n",
       "    </tr>\n",
       "    <tr>\n",
       "      <th>3</th>\n",
       "      <td>cultivation fantasy game</td>\n",
       "      <td>13.0</td>\n",
       "      <td>163.0</td>\n",
       "    </tr>\n",
       "    <tr>\n",
       "      <th>4</th>\n",
       "      <td>trendy / cool</td>\n",
       "      <td>1494.0</td>\n",
       "      <td>3125.0</td>\n",
       "    </tr>\n",
       "  </tbody>\n",
       "</table>\n",
       "</div>"
      ],
      "text/plain": [
       "                   category       F        M\n",
       "0                    travel  6479.0  27921.0\n",
       "1              reality show     0.0     17.0\n",
       "2                    poetry    38.0    129.0\n",
       "3  cultivation fantasy game    13.0    163.0\n",
       "4             trendy / cool  1494.0   3125.0"
      ]
     },
     "execution_count": 110,
     "metadata": {},
     "output_type": "execute_result"
    }
   ],
   "source": [
    "merged_events_apps_P_.head()"
   ]
  },
  {
   "cell_type": "code",
   "execution_count": 63,
   "metadata": {},
   "outputs": [],
   "source": [
    "merged_events_apps_P_['Total'] = merged_events_apps_P_['F'] + merged_events_apps_P_['M']"
   ]
  },
  {
   "cell_type": "code",
   "execution_count": 112,
   "metadata": {},
   "outputs": [],
   "source": [
    "merged_events_apps_P_.sort_values('Total',ascending = False,inplace = True)"
   ]
  },
  {
   "cell_type": "code",
   "execution_count": 113,
   "metadata": {},
   "outputs": [
    {
     "data": {
      "text/plain": [
       "<AxesSubplot:xlabel='category'>"
      ]
     },
     "execution_count": 113,
     "metadata": {},
     "output_type": "execute_result"
    },
    {
     "data": {
      "image/png": "[encoded data removed]",
      "text/plain": [
       "<Figure size 720x288 with 1 Axes>"
      ]
     },
     "metadata": {},
     "output_type": "display_data"
    }
   ],
   "source": [
    "merged_events_apps_P_[['category','F','M']].iloc[:20].set_index('category').plot(kind='bar', stacked=True,figsize=(10,4))"
   ]
  },
  {
   "cell_type": "markdown",
   "metadata": {},
   "source": [
    "## List the top 10 mobile phone brands bought by customers by age groups. [Consider the following age groups: 0–24, 25–32, 33–45, and 46+]"
   ]
  },
  {
   "cell_type": "code",
   "execution_count": 64,
   "metadata": {},
   "outputs": [
    {
     "name": "stdout",
     "output_type": "stream",
     "text": [
      "+--------------------+------+---+------+-----------+------------+\n",
      "|           device_id|gender|age|groups|phone_brand|device_model|\n",
      "+--------------------+------+---+------+-----------+------------+\n",
      "|-1000369272589010000|     F| 26|F25-32|       vivo|        Y17T|\n",
      "|-1000572055892390000|     F| 27|F25-32|       OPPO|       R819T|\n",
      "|-1000643208750510000|     M| 29|M25-32|     Gionee|       GN137|\n",
      "|-1001337759327040000|     M| 30|M25-32|       OPPO|         A31|\n",
      "|-1001949518704260000|     M| 22| M0-24|       OPPO|          R1|\n",
      "+--------------------+------+---+------+-----------+------------+\n",
      "only showing top 5 rows\n",
      "\n"
     ]
    }
   ],
   "source": [
    "df_non_event_data.show(5)"
   ]
  },
  {
   "cell_type": "code",
   "execution_count": 115,
   "metadata": {
    "collapsed": true
   },
   "outputs": [
    {
     "ename": "Py4JJavaError",
     "evalue": "An error occurred while calling o436.collectToPython.\n: org.apache.spark.SparkException: Job aborted due to stage failure: Task 1 in stage 99.0 failed 1 times, most recent failure: Lost task 1.0 in stage 99.0 (TID 3421, localhost, executor driver): java.io.IOException: Cannot run program \"/home/ubuntu/spark-2.4.4-bin-hadoop2.7/python\": error=13, Permission denied\n\tat java.lang.ProcessBuilder.start(ProcessBuilder.java:1048)\n\tat org.apache.spark.api.python.PythonWorkerFactory.startDaemon(PythonWorkerFactory.scala:197)\n\tat org.apache.spark.api.python.PythonWorkerFactory.createThroughDaemon(PythonWorkerFactory.scala:122)\n\tat org.apache.spark.api.python.PythonWorkerFactory.create(PythonWorkerFactory.scala:95)\n\tat org.apache.spark.SparkEnv.createPythonWorker(SparkEnv.scala:117)\n\tat org.apache.spark.api.python.BasePythonRunner.compute(PythonRunner.scala:109)\n\tat org.apache.spark.api.python.PythonRDD.compute(PythonRDD.scala:65)\n\tat org.apache.spark.rdd.RDD.computeOrReadCheckpoint(RDD.scala:324)\n\tat org.apache.spark.rdd.RDD.iterator(RDD.scala:288)\n\tat org.apache.spark.rdd.MapPartitionsRDD.compute(MapPartitionsRDD.scala:52)\n\tat org.apache.spark.rdd.RDD.computeOrReadCheckpoint(RDD.scala:324)\n\tat org.apache.spark.rdd.RDD.iterator(RDD.scala:288)\n\tat org.apache.spark.rdd.MapPartitionsRDD.compute(MapPartitionsRDD.scala:52)\n\tat org.apache.spark.rdd.RDD.computeOrReadCheckpoint(RDD.scala:324)\n\tat org.apache.spark.rdd.RDD.iterator(RDD.scala:288)\n\tat org.apache.spark.rdd.MapPartitionsRDD.compute(MapPartitionsRDD.scala:52)\n\tat org.apache.spark.rdd.RDD.computeOrReadCheckpoint(RDD.scala:324)\n\tat org.apache.spark.rdd.RDD.iterator(RDD.scala:288)\n\tat org.apache.spark.rdd.MapPartitionsRDD.compute(MapPartitionsRDD.scala:52)\n\tat org.apache.spark.rdd.RDD.computeOrReadCheckpoint(RDD.scala:324)\n\tat org.apache.spark.rdd.RDD.iterator(RDD.scala:288)\n\tat org.apache.spark.rdd.MapPartitionsRDD.compute(MapPartitionsRDD.scala:52)\n\tat org.apache.spark.rdd.RDD.computeOrReadCheckpoint(RDD.scala:324)\n\tat org.apache.spark.rdd.RDD.iterator(RDD.scala:288)\n\tat org.apache.spark.scheduler.ResultTask.runTask(ResultTask.scala:90)\n\tat org.apache.spark.scheduler.Task.run(Task.scala:123)\n\tat org.apache.spark.executor.Executor$TaskRunner$$anonfun$10.apply(Executor.scala:408)\n\tat org.apache.spark.util.Utils$.tryWithSafeFinally(Utils.scala:1360)\n\tat org.apache.spark.executor.Executor$TaskRunner.run(Executor.scala:414)\n\tat java.util.concurrent.ThreadPoolExecutor.runWorker(ThreadPoolExecutor.java:1149)\n\tat java.util.concurrent.ThreadPoolExecutor$Worker.run(ThreadPoolExecutor.java:624)\n\tat java.lang.Thread.run(Thread.java:748)\nCaused by: java.io.IOException: error=13, Permission denied\n\tat java.lang.UNIXProcess.forkAndExec(Native Method)\n\tat java.lang.UNIXProcess.<init>(UNIXProcess.java:247)\n\tat java.lang.ProcessImpl.start(ProcessImpl.java:134)\n\tat java.lang.ProcessBuilder.start(ProcessBuilder.java:1029)\n\t... 31 more\n\nDriver stacktrace:\n\tat org.apache.spark.scheduler.DAGScheduler.org$apache$spark$scheduler$DAGScheduler$$failJobAndIndependentStages(DAGScheduler.scala:1889)\n\tat org.apache.spark.scheduler.DAGScheduler$$anonfun$abortStage$1.apply(DAGScheduler.scala:1877)\n\tat org.apache.spark.scheduler.DAGScheduler$$anonfun$abortStage$1.apply(DAGScheduler.scala:1876)\n\tat scala.collection.mutable.ResizableArray$class.foreach(ResizableArray.scala:59)\n\tat scala.collection.mutable.ArrayBuffer.foreach(ArrayBuffer.scala:48)\n\tat org.apache.spark.scheduler.DAGScheduler.abortStage(DAGScheduler.scala:1876)\n\tat org.apache.spark.scheduler.DAGScheduler$$anonfun$handleTaskSetFailed$1.apply(DAGScheduler.scala:926)\n\tat org.apache.spark.scheduler.DAGScheduler$$anonfun$handleTaskSetFailed$1.apply(DAGScheduler.scala:926)\n\tat scala.Option.foreach(Option.scala:257)\n\tat org.apache.spark.scheduler.DAGScheduler.handleTaskSetFailed(DAGScheduler.scala:926)\n\tat org.apache.spark.scheduler.DAGSchedulerEventProcessLoop.doOnReceive(DAGScheduler.scala:2110)\n\tat org.apache.spark.scheduler.DAGSchedulerEventProcessLoop.onReceive(DAGScheduler.scala:2059)\n\tat org.apache.spark.scheduler.DAGSchedulerEventProcessLoop.onReceive(DAGScheduler.scala:2048)\n\tat org.apache.spark.util.EventLoop$$anon$1.run(EventLoop.scala:49)\n\tat org.apache.spark.scheduler.DAGScheduler.runJob(DAGScheduler.scala:737)\n\tat org.apache.spark.SparkContext.runJob(SparkContext.scala:2061)\n\tat org.apache.spark.SparkContext.runJob(SparkContext.scala:2082)\n\tat org.apache.spark.SparkContext.runJob(SparkContext.scala:2101)\n\tat org.apache.spark.SparkContext.runJob(SparkContext.scala:2126)\n\tat org.apache.spark.rdd.RDD$$anonfun$collect$1.apply(RDD.scala:945)\n\tat org.apache.spark.rdd.RDDOperationScope$.withScope(RDDOperationScope.scala:151)\n\tat org.apache.spark.rdd.RDDOperationScope$.withScope(RDDOperationScope.scala:112)\n\tat org.apache.spark.rdd.RDD.withScope(RDD.scala:363)\n\tat org.apache.spark.rdd.RDD.collect(RDD.scala:944)\n\tat org.apache.spark.sql.execution.SparkPlan.executeCollect(SparkPlan.scala:299)\n\tat org.apache.spark.sql.Dataset$$anonfun$collectToPython$1.apply(Dataset.scala:3263)\n\tat org.apache.spark.sql.Dataset$$anonfun$collectToPython$1.apply(Dataset.scala:3260)\n\tat org.apache.spark.sql.Dataset$$anonfun$52.apply(Dataset.scala:3370)\n\tat org.apache.spark.sql.execution.SQLExecution$$anonfun$withNewExecutionId$1.apply(SQLExecution.scala:78)\n\tat org.apache.spark.sql.execution.SQLExecution$.withSQLConfPropagated(SQLExecution.scala:125)\n\tat org.apache.spark.sql.execution.SQLExecution$.withNewExecutionId(SQLExecution.scala:73)\n\tat org.apache.spark.sql.Dataset.withAction(Dataset.scala:3369)\n\tat org.apache.spark.sql.Dataset.collectToPython(Dataset.scala:3260)\n\tat sun.reflect.NativeMethodAccessorImpl.invoke0(Native Method)\n\tat sun.reflect.NativeMethodAccessorImpl.invoke(NativeMethodAccessorImpl.java:62)\n\tat sun.reflect.DelegatingMethodAccessorImpl.invoke(DelegatingMethodAccessorImpl.java:43)\n\tat java.lang.reflect.Method.invoke(Method.java:498)\n\tat py4j.reflection.MethodInvoker.invoke(MethodInvoker.java:244)\n\tat py4j.reflection.ReflectionEngine.invoke(ReflectionEngine.java:357)\n\tat py4j.Gateway.invoke(Gateway.java:282)\n\tat py4j.commands.AbstractCommand.invokeMethod(AbstractCommand.java:132)\n\tat py4j.commands.CallCommand.execute(CallCommand.java:79)\n\tat py4j.GatewayConnection.run(GatewayConnection.java:238)\n\tat java.lang.Thread.run(Thread.java:748)\nCaused by: java.io.IOException: Cannot run program \"/home/ubuntu/spark-2.4.4-bin-hadoop2.7/python\": error=13, Permission denied\n\tat java.lang.ProcessBuilder.start(ProcessBuilder.java:1048)\n\tat org.apache.spark.api.python.PythonWorkerFactory.startDaemon(PythonWorkerFactory.scala:197)\n\tat org.apache.spark.api.python.PythonWorkerFactory.createThroughDaemon(PythonWorkerFactory.scala:122)\n\tat org.apache.spark.api.python.PythonWorkerFactory.create(PythonWorkerFactory.scala:95)\n\tat org.apache.spark.SparkEnv.createPythonWorker(SparkEnv.scala:117)\n\tat org.apache.spark.api.python.BasePythonRunner.compute(PythonRunner.scala:109)\n\tat org.apache.spark.api.python.PythonRDD.compute(PythonRDD.scala:65)\n\tat org.apache.spark.rdd.RDD.computeOrReadCheckpoint(RDD.scala:324)\n\tat org.apache.spark.rdd.RDD.iterator(RDD.scala:288)\n\tat org.apache.spark.rdd.MapPartitionsRDD.compute(MapPartitionsRDD.scala:52)\n\tat org.apache.spark.rdd.RDD.computeOrReadCheckpoint(RDD.scala:324)\n\tat org.apache.spark.rdd.RDD.iterator(RDD.scala:288)\n\tat org.apache.spark.rdd.MapPartitionsRDD.compute(MapPartitionsRDD.scala:52)\n\tat org.apache.spark.rdd.RDD.computeOrReadCheckpoint(RDD.scala:324)\n\tat org.apache.spark.rdd.RDD.iterator(RDD.scala:288)\n\tat org.apache.spark.rdd.MapPartitionsRDD.compute(MapPartitionsRDD.scala:52)\n\tat org.apache.spark.rdd.RDD.computeOrReadCheckpoint(RDD.scala:324)\n\tat org.apache.spark.rdd.RDD.iterator(RDD.scala:288)\n\tat org.apache.spark.rdd.MapPartitionsRDD.compute(MapPartitionsRDD.scala:52)\n\tat org.apache.spark.rdd.RDD.computeOrReadCheckpoint(RDD.scala:324)\n\tat org.apache.spark.rdd.RDD.iterator(RDD.scala:288)\n\tat org.apache.spark.rdd.MapPartitionsRDD.compute(MapPartitionsRDD.scala:52)\n\tat org.apache.spark.rdd.RDD.computeOrReadCheckpoint(RDD.scala:324)\n\tat org.apache.spark.rdd.RDD.iterator(RDD.scala:288)\n\tat org.apache.spark.scheduler.ResultTask.runTask(ResultTask.scala:90)\n\tat org.apache.spark.scheduler.Task.run(Task.scala:123)\n\tat org.apache.spark.executor.Executor$TaskRunner$$anonfun$10.apply(Executor.scala:408)\n\tat org.apache.spark.util.Utils$.tryWithSafeFinally(Utils.scala:1360)\n\tat org.apache.spark.executor.Executor$TaskRunner.run(Executor.scala:414)\n\tat java.util.concurrent.ThreadPoolExecutor.runWorker(ThreadPoolExecutor.java:1149)\n\tat java.util.concurrent.ThreadPoolExecutor$Worker.run(ThreadPoolExecutor.java:624)\n\t... 1 more\nCaused by: java.io.IOException: error=13, Permission denied\n\tat java.lang.UNIXProcess.forkAndExec(Native Method)\n\tat java.lang.UNIXProcess.<init>(UNIXProcess.java:247)\n\tat java.lang.ProcessImpl.start(ProcessImpl.java:134)\n\tat java.lang.ProcessBuilder.start(ProcessBuilder.java:1029)\n\t... 31 more\n",
     "output_type": "error",
     "traceback": [
      "\u001b[0;31m---------------------------------------------------------------------------\u001b[0m",
      "\u001b[0;31mPy4JJavaError\u001b[0m                             Traceback (most recent call last)",
      "\u001b[0;32m<ipython-input-115-a74d3123cc60>\u001b[0m in \u001b[0;36m<module>\u001b[0;34m()\u001b[0m\n\u001b[1;32m      1\u001b[0m \u001b[0ml\u001b[0m \u001b[0;34m=\u001b[0m \u001b[0;34m[\u001b[0m\u001b[0;34m(\u001b[0m\u001b[0;34m'Alice'\u001b[0m\u001b[0;34m,\u001b[0m \u001b[0;36m1\u001b[0m\u001b[0;34m)\u001b[0m\u001b[0;34m]\u001b[0m\u001b[0;34m\u001b[0m\u001b[0;34m\u001b[0m\u001b[0m\n\u001b[0;32m----> 2\u001b[0;31m \u001b[0mspark\u001b[0m\u001b[0;34m.\u001b[0m\u001b[0mcreateDataFrame\u001b[0m\u001b[0;34m(\u001b[0m\u001b[0ml\u001b[0m\u001b[0;34m)\u001b[0m\u001b[0;34m.\u001b[0m\u001b[0mcollect\u001b[0m\u001b[0;34m(\u001b[0m\u001b[0;34m)\u001b[0m\u001b[0;34m\u001b[0m\u001b[0;34m\u001b[0m\u001b[0m\n\u001b[0m",
      "\u001b[0;32m/home/ubuntu/spark-2.4.4-bin-hadoop2.7/python/lib/pyspark.zip/pyspark/sql/dataframe.py\u001b[0m in \u001b[0;36mcollect\u001b[0;34m(self)\u001b[0m\n\u001b[1;32m    532\u001b[0m         \"\"\"\n\u001b[1;32m    533\u001b[0m         \u001b[0;32mwith\u001b[0m \u001b[0mSCCallSiteSync\u001b[0m\u001b[0;34m(\u001b[0m\u001b[0mself\u001b[0m\u001b[0;34m.\u001b[0m\u001b[0m_sc\u001b[0m\u001b[0;34m)\u001b[0m \u001b[0;32mas\u001b[0m \u001b[0mcss\u001b[0m\u001b[0;34m:\u001b[0m\u001b[0;34m\u001b[0m\u001b[0;34m\u001b[0m\u001b[0m\n\u001b[0;32m--> 534\u001b[0;31m             \u001b[0msock_info\u001b[0m \u001b[0;34m=\u001b[0m \u001b[0mself\u001b[0m\u001b[0;34m.\u001b[0m\u001b[0m_jdf\u001b[0m\u001b[0;34m.\u001b[0m\u001b[0mcollectToPython\u001b[0m\u001b[0;34m(\u001b[0m\u001b[0;34m)\u001b[0m\u001b[0;34m\u001b[0m\u001b[0;34m\u001b[0m\u001b[0m\n\u001b[0m\u001b[1;32m    535\u001b[0m         \u001b[0;32mreturn\u001b[0m \u001b[0mlist\u001b[0m\u001b[0;34m(\u001b[0m\u001b[0m_load_from_socket\u001b[0m\u001b[0;34m(\u001b[0m\u001b[0msock_info\u001b[0m\u001b[0;34m,\u001b[0m \u001b[0mBatchedSerializer\u001b[0m\u001b[0;34m(\u001b[0m\u001b[0mPickleSerializer\u001b[0m\u001b[0;34m(\u001b[0m\u001b[0;34m)\u001b[0m\u001b[0;34m)\u001b[0m\u001b[0;34m)\u001b[0m\u001b[0;34m)\u001b[0m\u001b[0;34m\u001b[0m\u001b[0;34m\u001b[0m\u001b[0m\n\u001b[1;32m    536\u001b[0m \u001b[0;34m\u001b[0m\u001b[0m\n",
      "\u001b[0;32m/home/ubuntu/spark-2.4.4-bin-hadoop2.7/python/lib/py4j-0.10.7-src.zip/py4j/java_gateway.py\u001b[0m in \u001b[0;36m__call__\u001b[0;34m(self, *args)\u001b[0m\n\u001b[1;32m   1255\u001b[0m         \u001b[0manswer\u001b[0m \u001b[0;34m=\u001b[0m \u001b[0mself\u001b[0m\u001b[0;34m.\u001b[0m\u001b[0mgateway_client\u001b[0m\u001b[0;34m.\u001b[0m\u001b[0msend_command\u001b[0m\u001b[0;34m(\u001b[0m\u001b[0mcommand\u001b[0m\u001b[0;34m)\u001b[0m\u001b[0;34m\u001b[0m\u001b[0;34m\u001b[0m\u001b[0m\n\u001b[1;32m   1256\u001b[0m         return_value = get_return_value(\n\u001b[0;32m-> 1257\u001b[0;31m             answer, self.gateway_client, self.target_id, self.name)\n\u001b[0m\u001b[1;32m   1258\u001b[0m \u001b[0;34m\u001b[0m\u001b[0m\n\u001b[1;32m   1259\u001b[0m         \u001b[0;32mfor\u001b[0m \u001b[0mtemp_arg\u001b[0m \u001b[0;32min\u001b[0m \u001b[0mtemp_args\u001b[0m\u001b[0;34m:\u001b[0m\u001b[0;34m\u001b[0m\u001b[0;34m\u001b[0m\u001b[0m\n",
      "\u001b[0;32m/home/ubuntu/spark-2.4.4-bin-hadoop2.7/python/lib/pyspark.zip/pyspark/sql/utils.py\u001b[0m in \u001b[0;36mdeco\u001b[0;34m(*a, **kw)\u001b[0m\n\u001b[1;32m     61\u001b[0m     \u001b[0;32mdef\u001b[0m \u001b[0mdeco\u001b[0m\u001b[0;34m(\u001b[0m\u001b[0;34m*\u001b[0m\u001b[0ma\u001b[0m\u001b[0;34m,\u001b[0m \u001b[0;34m**\u001b[0m\u001b[0mkw\u001b[0m\u001b[0;34m)\u001b[0m\u001b[0;34m:\u001b[0m\u001b[0;34m\u001b[0m\u001b[0;34m\u001b[0m\u001b[0m\n\u001b[1;32m     62\u001b[0m         \u001b[0;32mtry\u001b[0m\u001b[0;34m:\u001b[0m\u001b[0;34m\u001b[0m\u001b[0;34m\u001b[0m\u001b[0m\n\u001b[0;32m---> 63\u001b[0;31m             \u001b[0;32mreturn\u001b[0m \u001b[0mf\u001b[0m\u001b[0;34m(\u001b[0m\u001b[0;34m*\u001b[0m\u001b[0ma\u001b[0m\u001b[0;34m,\u001b[0m \u001b[0;34m**\u001b[0m\u001b[0mkw\u001b[0m\u001b[0;34m)\u001b[0m\u001b[0;34m\u001b[0m\u001b[0;34m\u001b[0m\u001b[0m\n\u001b[0m\u001b[1;32m     64\u001b[0m         \u001b[0;32mexcept\u001b[0m \u001b[0mpy4j\u001b[0m\u001b[0;34m.\u001b[0m\u001b[0mprotocol\u001b[0m\u001b[0;34m.\u001b[0m\u001b[0mPy4JJavaError\u001b[0m \u001b[0;32mas\u001b[0m \u001b[0me\u001b[0m\u001b[0;34m:\u001b[0m\u001b[0;34m\u001b[0m\u001b[0;34m\u001b[0m\u001b[0m\n\u001b[1;32m     65\u001b[0m             \u001b[0ms\u001b[0m \u001b[0;34m=\u001b[0m \u001b[0me\u001b[0m\u001b[0;34m.\u001b[0m\u001b[0mjava_exception\u001b[0m\u001b[0;34m.\u001b[0m\u001b[0mtoString\u001b[0m\u001b[0;34m(\u001b[0m\u001b[0;34m)\u001b[0m\u001b[0;34m\u001b[0m\u001b[0;34m\u001b[0m\u001b[0m\n",
      "\u001b[0;32m/home/ubuntu/spark-2.4.4-bin-hadoop2.7/python/lib/py4j-0.10.7-src.zip/py4j/protocol.py\u001b[0m in \u001b[0;36mget_return_value\u001b[0;34m(answer, gateway_client, target_id, name)\u001b[0m\n\u001b[1;32m    326\u001b[0m                 raise Py4JJavaError(\n\u001b[1;32m    327\u001b[0m                     \u001b[0;34m\"An error occurred while calling {0}{1}{2}.\\n\"\u001b[0m\u001b[0;34m.\u001b[0m\u001b[0;34m\u001b[0m\u001b[0;34m\u001b[0m\u001b[0m\n\u001b[0;32m--> 328\u001b[0;31m                     format(target_id, \".\", name), value)\n\u001b[0m\u001b[1;32m    329\u001b[0m             \u001b[0;32melse\u001b[0m\u001b[0;34m:\u001b[0m\u001b[0;34m\u001b[0m\u001b[0;34m\u001b[0m\u001b[0m\n\u001b[1;32m    330\u001b[0m                 raise Py4JError(\n",
      "\u001b[0;31mPy4JJavaError\u001b[0m: An error occurred while calling o436.collectToPython.\n: org.apache.spark.SparkException: Job aborted due to stage failure: Task 1 in stage 99.0 failed 1 times, most recent failure: Lost task 1.0 in stage 99.0 (TID 3421, localhost, executor driver): java.io.IOException: Cannot run program \"/home/ubuntu/spark-2.4.4-bin-hadoop2.7/python\": error=13, Permission denied\n\tat java.lang.ProcessBuilder.start(ProcessBuilder.java:1048)\n\tat org.apache.spark.api.python.PythonWorkerFactory.startDaemon(PythonWorkerFactory.scala:197)\n\tat org.apache.spark.api.python.PythonWorkerFactory.createThroughDaemon(PythonWorkerFactory.scala:122)\n\tat org.apache.spark.api.python.PythonWorkerFactory.create(PythonWorkerFactory.scala:95)\n\tat org.apache.spark.SparkEnv.createPythonWorker(SparkEnv.scala:117)\n\tat org.apache.spark.api.python.BasePythonRunner.compute(PythonRunner.scala:109)\n\tat org.apache.spark.api.python.PythonRDD.compute(PythonRDD.scala:65)\n\tat org.apache.spark.rdd.RDD.computeOrReadCheckpoint(RDD.scala:324)\n\tat org.apache.spark.rdd.RDD.iterator(RDD.scala:288)\n\tat org.apache.spark.rdd.MapPartitionsRDD.compute(MapPartitionsRDD.scala:52)\n\tat org.apache.spark.rdd.RDD.computeOrReadCheckpoint(RDD.scala:324)\n\tat org.apache.spark.rdd.RDD.iterator(RDD.scala:288)\n\tat org.apache.spark.rdd.MapPartitionsRDD.compute(MapPartitionsRDD.scala:52)\n\tat org.apache.spark.rdd.RDD.computeOrReadCheckpoint(RDD.scala:324)\n\tat org.apache.spark.rdd.RDD.iterator(RDD.scala:288)\n\tat org.apache.spark.rdd.MapPartitionsRDD.compute(MapPartitionsRDD.scala:52)\n\tat org.apache.spark.rdd.RDD.computeOrReadCheckpoint(RDD.scala:324)\n\tat org.apache.spark.rdd.RDD.iterator(RDD.scala:288)\n\tat org.apache.spark.rdd.MapPartitionsRDD.compute(MapPartitionsRDD.scala:52)\n\tat org.apache.spark.rdd.RDD.computeOrReadCheckpoint(RDD.scala:324)\n\tat org.apache.spark.rdd.RDD.iterator(RDD.scala:288)\n\tat org.apache.spark.rdd.MapPartitionsRDD.compute(MapPartitionsRDD.scala:52)\n\tat org.apache.spark.rdd.RDD.computeOrReadCheckpoint(RDD.scala:324)\n\tat org.apache.spark.rdd.RDD.iterator(RDD.scala:288)\n\tat org.apache.spark.scheduler.ResultTask.runTask(ResultTask.scala:90)\n\tat org.apache.spark.scheduler.Task.run(Task.scala:123)\n\tat org.apache.spark.executor.Executor$TaskRunner$$anonfun$10.apply(Executor.scala:408)\n\tat org.apache.spark.util.Utils$.tryWithSafeFinally(Utils.scala:1360)\n\tat org.apache.spark.executor.Executor$TaskRunner.run(Executor.scala:414)\n\tat java.util.concurrent.ThreadPoolExecutor.runWorker(ThreadPoolExecutor.java:1149)\n\tat java.util.concurrent.ThreadPoolExecutor$Worker.run(ThreadPoolExecutor.java:624)\n\tat java.lang.Thread.run(Thread.java:748)\nCaused by: java.io.IOException: error=13, Permission denied\n\tat java.lang.UNIXProcess.forkAndExec(Native Method)\n\tat java.lang.UNIXProcess.<init>(UNIXProcess.java:247)\n\tat java.lang.ProcessImpl.start(ProcessImpl.java:134)\n\tat java.lang.ProcessBuilder.start(ProcessBuilder.java:1029)\n\t... 31 more\n\nDriver stacktrace:\n\tat org.apache.spark.scheduler.DAGScheduler.org$apache$spark$scheduler$DAGScheduler$$failJobAndIndependentStages(DAGScheduler.scala:1889)\n\tat org.apache.spark.scheduler.DAGScheduler$$anonfun$abortStage$1.apply(DAGScheduler.scala:1877)\n\tat org.apache.spark.scheduler.DAGScheduler$$anonfun$abortStage$1.apply(DAGScheduler.scala:1876)\n\tat scala.collection.mutable.ResizableArray$class.foreach(ResizableArray.scala:59)\n\tat scala.collection.mutable.ArrayBuffer.foreach(ArrayBuffer.scala:48)\n\tat org.apache.spark.scheduler.DAGScheduler.abortStage(DAGScheduler.scala:1876)\n\tat org.apache.spark.scheduler.DAGScheduler$$anonfun$handleTaskSetFailed$1.apply(DAGScheduler.scala:926)\n\tat org.apache.spark.scheduler.DAGScheduler$$anonfun$handleTaskSetFailed$1.apply(DAGScheduler.scala:926)\n\tat scala.Option.foreach(Option.scala:257)\n\tat org.apache.spark.scheduler.DAGScheduler.handleTaskSetFailed(DAGScheduler.scala:926)\n\tat org.apache.spark.scheduler.DAGSchedulerEventProcessLoop.doOnReceive(DAGScheduler.scala:2110)\n\tat org.apache.spark.scheduler.DAGSchedulerEventProcessLoop.onReceive(DAGScheduler.scala:2059)\n\tat org.apache.spark.scheduler.DAGSchedulerEventProcessLoop.onReceive(DAGScheduler.scala:2048)\n\tat org.apache.spark.util.EventLoop$$anon$1.run(EventLoop.scala:49)\n\tat org.apache.spark.scheduler.DAGScheduler.runJob(DAGScheduler.scala:737)\n\tat org.apache.spark.SparkContext.runJob(SparkContext.scala:2061)\n\tat org.apache.spark.SparkContext.runJob(SparkContext.scala:2082)\n\tat org.apache.spark.SparkContext.runJob(SparkContext.scala:2101)\n\tat org.apache.spark.SparkContext.runJob(SparkContext.scala:2126)\n\tat org.apache.spark.rdd.RDD$$anonfun$collect$1.apply(RDD.scala:945)\n\tat org.apache.spark.rdd.RDDOperationScope$.withScope(RDDOperationScope.scala:151)\n\tat org.apache.spark.rdd.RDDOperationScope$.withScope(RDDOperationScope.scala:112)\n\tat org.apache.spark.rdd.RDD.withScope(RDD.scala:363)\n\tat org.apache.spark.rdd.RDD.collect(RDD.scala:944)\n\tat org.apache.spark.sql.execution.SparkPlan.executeCollect(SparkPlan.scala:299)\n\tat org.apache.spark.sql.Dataset$$anonfun$collectToPython$1.apply(Dataset.scala:3263)\n\tat org.apache.spark.sql.Dataset$$anonfun$collectToPython$1.apply(Dataset.scala:3260)\n\tat org.apache.spark.sql.Dataset$$anonfun$52.apply(Dataset.scala:3370)\n\tat org.apache.spark.sql.execution.SQLExecution$$anonfun$withNewExecutionId$1.apply(SQLExecution.scala:78)\n\tat org.apache.spark.sql.execution.SQLExecution$.withSQLConfPropagated(SQLExecution.scala:125)\n\tat org.apache.spark.sql.execution.SQLExecution$.withNewExecutionId(SQLExecution.scala:73)\n\tat org.apache.spark.sql.Dataset.withAction(Dataset.scala:3369)\n\tat org.apache.spark.sql.Dataset.collectToPython(Dataset.scala:3260)\n\tat sun.reflect.NativeMethodAccessorImpl.invoke0(Native Method)\n\tat sun.reflect.NativeMethodAccessorImpl.invoke(NativeMethodAccessorImpl.java:62)\n\tat sun.reflect.DelegatingMethodAccessorImpl.invoke(DelegatingMethodAccessorImpl.java:43)\n\tat java.lang.reflect.Method.invoke(Method.java:498)\n\tat py4j.reflection.MethodInvoker.invoke(MethodInvoker.java:244)\n\tat py4j.reflection.ReflectionEngine.invoke(ReflectionEngine.java:357)\n\tat py4j.Gateway.invoke(Gateway.java:282)\n\tat py4j.commands.AbstractCommand.invokeMethod(AbstractCommand.java:132)\n\tat py4j.commands.CallCommand.execute(CallCommand.java:79)\n\tat py4j.GatewayConnection.run(GatewayConnection.java:238)\n\tat java.lang.Thread.run(Thread.java:748)\nCaused by: java.io.IOException: Cannot run program \"/home/ubuntu/spark-2.4.4-bin-hadoop2.7/python\": error=13, Permission denied\n\tat java.lang.ProcessBuilder.start(ProcessBuilder.java:1048)\n\tat org.apache.spark.api.python.PythonWorkerFactory.startDaemon(PythonWorkerFactory.scala:197)\n\tat org.apache.spark.api.python.PythonWorkerFactory.createThroughDaemon(PythonWorkerFactory.scala:122)\n\tat org.apache.spark.api.python.PythonWorkerFactory.create(PythonWorkerFactory.scala:95)\n\tat org.apache.spark.SparkEnv.createPythonWorker(SparkEnv.scala:117)\n\tat org.apache.spark.api.python.BasePythonRunner.compute(PythonRunner.scala:109)\n\tat org.apache.spark.api.python.PythonRDD.compute(PythonRDD.scala:65)\n\tat org.apache.spark.rdd.RDD.computeOrReadCheckpoint(RDD.scala:324)\n\tat org.apache.spark.rdd.RDD.iterator(RDD.scala:288)\n\tat org.apache.spark.rdd.MapPartitionsRDD.compute(MapPartitionsRDD.scala:52)\n\tat org.apache.spark.rdd.RDD.computeOrReadCheckpoint(RDD.scala:324)\n\tat org.apache.spark.rdd.RDD.iterator(RDD.scala:288)\n\tat org.apache.spark.rdd.MapPartitionsRDD.compute(MapPartitionsRDD.scala:52)\n\tat org.apache.spark.rdd.RDD.computeOrReadCheckpoint(RDD.scala:324)\n\tat org.apache.spark.rdd.RDD.iterator(RDD.scala:288)\n\tat org.apache.spark.rdd.MapPartitionsRDD.compute(MapPartitionsRDD.scala:52)\n\tat org.apache.spark.rdd.RDD.computeOrReadCheckpoint(RDD.scala:324)\n\tat org.apache.spark.rdd.RDD.iterator(RDD.scala:288)\n\tat org.apache.spark.rdd.MapPartitionsRDD.compute(MapPartitionsRDD.scala:52)\n\tat org.apache.spark.rdd.RDD.computeOrReadCheckpoint(RDD.scala:324)\n\tat org.apache.spark.rdd.RDD.iterator(RDD.scala:288)\n\tat org.apache.spark.rdd.MapPartitionsRDD.compute(MapPartitionsRDD.scala:52)\n\tat org.apache.spark.rdd.RDD.computeOrReadCheckpoint(RDD.scala:324)\n\tat org.apache.spark.rdd.RDD.iterator(RDD.scala:288)\n\tat org.apache.spark.scheduler.ResultTask.runTask(ResultTask.scala:90)\n\tat org.apache.spark.scheduler.Task.run(Task.scala:123)\n\tat org.apache.spark.executor.Executor$TaskRunner$$anonfun$10.apply(Executor.scala:408)\n\tat org.apache.spark.util.Utils$.tryWithSafeFinally(Utils.scala:1360)\n\tat org.apache.spark.executor.Executor$TaskRunner.run(Executor.scala:414)\n\tat java.util.concurrent.ThreadPoolExecutor.runWorker(ThreadPoolExecutor.java:1149)\n\tat java.util.concurrent.ThreadPoolExecutor$Worker.run(ThreadPoolExecutor.java:624)\n\t... 1 more\nCaused by: java.io.IOException: error=13, Permission denied\n\tat java.lang.UNIXProcess.forkAndExec(Native Method)\n\tat java.lang.UNIXProcess.<init>(UNIXProcess.java:247)\n\tat java.lang.ProcessImpl.start(ProcessImpl.java:134)\n\tat java.lang.ProcessBuilder.start(ProcessBuilder.java:1029)\n\t... 31 more\n"
     ]
    }
   ],
   "source": [
    "l = [('Alice', 1)]\n",
    "spark.createDataFrame(l).collect()"
   ]
  },
  {
   "cell_type": "code",
   "execution_count": 160,
   "metadata": {},
   "outputs": [
    {
     "data": {
      "text/plain": [
       "74646"
      ]
     },
     "execution_count": 160,
     "metadata": {},
     "output_type": "execute_result"
    }
   ],
   "source": [
    "df_non_event_data.count()"
   ]
  },
  {
   "cell_type": "code",
   "execution_count": 79,
   "metadata": {},
   "outputs": [],
   "source": [
    "df_non_event_data_P = df_non_event_data.toPandas()"
   ]
  },
  {
   "cell_type": "code",
   "execution_count": 80,
   "metadata": {},
   "outputs": [],
   "source": [
    "df_non_event_data_P['ageCategory'] = df_non_event_data_P['age'].apply(lambda x : ageGroup(x))"
   ]
  },
  {
   "cell_type": "code",
   "execution_count": 81,
   "metadata": {},
   "outputs": [],
   "source": [
    "df_non_event_data_P_ = df_non_event_data_P.pivot_table(index = 'phone_brand',columns = 'ageCategory',values = 'device_id', aggfunc = 'count')"
   ]
  },
  {
   "cell_type": "code",
   "execution_count": 82,
   "metadata": {},
   "outputs": [],
   "source": [
    "df_non_event_data_P_.fillna(0,inplace = True)"
   ]
  },
  {
   "cell_type": "code",
   "execution_count": 83,
   "metadata": {},
   "outputs": [
    {
     "data": {
      "text/plain": [
       "Index(['0-24', '25-32', '33-45', '46+'], dtype='object', name='ageCategory')"
      ]
     },
     "execution_count": 83,
     "metadata": {},
     "output_type": "execute_result"
    }
   ],
   "source": [
    "df_non_event_data_P_.columns"
   ]
  },
  {
   "cell_type": "code",
   "execution_count": 84,
   "metadata": {},
   "outputs": [],
   "source": [
    "df_non_event_data_P_['Total'] = df_non_event_data_P_['0-24'] + df_non_event_data_P_['25-32'] + \\\n",
    "                                df_non_event_data_P_['33-45'] + df_non_event_data_P_['46+']"
   ]
  },
  {
   "cell_type": "code",
   "execution_count": 85,
   "metadata": {},
   "outputs": [],
   "source": [
    "df_non_event_data_P_.sort_values('Total',ascending = False, inplace = True)"
   ]
  },
  {
   "cell_type": "code",
   "execution_count": 86,
   "metadata": {},
   "outputs": [
    {
     "data": {
      "text/html": [
       "<div>\n",
       "<style scoped>\n",
       "    .dataframe tbody tr th:only-of-type {\n",
       "        vertical-align: middle;\n",
       "    }\n",
       "\n",
       "    .dataframe tbody tr th {\n",
       "        vertical-align: top;\n",
       "    }\n",
       "\n",
       "    .dataframe thead th {\n",
       "        text-align: right;\n",
       "    }\n",
       "</style>\n",
       "<table border=\"1\" class=\"dataframe\">\n",
       "  <thead>\n",
       "    <tr style=\"text-align: right;\">\n",
       "      <th>ageCategory</th>\n",
       "      <th>0-24</th>\n",
       "      <th>25-32</th>\n",
       "      <th>33-45</th>\n",
       "      <th>46+</th>\n",
       "      <th>Total</th>\n",
       "    </tr>\n",
       "    <tr>\n",
       "      <th>phone_brand</th>\n",
       "      <th></th>\n",
       "      <th></th>\n",
       "      <th></th>\n",
       "      <th></th>\n",
       "      <th></th>\n",
       "    </tr>\n",
       "  </thead>\n",
       "  <tbody>\n",
       "    <tr>\n",
       "      <th>Xiaomi</th>\n",
       "      <td>4229.0</td>\n",
       "      <td>7537.0</td>\n",
       "      <td>4000.0</td>\n",
       "      <td>1534.0</td>\n",
       "      <td>17300.0</td>\n",
       "    </tr>\n",
       "    <tr>\n",
       "      <th>samsung</th>\n",
       "      <td>2359.0</td>\n",
       "      <td>5555.0</td>\n",
       "      <td>4175.0</td>\n",
       "      <td>1580.0</td>\n",
       "      <td>13669.0</td>\n",
       "    </tr>\n",
       "    <tr>\n",
       "      <th>Huawei</th>\n",
       "      <td>2443.0</td>\n",
       "      <td>5100.0</td>\n",
       "      <td>3964.0</td>\n",
       "      <td>1453.0</td>\n",
       "      <td>12960.0</td>\n",
       "    </tr>\n",
       "    <tr>\n",
       "      <th>OPPO</th>\n",
       "      <td>1856.0</td>\n",
       "      <td>2367.0</td>\n",
       "      <td>1183.0</td>\n",
       "      <td>377.0</td>\n",
       "      <td>5783.0</td>\n",
       "    </tr>\n",
       "    <tr>\n",
       "      <th>vivo</th>\n",
       "      <td>1975.0</td>\n",
       "      <td>2317.0</td>\n",
       "      <td>1013.0</td>\n",
       "      <td>332.0</td>\n",
       "      <td>5637.0</td>\n",
       "    </tr>\n",
       "    <tr>\n",
       "      <th>Meizu</th>\n",
       "      <td>1684.0</td>\n",
       "      <td>2052.0</td>\n",
       "      <td>687.0</td>\n",
       "      <td>276.0</td>\n",
       "      <td>4699.0</td>\n",
       "    </tr>\n",
       "    <tr>\n",
       "      <th>Coolpad</th>\n",
       "      <td>808.0</td>\n",
       "      <td>1208.0</td>\n",
       "      <td>942.0</td>\n",
       "      <td>381.0</td>\n",
       "      <td>3339.0</td>\n",
       "    </tr>\n",
       "    <tr>\n",
       "      <th>lenovo</th>\n",
       "      <td>612.0</td>\n",
       "      <td>1005.0</td>\n",
       "      <td>738.0</td>\n",
       "      <td>336.0</td>\n",
       "      <td>2691.0</td>\n",
       "    </tr>\n",
       "    <tr>\n",
       "      <th>Gionee</th>\n",
       "      <td>328.0</td>\n",
       "      <td>400.0</td>\n",
       "      <td>278.0</td>\n",
       "      <td>117.0</td>\n",
       "      <td>1123.0</td>\n",
       "    </tr>\n",
       "    <tr>\n",
       "      <th>HTC</th>\n",
       "      <td>236.0</td>\n",
       "      <td>436.0</td>\n",
       "      <td>251.0</td>\n",
       "      <td>90.0</td>\n",
       "      <td>1013.0</td>\n",
       "    </tr>\n",
       "  </tbody>\n",
       "</table>\n",
       "</div>"
      ],
      "text/plain": [
       "ageCategory    0-24   25-32   33-45     46+    Total\n",
       "phone_brand                                         \n",
       "Xiaomi       4229.0  7537.0  4000.0  1534.0  17300.0\n",
       "samsung      2359.0  5555.0  4175.0  1580.0  13669.0\n",
       "Huawei       2443.0  5100.0  3964.0  1453.0  12960.0\n",
       "OPPO         1856.0  2367.0  1183.0   377.0   5783.0\n",
       "vivo         1975.0  2317.0  1013.0   332.0   5637.0\n",
       "Meizu        1684.0  2052.0   687.0   276.0   4699.0\n",
       "Coolpad       808.0  1208.0   942.0   381.0   3339.0\n",
       "lenovo        612.0  1005.0   738.0   336.0   2691.0\n",
       "Gionee        328.0   400.0   278.0   117.0   1123.0\n",
       "HTC           236.0   436.0   251.0    90.0   1013.0"
      ]
     },
     "execution_count": 86,
     "metadata": {},
     "output_type": "execute_result"
    }
   ],
   "source": [
    "df_non_event_data_P_.head(10)"
   ]
  },
  {
   "cell_type": "markdown",
   "metadata": {},
   "source": [
    "## Considering the events data, you can create a feature called Average Events, which can give you an estimate of how long the users' mobile phones are active."
   ]
  },
  {
   "cell_type": "code",
   "execution_count": 175,
   "metadata": {},
   "outputs": [
    {
     "name": "stdout",
     "output_type": "stream",
     "text": [
      "+--------------------+------+---+------+--------+-------------------+---------+--------+-----+----+---------+----+----+\n",
      "|           device_id|gender|age|groups|event_id|         time_stamp|longitude|latitude|Month|Year|DayOfWeek|Week|Hour|\n",
      "+--------------------+------+---+------+--------+-------------------+---------+--------+-----+----+---------+----+----+\n",
      "|-1001337759327040000|     M| 30|M25-32| 1040336|2016-05-04 13:59:23|   120.11|   30.29|    5|2016|        4|  18|  13|\n",
      "|-1001337759327040000|     M| 30|M25-32| 1058003|2016-05-04 08:26:47|   120.19|    30.2|    5|2016|        4|  18|   8|\n",
      "|-1001337759327040000|     M| 30|M25-32| 1083521|2016-05-04 08:30:06|   120.19|    30.2|    5|2016|        4|  18|   8|\n",
      "|-1001337759327040000|     M| 30|M25-32| 1092240|2016-05-06 13:56:26|   120.19|    30.2|    5|2016|        6|  18|  13|\n",
      "|-1001337759327040000|     M| 30|M25-32| 1114412|2016-05-04 10:04:12|    120.3|   30.41|    5|2016|        4|  18|  10|\n",
      "+--------------------+------+---+------+--------+-------------------+---------+--------+-----+----+---------+----+----+\n",
      "only showing top 5 rows\n",
      "\n"
     ]
    }
   ],
   "source": [
    "df_event_data_llc.show(5)"
   ]
  },
  {
   "cell_type": "code",
   "execution_count": 202,
   "metadata": {},
   "outputs": [
    {
     "name": "stdout",
     "output_type": "stream",
     "text": [
      "+----+------+\n",
      "|Year| count|\n",
      "+----+------+\n",
      "|2016|859293|\n",
      "+----+------+\n",
      "\n"
     ]
    }
   ],
   "source": [
    "df_event_data_llc.groupby('Year').count().show()"
   ]
  },
  {
   "cell_type": "code",
   "execution_count": 203,
   "metadata": {},
   "outputs": [
    {
     "name": "stdout",
     "output_type": "stream",
     "text": [
      "+-----+------+\n",
      "|Month| count|\n",
      "+-----+------+\n",
      "|    5|858992|\n",
      "|    4|   301|\n",
      "+-----+------+\n",
      "\n"
     ]
    }
   ],
   "source": [
    "df_event_data_llc.groupby('Month').count().show()"
   ]
  },
  {
   "cell_type": "code",
   "execution_count": 204,
   "metadata": {},
   "outputs": [
    {
     "name": "stdout",
     "output_type": "stream",
     "text": [
      "+----+-----+\n",
      "|Hour|count|\n",
      "+----+-----+\n",
      "|  12|44007|\n",
      "|  22|43917|\n",
      "|   1|19673|\n",
      "|  13|40770|\n",
      "|  16|40298|\n",
      "|   6|31106|\n",
      "|   3|12092|\n",
      "|  20|46135|\n",
      "|   5|17367|\n",
      "|  19|43525|\n",
      "|  15|38556|\n",
      "|   9|43527|\n",
      "|  17|41240|\n",
      "|   4|11539|\n",
      "|   8|41324|\n",
      "|  23|37165|\n",
      "|   7|39299|\n",
      "|  10|48948|\n",
      "|  21|47689|\n",
      "|  11|44189|\n",
      "+----+-----+\n",
      "only showing top 20 rows\n",
      "\n"
     ]
    }
   ],
   "source": [
    "df_event_data_llc.groupby('Hour').count().show()"
   ]
  },
  {
   "cell_type": "code",
   "execution_count": 205,
   "metadata": {},
   "outputs": [
    {
     "name": "stdout",
     "output_type": "stream",
     "text": [
      "+---------+------+\n",
      "|DayOfWeek| count|\n",
      "+---------+------+\n",
      "|        1|116022|\n",
      "|        6|122111|\n",
      "|        3|128829|\n",
      "|        5|127336|\n",
      "|        4|127701|\n",
      "|        7|116556|\n",
      "|        2|120738|\n",
      "+---------+------+\n",
      "\n"
     ]
    }
   ],
   "source": [
    "df_event_data_llc.groupby('DayOfWeek').count().show()"
   ]
  },
  {
   "cell_type": "code",
   "execution_count": 206,
   "metadata": {},
   "outputs": [
    {
     "name": "stdout",
     "output_type": "stream",
     "text": [
      "+----+------+\n",
      "|Week| count|\n",
      "+----+------+\n",
      "|  17|116322|\n",
      "|  18|742971|\n",
      "+----+------+\n",
      "\n"
     ]
    }
   ],
   "source": [
    "df_event_data_llc.groupby('Week').count().show()"
   ]
  },
  {
   "cell_type": "code",
   "execution_count": 235,
   "metadata": {},
   "outputs": [
    {
     "name": "stdout",
     "output_type": "stream",
     "text": [
      "+--------------------+------+---+------+--------+-------------------+---------+--------+-----+----+---------+----+----+\n",
      "|           device_id|gender|age|groups|event_id|         time_stamp|longitude|latitude|Month|Year|DayOfWeek|Week|Hour|\n",
      "+--------------------+------+---+------+--------+-------------------+---------+--------+-----+----+---------+----+----+\n",
      "|-1010684607686270000|     F| 44|  F32+| 1015029|2016-05-06 14:40:43|   107.01|   33.04|    5|2016|        6|  18|  14|\n",
      "+--------------------+------+---+------+--------+-------------------+---------+--------+-----+----+---------+----+----+\n",
      "\n"
     ]
    }
   ],
   "source": [
    "df_event_data_llc.filter((col('device_id') == '-1010684607686270000') &(col('event_id') == '1015029')) .show()"
   ]
  },
  {
   "cell_type": "code",
   "execution_count": 234,
   "metadata": {},
   "outputs": [
    {
     "data": {
      "text/plain": [
       "257"
      ]
     },
     "execution_count": 234,
     "metadata": {},
     "output_type": "execute_result"
    }
   ],
   "source": [
    "df_event_data_llc.filter(col('device_id') == '-1010684607686270000').count()"
   ]
  },
  {
   "cell_type": "code",
   "execution_count": 236,
   "metadata": {},
   "outputs": [
    {
     "name": "stdout",
     "output_type": "stream",
     "text": [
      "+--------------------+--------+-----+\n",
      "|           device_id|event_id|count|\n",
      "+--------------------+--------+-----+\n",
      "|-1010684607686270000| 1580910|    1|\n",
      "|-1010684607686270000| 2754180|    1|\n",
      "|-1021642161927890000|  120900|    1|\n",
      "|-1023828320908550000| 3099767|    1|\n",
      "|-1034442578068170000| 1268301|    1|\n",
      "| -103454141050554000| 1214649|    1|\n",
      "|-1050302093212240000| 2384247|    1|\n",
      "|-1050302093212240000| 2544074|    1|\n",
      "|-1050302093212240000|  761814|    1|\n",
      "|-1051075383831800000| 2682321|    1|\n",
      "|-1053657946037910000| 2678901|    1|\n",
      "|-1055765928777350000| 1171050|    1|\n",
      "|-1055765928777350000|  513034|    1|\n",
      "|-1065553319625940000| 2872403|    1|\n",
      "|-1068425135128090000|  988606|    1|\n",
      "|-1079996304583520000| 1078361|    1|\n",
      "|-1079996304583520000| 1301659|    1|\n",
      "|-1079996304583520000|  783409|    1|\n",
      "|-1084174363886130000| 1463083|    1|\n",
      "|-1084174363886130000| 1488131|    1|\n",
      "+--------------------+--------+-----+\n",
      "only showing top 20 rows\n",
      "\n"
     ]
    }
   ],
   "source": [
    "df_event_data_llc.groupby(col('device_id'),col('event_id')).count().show()"
   ]
  },
  {
   "cell_type": "code",
   "execution_count": 32,
   "metadata": {},
   "outputs": [],
   "source": [
    "df_event_data_min_TS = df_event_data_llc.groupby(col('device_id'),col('Month'),col('Year'),col('DayOfWeek'),col('Week'))\\\n",
    "                    .agg({'time_stamp':'min'})"
   ]
  },
  {
   "cell_type": "code",
   "execution_count": 33,
   "metadata": {},
   "outputs": [],
   "source": [
    "df_event_data_min_TS = df_event_data_min_TS.withColumnRenamed('min(time_stamp)','Min_TS')"
   ]
  },
  {
   "cell_type": "code",
   "execution_count": 34,
   "metadata": {},
   "outputs": [],
   "source": [
    "df_event_data_max_TS = df_event_data_llc.groupby(col('device_id'),col('Month'),col('Year'),col('DayOfWeek'),col('Week'))\\\n",
    "                    .agg({'time_stamp':'max'})"
   ]
  },
  {
   "cell_type": "code",
   "execution_count": 35,
   "metadata": {},
   "outputs": [],
   "source": [
    "df_event_data_max_TS = df_event_data_max_TS.withColumnRenamed('max(time_stamp)','Max_TS')"
   ]
  },
  {
   "cell_type": "code",
   "execution_count": 91,
   "metadata": {},
   "outputs": [
    {
     "name": "stdout",
     "output_type": "stream",
     "text": [
      "+--------------------+-----+----+---------+----+-------------------+\n",
      "|           device_id|Month|Year|DayOfWeek|Week|             Min_TS|\n",
      "+--------------------+-----+----+---------+----+-------------------+\n",
      "|-1074187698069370000|    5|2016|        5|  18|2016-05-05 08:55:06|\n",
      "|-1093883751871330000|    5|2016|        5|  18|2016-05-05 04:47:16|\n",
      "|-1115238687106060000|    5|2016|        4|  18|2016-05-04 08:03:42|\n",
      "|-1202747965393860000|    5|2016|        5|  18|2016-05-05 00:45:06|\n",
      "| -131427524715398000|    5|2016|        1|  17|2016-05-01 06:41:00|\n",
      "+--------------------+-----+----+---------+----+-------------------+\n",
      "only showing top 5 rows\n",
      "\n"
     ]
    }
   ],
   "source": [
    "df_event_data_min_TS.show(5)"
   ]
  },
  {
   "cell_type": "code",
   "execution_count": 121,
   "metadata": {},
   "outputs": [
    {
     "name": "stdout",
     "output_type": "stream",
     "text": [
      "+--------------------+-----+----+---------+----+-------------------+\n",
      "|           device_id|Month|Year|DayOfWeek|Week|             Max_TS|\n",
      "+--------------------+-----+----+---------+----+-------------------+\n",
      "|-1074187698069370000|    5|2016|        5|  18|2016-05-05 10:58:55|\n",
      "|-1093883751871330000|    5|2016|        5|  18|2016-05-05 04:52:18|\n",
      "|-1115238687106060000|    5|2016|        4|  18|2016-05-04 17:49:02|\n",
      "|-1202747965393860000|    5|2016|        5|  18|2016-05-05 22:54:50|\n",
      "| -131427524715398000|    5|2016|        1|  17|2016-05-01 18:56:42|\n",
      "+--------------------+-----+----+---------+----+-------------------+\n",
      "only showing top 5 rows\n",
      "\n"
     ]
    }
   ],
   "source": [
    "df_event_data_max_TS.show(5)"
   ]
  },
  {
   "cell_type": "code",
   "execution_count": 36,
   "metadata": {},
   "outputs": [],
   "source": [
    "df_event_data_TS = df_event_data_max_TS.join(df_event_data_min_TS,['device_id','Month','Year','DayOfWeek','Week'],\\\n",
    "                                             \n",
    "                                             \"inner\" )"
   ]
  },
  {
   "cell_type": "code",
   "execution_count": 93,
   "metadata": {},
   "outputs": [
    {
     "data": {
      "text/plain": [
       "43830"
      ]
     },
     "execution_count": 93,
     "metadata": {},
     "output_type": "execute_result"
    }
   ],
   "source": [
    "df_event_data_TS.count()"
   ]
  },
  {
   "cell_type": "code",
   "execution_count": 94,
   "metadata": {},
   "outputs": [
    {
     "name": "stdout",
     "output_type": "stream",
     "text": [
      "+--------------------+-----+----+---------+----+-------------------+-------------------+\n",
      "|           device_id|Month|Year|DayOfWeek|Week|             Max_TS|             Min_TS|\n",
      "+--------------------+-----+----+---------+----+-------------------+-------------------+\n",
      "|-9161106488982200000|    5|2016|        6|  18|2016-05-06 11:26:18|2016-05-06 01:40:31|\n",
      "|-9139757358587510000|    5|2016|        6|  18|2016-05-06 11:31:31|2016-05-06 10:35:09|\n",
      "|-9080896288558470000|    5|2016|        6|  18|2016-05-06 20:00:03|2016-05-06 19:55:47|\n",
      "|-8878683891449900000|    5|2016|        4|  18|2016-05-04 22:45:58|2016-05-04 00:26:03|\n",
      "|-8658253277334370000|    5|2016|        6|  18|2016-05-06 22:32:46|2016-05-06 07:16:54|\n",
      "+--------------------+-----+----+---------+----+-------------------+-------------------+\n",
      "only showing top 5 rows\n",
      "\n"
     ]
    }
   ],
   "source": [
    "df_event_data_TS.show(5)"
   ]
  },
  {
   "cell_type": "code",
   "execution_count": 95,
   "metadata": {},
   "outputs": [
    {
     "name": "stdout",
     "output_type": "stream",
     "text": [
      "root\n",
      " |-- device_id: long (nullable = true)\n",
      " |-- Month: integer (nullable = true)\n",
      " |-- Year: integer (nullable = true)\n",
      " |-- DayOfWeek: integer (nullable = true)\n",
      " |-- Week: integer (nullable = true)\n",
      " |-- Max_TS: timestamp (nullable = true)\n",
      " |-- Min_TS: timestamp (nullable = true)\n",
      "\n"
     ]
    }
   ],
   "source": [
    "df_event_data_TS.printSchema()"
   ]
  },
  {
   "cell_type": "code",
   "execution_count": 37,
   "metadata": {},
   "outputs": [],
   "source": [
    "from pyspark.sql.functions import *"
   ]
  },
  {
   "cell_type": "code",
   "execution_count": 38,
   "metadata": {},
   "outputs": [],
   "source": [
    "df_event_data_TS = df_event_data_TS.withColumn('Diff_TS',(col('Max_TS').cast('long') - col('Min_TS').cast('long'))/60)"
   ]
  },
  {
   "cell_type": "code",
   "execution_count": 39,
   "metadata": {},
   "outputs": [
    {
     "name": "stdout",
     "output_type": "stream",
     "text": [
      "root\n",
      " |-- device_id: long (nullable = true)\n",
      " |-- Month: integer (nullable = true)\n",
      " |-- Year: integer (nullable = true)\n",
      " |-- DayOfWeek: integer (nullable = true)\n",
      " |-- Week: integer (nullable = true)\n",
      " |-- Max_TS: timestamp (nullable = true)\n",
      " |-- Min_TS: timestamp (nullable = true)\n",
      " |-- Diff_TS: double (nullable = true)\n",
      "\n"
     ]
    }
   ],
   "source": [
    "df_event_data_TS.printSchema()"
   ]
  },
  {
   "cell_type": "code",
   "execution_count": 40,
   "metadata": {},
   "outputs": [],
   "source": [
    "df_event_data_TS_ = df_event_data_TS.select(col('device_id'),col('Diff_TS'))"
   ]
  },
  {
   "cell_type": "code",
   "execution_count": 40,
   "metadata": {},
   "outputs": [
    {
     "name": "stdout",
     "output_type": "stream",
     "text": [
      "+--------------------+------------------+\n",
      "|           device_id|           Diff_TS|\n",
      "+--------------------+------------------+\n",
      "|-9161106488982200000| 585.7833333333333|\n",
      "|-9139757358587510000| 56.36666666666667|\n",
      "|-9080896288558470000| 4.266666666666667|\n",
      "|-8878683891449900000|1339.9166666666667|\n",
      "|-8658253277334370000| 915.8666666666667|\n",
      "+--------------------+------------------+\n",
      "only showing top 5 rows\n",
      "\n"
     ]
    }
   ],
   "source": [
    "df_event_data_TS_.show(5)"
   ]
  },
  {
   "cell_type": "code",
   "execution_count": 41,
   "metadata": {},
   "outputs": [
    {
     "name": "stdout",
     "output_type": "stream",
     "text": [
      "+------------------+\n",
      "|           Diff_TS|\n",
      "+------------------+\n",
      "| 574.8833333333333|\n",
      "|203.88333333333333|\n",
      "| 804.4833333333333|\n",
      "|              49.8|\n",
      "|            611.55|\n",
      "| 7.533333333333333|\n",
      "|1282.1166666666666|\n",
      "| 790.4666666666667|\n",
      "|26.733333333333334|\n",
      "|             845.1|\n",
      "| 449.6166666666667|\n",
      "| 5.583333333333333|\n",
      "|             330.4|\n",
      "|1338.8166666666666|\n",
      "| 426.3333333333333|\n",
      "| 895.0833333333334|\n",
      "|1298.0666666666666|\n",
      "|             10.65|\n",
      "| 7.866666666666666|\n",
      "|              74.5|\n",
      "+------------------+\n",
      "only showing top 20 rows\n",
      "\n"
     ]
    }
   ],
   "source": [
    "df_event_data_TS_.select('Diff_TS').distinct().show()"
   ]
  },
  {
   "cell_type": "code",
   "execution_count": 41,
   "metadata": {},
   "outputs": [],
   "source": [
    "df_event_data_TS_Avg = df_event_data_TS_.groupby('device_id').mean('Diff_TS')"
   ]
  },
  {
   "cell_type": "code",
   "execution_count": 42,
   "metadata": {},
   "outputs": [],
   "source": [
    "df_event_data_TS_Avg = df_event_data_TS_Avg.withColumnRenamed('Diff_TS','Average_Time_Spend_In_Mins')"
   ]
  },
  {
   "cell_type": "code",
   "execution_count": 103,
   "metadata": {},
   "outputs": [
    {
     "name": "stdout",
     "output_type": "stream",
     "text": [
      "+--------------------+------------------+\n",
      "|           device_id|      avg(Diff_TS)|\n",
      "+--------------------+------------------+\n",
      "| 3430877468221560000|4.8738095238095225|\n",
      "| 3945679784298730000| 5.258333333333333|\n",
      "| 3026827520794770000| 38.05714285714286|\n",
      "|-9101962973644730000| 57.25277777777777|\n",
      "|-7028335720584770000| 462.0466666666666|\n",
      "+--------------------+------------------+\n",
      "only showing top 5 rows\n",
      "\n"
     ]
    }
   ],
   "source": [
    "df_event_data_TS_Avg.show(5)"
   ]
  },
  {
   "cell_type": "code",
   "execution_count": 43,
   "metadata": {},
   "outputs": [],
   "source": [
    "df_event_data_llc_with_Avg_TS = df_event_data_llc.join(df_event_data_TS_Avg,['device_id'],'inner')"
   ]
  },
  {
   "cell_type": "code",
   "execution_count": 105,
   "metadata": {},
   "outputs": [
    {
     "name": "stdout",
     "output_type": "stream",
     "text": [
      "+--------------------+------+---+------+--------+-------------------+---------+--------+-----+----+---------+----+----+-----------------+\n",
      "|           device_id|gender|age|groups|event_id|         time_stamp|longitude|latitude|Month|Year|DayOfWeek|Week|Hour|     avg(Diff_TS)|\n",
      "+--------------------+------+---+------+--------+-------------------+---------+--------+-----+----+---------+----+----+-----------------+\n",
      "|-9156769850272230000|     M| 31|M25-32| 1018725|2016-05-02 18:29:44|   113.86|   22.61|    5|2016|        2|  18|  18|99.24444444444445|\n",
      "|-9156769850272230000|     M| 31|M25-32| 1097107|2016-05-02 18:31:27|   113.85|   22.62|    5|2016|        2|  18|  18|99.24444444444445|\n",
      "|-9156769850272230000|     M| 31|M25-32| 1190755|2016-05-04 23:17:15|   113.84|   22.63|    5|2016|        4|  18|  23|99.24444444444445|\n",
      "|-9156769850272230000|     M| 31|M25-32| 1190756|2016-05-04 23:13:45|   113.84|   22.63|    5|2016|        4|  18|  23|99.24444444444445|\n",
      "|-9156769850272230000|     M| 31|M25-32|  119260|2016-05-02 23:10:47|   113.84|   22.63|    5|2016|        2|  18|  23|99.24444444444445|\n",
      "+--------------------+------+---+------+--------+-------------------+---------+--------+-----+----+---------+----+----+-----------------+\n",
      "only showing top 5 rows\n",
      "\n"
     ]
    }
   ],
   "source": [
    "df_event_data_llc_with_Avg_TS.show(5)"
   ]
  },
  {
   "cell_type": "markdown",
   "metadata": {},
   "source": [
    "## You can use the information related to the location of the users (latitude and longitude data) to create features representing changes in the latitude and longitude details at different times of the day."
   ]
  },
  {
   "cell_type": "code",
   "execution_count": 44,
   "metadata": {},
   "outputs": [],
   "source": [
    "from pyspark.sql.window import Window\n",
    "import pyspark.sql.functions as func\n",
    "from pyspark.sql.functions import lit\n",
    "\n",
    "# df_event_data_llc_with_Avg_TS = df_event_data_llc_with_Avg_TS.withColumn('user', lit('tmoore'))\n",
    "\n",
    "df_event_data_llc_with_Avg_TS_lag = df_event_data_llc_with_Avg_TS.withColumn('prev_Latitude',\n",
    "                        func.lag(df_event_data_llc_with_Avg_TS['latitude'])\n",
    "                                 .over(Window.partitionBy(\"device_id\").orderBy('time_stamp')))\n",
    "df_event_data_llc_with_Avg_TS_lag = df_event_data_llc_with_Avg_TS_lag.withColumn('prev_Longitude',\n",
    "                        func.lag(df_event_data_llc_with_Avg_TS['longitude'])\n",
    "                                 .over(Window.partitionBy(\"device_id\").orderBy('time_stamp')))"
   ]
  },
  {
   "cell_type": "code",
   "execution_count": 107,
   "metadata": {},
   "outputs": [
    {
     "name": "stdout",
     "output_type": "stream",
     "text": [
      "+--------------------+------+---+------+--------+-------------------+---------+--------+-----+----+---------+----+----+-----------------+-------------+--------------+\n",
      "|           device_id|gender|age|groups|event_id|         time_stamp|longitude|latitude|Month|Year|DayOfWeek|Week|Hour|     avg(Diff_TS)|prev_Latitude|prev_Longitude|\n",
      "+--------------------+------+---+------+--------+-------------------+---------+--------+-----+----+---------+----+----+-----------------+-------------+--------------+\n",
      "|-9156769850272230000|     M| 31|M25-32| 1018725|2016-05-02 18:29:44|   113.86|   22.61|    5|2016|        2|  18|  18|99.24444444444445|         null|          null|\n",
      "|-9156769850272230000|     M| 31|M25-32|  881242|2016-05-02 18:30:14|   113.86|   22.61|    5|2016|        2|  18|  18|99.24444444444445|        22.61|        113.86|\n",
      "|-9156769850272230000|     M| 31|M25-32| 1457944|2016-05-02 18:30:44|   113.85|   22.62|    5|2016|        2|  18|  18|99.24444444444445|        22.61|        113.86|\n",
      "|-9156769850272230000|     M| 31|M25-32| 1097107|2016-05-02 18:31:27|   113.85|   22.62|    5|2016|        2|  18|  18|99.24444444444445|        22.62|        113.85|\n",
      "|-9156769850272230000|     M| 31|M25-32| 3117177|2016-05-02 18:33:07|   113.85|   22.63|    5|2016|        2|  18|  18|99.24444444444445|        22.62|        113.85|\n",
      "+--------------------+------+---+------+--------+-------------------+---------+--------+-----+----+---------+----+----+-----------------+-------------+--------------+\n",
      "only showing top 5 rows\n",
      "\n"
     ]
    }
   ],
   "source": [
    "df_event_data_llc_with_Avg_TS_lag.show(5)"
   ]
  },
  {
   "cell_type": "code",
   "execution_count": 45,
   "metadata": {},
   "outputs": [],
   "source": [
    "from pyspark.sql.functions import coalesce"
   ]
  },
  {
   "cell_type": "code",
   "execution_count": 46,
   "metadata": {},
   "outputs": [],
   "source": [
    "df_event_data_llc_with_Avg_TS_lag = df_event_data_llc_with_Avg_TS_lag.\\\n",
    "                                    withColumn(\"prev_Latitude\",\\\n",
    "                                               coalesce(df_event_data_llc_with_Avg_TS_lag.prev_Latitude,\\\n",
    "                                                        df_event_data_llc_with_Avg_TS_lag.latitude))"
   ]
  },
  {
   "cell_type": "code",
   "execution_count": 47,
   "metadata": {},
   "outputs": [],
   "source": [
    "df_event_data_llc_with_Avg_TS_lag = df_event_data_llc_with_Avg_TS_lag.\\\n",
    "                                    withColumn(\"prev_Longitude\",\\\n",
    "                                               coalesce(df_event_data_llc_with_Avg_TS_lag.prev_Longitude,\\\n",
    "                                                        df_event_data_llc_with_Avg_TS_lag.longitude))"
   ]
  },
  {
   "cell_type": "code",
   "execution_count": 111,
   "metadata": {},
   "outputs": [
    {
     "name": "stdout",
     "output_type": "stream",
     "text": [
      "+--------------------+------+---+------+--------+-------------------+---------+--------+-----+----+---------+----+----+-----------------+-------------+--------------+\n",
      "|           device_id|gender|age|groups|event_id|         time_stamp|longitude|latitude|Month|Year|DayOfWeek|Week|Hour|     avg(Diff_TS)|prev_Latitude|prev_Longitude|\n",
      "+--------------------+------+---+------+--------+-------------------+---------+--------+-----+----+---------+----+----+-----------------+-------------+--------------+\n",
      "|-9156769850272230000|     M| 31|M25-32| 1018725|2016-05-02 18:29:44|   113.86|   22.61|    5|2016|        2|  18|  18|99.24444444444445|        22.61|        113.86|\n",
      "|-9156769850272230000|     M| 31|M25-32|  881242|2016-05-02 18:30:14|   113.86|   22.61|    5|2016|        2|  18|  18|99.24444444444445|        22.61|        113.86|\n",
      "|-9156769850272230000|     M| 31|M25-32| 1457944|2016-05-02 18:30:44|   113.85|   22.62|    5|2016|        2|  18|  18|99.24444444444445|        22.61|        113.86|\n",
      "|-9156769850272230000|     M| 31|M25-32| 1097107|2016-05-02 18:31:27|   113.85|   22.62|    5|2016|        2|  18|  18|99.24444444444445|        22.62|        113.85|\n",
      "|-9156769850272230000|     M| 31|M25-32| 3117177|2016-05-02 18:33:07|   113.85|   22.63|    5|2016|        2|  18|  18|99.24444444444445|        22.62|        113.85|\n",
      "+--------------------+------+---+------+--------+-------------------+---------+--------+-----+----+---------+----+----+-----------------+-------------+--------------+\n",
      "only showing top 5 rows\n",
      "\n"
     ]
    }
   ],
   "source": [
    "df_event_data_llc_with_Avg_TS_lag.show(5)"
   ]
  },
  {
   "cell_type": "code",
   "execution_count": 143,
   "metadata": {},
   "outputs": [
    {
     "name": "stdout",
     "output_type": "stream",
     "text": [
      "+--------+-------------+\n",
      "|latitude|prev_Latitude|\n",
      "+--------+-------------+\n",
      "|   31.15|        31.16|\n",
      "|   34.67|        34.68|\n",
      "|   34.79|        34.79|\n",
      "|   22.58|        22.57|\n",
      "|   32.53|        32.53|\n",
      "|   30.65|        30.66|\n",
      "|   23.01|        22.99|\n",
      "|   24.51|        24.51|\n",
      "|   31.23|        31.25|\n",
      "|   39.83|        39.83|\n",
      "|   30.77|        30.81|\n",
      "|   39.18|        39.12|\n",
      "|   33.44|        33.44|\n",
      "|   31.67|        31.68|\n",
      "|   29.34|        29.38|\n",
      "|   32.46|        32.46|\n",
      "|   24.06|        24.06|\n",
      "|   46.88|        46.88|\n",
      "|   32.09|        32.31|\n",
      "|   23.26|        23.35|\n",
      "+--------+-------------+\n",
      "only showing top 20 rows\n",
      "\n"
     ]
    }
   ],
   "source": [
    "df_event_data_llc_with_Avg_TS_lag.select(col('latitude'),col('prev_Latitude')).distinct().show()"
   ]
  },
  {
   "cell_type": "code",
   "execution_count": 48,
   "metadata": {},
   "outputs": [],
   "source": [
    "df_event_data_llc_with_Avg_TS_lag_ = df_event_data_llc_with_Avg_TS_lag.withColumn('Change_in_LL',\\\n",
    "                                                                                (col('latitude') == col('prev_Latitude')) & (col('longitude') == col('prev_Longitude')))"
   ]
  },
  {
   "cell_type": "code",
   "execution_count": 113,
   "metadata": {},
   "outputs": [
    {
     "name": "stdout",
     "output_type": "stream",
     "text": [
      "+--------------------+------+---+------+--------+-------------------+---------+--------+-----+----+---------+----+----+-----------------+-------------+--------------+------------+\n",
      "|           device_id|gender|age|groups|event_id|         time_stamp|longitude|latitude|Month|Year|DayOfWeek|Week|Hour|     avg(Diff_TS)|prev_Latitude|prev_Longitude|Change_in_LL|\n",
      "+--------------------+------+---+------+--------+-------------------+---------+--------+-----+----+---------+----+----+-----------------+-------------+--------------+------------+\n",
      "|-9156769850272230000|     M| 31|M25-32| 1018725|2016-05-02 18:29:44|   113.86|   22.61|    5|2016|        2|  18|  18|99.24444444444445|        22.61|        113.86|        true|\n",
      "|-9156769850272230000|     M| 31|M25-32|  881242|2016-05-02 18:30:14|   113.86|   22.61|    5|2016|        2|  18|  18|99.24444444444445|        22.61|        113.86|        true|\n",
      "|-9156769850272230000|     M| 31|M25-32| 1457944|2016-05-02 18:30:44|   113.85|   22.62|    5|2016|        2|  18|  18|99.24444444444445|        22.61|        113.86|       false|\n",
      "|-9156769850272230000|     M| 31|M25-32| 1097107|2016-05-02 18:31:27|   113.85|   22.62|    5|2016|        2|  18|  18|99.24444444444445|        22.62|        113.85|        true|\n",
      "|-9156769850272230000|     M| 31|M25-32| 3117177|2016-05-02 18:33:07|   113.85|   22.63|    5|2016|        2|  18|  18|99.24444444444445|        22.62|        113.85|       false|\n",
      "+--------------------+------+---+------+--------+-------------------+---------+--------+-----+----+---------+----+----+-----------------+-------------+--------------+------------+\n",
      "only showing top 5 rows\n",
      "\n"
     ]
    }
   ],
   "source": [
    "df_event_data_llc_with_Avg_TS_lag_.show(5)"
   ]
  },
  {
   "cell_type": "code",
   "execution_count": 146,
   "metadata": {},
   "outputs": [
    {
     "name": "stdout",
     "output_type": "stream",
     "text": [
      "+------------+------+\n",
      "|Change_in_LL| count|\n",
      "+------------+------+\n",
      "|        true|774461|\n",
      "|       false| 84832|\n",
      "+------------+------+\n",
      "\n"
     ]
    }
   ],
   "source": [
    "df_event_data_llc_with_Avg_TS_lag_.groupby('Change_in_LL').count().show()"
   ]
  },
  {
   "cell_type": "markdown",
   "metadata": {},
   "source": [
    "## You can create features such as Median Latitude and Median Longitude for different event ids."
   ]
  },
  {
   "cell_type": "code",
   "execution_count": 49,
   "metadata": {},
   "outputs": [],
   "source": [
    "import pyspark.sql.functions as F\n",
    "\n",
    "df_event_data_llc_with_Avg_TS_lat_median = df_event_data_llc_with_Avg_TS_lag_.groupby('device_id','event_id').agg(F.expr('percentile(latitude, array(0.50))')[0].alias('lat_med'),F.expr('percentile(longitude, array(0.50))')[0].alias('lon_med'))"
   ]
  },
  {
   "cell_type": "code",
   "execution_count": 177,
   "metadata": {},
   "outputs": [
    {
     "name": "stdout",
     "output_type": "stream",
     "text": [
      "+--------------------+--------+-------+-------+\n",
      "|           device_id|event_id|lat_med|lon_med|\n",
      "+--------------------+--------+-------+-------+\n",
      "|-9156769850272230000|   20211|  22.63| 113.84|\n",
      "|-9156769850272230000|   58692|  22.63| 113.84|\n",
      "|-9156769850272230000|  119260|  22.63| 113.84|\n",
      "|-9156769850272230000|  244659|  22.63| 113.84|\n",
      "|-9156769850272230000|  323747|  22.63| 113.84|\n",
      "+--------------------+--------+-------+-------+\n",
      "only showing top 5 rows\n",
      "\n"
     ]
    }
   ],
   "source": [
    "df_event_data_llc_with_Avg_TS_lat_median.show(5)"
   ]
  },
  {
   "cell_type": "code",
   "execution_count": 167,
   "metadata": {},
   "outputs": [
    {
     "data": {
      "text/plain": [
       "['device_id', 'event_id', 'lat_med', 'lon_med']"
      ]
     },
     "execution_count": 167,
     "metadata": {},
     "output_type": "execute_result"
    }
   ],
   "source": [
    "df_event_data_llc_with_Avg_TS_lat_median.columns"
   ]
  },
  {
   "cell_type": "code",
   "execution_count": 151,
   "metadata": {},
   "outputs": [
    {
     "data": {
      "text/plain": [
       "[41.93]"
      ]
     },
     "execution_count": 151,
     "metadata": {},
     "output_type": "execute_result"
    }
   ],
   "source": [
    "df_event_data_llc_with_Avg_TS_lag_.approxQuantile(\"latitude\", [0.5], 0.25)"
   ]
  },
  {
   "cell_type": "code",
   "execution_count": 171,
   "metadata": {},
   "outputs": [
    {
     "name": "stdout",
     "output_type": "stream",
     "text": [
      "+--------------------+------+---+------+--------+-------------------+---------+--------+-----+----+---------+----+----+-----------------+-------------+--------------+------------+\n",
      "|           device_id|gender|age|groups|event_id|         time_stamp|longitude|latitude|Month|Year|DayOfWeek|Week|Hour|     avg(Diff_TS)|prev_Latitude|prev_Longitude|Change_in_LL|\n",
      "+--------------------+------+---+------+--------+-------------------+---------+--------+-----+----+---------+----+----+-----------------+-------------+--------------+------------+\n",
      "|-9156769850272230000|     M| 31|M25-32| 1018725|2016-05-02 18:29:44|   113.86|   22.61|    5|2016|        2|  18|  18|99.24444444444445|        22.61|        113.86|        true|\n",
      "|-9156769850272230000|     M| 31|M25-32|  881242|2016-05-02 18:30:14|   113.86|   22.61|    5|2016|        2|  18|  18|99.24444444444445|        22.61|        113.86|        true|\n",
      "|-9156769850272230000|     M| 31|M25-32| 1457944|2016-05-02 18:30:44|   113.85|   22.62|    5|2016|        2|  18|  18|99.24444444444445|        22.61|        113.86|       false|\n",
      "|-9156769850272230000|     M| 31|M25-32| 1097107|2016-05-02 18:31:27|   113.85|   22.62|    5|2016|        2|  18|  18|99.24444444444445|        22.62|        113.85|        true|\n",
      "|-9156769850272230000|     M| 31|M25-32| 3117177|2016-05-02 18:33:07|   113.85|   22.63|    5|2016|        2|  18|  18|99.24444444444445|        22.62|        113.85|       false|\n",
      "+--------------------+------+---+------+--------+-------------------+---------+--------+-----+----+---------+----+----+-----------------+-------------+--------------+------------+\n",
      "only showing top 5 rows\n",
      "\n"
     ]
    }
   ],
   "source": [
    "df_event_data_llc_with_Avg_TS_lag_.show(5)"
   ]
  },
  {
   "cell_type": "code",
   "execution_count": 153,
   "metadata": {},
   "outputs": [
    {
     "name": "stdout",
     "output_type": "stream",
     "text": [
      "['device_id', 'gender', 'age', 'groups', 'event_id', 'time_stamp', 'longitude', 'latitude', 'Month', 'Year', 'DayOfWeek', 'Week', 'Hour', 'avg(Diff_TS)', 'prev_Latitude', 'prev_Longitude', 'Change_in_LL']\n"
     ]
    }
   ],
   "source": [
    "print(df_event_data_llc_with_Avg_TS_lag_.columns)"
   ]
  },
  {
   "cell_type": "code",
   "execution_count": 181,
   "metadata": {},
   "outputs": [
    {
     "name": "stdout",
     "output_type": "stream",
     "text": [
      "+---------+--------+---------+--------+\n",
      "|device_id|event_id|longitude|latitude|\n",
      "+---------+--------+---------+--------+\n",
      "|        0|       0|        0|       0|\n",
      "+---------+--------+---------+--------+\n",
      "\n"
     ]
    }
   ],
   "source": [
    "df_event_data_llc_with_Avg_TS_lag_.select([count(when(isnan(c) | col(c).isNull(), c)).alias(c) for c in ['device_id','event_id','longitude','latitude']]).show()"
   ]
  },
  {
   "cell_type": "code",
   "execution_count": 180,
   "metadata": {},
   "outputs": [
    {
     "name": "stdout",
     "output_type": "stream",
     "text": [
      "+---------+--------+-------+-------+\n",
      "|device_id|event_id|lat_med|lon_med|\n",
      "+---------+--------+-------+-------+\n",
      "|        0|       0|      0|      0|\n",
      "+---------+--------+-------+-------+\n",
      "\n"
     ]
    }
   ],
   "source": [
    "df_event_data_llc_with_Avg_TS_lat_median.select([count(when(isnan(c) | col(c).isNull(), c)).alias(c) for c in df_event_data_llc_with_Avg_TS_lat_median.columns]).show()"
   ]
  },
  {
   "cell_type": "code",
   "execution_count": 50,
   "metadata": {},
   "outputs": [],
   "source": [
    "df_event_data_llc_with_Avg_TS_lat_median_ = df_event_data_llc_with_Avg_TS_lat_median\\\n",
    "                                                .select(col('lat_med'),col('lon_med'),col(\"event_id\").alias(\"eid\")\\\n",
    "                                                        ,col(\"device_id\").alias(\"did\"))"
   ]
  },
  {
   "cell_type": "code",
   "execution_count": 116,
   "metadata": {},
   "outputs": [
    {
     "name": "stdout",
     "output_type": "stream",
     "text": [
      "+-------+-------+------+--------------------+\n",
      "|lat_med|lon_med|   eid|                 did|\n",
      "+-------+-------+------+--------------------+\n",
      "|  22.63| 113.84| 20211|-9156769850272230000|\n",
      "|  22.63| 113.84| 58692|-9156769850272230000|\n",
      "|  22.63| 113.84|119260|-9156769850272230000|\n",
      "|  22.63| 113.84|244659|-9156769850272230000|\n",
      "|  22.63| 113.84|323747|-9156769850272230000|\n",
      "+-------+-------+------+--------------------+\n",
      "only showing top 5 rows\n",
      "\n"
     ]
    }
   ],
   "source": [
    "df_event_data_llc_with_Avg_TS_lat_median_.show(5)"
   ]
  },
  {
   "cell_type": "code",
   "execution_count": 51,
   "metadata": {},
   "outputs": [],
   "source": [
    "df_event_data_llc_with_Avg_TS_lag_med = df_event_data_llc_with_Avg_TS_lat_median_ \\\n",
    "                            .join(df_event_data_llc_with_Avg_TS_lag_,\\\n",
    "                            (df_event_data_llc_with_Avg_TS_lat_median_.did == df_event_data_llc_with_Avg_TS_lag_.device_id)&\\\n",
    "                            (df_event_data_llc_with_Avg_TS_lat_median_.eid == df_event_data_llc_with_Avg_TS_lag_.event_id),\\\n",
    "                                  'inner')"
   ]
  },
  {
   "cell_type": "code",
   "execution_count": 118,
   "metadata": {},
   "outputs": [
    {
     "name": "stdout",
     "output_type": "stream",
     "text": [
      "+-------+-------+-------+--------------------+--------------------+------+---+------+--------+-------------------+---------+--------+-----+----+---------+----+----+-----------------+-------------+--------------+------------+\n",
      "|lat_med|lon_med|    eid|                 did|           device_id|gender|age|groups|event_id|         time_stamp|longitude|latitude|Month|Year|DayOfWeek|Week|Hour|     avg(Diff_TS)|prev_Latitude|prev_Longitude|Change_in_LL|\n",
      "+-------+-------+-------+--------------------+--------------------+------+---+------+--------+-------------------+---------+--------+-----+----+---------+----+----+-----------------+-------------+--------------+------------+\n",
      "|  23.19| 113.24|2728961|-9222956879900150000|-9222956879900150000|     M| 36|  M32+| 2728961|2016-05-07 14:22:50|   113.24|   23.19|    5|2016|        7|  18|  14|           677.55|        23.19|        113.24|        true|\n",
      "|  30.87| 114.36| 340913|-9221026417907250000|-9221026417907250000|     F| 31|F25-32|  340913|2016-05-05 07:04:27|   114.36|   30.87|    5|2016|        5|  18|   7|751.3595238095238|        30.87|        114.36|        true|\n",
      "|   34.7| 113.71| 837124|-9206202041936920000|-9206202041936920000|     M| 20| M0-24|  837124|2016-05-06 07:52:37|   113.71|    34.7|    5|2016|        6|  18|   7|419.8119047619047|         34.7|        113.71|        true|\n",
      "|   34.7| 113.71|1576659|-9206202041936920000|-9206202041936920000|     M| 20| M0-24| 1576659|2016-05-04 10:28:53|   113.71|    34.7|    5|2016|        4|  18|  10|419.8119047619047|         34.7|        113.71|        true|\n",
      "|  22.73|  113.8| 790970|-9205645091197540000|-9205645091197540000|     M| 44|  M32+|  790970|2016-05-05 11:07:33|    113.8|   22.73|    5|2016|        5|  18|  11|618.6699999999998|        22.73|         113.8|        true|\n",
      "+-------+-------+-------+--------------------+--------------------+------+---+------+--------+-------------------+---------+--------+-----+----+---------+----+----+-----------------+-------------+--------------+------------+\n",
      "only showing top 5 rows\n",
      "\n"
     ]
    }
   ],
   "source": [
    "df_event_data_llc_with_Avg_TS_lag_med.show(5)"
   ]
  },
  {
   "cell_type": "markdown",
   "metadata": {},
   "source": [
    "## You can also group the existing categories to create a new supercategory that will establish a significance in predicting the outcome variable."
   ]
  },
  {
   "cell_type": "code",
   "execution_count": 195,
   "metadata": {},
   "outputs": [
    {
     "name": "stdout",
     "output_type": "stream",
     "text": [
      "+--------+--------------------+------------+---------+--------+-------------+\n",
      "|event_id|              app_id|is_installed|is_active|label_id|     category|\n",
      "+--------+--------------------+------------+---------+--------+-------------+\n",
      "| 1000000|-1051986413094956896|           1|        0|     787|     low risk|\n",
      "| 1000000|-1234297064722937607|           1|        0|     405| custom label|\n",
      "| 1000000|-1234297064722937607|           1|        0|     737|         fund|\n",
      "| 1000000|-1234297064722937607|           1|        0|     738|monetary fund|\n",
      "| 1000000|-1562373526021293187|           1|        0|    1007| p2p net loan|\n",
      "+--------+--------------------+------------+---------+--------+-------------+\n",
      "only showing top 5 rows\n",
      "\n"
     ]
    }
   ],
   "source": [
    "df.show(5)"
   ]
  },
  {
   "cell_type": "markdown",
   "metadata": {},
   "source": [
    "## Plot the visualisation plot for a sample of 1 lakh data points."
   ]
  },
  {
   "cell_type": "code",
   "execution_count": 52,
   "metadata": {},
   "outputs": [
    {
     "data": {
      "text/html": [
       "<div>\n",
       "<style scoped>\n",
       "    .dataframe tbody tr th:only-of-type {\n",
       "        vertical-align: middle;\n",
       "    }\n",
       "\n",
       "    .dataframe tbody tr th {\n",
       "        vertical-align: top;\n",
       "    }\n",
       "\n",
       "    .dataframe thead th {\n",
       "        text-align: right;\n",
       "    }\n",
       "</style>\n",
       "<table border=\"1\" class=\"dataframe\">\n",
       "  <thead>\n",
       "    <tr style=\"text-align: right;\">\n",
       "      <th></th>\n",
       "      <th>longitude</th>\n",
       "      <th>latitude</th>\n",
       "      <th>count</th>\n",
       "    </tr>\n",
       "  </thead>\n",
       "  <tbody>\n",
       "    <tr>\n",
       "      <th>17</th>\n",
       "      <td>104.00</td>\n",
       "      <td>30.00</td>\n",
       "      <td>1357</td>\n",
       "    </tr>\n",
       "    <tr>\n",
       "      <th>128</th>\n",
       "      <td>111.92</td>\n",
       "      <td>34.74</td>\n",
       "      <td>449</td>\n",
       "    </tr>\n",
       "    <tr>\n",
       "      <th>738</th>\n",
       "      <td>123.47</td>\n",
       "      <td>41.82</td>\n",
       "      <td>321</td>\n",
       "    </tr>\n",
       "    <tr>\n",
       "      <th>472</th>\n",
       "      <td>111.21</td>\n",
       "      <td>27.85</td>\n",
       "      <td>302</td>\n",
       "    </tr>\n",
       "    <tr>\n",
       "      <th>1964</th>\n",
       "      <td>114.26</td>\n",
       "      <td>30.57</td>\n",
       "      <td>292</td>\n",
       "    </tr>\n",
       "    <tr>\n",
       "      <th>2442</th>\n",
       "      <td>115.02</td>\n",
       "      <td>38.03</td>\n",
       "      <td>290</td>\n",
       "    </tr>\n",
       "    <tr>\n",
       "      <th>2398</th>\n",
       "      <td>112.56</td>\n",
       "      <td>33.00</td>\n",
       "      <td>269</td>\n",
       "    </tr>\n",
       "    <tr>\n",
       "      <th>2590</th>\n",
       "      <td>114.11</td>\n",
       "      <td>22.54</td>\n",
       "      <td>242</td>\n",
       "    </tr>\n",
       "    <tr>\n",
       "      <th>2163</th>\n",
       "      <td>114.47</td>\n",
       "      <td>38.03</td>\n",
       "      <td>242</td>\n",
       "    </tr>\n",
       "    <tr>\n",
       "      <th>64</th>\n",
       "      <td>118.81</td>\n",
       "      <td>32.11</td>\n",
       "      <td>232</td>\n",
       "    </tr>\n",
       "    <tr>\n",
       "      <th>1127</th>\n",
       "      <td>123.80</td>\n",
       "      <td>41.86</td>\n",
       "      <td>207</td>\n",
       "    </tr>\n",
       "    <tr>\n",
       "      <th>2142</th>\n",
       "      <td>108.58</td>\n",
       "      <td>34.42</td>\n",
       "      <td>194</td>\n",
       "    </tr>\n",
       "    <tr>\n",
       "      <th>228</th>\n",
       "      <td>104.51</td>\n",
       "      <td>35.52</td>\n",
       "      <td>177</td>\n",
       "    </tr>\n",
       "    <tr>\n",
       "      <th>1627</th>\n",
       "      <td>118.34</td>\n",
       "      <td>34.35</td>\n",
       "      <td>167</td>\n",
       "    </tr>\n",
       "    <tr>\n",
       "      <th>2908</th>\n",
       "      <td>115.26</td>\n",
       "      <td>33.05</td>\n",
       "      <td>164</td>\n",
       "    </tr>\n",
       "    <tr>\n",
       "      <th>2441</th>\n",
       "      <td>106.38</td>\n",
       "      <td>29.51</td>\n",
       "      <td>155</td>\n",
       "    </tr>\n",
       "    <tr>\n",
       "      <th>790</th>\n",
       "      <td>123.44</td>\n",
       "      <td>41.84</td>\n",
       "      <td>153</td>\n",
       "    </tr>\n",
       "    <tr>\n",
       "      <th>2631</th>\n",
       "      <td>108.86</td>\n",
       "      <td>34.23</td>\n",
       "      <td>143</td>\n",
       "    </tr>\n",
       "    <tr>\n",
       "      <th>1342</th>\n",
       "      <td>113.99</td>\n",
       "      <td>23.06</td>\n",
       "      <td>135</td>\n",
       "    </tr>\n",
       "    <tr>\n",
       "      <th>473</th>\n",
       "      <td>111.21</td>\n",
       "      <td>27.84</td>\n",
       "      <td>134</td>\n",
       "    </tr>\n",
       "    <tr>\n",
       "      <th>1438</th>\n",
       "      <td>113.12</td>\n",
       "      <td>36.15</td>\n",
       "      <td>130</td>\n",
       "    </tr>\n",
       "    <tr>\n",
       "      <th>1939</th>\n",
       "      <td>120.98</td>\n",
       "      <td>32.04</td>\n",
       "      <td>130</td>\n",
       "    </tr>\n",
       "    <tr>\n",
       "      <th>1138</th>\n",
       "      <td>121.44</td>\n",
       "      <td>29.91</td>\n",
       "      <td>129</td>\n",
       "    </tr>\n",
       "    <tr>\n",
       "      <th>2100</th>\n",
       "      <td>117.13</td>\n",
       "      <td>36.18</td>\n",
       "      <td>124</td>\n",
       "    </tr>\n",
       "    <tr>\n",
       "      <th>2313</th>\n",
       "      <td>112.44</td>\n",
       "      <td>38.01</td>\n",
       "      <td>122</td>\n",
       "    </tr>\n",
       "    <tr>\n",
       "      <th>2256</th>\n",
       "      <td>114.05</td>\n",
       "      <td>22.61</td>\n",
       "      <td>119</td>\n",
       "    </tr>\n",
       "    <tr>\n",
       "      <th>2864</th>\n",
       "      <td>104.13</td>\n",
       "      <td>30.66</td>\n",
       "      <td>116</td>\n",
       "    </tr>\n",
       "    <tr>\n",
       "      <th>365</th>\n",
       "      <td>121.45</td>\n",
       "      <td>31.19</td>\n",
       "      <td>114</td>\n",
       "    </tr>\n",
       "    <tr>\n",
       "      <th>2961</th>\n",
       "      <td>113.46</td>\n",
       "      <td>34.15</td>\n",
       "      <td>112</td>\n",
       "    </tr>\n",
       "    <tr>\n",
       "      <th>577</th>\n",
       "      <td>120.65</td>\n",
       "      <td>42.85</td>\n",
       "      <td>105</td>\n",
       "    </tr>\n",
       "    <tr>\n",
       "      <th>...</th>\n",
       "      <td>...</td>\n",
       "      <td>...</td>\n",
       "      <td>...</td>\n",
       "    </tr>\n",
       "    <tr>\n",
       "      <th>10997</th>\n",
       "      <td>121.30</td>\n",
       "      <td>31.24</td>\n",
       "      <td>1</td>\n",
       "    </tr>\n",
       "    <tr>\n",
       "      <th>10999</th>\n",
       "      <td>112.99</td>\n",
       "      <td>28.05</td>\n",
       "      <td>1</td>\n",
       "    </tr>\n",
       "    <tr>\n",
       "      <th>11003</th>\n",
       "      <td>120.45</td>\n",
       "      <td>31.48</td>\n",
       "      <td>1</td>\n",
       "    </tr>\n",
       "    <tr>\n",
       "      <th>11005</th>\n",
       "      <td>130.29</td>\n",
       "      <td>47.34</td>\n",
       "      <td>1</td>\n",
       "    </tr>\n",
       "    <tr>\n",
       "      <th>11049</th>\n",
       "      <td>113.72</td>\n",
       "      <td>37.56</td>\n",
       "      <td>1</td>\n",
       "    </tr>\n",
       "    <tr>\n",
       "      <th>11046</th>\n",
       "      <td>119.89</td>\n",
       "      <td>31.02</td>\n",
       "      <td>1</td>\n",
       "    </tr>\n",
       "    <tr>\n",
       "      <th>11045</th>\n",
       "      <td>114.12</td>\n",
       "      <td>32.14</td>\n",
       "      <td>1</td>\n",
       "    </tr>\n",
       "    <tr>\n",
       "      <th>11044</th>\n",
       "      <td>113.81</td>\n",
       "      <td>31.59</td>\n",
       "      <td>1</td>\n",
       "    </tr>\n",
       "    <tr>\n",
       "      <th>11041</th>\n",
       "      <td>118.13</td>\n",
       "      <td>24.67</td>\n",
       "      <td>1</td>\n",
       "    </tr>\n",
       "    <tr>\n",
       "      <th>11040</th>\n",
       "      <td>114.39</td>\n",
       "      <td>30.48</td>\n",
       "      <td>1</td>\n",
       "    </tr>\n",
       "    <tr>\n",
       "      <th>11039</th>\n",
       "      <td>132.12</td>\n",
       "      <td>45.40</td>\n",
       "      <td>1</td>\n",
       "    </tr>\n",
       "    <tr>\n",
       "      <th>11038</th>\n",
       "      <td>121.29</td>\n",
       "      <td>31.38</td>\n",
       "      <td>1</td>\n",
       "    </tr>\n",
       "    <tr>\n",
       "      <th>11036</th>\n",
       "      <td>119.82</td>\n",
       "      <td>31.67</td>\n",
       "      <td>1</td>\n",
       "    </tr>\n",
       "    <tr>\n",
       "      <th>11034</th>\n",
       "      <td>118.12</td>\n",
       "      <td>24.43</td>\n",
       "      <td>1</td>\n",
       "    </tr>\n",
       "    <tr>\n",
       "      <th>11032</th>\n",
       "      <td>113.93</td>\n",
       "      <td>29.73</td>\n",
       "      <td>1</td>\n",
       "    </tr>\n",
       "    <tr>\n",
       "      <th>11030</th>\n",
       "      <td>118.86</td>\n",
       "      <td>31.97</td>\n",
       "      <td>1</td>\n",
       "    </tr>\n",
       "    <tr>\n",
       "      <th>11026</th>\n",
       "      <td>120.54</td>\n",
       "      <td>31.70</td>\n",
       "      <td>1</td>\n",
       "    </tr>\n",
       "    <tr>\n",
       "      <th>11025</th>\n",
       "      <td>120.89</td>\n",
       "      <td>30.12</td>\n",
       "      <td>1</td>\n",
       "    </tr>\n",
       "    <tr>\n",
       "      <th>11022</th>\n",
       "      <td>112.46</td>\n",
       "      <td>34.67</td>\n",
       "      <td>1</td>\n",
       "    </tr>\n",
       "    <tr>\n",
       "      <th>11021</th>\n",
       "      <td>110.01</td>\n",
       "      <td>39.82</td>\n",
       "      <td>1</td>\n",
       "    </tr>\n",
       "    <tr>\n",
       "      <th>11019</th>\n",
       "      <td>117.49</td>\n",
       "      <td>38.86</td>\n",
       "      <td>1</td>\n",
       "    </tr>\n",
       "    <tr>\n",
       "      <th>11018</th>\n",
       "      <td>114.76</td>\n",
       "      <td>23.39</td>\n",
       "      <td>1</td>\n",
       "    </tr>\n",
       "    <tr>\n",
       "      <th>11017</th>\n",
       "      <td>109.54</td>\n",
       "      <td>22.26</td>\n",
       "      <td>1</td>\n",
       "    </tr>\n",
       "    <tr>\n",
       "      <th>11015</th>\n",
       "      <td>115.00</td>\n",
       "      <td>38.56</td>\n",
       "      <td>1</td>\n",
       "    </tr>\n",
       "    <tr>\n",
       "      <th>11013</th>\n",
       "      <td>116.42</td>\n",
       "      <td>30.25</td>\n",
       "      <td>1</td>\n",
       "    </tr>\n",
       "    <tr>\n",
       "      <th>11012</th>\n",
       "      <td>113.55</td>\n",
       "      <td>31.59</td>\n",
       "      <td>1</td>\n",
       "    </tr>\n",
       "    <tr>\n",
       "      <th>11010</th>\n",
       "      <td>117.47</td>\n",
       "      <td>38.85</td>\n",
       "      <td>1</td>\n",
       "    </tr>\n",
       "    <tr>\n",
       "      <th>11008</th>\n",
       "      <td>117.08</td>\n",
       "      <td>32.68</td>\n",
       "      <td>1</td>\n",
       "    </tr>\n",
       "    <tr>\n",
       "      <th>11007</th>\n",
       "      <td>114.36</td>\n",
       "      <td>23.04</td>\n",
       "      <td>1</td>\n",
       "    </tr>\n",
       "    <tr>\n",
       "      <th>17212</th>\n",
       "      <td>103.94</td>\n",
       "      <td>30.78</td>\n",
       "      <td>1</td>\n",
       "    </tr>\n",
       "  </tbody>\n",
       "</table>\n",
       "<p>17213 rows × 3 columns</p>\n",
       "</div>"
      ],
      "text/plain": [
       "       longitude  latitude  count\n",
       "17        104.00     30.00   1357\n",
       "128       111.92     34.74    449\n",
       "738       123.47     41.82    321\n",
       "472       111.21     27.85    302\n",
       "1964      114.26     30.57    292\n",
       "2442      115.02     38.03    290\n",
       "2398      112.56     33.00    269\n",
       "2590      114.11     22.54    242\n",
       "2163      114.47     38.03    242\n",
       "64        118.81     32.11    232\n",
       "1127      123.80     41.86    207\n",
       "2142      108.58     34.42    194\n",
       "228       104.51     35.52    177\n",
       "1627      118.34     34.35    167\n",
       "2908      115.26     33.05    164\n",
       "2441      106.38     29.51    155\n",
       "790       123.44     41.84    153\n",
       "2631      108.86     34.23    143\n",
       "1342      113.99     23.06    135\n",
       "473       111.21     27.84    134\n",
       "1438      113.12     36.15    130\n",
       "1939      120.98     32.04    130\n",
       "1138      121.44     29.91    129\n",
       "2100      117.13     36.18    124\n",
       "2313      112.44     38.01    122\n",
       "2256      114.05     22.61    119\n",
       "2864      104.13     30.66    116\n",
       "365       121.45     31.19    114\n",
       "2961      113.46     34.15    112\n",
       "577       120.65     42.85    105\n",
       "...          ...       ...    ...\n",
       "10997     121.30     31.24      1\n",
       "10999     112.99     28.05      1\n",
       "11003     120.45     31.48      1\n",
       "11005     130.29     47.34      1\n",
       "11049     113.72     37.56      1\n",
       "11046     119.89     31.02      1\n",
       "11045     114.12     32.14      1\n",
       "11044     113.81     31.59      1\n",
       "11041     118.13     24.67      1\n",
       "11040     114.39     30.48      1\n",
       "11039     132.12     45.40      1\n",
       "11038     121.29     31.38      1\n",
       "11036     119.82     31.67      1\n",
       "11034     118.12     24.43      1\n",
       "11032     113.93     29.73      1\n",
       "11030     118.86     31.97      1\n",
       "11026     120.54     31.70      1\n",
       "11025     120.89     30.12      1\n",
       "11022     112.46     34.67      1\n",
       "11021     110.01     39.82      1\n",
       "11019     117.49     38.86      1\n",
       "11018     114.76     23.39      1\n",
       "11017     109.54     22.26      1\n",
       "11015     115.00     38.56      1\n",
       "11013     116.42     30.25      1\n",
       "11012     113.55     31.59      1\n",
       "11010     117.47     38.85      1\n",
       "11008     117.08     32.68      1\n",
       "11007     114.36     23.04      1\n",
       "17212     103.94     30.78      1\n",
       "\n",
       "[17213 rows x 3 columns]"
      ]
     },
     "execution_count": 52,
     "metadata": {},
     "output_type": "execute_result"
    }
   ],
   "source": [
    "df_event_data_1lac = df_event_data_llc_with_Avg_TS_lag_med.\\\n",
    "                        filter(((col('longitude') != -1)&(col('longitude') != 1))&((col('latitude') != -1)|(col('latitude') != 1))).select(col('longitude'),col('latitude')).limit(100000).groupby(col('longitude'),col('latitude')).count()\n",
    "\n",
    "df_event_data_1lacP = df_event_data_1lac.toPandas()\n",
    "\n",
    "df_event_data_1lacP.sort_values('count',ascending = False)"
   ]
  },
  {
   "cell_type": "code",
   "execution_count": 120,
   "metadata": {},
   "outputs": [
    {
     "data": {
      "text/html": [
       "<div>\n",
       "<style scoped>\n",
       "    .dataframe tbody tr th:only-of-type {\n",
       "        vertical-align: middle;\n",
       "    }\n",
       "\n",
       "    .dataframe tbody tr th {\n",
       "        vertical-align: top;\n",
       "    }\n",
       "\n",
       "    .dataframe thead th {\n",
       "        text-align: right;\n",
       "    }\n",
       "</style>\n",
       "<table border=\"1\" class=\"dataframe\">\n",
       "  <thead>\n",
       "    <tr style=\"text-align: right;\">\n",
       "      <th></th>\n",
       "      <th>longitude</th>\n",
       "      <th>latitude</th>\n",
       "      <th>count</th>\n",
       "    </tr>\n",
       "  </thead>\n",
       "  <tbody>\n",
       "  </tbody>\n",
       "</table>\n",
       "</div>"
      ],
      "text/plain": [
       "Empty DataFrame\n",
       "Columns: [longitude, latitude, count]\n",
       "Index: []"
      ]
     },
     "execution_count": 120,
     "metadata": {},
     "output_type": "execute_result"
    }
   ],
   "source": [
    "df_event_data_1lacP[df_event_data_1lacP.longitude == 1]"
   ]
  },
  {
   "cell_type": "code",
   "execution_count": 121,
   "metadata": {},
   "outputs": [
    {
     "name": "stdout",
     "output_type": "stream",
     "text": [
      "+---------+--------+-----+\n",
      "|longitude|latitude|count|\n",
      "+---------+--------+-----+\n",
      "|   113.24|   23.19|    7|\n",
      "|   114.36|   30.87|   12|\n",
      "|   113.71|    34.7|   18|\n",
      "|    113.8|   22.73|   31|\n",
      "|   114.06|   22.53|    7|\n",
      "|   116.59|   35.43|   29|\n",
      "|   104.21|   30.58|   37|\n",
      "|   106.56|   29.63|    1|\n",
      "|   118.18|   26.64|   27|\n",
      "|   112.58|   31.19|    2|\n",
      "|   119.25|   26.05|   34|\n",
      "|   118.43|   26.11|    1|\n",
      "|   119.93|   31.78|   63|\n",
      "|   119.95|   31.79|   26|\n",
      "|   119.93|   31.77|   43|\n",
      "|   118.99|   25.21|   18|\n",
      "|   121.66|   31.14|    8|\n",
      "|    104.0|    30.0| 1357|\n",
      "|    119.9|   40.01|    5|\n",
      "|    120.5|   31.16|    7|\n",
      "+---------+--------+-----+\n",
      "only showing top 20 rows\n",
      "\n"
     ]
    }
   ],
   "source": [
    "df_event_data_1lac.show()"
   ]
  },
  {
   "cell_type": "code",
   "execution_count": 53,
   "metadata": {},
   "outputs": [
    {
     "ename": "ModuleNotFoundError",
     "evalue": "No module named 'mpl_toolkits.basemap'",
     "output_type": "error",
     "traceback": [
      "\u001b[0;31m---------------------------------------------------------------------------\u001b[0m",
      "\u001b[0;31mModuleNotFoundError\u001b[0m                       Traceback (most recent call last)",
      "\u001b[0;32m<ipython-input-53-1f17a0937ded>\u001b[0m in \u001b[0;36m<module>\u001b[0;34m()\u001b[0m\n\u001b[0;32m----> 1\u001b[0;31m \u001b[0;32mfrom\u001b[0m \u001b[0mmpl_toolkits\u001b[0m\u001b[0;34m.\u001b[0m\u001b[0mbasemap\u001b[0m \u001b[0;32mimport\u001b[0m \u001b[0mBasemap\u001b[0m\u001b[0;34m\u001b[0m\u001b[0;34m\u001b[0m\u001b[0m\n\u001b[0m\u001b[1;32m      2\u001b[0m \u001b[0mget_ipython\u001b[0m\u001b[0;34m(\u001b[0m\u001b[0;34m)\u001b[0m\u001b[0;34m.\u001b[0m\u001b[0mmagic\u001b[0m\u001b[0;34m(\u001b[0m\u001b[0;34m'matplotlib inline'\u001b[0m\u001b[0;34m)\u001b[0m\u001b[0;34m\u001b[0m\u001b[0;34m\u001b[0m\u001b[0m\n",
      "\u001b[0;31mModuleNotFoundError\u001b[0m: No module named 'mpl_toolkits.basemap'"
     ]
    }
   ],
   "source": [
    "from mpl_toolkits.basemap import Basemap\n",
    "%matplotlib inline"
   ]
  },
  {
   "cell_type": "code",
   "execution_count": 123,
   "metadata": {},
   "outputs": [
    {
     "data": {
      "image/png": "[encoded data removed]",
      "text/plain": [
       "<Figure size 1440x1440 with 1 Axes>"
      ]
     },
     "metadata": {},
     "output_type": "display_data"
    }
   ],
   "source": [
    "fig = plt.figure(figsize=(20, 20))\n",
    "\n",
    "# Mercator of World\n",
    "m = Basemap(projection='merc',\n",
    "             llcrnrlat=df_event_data_1lacP[\"latitude\"].min(),  #latitude of lower left hand corner of the desired map domain\n",
    "             urcrnrlat=df_event_data_1lacP[\"latitude\"].max(), #latitude of upper right hand corner of the desired map domain\n",
    "             llcrnrlon=df_event_data_1lacP[\"longitude\"].min(), #longitude of lower left hand corner of the desired map domain\n",
    "             urcrnrlon=df_event_data_1lacP[\"longitude\"].max(), #longitude of upper right hand corner of the desired map domain\n",
    "             lat_ts=0, #latitude of true scale\n",
    "             resolution='c') #resolution of boundary dataset being used - c for crude\n",
    "\n",
    "\n",
    "m.fillcontinents(color='#191919',lake_color='#001000') # dark grey land, black lakes\n",
    "m.drawmapboundary(fill_color='#000000')                # black background\n",
    "m.drawcountries(linewidth=0.15, color=\"w\")              # thin white line for country borders\n",
    "\n",
    "# Plot the data\n",
    "mxy = m(df_event_data_1lacP[\"longitude\"].tolist(), df_event_data_1lacP[\"latitude\"].tolist())\n",
    "m.scatter(mxy[0], mxy[1], s=[12 if x >10 else x for x in df_event_data_1lacP['count']], c=\"#1292db\", zorder=2)    # zorder for the points  \n",
    "\n",
    "plt.title(\"World Map\")\n",
    "plt.show()"
   ]
  },
  {
   "cell_type": "code",
   "execution_count": 124,
   "metadata": {},
   "outputs": [],
   "source": [
    "cat_P = df.select('category').distinct().toPandas()"
   ]
  },
  {
   "cell_type": "code",
   "execution_count": 125,
   "metadata": {},
   "outputs": [
    {
     "data": {
      "text/plain": [
       "19237"
      ]
     },
     "execution_count": 125,
     "metadata": {},
     "output_type": "execute_result"
    }
   ],
   "source": [
    "df.select('app_id').distinct().count()"
   ]
  },
  {
   "cell_type": "code",
   "execution_count": 126,
   "metadata": {},
   "outputs": [],
   "source": [
    "cat_P['CategoryB'] = cat_P['category'].apply(lambda x :x[:x.find('-')].strip().lower() if x.find('-') > -1 else x.strip().lower())"
   ]
  },
  {
   "cell_type": "code",
   "execution_count": 127,
   "metadata": {},
   "outputs": [],
   "source": [
    "cat_P['CategoryB'] = cat_P['CategoryB'].apply(lambda x :'game' if x.find('game') > -1 else x.strip().lower())\n",
    "cat_P['CategoryB'] = cat_P['CategoryB'].apply(lambda x :'travel' if x.find('travel') > -1 else x.strip().lower())\n",
    "cat_P['CategoryB'] = cat_P['CategoryB'].apply(lambda x :'trendy' if x.find('trendy') > -1 else x.strip().lower())\n",
    "cat_P['CategoryB'] = cat_P['CategoryB'].apply(lambda x :'news' if x.find('news') > -1 else x.strip().lower())\n",
    "cat_P['CategoryB'] = cat_P['CategoryB'].apply(lambda x :'finance' if x.find('finance') > -1 else x.strip().lower())\n",
    "cat_P['CategoryB'] = cat_P['CategoryB'].apply(lambda x :'loan' if x.find('loan') > -1 else x.strip().lower())\n",
    "cat_P['CategoryB'] = cat_P['CategoryB'].apply(lambda x :'science_technology' if x.find('science') > -1 & x.find('technology') > -1 else x.strip().lower())\n",
    "cat_P['CategoryB'] = cat_P['CategoryB'].apply(lambda x :'comic' if x.find('comic') > -1 else x.strip().lower())\n",
    "cat_P['CategoryB'] = cat_P['CategoryB'].apply(lambda x :'airlines' if x.find('airlines') > -1 else x.strip().lower())\n",
    "cat_P['CategoryB'] = cat_P['CategoryB'].apply(lambda x :'mythology' if x.find('mythology') > -1 else x.strip().lower())\n",
    "cat_P['CategoryB'] = cat_P['CategoryB'].apply(lambda x :'books' if x.find('books') > -1 else x.strip().lower())\n",
    "cat_P['CategoryB'] = cat_P['CategoryB'].apply(lambda x :'bank' if x.find('bank') > -1 else x.strip().lower())\n",
    "cat_P['CategoryB'] = cat_P['CategoryB'].apply(lambda x :'tourism' if x.find('tourism') > -1 else x.strip().lower())\n",
    "cat_P['CategoryB'] = cat_P['CategoryB'].apply(lambda x :'income' if x.find('income') > -1 else x.strip().lower())\n",
    "cat_P['CategoryB'] = cat_P['CategoryB'].apply(lambda x :'finance' if x.find('financ') > -1 else x.strip().lower())"
   ]
  },
  {
   "cell_type": "code",
   "execution_count": 128,
   "metadata": {},
   "outputs": [],
   "source": [
    "cat_P['CategoryB'] = cat_P['CategoryB'].apply(lambda x :'insurance' if x.find('insurance') > -1 else x.strip().lower())"
   ]
  },
  {
   "cell_type": "code",
   "execution_count": 129,
   "metadata": {},
   "outputs": [],
   "source": [
    "cat_P['CategoryB'] = cat_P['CategoryB'].apply(lambda x :'animation' if x.find('animation') > -1 else x.strip().lower())"
   ]
  },
  {
   "cell_type": "code",
   "execution_count": 130,
   "metadata": {},
   "outputs": [
    {
     "data": {
      "text/plain": [
       "324"
      ]
     },
     "execution_count": 130,
     "metadata": {},
     "output_type": "execute_result"
    }
   ],
   "source": [
    "len(cat_P['CategoryB'].unique())"
   ]
  },
  {
   "cell_type": "code",
   "execution_count": 131,
   "metadata": {},
   "outputs": [],
   "source": [
    "cat_PT = pd.DataFrame(cat_P['CategoryB'].value_counts())"
   ]
  },
  {
   "cell_type": "code",
   "execution_count": 132,
   "metadata": {},
   "outputs": [
    {
     "data": {
      "text/plain": [
       "453"
      ]
     },
     "execution_count": 132,
     "metadata": {},
     "output_type": "execute_result"
    }
   ],
   "source": [
    "cat_PT['CategoryB'].sum()"
   ]
  },
  {
   "cell_type": "code",
   "execution_count": 133,
   "metadata": {},
   "outputs": [
    {
     "data": {
      "text/html": [
       "<div>\n",
       "<style scoped>\n",
       "    .dataframe tbody tr th:only-of-type {\n",
       "        vertical-align: middle;\n",
       "    }\n",
       "\n",
       "    .dataframe tbody tr th {\n",
       "        vertical-align: top;\n",
       "    }\n",
       "\n",
       "    .dataframe thead th {\n",
       "        text-align: right;\n",
       "    }\n",
       "</style>\n",
       "<table border=\"1\" class=\"dataframe\">\n",
       "  <thead>\n",
       "    <tr style=\"text-align: right;\">\n",
       "      <th></th>\n",
       "      <th>category</th>\n",
       "      <th>CategoryB</th>\n",
       "    </tr>\n",
       "  </thead>\n",
       "  <tbody>\n",
       "    <tr>\n",
       "      <th>0</th>\n",
       "      <td>travel</td>\n",
       "      <td>travel</td>\n",
       "    </tr>\n",
       "    <tr>\n",
       "      <th>1</th>\n",
       "      <td>poetry</td>\n",
       "      <td>poetry</td>\n",
       "    </tr>\n",
       "    <tr>\n",
       "      <th>2</th>\n",
       "      <td>cultivation fantasy game</td>\n",
       "      <td>game</td>\n",
       "    </tr>\n",
       "    <tr>\n",
       "      <th>3</th>\n",
       "      <td>reality show</td>\n",
       "      <td>reality show</td>\n",
       "    </tr>\n",
       "    <tr>\n",
       "      <th>4</th>\n",
       "      <td>trendy / cool</td>\n",
       "      <td>trendy</td>\n",
       "    </tr>\n",
       "    <tr>\n",
       "      <th>...</th>\n",
       "      <td>...</td>\n",
       "      <td>...</td>\n",
       "    </tr>\n",
       "    <tr>\n",
       "      <th>448</th>\n",
       "      <td>tourism product</td>\n",
       "      <td>tourism</td>\n",
       "    </tr>\n",
       "    <tr>\n",
       "      <th>449</th>\n",
       "      <td>billards</td>\n",
       "      <td>billards</td>\n",
       "    </tr>\n",
       "    <tr>\n",
       "      <th>450</th>\n",
       "      <td>game-parkour</td>\n",
       "      <td>game</td>\n",
       "    </tr>\n",
       "    <tr>\n",
       "      <th>451</th>\n",
       "      <td>turn based rpg game</td>\n",
       "      <td>game</td>\n",
       "    </tr>\n",
       "    <tr>\n",
       "      <th>452</th>\n",
       "      <td>game-cutting things</td>\n",
       "      <td>game</td>\n",
       "    </tr>\n",
       "  </tbody>\n",
       "</table>\n",
       "<p>453 rows × 2 columns</p>\n",
       "</div>"
      ],
      "text/plain": [
       "                     category     CategoryB\n",
       "0                      travel        travel\n",
       "1                      poetry        poetry\n",
       "2    cultivation fantasy game          game\n",
       "3                reality show  reality show\n",
       "4               trendy / cool        trendy\n",
       "..                        ...           ...\n",
       "448           tourism product       tourism\n",
       "449                  billards      billards\n",
       "450              game-parkour          game\n",
       "451       turn based rpg game          game\n",
       "452       game-cutting things          game\n",
       "\n",
       "[453 rows x 2 columns]"
      ]
     },
     "execution_count": 133,
     "metadata": {},
     "output_type": "execute_result"
    }
   ],
   "source": [
    "cat_P"
   ]
  },
  {
   "cell_type": "code",
   "execution_count": 134,
   "metadata": {},
   "outputs": [],
   "source": [
    "cat_L = np.array(cat_P.CategoryB.unique()).reshape(1,-1)"
   ]
  },
  {
   "cell_type": "code",
   "execution_count": 135,
   "metadata": {
    "collapsed": true
   },
   "outputs": [
    {
     "name": "stdout",
     "output_type": "stream",
     "text": [
      "[array(['travel', 'poetry', 'game', 'reality show', 'trendy',\n",
      "       'pictures photography', 'map', 'farm', 'condition of the vehicles',\n",
      "       '1 vitality', 'news', 'chinese painting', 'animation',\n",
      "       'booking channels', 'magazine and journal', 'app store', 'finance',\n",
      "       'low profitability', 'utilities', 'management', 'stock',\n",
      "       'behalf of the drive', 'families with babies',\n",
      "       'desktop enhancements', 'astrology horoscope',\n",
      "       'personal effectiveness', 'buy', 'airline type', 'books',\n",
      "       'world of warcraft', 'mmo', 'shushan', 'smart appliances',\n",
      "       'majiang', 'traditional securities brokerage',\n",
      "       'online shopping by group', 'weibo', 'casual puzzle categories',\n",
      "       'estate', 'show', 'loan', 'third party payment',\n",
      "       'professional skills', 'business simulation', 'insurance', 'phone',\n",
      "       'hotels', 'flight area', 'securities', 'bank', 'high flow',\n",
      "       'comic', 'racing (rac)', 'calendar', 'community',\n",
      "       'takeaway ordering', 'reputation', 'airlines', 'coach transport',\n",
      "       'chess categories', 'unknown', 'arpg', 'make',\n",
      "       'online shopping navigation', 'mythology', 'fund',\n",
      "       'college students', 'coach reservations', 'sellers', 'low risk',\n",
      "       'puzzles', 'user community', 'income', 'occupational identity',\n",
      "       'prepare baby', 'texas poker', 'library', 'navigation',\n",
      "       'science and technology 1', 'ping', 'wifi', 'and the church',\n",
      "       'bus', 'online shopping', 'read',\n",
      "       'aeronautical information service', 'hotel chain', 'p2p',\n",
      "       'equity fund', 'psychology', 'high mobility', 'vitality',\n",
      "       'contacts', 'radio', 'exams', 'low liquidity', 'wealth management',\n",
      "       'prepare pregnant pregnancy', 'coupon', 'high profitability',\n",
      "       'futures', 'man playing favorites', 'aviation integrated services',\n",
      "       'total cost', 'pet raising up', 'convenience services', 'tourism',\n",
      "       \"read the operator's\", 'integrated living', 'imf', 'europe',\n",
      "       'clock', 'science fiction', 'millitary and wars', 'file editor',\n",
      "       'classical 1', 'natural', 'free', 'other', 'ktv', 'mother',\n",
      "       'basketball', 'simulators', 'regional aviation', 'buy class',\n",
      "       'xian xia', 'poker and chess', 'im', 'literature', 'pregnant baby',\n",
      "       'round', 'simple 1', 'lose weight', 'moba', 'appliances',\n",
      "       'tour around', 'art and culture', 'trust', 'train',\n",
      "       'flight shooting', 'a beauty care', 'the film', 'accounting',\n",
      "       'housekeeping', 'vermicelli', 'the elimination of class',\n",
      "       'total cost 1', 'science', 'tribe', 'rentals', 'email',\n",
      "       'passion 1', 'music', 'exchange rate', 'picture sharing',\n",
      "       'crowdfunding', 'joke', 'football', 'hong kong',\n",
      "       'parkour avoid class', 'movie', 'sale of cars', 'free exercise',\n",
      "       'gambling', 'skin care applications', 'h shares', 'senki', 'high',\n",
      "       'a shares', 'parenting stage', 'flight', 'shopping sharing',\n",
      "       'maternal and child supplies', 'personal effectiveness 1',\n",
      "       'study abroad', 'editor', 'health', 'stock futures',\n",
      "       '1 reputation', 'love raising up', 'irritation / fun 1',\n",
      "       'gaming strategy', 'cards rpg', 'magic', 'recipes', 'chess',\n",
      "       'scheduling', 'furniture', 'custom label', 'smart shopping 1',\n",
      "       'car owners', 'technology information', 'industry tag',\n",
      "       'stimulate fun', 'mesasge', 'beauty nail', 'video',\n",
      "       'hotel application', 'effort', 'integrated ticket reservation',\n",
      "       'store management', 'non', 'household products', 'exchange',\n",
      "       'lottery ticket', 'wearable health', 'business cards', 'cosplay',\n",
      "       'taxi', 'tower defense', 'book hotel complex',\n",
      "       'online booking class', 'third', 'novels', 'peace',\n",
      "       'moderate profitability', 'smart home', 'harem', 'pursue',\n",
      "       'express', 'foreign language', 'jin yong', 'property industry 1.0',\n",
      "       'noble 1', 'quality 1', 'jobs', 'customized 1', 'debit and credit',\n",
      "       'health management', 'families with small babies',\n",
      "       'fashion outfit', 'search', 'property industry new', 'sea amoy',\n",
      "       'sports', 'notes', 'shootout shooting (stg)', 'realtime fighting',\n",
      "       '1 free', 'aviation', 'readers', 'ninja', 'hardware related',\n",
      "       'business office', 'service', 'parenting', 'slg (strategy)',\n",
      "       'families with big baby', 'monetary fund', 'points activities',\n",
      "       'doctors', 'airport', 'high risk', 'pursuit 1', 'housing advice',\n",
      "       'medium risk', 'comfortable', 'japanese and korean style',\n",
      "       'entertainment', 'love and marriage', 'heritage foundation',\n",
      "       'nature 1', 'antique collection', 'property industry 2.0',\n",
      "       'hotel type', 'pirated content', 'poker', 'decoration',\n",
      "       'other shares', 'lower liquidity', 'car', 'class managemetn',\n",
      "       'weather', 'war chess', 'southeast asia (aviation)', 'services 1',\n",
      "       'medical', 'education outside class', 'business', 'network disk',\n",
      "       'share tour', 'customization', 'enthusiasm', 'engineering drawing',\n",
      "       'blogs', 'reviews', 'relatives', 'romance', 'academic information',\n",
      "       'information', 'science and technology', 'puzzel', 'simple',\n",
      "       'martial arts', 'tennis', 'relatives 1', 'online malls',\n",
      "       'precious metals', 'dotal', 'airline alliances', 'other read',\n",
      "       'classical', 'pay', 'system tools', 'shows',\n",
      "       'maternal and child population', 'reading platform',\n",
      "       'liquid medium', 'smart shopping', 'internet securities', 'cozy 1',\n",
      "       'dictionary', 'sports and gym', 'quality', 'destination region',\n",
      "       'education for babies', 'noble', 'commodity futures', 'math',\n",
      "       'trust funds', 'puzzle', 'fashion', 'tencent', 'billards'],\n",
      "      dtype=object)]\n"
     ]
    }
   ],
   "source": [
    "print(sorted(cat_L))"
   ]
  },
  {
   "cell_type": "code",
   "execution_count": 136,
   "metadata": {},
   "outputs": [],
   "source": [
    "merged_events_apps_1 = merged_events_apps.filter((col('longitude') == 1.0)&(col('latitude') == 1.0)).groupby('category').count().sort(col('count').desc())"
   ]
  },
  {
   "cell_type": "code",
   "execution_count": 137,
   "metadata": {},
   "outputs": [
    {
     "name": "stdout",
     "output_type": "stream",
     "text": [
      "+--------------------+------+\n",
      "|            category| count|\n",
      "+--------------------+------+\n",
      "|        industry tag|113607|\n",
      "|property industry...| 76147|\n",
      "|property industry...| 63678|\n",
      "|             unknown| 54878|\n",
      "|        custom label| 39745|\n",
      "+--------------------+------+\n",
      "only showing top 5 rows\n",
      "\n"
     ]
    }
   ],
   "source": [
    "merged_events_apps_1.show(5)"
   ]
  },
  {
   "cell_type": "markdown",
   "metadata": {},
   "source": [
    "## Compare the event visualisation plots based on the users' gender information. [This can be done on the sample of 1 lakh data points.]"
   ]
  },
  {
   "cell_type": "code",
   "execution_count": 138,
   "metadata": {},
   "outputs": [
    {
     "name": "stdout",
     "output_type": "stream",
     "text": [
      "+-------+-------+-------+--------------------+--------------------+------+---+------+--------+-------------------+---------+--------+-----+----+---------+----+----+-----------------+-------------+--------------+------------+\n",
      "|lat_med|lon_med|    eid|                 did|           device_id|gender|age|groups|event_id|         time_stamp|longitude|latitude|Month|Year|DayOfWeek|Week|Hour|     avg(Diff_TS)|prev_Latitude|prev_Longitude|Change_in_LL|\n",
      "+-------+-------+-------+--------------------+--------------------+------+---+------+--------+-------------------+---------+--------+-----+----+---------+----+----+-----------------+-------------+--------------+------------+\n",
      "|  23.19| 113.24|2728961|-9222956879900150000|-9222956879900150000|     M| 36|  M32+| 2728961|2016-05-07 14:22:50|   113.24|   23.19|    5|2016|        7|  18|  14|           677.55|        23.19|        113.24|        true|\n",
      "|  30.87| 114.36| 340913|-9221026417907250000|-9221026417907250000|     F| 31|F25-32|  340913|2016-05-05 07:04:27|   114.36|   30.87|    5|2016|        5|  18|   7|751.3595238095238|        30.87|        114.36|        true|\n",
      "|   34.7| 113.71| 837124|-9206202041936920000|-9206202041936920000|     M| 20| M0-24|  837124|2016-05-06 07:52:37|   113.71|    34.7|    5|2016|        6|  18|   7|419.8119047619047|         34.7|        113.71|        true|\n",
      "|   34.7| 113.71|1576659|-9206202041936920000|-9206202041936920000|     M| 20| M0-24| 1576659|2016-05-04 10:28:53|   113.71|    34.7|    5|2016|        4|  18|  10|419.8119047619047|         34.7|        113.71|        true|\n",
      "|  22.73|  113.8| 790970|-9205645091197540000|-9205645091197540000|     M| 44|  M32+|  790970|2016-05-05 11:07:33|    113.8|   22.73|    5|2016|        5|  18|  11|618.6699999999998|        22.73|         113.8|        true|\n",
      "+-------+-------+-------+--------------------+--------------------+------+---+------+--------+-------------------+---------+--------+-----+----+---------+----+----+-----------------+-------------+--------------+------------+\n",
      "only showing top 5 rows\n",
      "\n"
     ]
    }
   ],
   "source": [
    "df_event_data_llc_with_Avg_TS_lag_med.show(5)"
   ]
  },
  {
   "cell_type": "code",
   "execution_count": 139,
   "metadata": {},
   "outputs": [
    {
     "data": {
      "text/html": [
       "<div>\n",
       "<style scoped>\n",
       "    .dataframe tbody tr th:only-of-type {\n",
       "        vertical-align: middle;\n",
       "    }\n",
       "\n",
       "    .dataframe tbody tr th {\n",
       "        vertical-align: top;\n",
       "    }\n",
       "\n",
       "    .dataframe thead th {\n",
       "        text-align: right;\n",
       "    }\n",
       "</style>\n",
       "<table border=\"1\" class=\"dataframe\">\n",
       "  <thead>\n",
       "    <tr style=\"text-align: right;\">\n",
       "      <th></th>\n",
       "      <th>longitude</th>\n",
       "      <th>latitude</th>\n",
       "      <th>gender</th>\n",
       "      <th>count</th>\n",
       "    </tr>\n",
       "  </thead>\n",
       "  <tbody>\n",
       "    <tr>\n",
       "      <th>111</th>\n",
       "      <td>104.00</td>\n",
       "      <td>30.00</td>\n",
       "      <td>M</td>\n",
       "      <td>1098</td>\n",
       "    </tr>\n",
       "    <tr>\n",
       "      <th>129</th>\n",
       "      <td>111.92</td>\n",
       "      <td>34.74</td>\n",
       "      <td>M</td>\n",
       "      <td>449</td>\n",
       "    </tr>\n",
       "    <tr>\n",
       "      <th>823</th>\n",
       "      <td>123.47</td>\n",
       "      <td>41.82</td>\n",
       "      <td>M</td>\n",
       "      <td>321</td>\n",
       "    </tr>\n",
       "    <tr>\n",
       "      <th>488</th>\n",
       "      <td>111.21</td>\n",
       "      <td>27.85</td>\n",
       "      <td>M</td>\n",
       "      <td>302</td>\n",
       "    </tr>\n",
       "    <tr>\n",
       "      <th>3246</th>\n",
       "      <td>115.02</td>\n",
       "      <td>38.03</td>\n",
       "      <td>F</td>\n",
       "      <td>290</td>\n",
       "    </tr>\n",
       "    <tr>\n",
       "      <th>...</th>\n",
       "      <td>...</td>\n",
       "      <td>...</td>\n",
       "      <td>...</td>\n",
       "      <td>...</td>\n",
       "    </tr>\n",
       "    <tr>\n",
       "      <th>12867</th>\n",
       "      <td>119.40</td>\n",
       "      <td>43.97</td>\n",
       "      <td>M</td>\n",
       "      <td>1</td>\n",
       "    </tr>\n",
       "    <tr>\n",
       "      <th>12866</th>\n",
       "      <td>116.08</td>\n",
       "      <td>39.94</td>\n",
       "      <td>M</td>\n",
       "      <td>1</td>\n",
       "    </tr>\n",
       "    <tr>\n",
       "      <th>5409</th>\n",
       "      <td>115.72</td>\n",
       "      <td>39.23</td>\n",
       "      <td>F</td>\n",
       "      <td>1</td>\n",
       "    </tr>\n",
       "    <tr>\n",
       "      <th>12864</th>\n",
       "      <td>119.97</td>\n",
       "      <td>35.88</td>\n",
       "      <td>F</td>\n",
       "      <td>1</td>\n",
       "    </tr>\n",
       "    <tr>\n",
       "      <th>18442</th>\n",
       "      <td>103.94</td>\n",
       "      <td>30.78</td>\n",
       "      <td>F</td>\n",
       "      <td>1</td>\n",
       "    </tr>\n",
       "  </tbody>\n",
       "</table>\n",
       "<p>18443 rows × 4 columns</p>\n",
       "</div>"
      ],
      "text/plain": [
       "       longitude  latitude gender  count\n",
       "111       104.00     30.00      M   1098\n",
       "129       111.92     34.74      M    449\n",
       "823       123.47     41.82      M    321\n",
       "488       111.21     27.85      M    302\n",
       "3246      115.02     38.03      F    290\n",
       "...          ...       ...    ...    ...\n",
       "12867     119.40     43.97      M      1\n",
       "12866     116.08     39.94      M      1\n",
       "5409      115.72     39.23      F      1\n",
       "12864     119.97     35.88      F      1\n",
       "18442     103.94     30.78      F      1\n",
       "\n",
       "[18443 rows x 4 columns]"
      ]
     },
     "execution_count": 139,
     "metadata": {},
     "output_type": "execute_result"
    }
   ],
   "source": [
    "df_event_data_1lac_ = df_event_data_llc_with_Avg_TS_lag_med.filter(((col('longitude') != -1)&(col('longitude') != 1))&((col('latitude') != -1)|(col('latitude') != 1))).select(col('longitude'),col('latitude'),col('gender')).limit(100000).groupby(col('longitude'),col('latitude'),col('gender')).count()\n",
    "\n",
    "df_event_data_1lacP_= df_event_data_1lac_.toPandas()\n",
    "\n",
    "df_event_data_1lacP_.sort_values('count',ascending = False)"
   ]
  },
  {
   "cell_type": "code",
   "execution_count": 140,
   "metadata": {},
   "outputs": [
    {
     "data": {
      "image/png": "[encoded data removed]",
      "text/plain": [
       "<Figure size 1440x1440 with 1 Axes>"
      ]
     },
     "metadata": {},
     "output_type": "display_data"
    }
   ],
   "source": [
    "fig = plt.figure(figsize=(20, 20))\n",
    "\n",
    "# Mercator of World\n",
    "m = Basemap(projection='merc',\n",
    "             llcrnrlat=df_event_data_1lacP_[\"latitude\"].min(),  #latitude of lower left hand corner of the desired map domain\n",
    "             urcrnrlat=df_event_data_1lacP_[\"latitude\"].max(), #latitude of upper right hand corner of the desired map domain\n",
    "             llcrnrlon=df_event_data_1lacP_[\"longitude\"].min(), #longitude of lower left hand corner of the desired map domain\n",
    "             urcrnrlon=df_event_data_1lacP_[\"longitude\"].max(), #longitude of upper right hand corner of the desired map domain\n",
    "             lat_ts=0, #latitude of true scale\n",
    "             resolution='c') #resolution of boundary dataset being used - c for crude\n",
    "\n",
    "\n",
    "m.fillcontinents(color='#191919',lake_color='#001000') # dark grey land, black lakes\n",
    "m.drawmapboundary(fill_color='#000000')                # black background\n",
    "m.drawcountries(linewidth=0.15, color=\"w\")              # thin white line for country borders\n",
    "\n",
    "M_ = df_event_data_1lacP_[df_event_data_1lacP_.gender == 'M']\n",
    "F_ = df_event_data_1lacP_[df_event_data_1lacP_.gender == 'F']\n",
    "\n",
    "# Plot the data\n",
    "mxy = m(M_[\"longitude\"].tolist(), M_[\"latitude\"].tolist())\n",
    "m.scatter(mxy[0], mxy[1], s=[12 if x >10 else x for x in M_['count']], \n",
    "          c='tomato', zorder=2, label = 'Male')    # zorder for the points  \n",
    "\n",
    "mxy = m(F_[\"longitude\"].tolist(), F_[\"latitude\"].tolist())\n",
    "m.scatter(mxy[0], mxy[1], s=[12 if x >10 else x for x in F_['count']], \n",
    "          c='green', zorder=2, label = 'Female')    # zorder for the points  \n",
    "plt.legend()\n",
    "plt.title(\"World Map\")\n",
    "plt.show()"
   ]
  },
  {
   "cell_type": "markdown",
   "metadata": {},
   "source": [
    "## Compare the event visualisation plots based on the following age groups:\n",
    "\n",
    "### 0–24 \n",
    "\n",
    "### 25–32\n",
    "\n",
    "### 32+"
   ]
  },
  {
   "cell_type": "code",
   "execution_count": 141,
   "metadata": {},
   "outputs": [
    {
     "data": {
      "text/plain": [
       "859293"
      ]
     },
     "execution_count": 141,
     "metadata": {},
     "output_type": "execute_result"
    }
   ],
   "source": [
    "df_event_data_llc_with_Avg_TS_lag_med.count()"
   ]
  },
  {
   "cell_type": "code",
   "execution_count": 142,
   "metadata": {},
   "outputs": [
    {
     "data": {
      "text/html": [
       "<div>\n",
       "<style scoped>\n",
       "    .dataframe tbody tr th:only-of-type {\n",
       "        vertical-align: middle;\n",
       "    }\n",
       "\n",
       "    .dataframe tbody tr th {\n",
       "        vertical-align: top;\n",
       "    }\n",
       "\n",
       "    .dataframe thead th {\n",
       "        text-align: right;\n",
       "    }\n",
       "</style>\n",
       "<table border=\"1\" class=\"dataframe\">\n",
       "  <thead>\n",
       "    <tr style=\"text-align: right;\">\n",
       "      <th></th>\n",
       "      <th>longitude</th>\n",
       "      <th>latitude</th>\n",
       "      <th>gender</th>\n",
       "      <th>groups</th>\n",
       "      <th>count</th>\n",
       "    </tr>\n",
       "  </thead>\n",
       "  <tbody>\n",
       "    <tr>\n",
       "      <th>1716</th>\n",
       "      <td>104.00</td>\n",
       "      <td>30.00</td>\n",
       "      <td>M</td>\n",
       "      <td>M32+</td>\n",
       "      <td>1308</td>\n",
       "    </tr>\n",
       "    <tr>\n",
       "      <th>8873</th>\n",
       "      <td>111.92</td>\n",
       "      <td>34.74</td>\n",
       "      <td>M</td>\n",
       "      <td>M25-32</td>\n",
       "      <td>1187</td>\n",
       "    </tr>\n",
       "    <tr>\n",
       "      <th>7599</th>\n",
       "      <td>104.00</td>\n",
       "      <td>30.00</td>\n",
       "      <td>M</td>\n",
       "      <td>M25-32</td>\n",
       "      <td>1104</td>\n",
       "    </tr>\n",
       "    <tr>\n",
       "      <th>10226</th>\n",
       "      <td>123.47</td>\n",
       "      <td>41.82</td>\n",
       "      <td>M</td>\n",
       "      <td>M32+</td>\n",
       "      <td>798</td>\n",
       "    </tr>\n",
       "    <tr>\n",
       "      <th>28108</th>\n",
       "      <td>115.02</td>\n",
       "      <td>38.03</td>\n",
       "      <td>F</td>\n",
       "      <td>F32+</td>\n",
       "      <td>729</td>\n",
       "    </tr>\n",
       "    <tr>\n",
       "      <th>...</th>\n",
       "      <td>...</td>\n",
       "      <td>...</td>\n",
       "      <td>...</td>\n",
       "      <td>...</td>\n",
       "      <td>...</td>\n",
       "    </tr>\n",
       "    <tr>\n",
       "      <th>15134</th>\n",
       "      <td>117.39</td>\n",
       "      <td>31.99</td>\n",
       "      <td>M</td>\n",
       "      <td>M25-32</td>\n",
       "      <td>1</td>\n",
       "    </tr>\n",
       "    <tr>\n",
       "      <th>15140</th>\n",
       "      <td>113.64</td>\n",
       "      <td>34.78</td>\n",
       "      <td>M</td>\n",
       "      <td>M32+</td>\n",
       "      <td>1</td>\n",
       "    </tr>\n",
       "    <tr>\n",
       "      <th>15141</th>\n",
       "      <td>115.18</td>\n",
       "      <td>24.06</td>\n",
       "      <td>M</td>\n",
       "      <td>M32+</td>\n",
       "      <td>1</td>\n",
       "    </tr>\n",
       "    <tr>\n",
       "      <th>15151</th>\n",
       "      <td>117.19</td>\n",
       "      <td>34.21</td>\n",
       "      <td>M</td>\n",
       "      <td>M0-24</td>\n",
       "      <td>1</td>\n",
       "    </tr>\n",
       "    <tr>\n",
       "      <th>28803</th>\n",
       "      <td>118.73</td>\n",
       "      <td>30.93</td>\n",
       "      <td>M</td>\n",
       "      <td>M32+</td>\n",
       "      <td>1</td>\n",
       "    </tr>\n",
       "  </tbody>\n",
       "</table>\n",
       "<p>28804 rows × 5 columns</p>\n",
       "</div>"
      ],
      "text/plain": [
       "       longitude  latitude gender  groups  count\n",
       "1716      104.00     30.00      M    M32+   1308\n",
       "8873      111.92     34.74      M  M25-32   1187\n",
       "7599      104.00     30.00      M  M25-32   1104\n",
       "10226     123.47     41.82      M    M32+    798\n",
       "28108     115.02     38.03      F    F32+    729\n",
       "...          ...       ...    ...     ...    ...\n",
       "15134     117.39     31.99      M  M25-32      1\n",
       "15140     113.64     34.78      M    M32+      1\n",
       "15141     115.18     24.06      M    M32+      1\n",
       "15151     117.19     34.21      M   M0-24      1\n",
       "28803     118.73     30.93      M    M32+      1\n",
       "\n",
       "[28804 rows x 5 columns]"
      ]
     },
     "execution_count": 142,
     "metadata": {},
     "output_type": "execute_result"
    }
   ],
   "source": [
    "df_event_data_1lac_ = df_event_data_llc_with_Avg_TS_lag_med.filter(((col('longitude') != -1)&(col('longitude') != 1))&((col('latitude') != -1)&(col('latitude') != 1))).select(col('longitude'),col('latitude'),col('gender'),col('groups')).sample(False, 0.3, seed=0).groupby(col('longitude'),col('latitude'),col('gender'),col('groups')).count()\n",
    "\n",
    "df_event_data_1lacP_= df_event_data_1lac_.toPandas()\n",
    "\n",
    "df_event_data_1lacP_.sort_values('count',ascending = False)"
   ]
  },
  {
   "cell_type": "code",
   "execution_count": 143,
   "metadata": {},
   "outputs": [
    {
     "data": {
      "text/plain": [
       "28804"
      ]
     },
     "execution_count": 143,
     "metadata": {},
     "output_type": "execute_result"
    }
   ],
   "source": [
    "df_event_data_1lac_.count()"
   ]
  },
  {
   "cell_type": "code",
   "execution_count": 144,
   "metadata": {},
   "outputs": [
    {
     "data": {
      "text/html": [
       "<div>\n",
       "<style scoped>\n",
       "    .dataframe tbody tr th:only-of-type {\n",
       "        vertical-align: middle;\n",
       "    }\n",
       "\n",
       "    .dataframe tbody tr th {\n",
       "        vertical-align: top;\n",
       "    }\n",
       "\n",
       "    .dataframe thead th {\n",
       "        text-align: right;\n",
       "    }\n",
       "</style>\n",
       "<table border=\"1\" class=\"dataframe\">\n",
       "  <thead>\n",
       "    <tr style=\"text-align: right;\">\n",
       "      <th></th>\n",
       "      <th>longitude</th>\n",
       "      <th>latitude</th>\n",
       "      <th>gender</th>\n",
       "      <th>groups</th>\n",
       "      <th>count</th>\n",
       "    </tr>\n",
       "  </thead>\n",
       "  <tbody>\n",
       "    <tr>\n",
       "      <th>0</th>\n",
       "      <td>108.94</td>\n",
       "      <td>34.26</td>\n",
       "      <td>M</td>\n",
       "      <td>M25-32</td>\n",
       "      <td>25</td>\n",
       "    </tr>\n",
       "    <tr>\n",
       "      <th>1</th>\n",
       "      <td>114.08</td>\n",
       "      <td>22.69</td>\n",
       "      <td>F</td>\n",
       "      <td>F25-32</td>\n",
       "      <td>25</td>\n",
       "    </tr>\n",
       "    <tr>\n",
       "      <th>2</th>\n",
       "      <td>115.18</td>\n",
       "      <td>29.87</td>\n",
       "      <td>M</td>\n",
       "      <td>M32+</td>\n",
       "      <td>32</td>\n",
       "    </tr>\n",
       "    <tr>\n",
       "      <th>3</th>\n",
       "      <td>113.35</td>\n",
       "      <td>29.54</td>\n",
       "      <td>M</td>\n",
       "      <td>M25-32</td>\n",
       "      <td>22</td>\n",
       "    </tr>\n",
       "    <tr>\n",
       "      <th>4</th>\n",
       "      <td>103.66</td>\n",
       "      <td>25.03</td>\n",
       "      <td>M</td>\n",
       "      <td>M0-24</td>\n",
       "      <td>22</td>\n",
       "    </tr>\n",
       "    <tr>\n",
       "      <th>...</th>\n",
       "      <td>...</td>\n",
       "      <td>...</td>\n",
       "      <td>...</td>\n",
       "      <td>...</td>\n",
       "      <td>...</td>\n",
       "    </tr>\n",
       "    <tr>\n",
       "      <th>28799</th>\n",
       "      <td>123.84</td>\n",
       "      <td>41.86</td>\n",
       "      <td>M</td>\n",
       "      <td>M32+</td>\n",
       "      <td>1</td>\n",
       "    </tr>\n",
       "    <tr>\n",
       "      <th>28800</th>\n",
       "      <td>120.69</td>\n",
       "      <td>30.51</td>\n",
       "      <td>M</td>\n",
       "      <td>M32+</td>\n",
       "      <td>1</td>\n",
       "    </tr>\n",
       "    <tr>\n",
       "      <th>28801</th>\n",
       "      <td>115.04</td>\n",
       "      <td>30.20</td>\n",
       "      <td>M</td>\n",
       "      <td>M32+</td>\n",
       "      <td>1</td>\n",
       "    </tr>\n",
       "    <tr>\n",
       "      <th>28802</th>\n",
       "      <td>117.20</td>\n",
       "      <td>39.06</td>\n",
       "      <td>M</td>\n",
       "      <td>M32+</td>\n",
       "      <td>1</td>\n",
       "    </tr>\n",
       "    <tr>\n",
       "      <th>28803</th>\n",
       "      <td>118.73</td>\n",
       "      <td>30.93</td>\n",
       "      <td>M</td>\n",
       "      <td>M32+</td>\n",
       "      <td>1</td>\n",
       "    </tr>\n",
       "  </tbody>\n",
       "</table>\n",
       "<p>28804 rows × 5 columns</p>\n",
       "</div>"
      ],
      "text/plain": [
       "       longitude  latitude gender  groups  count\n",
       "0         108.94     34.26      M  M25-32     25\n",
       "1         114.08     22.69      F  F25-32     25\n",
       "2         115.18     29.87      M    M32+     32\n",
       "3         113.35     29.54      M  M25-32     22\n",
       "4         103.66     25.03      M   M0-24     22\n",
       "...          ...       ...    ...     ...    ...\n",
       "28799     123.84     41.86      M    M32+      1\n",
       "28800     120.69     30.51      M    M32+      1\n",
       "28801     115.04     30.20      M    M32+      1\n",
       "28802     117.20     39.06      M    M32+      1\n",
       "28803     118.73     30.93      M    M32+      1\n",
       "\n",
       "[28804 rows x 5 columns]"
      ]
     },
     "execution_count": 144,
     "metadata": {},
     "output_type": "execute_result"
    }
   ],
   "source": [
    "df_event_data_1lacP_"
   ]
  },
  {
   "cell_type": "code",
   "execution_count": 329,
   "metadata": {},
   "outputs": [
    {
     "data": {
      "text/plain": [
       "array(['M25-32', 'F25-32', 'M0-24', 'M32+', 'F0-24', 'F32+'], dtype=object)"
      ]
     },
     "execution_count": 329,
     "metadata": {},
     "output_type": "execute_result"
    }
   ],
   "source": [
    "df_event_data_1lacP_.groups.unique()"
   ]
  },
  {
   "cell_type": "code",
   "execution_count": 145,
   "metadata": {},
   "outputs": [],
   "source": [
    "from random import random"
   ]
  },
  {
   "cell_type": "code",
   "execution_count": 146,
   "metadata": {},
   "outputs": [],
   "source": [
    "color_dict = {'M32+':'red', 'F25-32':'green', 'M0-24':'blue',\n",
    "              'F32+':'yellow', 'F0-24': 'grey', 'M25-32':'white'}"
   ]
  },
  {
   "cell_type": "code",
   "execution_count": 147,
   "metadata": {},
   "outputs": [
    {
     "data": {
      "image/png": "[encoded data removed]",
      "text/plain": [
       "<Figure size 1440x1440 with 1 Axes>"
      ]
     },
     "metadata": {},
     "output_type": "display_data"
    }
   ],
   "source": [
    "fig = plt.figure(figsize=(20, 20))\n",
    "\n",
    "# Mercator of World\n",
    "m = Basemap(projection='merc',\n",
    "             llcrnrlat=df_event_data_1lacP_[\"latitude\"].min(),  #latitude of lower left hand corner of the desired map domain\n",
    "             urcrnrlat=df_event_data_1lacP_[\"latitude\"].max(), #latitude of upper right hand corner of the desired map domain\n",
    "             llcrnrlon=df_event_data_1lacP_[\"longitude\"].min(), #longitude of lower left hand corner of the desired map domain\n",
    "             urcrnrlon=df_event_data_1lacP_[\"longitude\"].max(), #longitude of upper right hand corner of the desired map domain\n",
    "             lat_ts=0, #latitude of true scale\n",
    "             resolution='c') #resolution of boundary dataset being used - c for crude\n",
    "\n",
    "\n",
    "m.fillcontinents(color='#191919',lake_color='#001000') # dark grey land, black lakes\n",
    "m.drawmapboundary(fill_color='#000000')                # black background\n",
    "m.drawcountries(linewidth=0.15, color=\"w\")              # thin white line for country borders\n",
    "\n",
    "# M_ = df_event_data_1lacP_[df_event_data_1lacP_.gender == 'M']\n",
    "# F_ = df_event_data_1lacP_[df_event_data_1lacP_.gender == 'F']\n",
    "\n",
    "# Plot the data\n",
    "mxy = m(df_event_data_1lacP_[\"longitude\"].tolist(), df_event_data_1lacP_[\"latitude\"].tolist())\n",
    "m.scatter(mxy[0], mxy[1], s=[12 if x >10 else x for x in df_event_data_1lacP_['count']], \n",
    "          color = [color_dict[g] for g in df_event_data_1lacP_.groups], zorder=2, label = df_event_data_1lacP_.groups.unique())    # zorder for the points  \n",
    "\n",
    "# mxy = m(F_[\"longitude\"].tolist(), F_[\"latitude\"].tolist())\n",
    "# m.scatter(mxy[0], mxy[1], s=[12 if x >10 else x for x in F_['count']], \n",
    "#           c='green', zorder=2, label = 'Female')    # zorder for the points  \n",
    "plt.legend()\n",
    "plt.title(\"World Map\")\n",
    "plt.show()"
   ]
  },
  {
   "cell_type": "markdown",
   "metadata": {},
   "source": [
    "# SubTask: Clustering"
   ]
  },
  {
   "cell_type": "code",
   "execution_count": 54,
   "metadata": {},
   "outputs": [],
   "source": [
    "from sklearn.cluster import DBSCAN\n",
    "from sklearn import metrics\n",
    "from geopy.distance import great_circle\n",
    "import time"
   ]
  },
  {
   "cell_type": "code",
   "execution_count": 55,
   "metadata": {},
   "outputs": [
    {
     "name": "stdout",
     "output_type": "stream",
     "text": [
      "[ 43.72164335 -79.56840965]\n",
      "WARNING: pip is being invoked by an old script wrapper. This will fail in a future version of pip.\n",
      "Please see https://github.com/pypa/pip/issues/5599 for advice on fixing the underlying issue.\n",
      "To avoid this problem you can invoke Python with '-m pip' instead of running pip directly.\n",
      "Defaulting to user installation because normal site-packages is not writeable\n",
      "Requirement already satisfied: tqdm in ./.local/lib/python3.6/site-packages (4.64.0)\n",
      "Requirement already satisfied: importlib-resources in ./.local/lib/python3.6/site-packages (from tqdm) (5.4.0)\n",
      "Requirement already satisfied: zipp>=3.1.0 in ./.local/lib/python3.6/site-packages (from importlib-resources->tqdm) (3.6.0)\n"
     ]
    }
   ],
   "source": [
    "df_event_data_feat = df_event_data_llc_with_Avg_TS_lag_med.select(col('latitude'),col('longitude')).toPandas()\n",
    "\n",
    "df_event_data_feat.shape\n",
    "\n",
    "df_event_data_feat.head()\n",
    "\n",
    "LL_Feat = df_event_data_feat[['latitude','longitude']].drop_duplicates()\n",
    "\n",
    "kms_per_rad = 6371.0088\n",
    "\n",
    "def get_centroid(cluster):\n",
    "  \"\"\"calculate the centroid of a cluster of geographic coordinate points\n",
    "  Args:\n",
    "    cluster coordinates, nx2 array-like (array, list of lists, etc) \n",
    "    n is the number of points(latitude, longitude)in the cluster.\n",
    "  Return:\n",
    "    geometry centroid of the cluster\n",
    "    \n",
    "  \"\"\"\n",
    "  cluster_ary = np.asarray(cluster)\n",
    "  centroid = cluster_ary.mean(axis = 0)\n",
    "  return centroid\n",
    "\n",
    "# testing get_centroid function\n",
    "test_cluster= [[ 43.70487299, -79.57753802], \n",
    "               [ 43.71138367, -79.56524418],\n",
    "               [ 43.72616079, -79.57319998],\n",
    "               [ 43.73547907, -79.56258364],\n",
    "               [ 43.72070325, -79.57202018],\n",
    "               [ 43.73126031, -79.5598719 ]]\n",
    "test_centroid = get_centroid(test_cluster)\n",
    "print(test_centroid)\n",
    "\n",
    "epss = range(1,21)\n",
    "min_samples = range(0,21)\n",
    "\n",
    "! pip3 install tqdm\n",
    "\n",
    "from tqdm import tqdm"
   ]
  },
  {
   "cell_type": "code",
   "execution_count": 56,
   "metadata": {},
   "outputs": [],
   "source": [
    "epss = range(1,21)\n",
    "min_samples = range(0,21)"
   ]
  },
  {
   "cell_type": "code",
   "execution_count": 57,
   "metadata": {},
   "outputs": [],
   "source": [
    "from tqdm import tqdm"
   ]
  },
  {
   "cell_type": "code",
   "execution_count": 189,
   "metadata": {},
   "outputs": [
    {
     "name": "stderr",
     "output_type": "stream",
     "text": [
      "100%|██████████| 20/20 [1:46:10<00:00, 318.54s/it]\n"
     ]
    }
   ],
   "source": [
    "silhouette_scores = {}\n",
    "# Extract intersection coordinates (latitude, longitude)\n",
    "coords = LL_Feat\n",
    "for e in tqdm(epss):\n",
    "    for ms in min_samples:\n",
    "        epsilon = e/kms_per_rad\n",
    "\n",
    "    \n",
    "\n",
    "        start_time = time.time()\n",
    "        try:\n",
    "            dbsc = (DBSCAN(eps=epsilon, min_samples=ms, algorithm='ball_tree', metric='haversine')\n",
    "                    .fit(np.radians(coords)))\n",
    "            cluster_labels = dbsc.labels_\n",
    "            silhouette_scores[metrics.silhouette_score(coords, cluster_labels)] = [e,ms]\n",
    "        except ValueError:\n",
    "            pass\n",
    "        # get the number of clusters\n",
    "#         num_clusters = len(set(dbsc.labels_))"
   ]
  },
  {
   "cell_type": "code",
   "execution_count": 54,
   "metadata": {},
   "outputs": [],
   "source": [
    "# silhouette_scores[0.2025252669215222]"
   ]
  },
  {
   "cell_type": "code",
   "execution_count": 58,
   "metadata": {},
   "outputs": [],
   "source": [
    "coords = LL_Feat"
   ]
  },
  {
   "cell_type": "code",
   "execution_count": 59,
   "metadata": {},
   "outputs": [
    {
     "name": "stdout",
     "output_type": "stream",
     "text": [
      "0.20256814324682204\n"
     ]
    }
   ],
   "source": [
    "epsilon = 5/kms_per_rad\n",
    "\n",
    "start_time = time.time()\n",
    "dbsc = (DBSCAN(eps=epsilon, min_samples=2, algorithm='ball_tree', metric='haversine')\n",
    "        .fit(np.radians(coords)))\n",
    "cluster_labels = dbsc.labels_\n",
    "print(metrics.silhouette_score(coords, cluster_labels))"
   ]
  },
  {
   "cell_type": "code",
   "execution_count": 221,
   "metadata": {},
   "outputs": [],
   "source": [
    "dll = df_event_data.select(col('device_id'),col('latitude'),col('longitude'))"
   ]
  },
  {
   "cell_type": "code",
   "execution_count": 222,
   "metadata": {},
   "outputs": [],
   "source": [
    "dll_P = dll.toPandas()"
   ]
  },
  {
   "cell_type": "code",
   "execution_count": 60,
   "metadata": {},
   "outputs": [
    {
     "data": {
      "text/plain": [
       "2345"
      ]
     },
     "execution_count": 60,
     "metadata": {},
     "output_type": "execute_result"
    }
   ],
   "source": [
    "len(Counter(cluster_labels))"
   ]
  },
  {
   "cell_type": "code",
   "execution_count": 61,
   "metadata": {},
   "outputs": [
    {
     "data": {
      "text/plain": [
       "array([  0,   1,   2, ..., 370, 797, 348])"
      ]
     },
     "execution_count": 61,
     "metadata": {},
     "output_type": "execute_result"
    }
   ],
   "source": [
    "cluster_labels"
   ]
  },
  {
   "cell_type": "code",
   "execution_count": null,
   "metadata": {},
   "outputs": [],
   "source": [
    "# print the outcome\n",
    "message = 'Clustered {:,} points down to {:,} clusters, for {:.1f}% compression in {:,.2f} seconds'\n",
    "print(message.format(len(LL_Feat), num_clusters, 100*(1 - float(num_clusters) / len(LL_Feat)), time.time()-start_time))\n",
    "print('Silhouette coefficient: {:0.03f}'.format(metrics.silhouette_score(coords, cluster_labels)))\n",
    "\n",
    "# turn the clusters into a pandas series,where each element is a cluster of points\n",
    "dbsc_clusters = pd.Series([coords[cluster_labels==n] for n in range(num_clusters)])"
   ]
  },
  {
   "cell_type": "code",
   "execution_count": 154,
   "metadata": {
    "collapsed": true
   },
   "outputs": [
    {
     "name": "stdout",
     "output_type": "stream",
     "text": [
      "Counter({-1: 6605, 45: 1143, 3: 635, 5: 635, 12: 617, 75: 460, 0: 387, 33: 377, 27: 365, 24: 307, 95: 265, 126: 250, 55: 234, 174: 204, 62: 192, 88: 188, 6: 181, 43: 177, 2: 167, 105: 165, 52: 163, 182: 159, 25: 156, 340: 154, 87: 153, 128: 131, 19: 122, 51: 119, 181: 116, 131: 114, 9: 113, 157: 113, 89: 106, 234: 99, 76: 96, 453: 95, 188: 94, 30: 92, 186: 92, 35: 80, 65: 80, 301: 76, 10: 74, 536: 74, 199: 67, 160: 66, 401: 66, 179: 63, 4: 57, 391: 56, 366: 55, 116: 54, 266: 54, 17: 52, 697: 52, 54: 51, 136: 51, 14: 50, 644: 50, 101: 49, 611: 49, 63: 48, 427: 47, 109: 46, 445: 46, 527: 46, 779: 45, 170: 44, 518: 44, 529: 44, 124: 43, 511: 43, 561: 43, 177: 42, 825: 42, 376: 41, 496: 41, 601: 41, 677: 41, 868: 41, 48: 40, 83: 40, 277: 40, 115: 39, 495: 39, 21: 38, 292: 38, 467: 38, 296: 37, 36: 36, 94: 36, 319: 36, 517: 36, 129: 35, 189: 35, 343: 35, 889: 35, 178: 34, 190: 34, 318: 34, 329: 34, 485: 33, 690: 33, 41: 32, 280: 32, 346: 32, 450: 32, 53: 31, 308: 31, 275: 30, 276: 30, 338: 30, 361: 30, 553: 30, 73: 29, 244: 29, 336: 29, 367: 29, 205: 28, 260: 28, 494: 28, 37: 27, 184: 27, 610: 27, 798: 27, 194: 26, 569: 26, 166: 25, 256: 25, 562: 25, 756: 25, 812: 25, 1034: 25, 134: 24, 196: 24, 581: 24, 646: 24, 819: 24, 893: 24, 40: 23, 77: 23, 202: 23, 259: 23, 299: 23, 418: 23, 521: 23, 597: 23, 672: 23, 774: 23, 132: 22, 176: 22, 310: 22, 723: 22, 966: 22, 61: 21, 245: 21, 373: 21, 395: 21, 493: 21, 551: 21, 638: 21, 291: 20, 341: 20, 818: 20, 900: 20, 1: 19, 20: 19, 169: 19, 458: 19, 623: 19, 680: 19, 793: 19, 72: 18, 92: 18, 118: 18, 204: 18, 232: 18, 294: 18, 415: 18, 417: 18, 519: 18, 522: 18, 582: 18, 709: 18, 1003: 18, 1028: 18, 1356: 18, 236: 17, 410: 17, 544: 17, 713: 17, 782: 17, 1016: 17, 1082: 17, 1167: 17, 1265: 17, 1740: 17, 34: 16, 193: 16, 210: 16, 211: 16, 235: 16, 265: 16, 320: 16, 388: 16, 398: 16, 403: 16, 486: 16, 595: 16, 632: 16, 640: 16, 817: 16, 853: 16, 861: 16, 924: 16, 1222: 16, 47: 15, 64: 15, 121: 15, 133: 15, 208: 15, 215: 15, 283: 15, 545: 15, 558: 15, 571: 15, 732: 15, 816: 15, 885: 15, 1179: 15, 1314: 15, 1430: 15, 1487: 15, 84: 14, 141: 14, 230: 14, 274: 14, 316: 14, 359: 14, 375: 14, 400: 14, 444: 14, 478: 14, 504: 14, 532: 14, 622: 14, 641: 14, 643: 14, 656: 14, 664: 14, 795: 14, 915: 14, 983: 14, 1115: 14, 1219: 14, 1341: 14, 1357: 14, 1481: 14, 1808: 14, 26: 13, 60: 13, 70: 13, 137: 13, 167: 13, 297: 13, 305: 13, 390: 13, 499: 13, 508: 13, 533: 13, 620: 13, 654: 13, 696: 13, 705: 13, 753: 13, 754: 13, 759: 13, 772: 13, 829: 13, 880: 13, 995: 13, 1018: 13, 1066: 13, 1095: 13, 1283: 13, 1414: 13, 1461: 13, 1571: 13, 1681: 13, 1918: 13, 162: 12, 187: 12, 209: 12, 360: 12, 411: 12, 429: 12, 446: 12, 470: 12, 479: 12, 492: 12, 541: 12, 567: 12, 573: 12, 687: 12, 832: 12, 851: 12, 982: 12, 1021: 12, 1065: 12, 1180: 12, 1307: 12, 1412: 12, 1512: 12, 2099: 12, 2427: 12, 2639: 12, 69: 11, 148: 11, 238: 11, 249: 11, 358: 11, 459: 11, 476: 11, 509: 11, 537: 11, 614: 11, 682: 11, 716: 11, 773: 11, 784: 11, 864: 11, 879: 11, 918: 11, 974: 11, 984: 11, 1002: 11, 1266: 11, 1279: 11, 1358: 11, 1377: 11, 1517: 11, 1536: 11, 1845: 11, 57: 10, 110: 10, 117: 10, 284: 10, 306: 10, 326: 10, 353: 10, 378: 10, 428: 10, 448: 10, 507: 10, 554: 10, 605: 10, 613: 10, 647: 10, 655: 10, 703: 10, 715: 10, 727: 10, 833: 10, 854: 10, 943: 10, 1007: 10, 1010: 10, 1052: 10, 1185: 10, 1250: 10, 1255: 10, 1582: 10, 1685: 10, 1711: 10, 1772: 10, 1865: 10, 1978: 10, 2193: 10, 18: 9, 125: 9, 135: 9, 151: 9, 154: 9, 165: 9, 201: 9, 203: 9, 214: 9, 218: 9, 228: 9, 271: 9, 300: 9, 332: 9, 355: 9, 364: 9, 385: 9, 405: 9, 407: 9, 409: 9, 535: 9, 592: 9, 596: 9, 602: 9, 648: 9, 659: 9, 662: 9, 765: 9, 785: 9, 803: 9, 902: 9, 907: 9, 908: 9, 962: 9, 1025: 9, 1045: 9, 1059: 9, 1074: 9, 1127: 9, 1139: 9, 1192: 9, 1239: 9, 1271: 9, 1281: 9, 1326: 9, 1376: 9, 1393: 9, 1451: 9, 1600: 9, 1719: 9, 1767: 9, 1839: 9, 1876: 9, 1921: 9, 2064: 9, 2377: 9, 2455: 9, 2764: 9, 74: 8, 107: 8, 127: 8, 146: 8, 171: 8, 173: 8, 213: 8, 268: 8, 288: 8, 307: 8, 315: 8, 330: 8, 337: 8, 399: 8, 436: 8, 466: 8, 472: 8, 516: 8, 525: 8, 584: 8, 590: 8, 685: 8, 720: 8, 747: 8, 789: 8, 810: 8, 820: 8, 856: 8, 881: 8, 884: 8, 896: 8, 899: 8, 1039: 8, 1047: 8, 1058: 8, 1060: 8, 1148: 8, 1278: 8, 1308: 8, 1398: 8, 1439: 8, 1444: 8, 1483: 8, 1560: 8, 1587: 8, 1644: 8, 1694: 8, 1706: 8, 1806: 8, 1819: 8, 1862: 8, 1934: 8, 1957: 8, 1970: 8, 2019: 8, 2257: 8, 2369: 8, 2417: 8, 3032: 8, 8: 7, 78: 7, 120: 7, 143: 7, 145: 7, 207: 7, 220: 7, 225: 7, 251: 7, 282: 7, 321: 7, 322: 7, 325: 7, 339: 7, 345: 7, 377: 7, 384: 7, 443: 7, 471: 7, 480: 7, 530: 7, 542: 7, 557: 7, 563: 7, 572: 7, 578: 7, 616: 7, 621: 7, 678: 7, 681: 7, 725: 7, 744: 7, 764: 7, 778: 7, 794: 7, 797: 7, 837: 7, 852: 7, 859: 7, 886: 7, 942: 7, 950: 7, 961: 7, 963: 7, 971: 7, 990: 7, 994: 7, 1064: 7, 1102: 7, 1108: 7, 1109: 7, 1113: 7, 1117: 7, 1152: 7, 1165: 7, 1170: 7, 1268: 7, 1372: 7, 1436: 7, 1460: 7, 1471: 7, 1472: 7, 1496: 7, 1595: 7, 1652: 7, 1658: 7, 1684: 7, 1743: 7, 1809: 7, 1812: 7, 1816: 7, 1830: 7, 1860: 7, 1885: 7, 1892: 7, 1896: 7, 1901: 7, 1907: 7, 1960: 7, 2002: 7, 2018: 7, 2057: 7, 2074: 7, 2077: 7, 2149: 7, 2173: 7, 2244: 7, 2606: 7, 2655: 7, 2730: 7, 2749: 7, 2855: 7, 3061: 7, 31: 6, 71: 6, 97: 6, 103: 6, 111: 6, 113: 6, 142: 6, 164: 6, 175: 6, 200: 6, 217: 6, 240: 6, 243: 6, 257: 6, 258: 6, 261: 6, 272: 6, 309: 6, 323: 6, 335: 6, 349: 6, 382: 6, 387: 6, 402: 6, 413: 6, 419: 6, 432: 6, 452: 6, 457: 6, 462: 6, 483: 6, 484: 6, 540: 6, 543: 6, 627: 6, 629: 6, 637: 6, 653: 6, 661: 6, 663: 6, 751: 6, 757: 6, 761: 6, 775: 6, 777: 6, 788: 6, 792: 6, 796: 6, 835: 6, 841: 6, 877: 6, 888: 6, 891: 6, 923: 6, 949: 6, 957: 6, 965: 6, 988: 6, 999: 6, 1005: 6, 1026: 6, 1043: 6, 1051: 6, 1077: 6, 1086: 6, 1093: 6, 1107: 6, 1133: 6, 1151: 6, 1154: 6, 1182: 6, 1187: 6, 1203: 6, 1213: 6, 1247: 6, 1249: 6, 1263: 6, 1292: 6, 1302: 6, 1322: 6, 1342: 6, 1343: 6, 1371: 6, 1375: 6, 1383: 6, 1390: 6, 1392: 6, 1415: 6, 1423: 6, 1480: 6, 1565: 6, 1589: 6, 1594: 6, 1626: 6, 1635: 6, 1636: 6, 1651: 6, 1664: 6, 1721: 6, 1729: 6, 1730: 6, 1732: 6, 1746: 6, 1763: 6, 1833: 6, 1886: 6, 1919: 6, 1923: 6, 1930: 6, 1947: 6, 1973: 6, 2021: 6, 2026: 6, 2043: 6, 2047: 6, 2073: 6, 2141: 6, 2223: 6, 2224: 6, 2268: 6, 2276: 6, 2324: 6, 2351: 6, 2386: 6, 2462: 6, 2470: 6, 2494: 6, 2530: 6, 2552: 6, 2560: 6, 2610: 6, 2645: 6, 2715: 6, 2759: 6, 2824: 6, 2825: 6, 2920: 6, 2937: 6, 2985: 6, 2996: 6, 3069: 6, 15: 5, 16: 5, 42: 5, 50: 5, 80: 5, 93: 5, 96: 5, 138: 5, 156: 5, 158: 5, 168: 5, 191: 5, 198: 5, 219: 5, 246: 5, 248: 5, 254: 5, 278: 5, 281: 5, 289: 5, 327: 5, 331: 5, 348: 5, 357: 5, 397: 5, 406: 5, 414: 5, 426: 5, 431: 5, 440: 5, 469: 5, 477: 5, 531: 5, 552: 5, 591: 5, 600: 5, 617: 5, 618: 5, 625: 5, 635: 5, 639: 5, 673: 5, 674: 5, 675: 5, 695: 5, 698: 5, 733: 5, 741: 5, 752: 5, 766: 5, 768: 5, 770: 5, 808: 5, 842: 5, 845: 5, 849: 5, 901: 5, 912: 5, 922: 5, 935: 5, 964: 5, 970: 5, 979: 5, 987: 5, 1012: 5, 1020: 5, 1024: 5, 1030: 5, 1041: 5, 1070: 5, 1072: 5, 1101: 5, 1120: 5, 1126: 5, 1144: 5, 1149: 5, 1194: 5, 1199: 5, 1214: 5, 1234: 5, 1246: 5, 1251: 5, 1252: 5, 1267: 5, 1273: 5, 1276: 5, 1297: 5, 1301: 5, 1305: 5, 1329: 5, 1350: 5, 1361: 5, 1364: 5, 1373: 5, 1378: 5, 1386: 5, 1418: 5, 1420: 5, 1431: 5, 1432: 5, 1447: 5, 1475: 5, 1482: 5, 1511: 5, 1519: 5, 1531: 5, 1539: 5, 1540: 5, 1545: 5, 1556: 5, 1566: 5, 1567: 5, 1575: 5, 1597: 5, 1615: 5, 1624: 5, 1661: 5, 1715: 5, 1716: 5, 1741: 5, 1742: 5, 1750: 5, 1753: 5, 1768: 5, 1784: 5, 1798: 5, 1801: 5, 1866: 5, 1883: 5, 1889: 5, 1894: 5, 1916: 5, 1931: 5, 1963: 5, 1979: 5, 2058: 5, 2075: 5, 2087: 5, 2124: 5, 2126: 5, 2131: 5, 2175: 5, 2181: 5, 2188: 5, 2200: 5, 2203: 5, 2248: 5, 2253: 5, 2256: 5, 2263: 5, 2279: 5, 2312: 5, 2326: 5, 2342: 5, 2379: 5, 2382: 5, 2403: 5, 2415: 5, 2431: 5, 2438: 5, 2468: 5, 2491: 5, 2508: 5, 2512: 5, 2553: 5, 2661: 5, 2665: 5, 2669: 5, 2699: 5, 2738: 5, 2800: 5, 2817: 5, 2823: 5, 2892: 5, 2896: 5, 2899: 5, 2959: 5, 2970: 5, 2990: 5, 2992: 5, 3054: 5, 3216: 5, 3245: 5, 11: 4, 22: 4, 23: 4, 67: 4, 99: 4, 112: 4, 123: 4, 130: 4, 139: 4, 150: 4, 155: 4, 159: 4, 195: 4, 227: 4, 231: 4, 233: 4, 239: 4, 247: 4, 293: 4, 333: 4, 344: 4, 347: 4, 350: 4, 365: 4, 371: 4, 379: 4, 386: 4, 394: 4, 412: 4, 421: 4, 422: 4, 423: 4, 430: 4, 437: 4, 441: 4, 447: 4, 449: 4, 475: 4, 482: 4, 488: 4, 489: 4, 501: 4, 514: 4, 538: 4, 539: 4, 550: 4, 556: 4, 574: 4, 576: 4, 585: 4, 587: 4, 588: 4, 594: 4, 604: 4, 609: 4, 619: 4, 624: 4, 631: 4, 633: 4, 652: 4, 658: 4, 660: 4, 667: 4, 670: 4, 684: 4, 686: 4, 688: 4, 708: 4, 710: 4, 712: 4, 718: 4, 724: 4, 726: 4, 736: 4, 738: 4, 781: 4, 806: 4, 814: 4, 844: 4, 857: 4, 870: 4, 914: 4, 920: 4, 944: 4, 952: 4, 976: 4, 993: 4, 997: 4, 1004: 4, 1006: 4, 1009: 4, 1019: 4, 1023: 4, 1036: 4, 1038: 4, 1048: 4, 1049: 4, 1054: 4, 1056: 4, 1061: 4, 1062: 4, 1071: 4, 1089: 4, 1100: 4, 1103: 4, 1105: 4, 1111: 4, 1114: 4, 1124: 4, 1136: 4, 1137: 4, 1141: 4, 1147: 4, 1156: 4, 1157: 4, 1159: 4, 1166: 4, 1189: 4, 1193: 4, 1196: 4, 1197: 4, 1200: 4, 1209: 4, 1220: 4, 1225: 4, 1241: 4, 1244: 4, 1261: 4, 1269: 4, 1274: 4, 1287: 4, 1288: 4, 1291: 4, 1293: 4, 1296: 4, 1304: 4, 1309: 4, 1311: 4, 1313: 4, 1327: 4, 1337: 4, 1362: 4, 1369: 4, 1396: 4, 1397: 4, 1410: 4, 1411: 4, 1413: 4, 1416: 4, 1421: 4, 1422: 4, 1425: 4, 1429: 4, 1434: 4, 1440: 4, 1441: 4, 1446: 4, 1453: 4, 1469: 4, 1488: 4, 1489: 4, 1504: 4, 1505: 4, 1507: 4, 1515: 4, 1518: 4, 1523: 4, 1543: 4, 1548: 4, 1561: 4, 1564: 4, 1569: 4, 1570: 4, 1573: 4, 1591: 4, 1592: 4, 1608: 4, 1617: 4, 1620: 4, 1621: 4, 1622: 4, 1632: 4, 1655: 4, 1673: 4, 1674: 4, 1680: 4, 1703: 4, 1724: 4, 1738: 4, 1748: 4, 1770: 4, 1771: 4, 1779: 4, 1790: 4, 1793: 4, 1796: 4, 1803: 4, 1821: 4, 1849: 4, 1855: 4, 1856: 4, 1868: 4, 1872: 4, 1893: 4, 1903: 4, 1904: 4, 1911: 4, 1924: 4, 1932: 4, 1935: 4, 1952: 4, 1958: 4, 1966: 4, 1967: 4, 1990: 4, 1999: 4, 2010: 4, 2011: 4, 2012: 4, 2022: 4, 2025: 4, 2032: 4, 2033: 4, 2035: 4, 2041: 4, 2051: 4, 2056: 4, 2063: 4, 2079: 4, 2086: 4, 2089: 4, 2094: 4, 2104: 4, 2116: 4, 2137: 4, 2155: 4, 2157: 4, 2158: 4, 2162: 4, 2190: 4, 2191: 4, 2192: 4, 2195: 4, 2204: 4, 2211: 4, 2216: 4, 2232: 4, 2241: 4, 2265: 4, 2269: 4, 2278: 4, 2282: 4, 2284: 4, 2287: 4, 2289: 4, 2293: 4, 2302: 4, 2310: 4, 2318: 4, 2338: 4, 2343: 4, 2374: 4, 2380: 4, 2404: 4, 2419: 4, 2421: 4, 2422: 4, 2433: 4, 2450: 4, 2474: 4, 2480: 4, 2503: 4, 2516: 4, 2518: 4, 2524: 4, 2532: 4, 2534: 4, 2544: 4, 2549: 4, 2550: 4, 2555: 4, 2564: 4, 2572: 4, 2573: 4, 2580: 4, 2586: 4, 2593: 4, 2596: 4, 2623: 4, 2625: 4, 2631: 4, 2637: 4, 2640: 4, 2679: 4, 2680: 4, 2683: 4, 2703: 4, 2706: 4, 2726: 4, 2735: 4, 2737: 4, 2745: 4, 2765: 4, 2785: 4, 2796: 4, 2804: 4, 2819: 4, 2834: 4, 2838: 4, 2840: 4, 2841: 4, 2846: 4, 2875: 4, 2877: 4, 2903: 4, 2945: 4, 2956: 4, 2969: 4, 2973: 4, 2983: 4, 2991: 4, 3005: 4, 3013: 4, 3028: 4, 3037: 4, 3047: 4, 3050: 4, 3060: 4, 3064: 4, 3077: 4, 3112: 4, 3121: 4, 3124: 4, 3156: 4, 3159: 4, 3183: 4, 3197: 4, 3204: 4, 3251: 4, 28: 3, 29: 3, 44: 3, 56: 3, 59: 3, 66: 3, 79: 3, 81: 3, 86: 3, 102: 3, 108: 3, 147: 3, 163: 3, 185: 3, 197: 3, 229: 3, 237: 3, 242: 3, 255: 3, 262: 3, 267: 3, 273: 3, 286: 3, 290: 3, 295: 3, 298: 3, 303: 3, 304: 3, 311: 3, 312: 3, 313: 3, 317: 3, 351: 3, 356: 3, 362: 3, 372: 3, 380: 3, 381: 3, 393: 3, 396: 3, 404: 3, 416: 3, 420: 3, 442: 3, 454: 3, 464: 3, 468: 3, 473: 3, 481: 3, 490: 3, 498: 3, 503: 3, 513: 3, 523: 3, 524: 3, 534: 3, 547: 3, 555: 3, 559: 3, 560: 3, 564: 3, 565: 3, 568: 3, 570: 3, 580: 3, 583: 3, 593: 3, 599: 3, 603: 3, 607: 3, 612: 3, 615: 3, 626: 3, 636: 3, 650: 3, 669: 3, 679: 3, 683: 3, 689: 3, 691: 3, 693: 3, 694: 3, 700: 3, 702: 3, 704: 3, 721: 3, 728: 3, 737: 3, 742: 3, 748: 3, 750: 3, 755: 3, 758: 3, 762: 3, 763: 3, 767: 3, 771: 3, 776: 3, 783: 3, 790: 3, 791: 3, 800: 3, 801: 3, 802: 3, 807: 3, 815: 3, 823: 3, 827: 3, 828: 3, 830: 3, 831: 3, 834: 3, 838: 3, 840: 3, 850: 3, 855: 3, 858: 3, 862: 3, 863: 3, 866: 3, 871: 3, 873: 3, 875: 3, 876: 3, 878: 3, 890: 3, 892: 3, 909: 3, 911: 3, 913: 3, 916: 3, 917: 3, 927: 3, 928: 3, 929: 3, 933: 3, 934: 3, 937: 3, 939: 3, 948: 3, 951: 3, 955: 3, 956: 3, 959: 3, 960: 3, 967: 3, 969: 3, 972: 3, 977: 3, 1001: 3, 1008: 3, 1011: 3, 1033: 3, 1037: 3, 1040: 3, 1055: 3, 1057: 3, 1067: 3, 1073: 3, 1079: 3, 1081: 3, 1088: 3, 1090: 3, 1096: 3, 1097: 3, 1099: 3, 1110: 3, 1112: 3, 1119: 3, 1122: 3, 1125: 3, 1129: 3, 1131: 3, 1134: 3, 1135: 3, 1140: 3, 1146: 3, 1153: 3, 1160: 3, 1164: 3, 1169: 3, 1173: 3, 1177: 3, 1181: 3, 1183: 3, 1191: 3, 1201: 3, 1205: 3, 1206: 3, 1211: 3, 1216: 3, 1218: 3, 1224: 3, 1227: 3, 1228: 3, 1229: 3, 1231: 3, 1233: 3, 1235: 3, 1237: 3, 1238: 3, 1256: 3, 1260: 3, 1264: 3, 1272: 3, 1275: 3, 1280: 3, 1285: 3, 1286: 3, 1299: 3, 1303: 3, 1310: 3, 1315: 3, 1318: 3, 1319: 3, 1324: 3, 1325: 3, 1330: 3, 1338: 3, 1344: 3, 1351: 3, 1353: 3, 1355: 3, 1360: 3, 1363: 3, 1370: 3, 1387: 3, 1389: 3, 1391: 3, 1399: 3, 1404: 3, 1407: 3, 1408: 3, 1417: 3, 1424: 3, 1426: 3, 1433: 3, 1435: 3, 1443: 3, 1448: 3, 1450: 3, 1454: 3, 1455: 3, 1456: 3, 1458: 3, 1459: 3, 1465: 3, 1467: 3, 1477: 3, 1478: 3, 1479: 3, 1486: 3, 1491: 3, 1492: 3, 1493: 3, 1497: 3, 1499: 3, 1500: 3, 1510: 3, 1513: 3, 1520: 3, 1524: 3, 1526: 3, 1532: 3, 1533: 3, 1534: 3, 1535: 3, 1544: 3, 1547: 3, 1550: 3, 1551: 3, 1552: 3, 1553: 3, 1554: 3, 1558: 3, 1574: 3, 1577: 3, 1579: 3, 1580: 3, 1584: 3, 1598: 3, 1602: 3, 1604: 3, 1609: 3, 1611: 3, 1612: 3, 1629: 3, 1631: 3, 1633: 3, 1643: 3, 1662: 3, 1663: 3, 1668: 3, 1675: 3, 1677: 3, 1679: 3, 1686: 3, 1687: 3, 1691: 3, 1696: 3, 1697: 3, 1699: 3, 1702: 3, 1708: 3, 1709: 3, 1717: 3, 1718: 3, 1723: 3, 1727: 3, 1733: 3, 1735: 3, 1745: 3, 1747: 3, 1754: 3, 1755: 3, 1757: 3, 1760: 3, 1765: 3, 1773: 3, 1781: 3, 1791: 3, 1792: 3, 1794: 3, 1795: 3, 1805: 3, 1810: 3, 1811: 3, 1813: 3, 1817: 3, 1823: 3, 1824: 3, 1828: 3, 1829: 3, 1834: 3, 1835: 3, 1838: 3, 1840: 3, 1842: 3, 1843: 3, 1846: 3, 1847: 3, 1861: 3, 1867: 3, 1875: 3, 1877: 3, 1878: 3, 1879: 3, 1881: 3, 1898: 3, 1899: 3, 1902: 3, 1909: 3, 1910: 3, 1915: 3, 1917: 3, 1920: 3, 1922: 3, 1929: 3, 1933: 3, 1942: 3, 1943: 3, 1944: 3, 1950: 3, 1969: 3, 1971: 3, 1972: 3, 1974: 3, 1977: 3, 1983: 3, 1989: 3, 1992: 3, 1994: 3, 1998: 3, 2001: 3, 2004: 3, 2005: 3, 2009: 3, 2014: 3, 2036: 3, 2040: 3, 2049: 3, 2050: 3, 2059: 3, 2061: 3, 2067: 3, 2068: 3, 2071: 3, 2080: 3, 2082: 3, 2084: 3, 2088: 3, 2090: 3, 2093: 3, 2095: 3, 2097: 3, 2100: 3, 2105: 3, 2106: 3, 2107: 3, 2108: 3, 2110: 3, 2112: 3, 2115: 3, 2122: 3, 2127: 3, 2133: 3, 2134: 3, 2136: 3, 2145: 3, 2146: 3, 2151: 3, 2153: 3, 2159: 3, 2161: 3, 2163: 3, 2167: 3, 2174: 3, 2182: 3, 2184: 3, 2186: 3, 2196: 3, 2199: 3, 2206: 3, 2210: 3, 2217: 3, 2220: 3, 2226: 3, 2229: 3, 2236: 3, 2238: 3, 2242: 3, 2249: 3, 2250: 3, 2252: 3, 2255: 3, 2259: 3, 2261: 3, 2264: 3, 2266: 3, 2267: 3, 2270: 3, 2274: 3, 2286: 3, 2294: 3, 2295: 3, 2296: 3, 2298: 3, 2300: 3, 2301: 3, 2311: 3, 2313: 3, 2314: 3, 2315: 3, 2320: 3, 2322: 3, 2323: 3, 2327: 3, 2328: 3, 2331: 3, 2335: 3, 2337: 3, 2341: 3, 2346: 3, 2354: 3, 2357: 3, 2364: 3, 2366: 3, 2373: 3, 2381: 3, 2383: 3, 2384: 3, 2385: 3, 2389: 3, 2393: 3, 2395: 3, 2397: 3, 2401: 3, 2406: 3, 2428: 3, 2430: 3, 2435: 3, 2446: 3, 2448: 3, 2452: 3, 2458: 3, 2459: 3, 2464: 3, 2472: 3, 2473: 3, 2493: 3, 2495: 3, 2498: 3, 2500: 3, 2505: 3, 2510: 3, 2513: 3, 2526: 3, 2528: 3, 2533: 3, 2535: 3, 2536: 3, 2537: 3, 2542: 3, 2547: 3, 2548: 3, 2566: 3, 2601: 3, 2605: 3, 2608: 3, 2611: 3, 2613: 3, 2617: 3, 2618: 3, 2628: 3, 2641: 3, 2644: 3, 2649: 3, 2656: 3, 2657: 3, 2658: 3, 2666: 3, 2672: 3, 2682: 3, 2687: 3, 2688: 3, 2689: 3, 2690: 3, 2691: 3, 2698: 3, 2709: 3, 2712: 3, 2714: 3, 2720: 3, 2731: 3, 2732: 3, 2736: 3, 2739: 3, 2741: 3, 2743: 3, 2753: 3, 2757: 3, 2768: 3, 2774: 3, 2775: 3, 2776: 3, 2787: 3, 2791: 3, 2792: 3, 2802: 3, 2808: 3, 2809: 3, 2811: 3, 2814: 3, 2818: 3, 2820: 3, 2828: 3, 2831: 3, 2848: 3, 2849: 3, 2858: 3, 2861: 3, 2862: 3, 2871: 3, 2873: 3, 2880: 3, 2883: 3, 2885: 3, 2886: 3, 2893: 3, 2902: 3, 2916: 3, 2921: 3, 2935: 3, 2936: 3, 2939: 3, 2958: 3, 2960: 3, 2967: 3, 2971: 3, 2978: 3, 2982: 3, 2998: 3, 2999: 3, 3000: 3, 3011: 3, 3017: 3, 3023: 3, 3025: 3, 3027: 3, 3030: 3, 3035: 3, 3040: 3, 3042: 3, 3043: 3, 3057: 3, 3065: 3, 3066: 3, 3070: 3, 3074: 3, 3078: 3, 3081: 3, 3082: 3, 3086: 3, 3094: 3, 3105: 3, 3110: 3, 3113: 3, 3128: 3, 3146: 3, 3150: 3, 3171: 3, 3173: 3, 3188: 3, 3189: 3, 3194: 3, 3196: 3, 3209: 3, 3211: 3, 3212: 3, 3217: 3, 3219: 3, 3226: 3, 3237: 3, 3247: 3, 3254: 3, 3258: 3, 3259: 3, 3266: 3, 3268: 3, 3271: 3, 3273: 3, 3304: 3, 3309: 3, 3310: 3, 3323: 3, 3326: 3, 3357: 3, 3360: 3, 7: 2, 13: 2, 32: 2, 38: 2, 39: 2, 46: 2, 49: 2, 58: 2, 68: 2, 82: 2, 85: 2, 90: 2, 91: 2, 98: 2, 100: 2, 104: 2, 106: 2, 114: 2, 119: 2, 122: 2, 140: 2, 144: 2, 149: 2, 152: 2, 153: 2, 161: 2, 172: 2, 180: 2, 183: 2, 192: 2, 206: 2, 212: 2, 216: 2, 221: 2, 222: 2, 223: 2, 224: 2, 226: 2, 241: 2, 250: 2, 252: 2, 253: 2, 263: 2, 264: 2, 269: 2, 270: 2, 279: 2, 285: 2, 287: 2, 302: 2, 314: 2, 324: 2, 328: 2, 334: 2, 342: 2, 352: 2, 354: 2, 363: 2, 368: 2, 369: 2, 370: 2, 374: 2, 383: 2, 389: 2, 392: 2, 408: 2, 424: 2, 425: 2, 433: 2, 434: 2, 435: 2, 438: 2, 439: 2, 451: 2, 455: 2, 456: 2, 460: 2, 461: 2, 463: 2, 465: 2, 474: 2, 487: 2, 491: 2, 497: 2, 500: 2, 502: 2, 505: 2, 506: 2, 510: 2, 512: 2, 515: 2, 520: 2, 526: 2, 528: 2, 546: 2, 548: 2, 549: 2, 566: 2, 575: 2, 577: 2, 579: 2, 586: 2, 589: 2, 598: 2, 606: 2, 608: 2, 628: 2, 630: 2, 634: 2, 642: 2, 645: 2, 649: 2, 651: 2, 657: 2, 665: 2, 666: 2, 668: 2, 671: 2, 676: 2, 692: 2, 699: 2, 701: 2, 706: 2, 707: 2, 711: 2, 714: 2, 717: 2, 719: 2, 722: 2, 729: 2, 730: 2, 731: 2, 734: 2, 735: 2, 739: 2, 740: 2, 743: 2, 745: 2, 746: 2, 749: 2, 760: 2, 769: 2, 780: 2, 786: 2, 787: 2, 799: 2, 804: 2, 805: 2, 809: 2, 811: 2, 813: 2, 821: 2, 822: 2, 824: 2, 826: 2, 836: 2, 839: 2, 843: 2, 846: 2, 847: 2, 848: 2, 860: 2, 865: 2, 867: 2, 869: 2, 872: 2, 874: 2, 882: 2, 883: 2, 887: 2, 894: 2, 895: 2, 897: 2, 898: 2, 903: 2, 904: 2, 905: 2, 906: 2, 910: 2, 919: 2, 921: 2, 925: 2, 926: 2, 930: 2, 931: 2, 932: 2, 936: 2, 938: 2, 940: 2, 941: 2, 945: 2, 946: 2, 947: 2, 953: 2, 954: 2, 958: 2, 968: 2, 973: 2, 975: 2, 978: 2, 980: 2, 981: 2, 985: 2, 986: 2, 989: 2, 991: 2, 992: 2, 996: 2, 998: 2, 1000: 2, 1013: 2, 1014: 2, 1015: 2, 1017: 2, 1022: 2, 1027: 2, 1029: 2, 1031: 2, 1032: 2, 1035: 2, 1042: 2, 1044: 2, 1046: 2, 1050: 2, 1053: 2, 1063: 2, 1068: 2, 1069: 2, 1075: 2, 1076: 2, 1078: 2, 1080: 2, 1083: 2, 1084: 2, 1085: 2, 1087: 2, 1091: 2, 1092: 2, 1094: 2, 1098: 2, 1104: 2, 1106: 2, 1116: 2, 1118: 2, 1121: 2, 1123: 2, 1128: 2, 1130: 2, 1132: 2, 1138: 2, 1142: 2, 1143: 2, 1145: 2, 1150: 2, 1155: 2, 1158: 2, 1161: 2, 1162: 2, 1163: 2, 1168: 2, 1171: 2, 1172: 2, 1174: 2, 1175: 2, 1176: 2, 1178: 2, 1184: 2, 1186: 2, 1188: 2, 1190: 2, 1195: 2, 1198: 2, 1202: 2, 1204: 2, 1207: 2, 1208: 2, 1210: 2, 1212: 2, 1215: 2, 1217: 2, 1221: 2, 1223: 2, 1226: 2, 1230: 2, 1232: 2, 1236: 2, 1240: 2, 1242: 2, 1243: 2, 1245: 2, 1248: 2, 1253: 2, 1254: 2, 1257: 2, 1258: 2, 1259: 2, 1262: 2, 1270: 2, 1277: 2, 1282: 2, 1284: 2, 1289: 2, 1290: 2, 1294: 2, 1295: 2, 1298: 2, 1300: 2, 1306: 2, 1312: 2, 1316: 2, 1317: 2, 1320: 2, 1321: 2, 1323: 2, 1328: 2, 1331: 2, 1332: 2, 1333: 2, 1334: 2, 1335: 2, 1336: 2, 1339: 2, 1340: 2, 1345: 2, 1346: 2, 1347: 2, 1348: 2, 1349: 2, 1352: 2, 1354: 2, 1359: 2, 1365: 2, 1366: 2, 1367: 2, 1368: 2, 1374: 2, 1379: 2, 1380: 2, 1381: 2, 1382: 2, 1384: 2, 1385: 2, 1388: 2, 1394: 2, 1395: 2, 1400: 2, 1401: 2, 1402: 2, 1403: 2, 1405: 2, 1406: 2, 1409: 2, 1419: 2, 1427: 2, 1428: 2, 1437: 2, 1438: 2, 1442: 2, 1445: 2, 1449: 2, 1452: 2, 1457: 2, 1462: 2, 1463: 2, 1464: 2, 1466: 2, 1468: 2, 1470: 2, 1473: 2, 1474: 2, 1476: 2, 1484: 2, 1485: 2, 1490: 2, 1494: 2, 1495: 2, 1498: 2, 1501: 2, 1502: 2, 1503: 2, 1506: 2, 1508: 2, 1509: 2, 1514: 2, 1516: 2, 1521: 2, 1522: 2, 1525: 2, 1527: 2, 1528: 2, 1529: 2, 1530: 2, 1537: 2, 1538: 2, 1541: 2, 1542: 2, 1546: 2, 1549: 2, 1555: 2, 1557: 2, 1559: 2, 1562: 2, 1563: 2, 1568: 2, 1572: 2, 1576: 2, 1578: 2, 1581: 2, 1583: 2, 1585: 2, 1586: 2, 1588: 2, 1590: 2, 1593: 2, 1596: 2, 1599: 2, 1601: 2, 1603: 2, 1605: 2, 1606: 2, 1607: 2, 1610: 2, 1613: 2, 1614: 2, 1616: 2, 1618: 2, 1619: 2, 1623: 2, 1625: 2, 1627: 2, 1628: 2, 1630: 2, 1634: 2, 1637: 2, 1638: 2, 1639: 2, 1640: 2, 1641: 2, 1642: 2, 1645: 2, 1646: 2, 1647: 2, 1648: 2, 1649: 2, 1650: 2, 1653: 2, 1654: 2, 1656: 2, 1657: 2, 1659: 2, 1660: 2, 1665: 2, 1666: 2, 1667: 2, 1669: 2, 1670: 2, 1671: 2, 1672: 2, 1676: 2, 1678: 2, 1682: 2, 1683: 2, 1688: 2, 1689: 2, 1690: 2, 1692: 2, 1693: 2, 1695: 2, 1698: 2, 1700: 2, 1701: 2, 1704: 2, 1705: 2, 1707: 2, 1710: 2, 1712: 2, 1713: 2, 1714: 2, 1720: 2, 1722: 2, 1725: 2, 1726: 2, 1728: 2, 1731: 2, 1734: 2, 1736: 2, 1737: 2, 1739: 2, 1744: 2, 1749: 2, 1751: 2, 1752: 2, 1756: 2, 1758: 2, 1759: 2, 1761: 2, 1762: 2, 1764: 2, 1766: 2, 1769: 2, 1774: 2, 1775: 2, 1776: 2, 1777: 2, 1778: 2, 1780: 2, 1782: 2, 1783: 2, 1785: 2, 1786: 2, 1787: 2, 1788: 2, 1789: 2, 1797: 2, 1799: 2, 1800: 2, 1802: 2, 1804: 2, 1807: 2, 1814: 2, 1815: 2, 1818: 2, 1820: 2, 1822: 2, 1825: 2, 1826: 2, 1827: 2, 1831: 2, 1832: 2, 1836: 2, 1837: 2, 1841: 2, 1844: 2, 1848: 2, 1850: 2, 1851: 2, 1852: 2, 1853: 2, 1854: 2, 1857: 2, 1858: 2, 1859: 2, 1863: 2, 1864: 2, 1869: 2, 1870: 2, 1871: 2, 1873: 2, 1874: 2, 1880: 2, 1882: 2, 1884: 2, 1887: 2, 1888: 2, 1890: 2, 1891: 2, 1895: 2, 1897: 2, 1900: 2, 1905: 2, 1906: 2, 1908: 2, 1912: 2, 1913: 2, 1914: 2, 1925: 2, 1926: 2, 1927: 2, 1928: 2, 1936: 2, 1937: 2, 1938: 2, 1939: 2, 1940: 2, 1941: 2, 1945: 2, 1946: 2, 1948: 2, 1949: 2, 1951: 2, 1953: 2, 1954: 2, 1955: 2, 1956: 2, 1959: 2, 1961: 2, 1962: 2, 1964: 2, 1965: 2, 1968: 2, 1975: 2, 1976: 2, 1980: 2, 1981: 2, 1982: 2, 1984: 2, 1985: 2, 1986: 2, 1987: 2, 1988: 2, 1991: 2, 1993: 2, 1995: 2, 1996: 2, 1997: 2, 2000: 2, 2003: 2, 2006: 2, 2007: 2, 2008: 2, 2013: 2, 2015: 2, 2016: 2, 2017: 2, 2020: 2, 2023: 2, 2024: 2, 2027: 2, 2028: 2, 2029: 2, 2030: 2, 2031: 2, 2034: 2, 2037: 2, 2038: 2, 2039: 2, 2042: 2, 2044: 2, 2045: 2, 2046: 2, 2048: 2, 2052: 2, 2053: 2, 2054: 2, 2055: 2, 2060: 2, 2062: 2, 2065: 2, 2066: 2, 2069: 2, 2070: 2, 2072: 2, 2076: 2, 2078: 2, 2081: 2, 2083: 2, 2085: 2, 2091: 2, 2092: 2, 2096: 2, 2098: 2, 2101: 2, 2102: 2, 2103: 2, 2109: 2, 2111: 2, 2113: 2, 2114: 2, 2117: 2, 2118: 2, 2119: 2, 2120: 2, 2121: 2, 2123: 2, 2125: 2, 2128: 2, 2129: 2, 2130: 2, 2132: 2, 2135: 2, 2138: 2, 2139: 2, 2140: 2, 2142: 2, 2143: 2, 2144: 2, 2147: 2, 2148: 2, 2150: 2, 2152: 2, 2154: 2, 2156: 2, 2160: 2, 2164: 2, 2165: 2, 2166: 2, 2168: 2, 2169: 2, 2170: 2, 2171: 2, 2172: 2, 2176: 2, 2177: 2, 2178: 2, 2179: 2, 2180: 2, 2183: 2, 2185: 2, 2187: 2, 2189: 2, 2194: 2, 2197: 2, 2198: 2, 2201: 2, 2202: 2, 2205: 2, 2207: 2, 2208: 2, 2209: 2, 2212: 2, 2213: 2, 2214: 2, 2215: 2, 2218: 2, 2219: 2, 2221: 2, 2222: 2, 2225: 2, 2227: 2, 2228: 2, 2230: 2, 2231: 2, 2233: 2, 2234: 2, 2235: 2, 2237: 2, 2239: 2, 2240: 2, 2243: 2, 2245: 2, 2246: 2, 2247: 2, 2251: 2, 2254: 2, 2258: 2, 2260: 2, 2262: 2, 2271: 2, 2272: 2, 2273: 2, 2275: 2, 2277: 2, 2280: 2, 2281: 2, 2283: 2, 2285: 2, 2288: 2, 2290: 2, 2291: 2, 2292: 2, 2297: 2, 2299: 2, 2303: 2, 2304: 2, 2305: 2, 2306: 2, 2307: 2, 2308: 2, 2309: 2, 2316: 2, 2317: 2, 2319: 2, 2321: 2, 2325: 2, 2329: 2, 2330: 2, 2332: 2, 2333: 2, 2334: 2, 2336: 2, 2339: 2, 2340: 2, 2344: 2, 2345: 2, 2347: 2, 2348: 2, 2349: 2, 2350: 2, 2352: 2, 2353: 2, 2355: 2, 2356: 2, 2358: 2, 2359: 2, 2360: 2, 2361: 2, 2362: 2, 2363: 2, 2365: 2, 2367: 2, 2368: 2, 2370: 2, 2371: 2, 2372: 2, 2375: 2, 2376: 2, 2378: 2, 2387: 2, 2388: 2, 2390: 2, 2391: 2, 2392: 2, 2394: 2, 2396: 2, 2398: 2, 2399: 2, 2400: 2, 2402: 2, 2405: 2, 2407: 2, 2408: 2, 2409: 2, 2410: 2, 2411: 2, 2412: 2, 2413: 2, 2414: 2, 2416: 2, 2418: 2, 2420: 2, 2423: 2, 2424: 2, 2425: 2, 2426: 2, 2429: 2, 2432: 2, 2434: 2, 2436: 2, 2437: 2, 2439: 2, 2440: 2, 2441: 2, 2442: 2, 2443: 2, 2444: 2, 2445: 2, 2447: 2, 2449: 2, 2451: 2, 2453: 2, 2454: 2, 2456: 2, 2457: 2, 2460: 2, 2461: 2, 2463: 2, 2465: 2, 2466: 2, 2467: 2, 2469: 2, 2471: 2, 2475: 2, 2476: 2, 2477: 2, 2478: 2, 2479: 2, 2481: 2, 2482: 2, 2483: 2, 2484: 2, 2485: 2, 2486: 2, 2487: 2, 2488: 2, 2489: 2, 2490: 2, 2492: 2, 2496: 2, 2497: 2, 2499: 2, 2501: 2, 2502: 2, 2504: 2, 2506: 2, 2507: 2, 2509: 2, 2511: 2, 2514: 2, 2515: 2, 2517: 2, 2519: 2, 2520: 2, 2521: 2, 2522: 2, 2523: 2, 2525: 2, 2527: 2, 2529: 2, 2531: 2, 2538: 2, 2539: 2, 2540: 2, 2541: 2, 2543: 2, 2545: 2, 2546: 2, 2551: 2, 2554: 2, 2556: 2, 2557: 2, 2558: 2, 2559: 2, 2561: 2, 2562: 2, 2563: 2, 2565: 2, 2567: 2, 2568: 2, 2569: 2, 2570: 2, 2571: 2, 2574: 2, 2575: 2, 2576: 2, 2577: 2, 2578: 2, 2579: 2, 2581: 2, 2582: 2, 2583: 2, 2584: 2, 2585: 2, 2587: 2, 2588: 2, 2589: 2, 2590: 2, 2591: 2, 2592: 2, 2594: 2, 2595: 2, 2597: 2, 2598: 2, 2599: 2, 2600: 2, 2602: 2, 2603: 2, 2604: 2, 2607: 2, 2609: 2, 2612: 2, 2614: 2, 2615: 2, 2616: 2, 2619: 2, 2620: 2, 2621: 2, 2622: 2, 2624: 2, 2626: 2, 2627: 2, 2629: 2, 2630: 2, 2632: 2, 2633: 2, 2634: 2, 2635: 2, 2636: 2, 2638: 2, 2642: 2, 2643: 2, 2646: 2, 2647: 2, 2648: 2, 2650: 2, 2651: 2, 2652: 2, 2653: 2, 2654: 2, 2659: 2, 2660: 2, 2662: 2, 2663: 2, 2664: 2, 2667: 2, 2668: 2, 2670: 2, 2671: 2, 2673: 2, 2674: 2, 2675: 2, 2676: 2, 2677: 2, 2678: 2, 2681: 2, 2684: 2, 2685: 2, 2686: 2, 2692: 2, 2693: 2, 2694: 2, 2695: 2, 2696: 2, 2697: 2, 2700: 2, 2701: 2, 2702: 2, 2704: 2, 2705: 2, 2707: 2, 2708: 2, 2710: 2, 2711: 2, 2713: 2, 2716: 2, 2717: 2, 2718: 2, 2719: 2, 2721: 2, 2722: 2, 2723: 2, 2724: 2, 2725: 2, 2727: 2, 2728: 2, 2729: 2, 2733: 2, 2734: 2, 2740: 2, 2742: 2, 2744: 2, 2746: 2, 2747: 2, 2748: 2, 2750: 2, 2751: 2, 2752: 2, 2754: 2, 2755: 2, 2756: 2, 2758: 2, 2760: 2, 2761: 2, 2762: 2, 2763: 2, 2766: 2, 2767: 2, 2769: 2, 2770: 2, 2771: 2, 2772: 2, 2773: 2, 2777: 2, 2778: 2, 2779: 2, 2780: 2, 2781: 2, 2782: 2, 2783: 2, 2784: 2, 2786: 2, 2788: 2, 2789: 2, 2790: 2, 2793: 2, 2794: 2, 2795: 2, 2797: 2, 2798: 2, 2799: 2, 2801: 2, 2803: 2, 2805: 2, 2806: 2, 2807: 2, 2810: 2, 2812: 2, 2813: 2, 2815: 2, 2816: 2, 2821: 2, 2822: 2, 2826: 2, 2827: 2, 2829: 2, 2830: 2, 2832: 2, 2833: 2, 2835: 2, 2836: 2, 2837: 2, 2839: 2, 2842: 2, 2843: 2, 2844: 2, 2845: 2, 2847: 2, 2850: 2, 2851: 2, 2852: 2, 2853: 2, 2854: 2, 2856: 2, 2857: 2, 2859: 2, 2860: 2, 2863: 2, 2864: 2, 2865: 2, 2866: 2, 2867: 2, 2868: 2, 2869: 2, 2870: 2, 2872: 2, 2874: 2, 2876: 2, 2878: 2, 2879: 2, 2881: 2, 2882: 2, 2884: 2, 2887: 2, 2888: 2, 2889: 2, 2890: 2, 2891: 2, 2894: 2, 2895: 2, 2897: 2, 2898: 2, 2900: 2, 2901: 2, 2904: 2, 2905: 2, 2906: 2, 2907: 2, 2908: 2, 2909: 2, 2910: 2, 2911: 2, 2912: 2, 2913: 2, 2914: 2, 2915: 2, 2917: 2, 2918: 2, 2919: 2, 2922: 2, 2923: 2, 2924: 2, 2925: 2, 2926: 2, 2927: 2, 2928: 2, 2929: 2, 2930: 2, 2931: 2, 2932: 2, 2933: 2, 2934: 2, 2938: 2, 2940: 2, 2941: 2, 2942: 2, 2943: 2, 2944: 2, 2946: 2, 2947: 2, 2948: 2, 2949: 2, 2950: 2, 2951: 2, 2952: 2, 2953: 2, 2954: 2, 2955: 2, 2957: 2, 2961: 2, 2962: 2, 2963: 2, 2964: 2, 2965: 2, 2966: 2, 2968: 2, 2972: 2, 2974: 2, 2975: 2, 2976: 2, 2977: 2, 2979: 2, 2980: 2, 2981: 2, 2984: 2, 2986: 2, 2987: 2, 2988: 2, 2989: 2, 2993: 2, 2994: 2, 2995: 2, 2997: 2, 3001: 2, 3002: 2, 3003: 2, 3004: 2, 3006: 2, 3007: 2, 3008: 2, 3009: 2, 3010: 2, 3012: 2, 3014: 2, 3015: 2, 3016: 2, 3018: 2, 3019: 2, 3020: 2, 3021: 2, 3022: 2, 3024: 2, 3026: 2, 3029: 2, 3031: 2, 3033: 2, 3034: 2, 3036: 2, 3038: 2, 3039: 2, 3041: 2, 3044: 2, 3045: 2, 3046: 2, 3048: 2, 3049: 2, 3051: 2, 3052: 2, 3053: 2, 3055: 2, 3056: 2, 3058: 2, 3059: 2, 3062: 2, 3063: 2, 3067: 2, 3068: 2, 3071: 2, 3072: 2, 3073: 2, 3075: 2, 3076: 2, 3079: 2, 3080: 2, 3083: 2, 3084: 2, 3085: 2, 3087: 2, 3088: 2, 3089: 2, 3090: 2, 3091: 2, 3092: 2, 3093: 2, 3095: 2, 3096: 2, 3097: 2, 3098: 2, 3099: 2, 3100: 2, 3101: 2, 3102: 2, 3103: 2, 3104: 2, 3106: 2, 3107: 2, 3108: 2, 3109: 2, 3111: 2, 3114: 2, 3115: 2, 3116: 2, 3117: 2, 3118: 2, 3119: 2, 3120: 2, 3122: 2, 3123: 2, 3125: 2, 3126: 2, 3127: 2, 3129: 2, 3130: 2, 3131: 2, 3132: 2, 3133: 2, 3134: 2, 3135: 2, 3136: 2, 3137: 2, 3138: 2, 3139: 2, 3140: 2, 3141: 2, 3142: 2, 3143: 2, 3144: 2, 3145: 2, 3147: 2, 3148: 2, 3149: 2, 3151: 2, 3152: 2, 3153: 2, 3154: 2, 3155: 2, 3157: 2, 3158: 2, 3160: 2, 3161: 2, 3162: 2, 3163: 2, 3164: 2, 3165: 2, 3166: 2, 3167: 2, 3168: 2, 3169: 2, 3170: 2, 3172: 2, 3174: 2, 3175: 2, 3176: 2, 3177: 2, 3178: 2, 3179: 2, 3180: 2, 3181: 2, 3182: 2, 3184: 2, 3185: 2, 3186: 2, 3187: 2, 3190: 2, 3191: 2, 3192: 2, 3193: 2, 3195: 2, 3198: 2, 3199: 2, 3200: 2, 3201: 2, 3202: 2, 3203: 2, 3205: 2, 3206: 2, 3207: 2, 3208: 2, 3210: 2, 3213: 2, 3214: 2, 3215: 2, 3218: 2, 3220: 2, 3221: 2, 3222: 2, 3223: 2, 3224: 2, 3225: 2, 3227: 2, 3228: 2, 3229: 2, 3230: 2, 3231: 2, 3232: 2, 3233: 2, 3234: 2, 3235: 2, 3236: 2, 3238: 2, 3239: 2, 3240: 2, 3241: 2, 3242: 2, 3243: 2, 3244: 2, 3246: 2, 3248: 2, 3249: 2, 3250: 2, 3252: 2, 3253: 2, 3255: 2, 3256: 2, 3257: 2, 3260: 2, 3261: 2, 3262: 2, 3263: 2, 3264: 2, 3265: 2, 3267: 2, 3269: 2, 3270: 2, 3272: 2, 3274: 2, 3275: 2, 3276: 2, 3277: 2, 3278: 2, 3279: 2, 3280: 2, 3281: 2, 3282: 2, 3283: 2, 3284: 2, 3285: 2, 3286: 2, 3287: 2, 3288: 2, 3289: 2, 3290: 2, 3291: 2, 3292: 2, 3293: 2, 3294: 2, 3295: 2, 3296: 2, 3297: 2, 3298: 2, 3299: 2, 3300: 2, 3301: 2, 3302: 2, 3303: 2, 3305: 2, 3306: 2, 3307: 2, 3308: 2, 3311: 2, 3312: 2, 3313: 2, 3314: 2, 3315: 2, 3316: 2, 3317: 2, 3318: 2, 3319: 2, 3320: 2, 3321: 2, 3322: 2, 3324: 2, 3325: 2, 3327: 2, 3328: 2, 3329: 2, 3330: 2, 3331: 2, 3332: 2, 3333: 2, 3334: 2, 3335: 2, 3336: 2, 3337: 2, 3338: 2, 3339: 2, 3340: 2, 3341: 2, 3342: 2, 3343: 2, 3344: 2, 3345: 2, 3346: 2, 3347: 2, 3348: 2, 3349: 2, 3350: 2, 3351: 2, 3352: 2, 3353: 2, 3354: 2, 3355: 2, 3356: 2, 3358: 2, 3359: 2, 3361: 2, 3362: 2, 3363: 2, 3364: 2, 3365: 2, 3366: 2, 3367: 2, 3368: 2, 3369: 2, 3370: 2, 3371: 2, 3372: 2, 3373: 2, 3374: 2, 3375: 2, 3376: 2, 3377: 2, 3378: 2, 3379: 2, 3380: 2, 3381: 2})\n"
     ]
    }
   ],
   "source": [
    "print(Counter(cluster_labels))"
   ]
  },
  {
   "cell_type": "code",
   "execution_count": 142,
   "metadata": {},
   "outputs": [
    {
     "data": {
      "text/html": [
       "<div>\n",
       "<style scoped>\n",
       "    .dataframe tbody tr th:only-of-type {\n",
       "        vertical-align: middle;\n",
       "    }\n",
       "\n",
       "    .dataframe tbody tr th {\n",
       "        vertical-align: top;\n",
       "    }\n",
       "\n",
       "    .dataframe thead th {\n",
       "        text-align: right;\n",
       "    }\n",
       "</style>\n",
       "<table border=\"1\" class=\"dataframe\">\n",
       "  <thead>\n",
       "    <tr style=\"text-align: right;\">\n",
       "      <th></th>\n",
       "      <th>latitude</th>\n",
       "      <th>longitude</th>\n",
       "    </tr>\n",
       "  </thead>\n",
       "  <tbody>\n",
       "    <tr>\n",
       "      <th>0</th>\n",
       "      <td>23.19</td>\n",
       "      <td>113.24</td>\n",
       "    </tr>\n",
       "    <tr>\n",
       "      <th>1</th>\n",
       "      <td>30.87</td>\n",
       "      <td>114.36</td>\n",
       "    </tr>\n",
       "    <tr>\n",
       "      <th>2</th>\n",
       "      <td>34.70</td>\n",
       "      <td>113.71</td>\n",
       "    </tr>\n",
       "    <tr>\n",
       "      <th>4</th>\n",
       "      <td>22.73</td>\n",
       "      <td>113.80</td>\n",
       "    </tr>\n",
       "    <tr>\n",
       "      <th>5</th>\n",
       "      <td>22.53</td>\n",
       "      <td>114.06</td>\n",
       "    </tr>\n",
       "    <tr>\n",
       "      <th>...</th>\n",
       "      <td>...</td>\n",
       "      <td>...</td>\n",
       "    </tr>\n",
       "    <tr>\n",
       "      <th>858922</th>\n",
       "      <td>35.41</td>\n",
       "      <td>110.44</td>\n",
       "    </tr>\n",
       "    <tr>\n",
       "      <th>858977</th>\n",
       "      <td>36.47</td>\n",
       "      <td>116.00</td>\n",
       "    </tr>\n",
       "    <tr>\n",
       "      <th>859081</th>\n",
       "      <td>37.51</td>\n",
       "      <td>116.32</td>\n",
       "    </tr>\n",
       "    <tr>\n",
       "      <th>859114</th>\n",
       "      <td>28.61</td>\n",
       "      <td>121.26</td>\n",
       "    </tr>\n",
       "    <tr>\n",
       "      <th>859153</th>\n",
       "      <td>36.15</td>\n",
       "      <td>114.28</td>\n",
       "    </tr>\n",
       "  </tbody>\n",
       "</table>\n",
       "<p>32913 rows × 2 columns</p>\n",
       "</div>"
      ],
      "text/plain": [
       "        latitude  longitude\n",
       "0          23.19     113.24\n",
       "1          30.87     114.36\n",
       "2          34.70     113.71\n",
       "4          22.73     113.80\n",
       "5          22.53     114.06\n",
       "...          ...        ...\n",
       "858922     35.41     110.44\n",
       "858977     36.47     116.00\n",
       "859081     37.51     116.32\n",
       "859114     28.61     121.26\n",
       "859153     36.15     114.28\n",
       "\n",
       "[32913 rows x 2 columns]"
      ]
     },
     "execution_count": 142,
     "metadata": {},
     "output_type": "execute_result"
    }
   ],
   "source": [
    "coords"
   ]
  },
  {
   "cell_type": "code",
   "execution_count": 62,
   "metadata": {},
   "outputs": [],
   "source": [
    "coords['Clusters_LL'] =  cluster_labels"
   ]
  },
  {
   "cell_type": "code",
   "execution_count": 63,
   "metadata": {},
   "outputs": [],
   "source": [
    "coords['Key'] = coords.latitude.astype(str)+'_'+coords.longitude.astype(str)"
   ]
  },
  {
   "cell_type": "code",
   "execution_count": 91,
   "metadata": {},
   "outputs": [],
   "source": [
    "import findspark"
   ]
  },
  {
   "cell_type": "code",
   "execution_count": 101,
   "metadata": {},
   "outputs": [],
   "source": [
    "from pyspark.sql.functions import create_map,lit\n",
    "from itertools import chain"
   ]
  },
  {
   "cell_type": "code",
   "execution_count": 98,
   "metadata": {},
   "outputs": [],
   "source": [
    "dict_ = {}\n",
    "for i,d in coords[['Key','Clusters_LL']].iterrows():\n",
    "    dict_[d[0]] =d[1] "
   ]
  },
  {
   "cell_type": "code",
   "execution_count": 102,
   "metadata": {},
   "outputs": [],
   "source": [
    "mapping_expr = create_map([lit(x) for x in chain(*dict_.items())])"
   ]
  },
  {
   "cell_type": "code",
   "execution_count": 94,
   "metadata": {},
   "outputs": [],
   "source": [
    "coors_df = spark.createDataFrame(coords)"
   ]
  },
  {
   "cell_type": "code",
   "execution_count": 95,
   "metadata": {
    "collapsed": true
   },
   "outputs": [
    {
     "ename": "Py4JJavaError",
     "evalue": "An error occurred while calling o923.showString.\n: org.apache.spark.SparkException: Job aborted due to stage failure: Task 0 in stage 60.0 failed 1 times, most recent failure: Lost task 0.0 in stage 60.0 (TID 3972, localhost, executor driver): java.io.IOException: Cannot run program \"/home/ubuntu/spark-2.4.4-bin-hadoop2.7/python\": error=13, Permission denied\n\tat java.lang.ProcessBuilder.start(ProcessBuilder.java:1048)\n\tat org.apache.spark.api.python.PythonWorkerFactory.startDaemon(PythonWorkerFactory.scala:197)\n\tat org.apache.spark.api.python.PythonWorkerFactory.createThroughDaemon(PythonWorkerFactory.scala:122)\n\tat org.apache.spark.api.python.PythonWorkerFactory.create(PythonWorkerFactory.scala:95)\n\tat org.apache.spark.SparkEnv.createPythonWorker(SparkEnv.scala:117)\n\tat org.apache.spark.api.python.BasePythonRunner.compute(PythonRunner.scala:109)\n\tat org.apache.spark.api.python.PythonRDD.compute(PythonRDD.scala:65)\n\tat org.apache.spark.rdd.RDD.computeOrReadCheckpoint(RDD.scala:324)\n\tat org.apache.spark.rdd.RDD.iterator(RDD.scala:288)\n\tat org.apache.spark.rdd.MapPartitionsRDD.compute(MapPartitionsRDD.scala:52)\n\tat org.apache.spark.rdd.RDD.computeOrReadCheckpoint(RDD.scala:324)\n\tat org.apache.spark.rdd.RDD.iterator(RDD.scala:288)\n\tat org.apache.spark.rdd.MapPartitionsRDD.compute(MapPartitionsRDD.scala:52)\n\tat org.apache.spark.rdd.RDD.computeOrReadCheckpoint(RDD.scala:324)\n\tat org.apache.spark.rdd.RDD.iterator(RDD.scala:288)\n\tat org.apache.spark.rdd.MapPartitionsRDD.compute(MapPartitionsRDD.scala:52)\n\tat org.apache.spark.rdd.RDD.computeOrReadCheckpoint(RDD.scala:324)\n\tat org.apache.spark.rdd.RDD.iterator(RDD.scala:288)\n\tat org.apache.spark.rdd.MapPartitionsRDD.compute(MapPartitionsRDD.scala:52)\n\tat org.apache.spark.rdd.RDD.computeOrReadCheckpoint(RDD.scala:324)\n\tat org.apache.spark.rdd.RDD.iterator(RDD.scala:288)\n\tat org.apache.spark.rdd.MapPartitionsRDD.compute(MapPartitionsRDD.scala:52)\n\tat org.apache.spark.rdd.RDD.computeOrReadCheckpoint(RDD.scala:324)\n\tat org.apache.spark.rdd.RDD.iterator(RDD.scala:288)\n\tat org.apache.spark.rdd.MapPartitionsRDD.compute(MapPartitionsRDD.scala:52)\n\tat org.apache.spark.rdd.RDD.computeOrReadCheckpoint(RDD.scala:324)\n\tat org.apache.spark.rdd.RDD.iterator(RDD.scala:288)\n\tat org.apache.spark.rdd.MapPartitionsRDD.compute(MapPartitionsRDD.scala:52)\n\tat org.apache.spark.rdd.RDD.computeOrReadCheckpoint(RDD.scala:324)\n\tat org.apache.spark.rdd.RDD.iterator(RDD.scala:288)\n\tat org.apache.spark.scheduler.ResultTask.runTask(ResultTask.scala:90)\n\tat org.apache.spark.scheduler.Task.run(Task.scala:123)\n\tat org.apache.spark.executor.Executor$TaskRunner$$anonfun$10.apply(Executor.scala:408)\n\tat org.apache.spark.util.Utils$.tryWithSafeFinally(Utils.scala:1360)\n\tat org.apache.spark.executor.Executor$TaskRunner.run(Executor.scala:414)\n\tat java.util.concurrent.ThreadPoolExecutor.runWorker(ThreadPoolExecutor.java:1149)\n\tat java.util.concurrent.ThreadPoolExecutor$Worker.run(ThreadPoolExecutor.java:624)\n\tat java.lang.Thread.run(Thread.java:748)\nCaused by: java.io.IOException: error=13, Permission denied\n\tat java.lang.UNIXProcess.forkAndExec(Native Method)\n\tat java.lang.UNIXProcess.<init>(UNIXProcess.java:247)\n\tat java.lang.ProcessImpl.start(ProcessImpl.java:134)\n\tat java.lang.ProcessBuilder.start(ProcessBuilder.java:1029)\n\t... 37 more\n\nDriver stacktrace:\n\tat org.apache.spark.scheduler.DAGScheduler.org$apache$spark$scheduler$DAGScheduler$$failJobAndIndependentStages(DAGScheduler.scala:1889)\n\tat org.apache.spark.scheduler.DAGScheduler$$anonfun$abortStage$1.apply(DAGScheduler.scala:1877)\n\tat org.apache.spark.scheduler.DAGScheduler$$anonfun$abortStage$1.apply(DAGScheduler.scala:1876)\n\tat scala.collection.mutable.ResizableArray$class.foreach(ResizableArray.scala:59)\n\tat scala.collection.mutable.ArrayBuffer.foreach(ArrayBuffer.scala:48)\n\tat org.apache.spark.scheduler.DAGScheduler.abortStage(DAGScheduler.scala:1876)\n\tat org.apache.spark.scheduler.DAGScheduler$$anonfun$handleTaskSetFailed$1.apply(DAGScheduler.scala:926)\n\tat org.apache.spark.scheduler.DAGScheduler$$anonfun$handleTaskSetFailed$1.apply(DAGScheduler.scala:926)\n\tat scala.Option.foreach(Option.scala:257)\n\tat org.apache.spark.scheduler.DAGScheduler.handleTaskSetFailed(DAGScheduler.scala:926)\n\tat org.apache.spark.scheduler.DAGSchedulerEventProcessLoop.doOnReceive(DAGScheduler.scala:2110)\n\tat org.apache.spark.scheduler.DAGSchedulerEventProcessLoop.onReceive(DAGScheduler.scala:2059)\n\tat org.apache.spark.scheduler.DAGSchedulerEventProcessLoop.onReceive(DAGScheduler.scala:2048)\n\tat org.apache.spark.util.EventLoop$$anon$1.run(EventLoop.scala:49)\n\tat org.apache.spark.scheduler.DAGScheduler.runJob(DAGScheduler.scala:737)\n\tat org.apache.spark.SparkContext.runJob(SparkContext.scala:2061)\n\tat org.apache.spark.SparkContext.runJob(SparkContext.scala:2082)\n\tat org.apache.spark.SparkContext.runJob(SparkContext.scala:2101)\n\tat org.apache.spark.sql.execution.SparkPlan.executeTake(SparkPlan.scala:365)\n\tat org.apache.spark.sql.execution.CollectLimitExec.executeCollect(limit.scala:38)\n\tat org.apache.spark.sql.Dataset.org$apache$spark$sql$Dataset$$collectFromPlan(Dataset.scala:3389)\n\tat org.apache.spark.sql.Dataset$$anonfun$head$1.apply(Dataset.scala:2550)\n\tat org.apache.spark.sql.Dataset$$anonfun$head$1.apply(Dataset.scala:2550)\n\tat org.apache.spark.sql.Dataset$$anonfun$52.apply(Dataset.scala:3370)\n\tat org.apache.spark.sql.execution.SQLExecution$$anonfun$withNewExecutionId$1.apply(SQLExecution.scala:78)\n\tat org.apache.spark.sql.execution.SQLExecution$.withSQLConfPropagated(SQLExecution.scala:125)\n\tat org.apache.spark.sql.execution.SQLExecution$.withNewExecutionId(SQLExecution.scala:73)\n\tat org.apache.spark.sql.Dataset.withAction(Dataset.scala:3369)\n\tat org.apache.spark.sql.Dataset.head(Dataset.scala:2550)\n\tat org.apache.spark.sql.Dataset.take(Dataset.scala:2764)\n\tat org.apache.spark.sql.Dataset.getRows(Dataset.scala:254)\n\tat org.apache.spark.sql.Dataset.showString(Dataset.scala:291)\n\tat sun.reflect.NativeMethodAccessorImpl.invoke0(Native Method)\n\tat sun.reflect.NativeMethodAccessorImpl.invoke(NativeMethodAccessorImpl.java:62)\n\tat sun.reflect.DelegatingMethodAccessorImpl.invoke(DelegatingMethodAccessorImpl.java:43)\n\tat java.lang.reflect.Method.invoke(Method.java:498)\n\tat py4j.reflection.MethodInvoker.invoke(MethodInvoker.java:244)\n\tat py4j.reflection.ReflectionEngine.invoke(ReflectionEngine.java:357)\n\tat py4j.Gateway.invoke(Gateway.java:282)\n\tat py4j.commands.AbstractCommand.invokeMethod(AbstractCommand.java:132)\n\tat py4j.commands.CallCommand.execute(CallCommand.java:79)\n\tat py4j.GatewayConnection.run(GatewayConnection.java:238)\n\tat java.lang.Thread.run(Thread.java:748)\nCaused by: java.io.IOException: Cannot run program \"/home/ubuntu/spark-2.4.4-bin-hadoop2.7/python\": error=13, Permission denied\n\tat java.lang.ProcessBuilder.start(ProcessBuilder.java:1048)\n\tat org.apache.spark.api.python.PythonWorkerFactory.startDaemon(PythonWorkerFactory.scala:197)\n\tat org.apache.spark.api.python.PythonWorkerFactory.createThroughDaemon(PythonWorkerFactory.scala:122)\n\tat org.apache.spark.api.python.PythonWorkerFactory.create(PythonWorkerFactory.scala:95)\n\tat org.apache.spark.SparkEnv.createPythonWorker(SparkEnv.scala:117)\n\tat org.apache.spark.api.python.BasePythonRunner.compute(PythonRunner.scala:109)\n\tat org.apache.spark.api.python.PythonRDD.compute(PythonRDD.scala:65)\n\tat org.apache.spark.rdd.RDD.computeOrReadCheckpoint(RDD.scala:324)\n\tat org.apache.spark.rdd.RDD.iterator(RDD.scala:288)\n\tat org.apache.spark.rdd.MapPartitionsRDD.compute(MapPartitionsRDD.scala:52)\n\tat org.apache.spark.rdd.RDD.computeOrReadCheckpoint(RDD.scala:324)\n\tat org.apache.spark.rdd.RDD.iterator(RDD.scala:288)\n\tat org.apache.spark.rdd.MapPartitionsRDD.compute(MapPartitionsRDD.scala:52)\n\tat org.apache.spark.rdd.RDD.computeOrReadCheckpoint(RDD.scala:324)\n\tat org.apache.spark.rdd.RDD.iterator(RDD.scala:288)\n\tat org.apache.spark.rdd.MapPartitionsRDD.compute(MapPartitionsRDD.scala:52)\n\tat org.apache.spark.rdd.RDD.computeOrReadCheckpoint(RDD.scala:324)\n\tat org.apache.spark.rdd.RDD.iterator(RDD.scala:288)\n\tat org.apache.spark.rdd.MapPartitionsRDD.compute(MapPartitionsRDD.scala:52)\n\tat org.apache.spark.rdd.RDD.computeOrReadCheckpoint(RDD.scala:324)\n\tat org.apache.spark.rdd.RDD.iterator(RDD.scala:288)\n\tat org.apache.spark.rdd.MapPartitionsRDD.compute(MapPartitionsRDD.scala:52)\n\tat org.apache.spark.rdd.RDD.computeOrReadCheckpoint(RDD.scala:324)\n\tat org.apache.spark.rdd.RDD.iterator(RDD.scala:288)\n\tat org.apache.spark.rdd.MapPartitionsRDD.compute(MapPartitionsRDD.scala:52)\n\tat org.apache.spark.rdd.RDD.computeOrReadCheckpoint(RDD.scala:324)\n\tat org.apache.spark.rdd.RDD.iterator(RDD.scala:288)\n\tat org.apache.spark.rdd.MapPartitionsRDD.compute(MapPartitionsRDD.scala:52)\n\tat org.apache.spark.rdd.RDD.computeOrReadCheckpoint(RDD.scala:324)\n\tat org.apache.spark.rdd.RDD.iterator(RDD.scala:288)\n\tat org.apache.spark.scheduler.ResultTask.runTask(ResultTask.scala:90)\n\tat org.apache.spark.scheduler.Task.run(Task.scala:123)\n\tat org.apache.spark.executor.Executor$TaskRunner$$anonfun$10.apply(Executor.scala:408)\n\tat org.apache.spark.util.Utils$.tryWithSafeFinally(Utils.scala:1360)\n\tat org.apache.spark.executor.Executor$TaskRunner.run(Executor.scala:414)\n\tat java.util.concurrent.ThreadPoolExecutor.runWorker(ThreadPoolExecutor.java:1149)\n\tat java.util.concurrent.ThreadPoolExecutor$Worker.run(ThreadPoolExecutor.java:624)\n\t... 1 more\nCaused by: java.io.IOException: error=13, Permission denied\n\tat java.lang.UNIXProcess.forkAndExec(Native Method)\n\tat java.lang.UNIXProcess.<init>(UNIXProcess.java:247)\n\tat java.lang.ProcessImpl.start(ProcessImpl.java:134)\n\tat java.lang.ProcessBuilder.start(ProcessBuilder.java:1029)\n\t... 37 more\n",
     "output_type": "error",
     "traceback": [
      "\u001b[0;31m---------------------------------------------------------------------------\u001b[0m",
      "\u001b[0;31mPy4JJavaError\u001b[0m                             Traceback (most recent call last)",
      "\u001b[0;32m<ipython-input-95-db94d53f3925>\u001b[0m in \u001b[0;36m<module>\u001b[0;34m()\u001b[0m\n\u001b[0;32m----> 1\u001b[0;31m \u001b[0mcoors_df\u001b[0m\u001b[0;34m.\u001b[0m\u001b[0mshow\u001b[0m\u001b[0;34m(\u001b[0m\u001b[0;36m5\u001b[0m\u001b[0;34m)\u001b[0m\u001b[0;34m\u001b[0m\u001b[0;34m\u001b[0m\u001b[0m\n\u001b[0m",
      "\u001b[0;32m/home/ubuntu/spark-2.4.4-bin-hadoop2.7/python/lib/pyspark.zip/pyspark/sql/dataframe.py\u001b[0m in \u001b[0;36mshow\u001b[0;34m(self, n, truncate, vertical)\u001b[0m\n\u001b[1;32m    378\u001b[0m         \"\"\"\n\u001b[1;32m    379\u001b[0m         \u001b[0;32mif\u001b[0m \u001b[0misinstance\u001b[0m\u001b[0;34m(\u001b[0m\u001b[0mtruncate\u001b[0m\u001b[0;34m,\u001b[0m \u001b[0mbool\u001b[0m\u001b[0;34m)\u001b[0m \u001b[0;32mand\u001b[0m \u001b[0mtruncate\u001b[0m\u001b[0;34m:\u001b[0m\u001b[0;34m\u001b[0m\u001b[0;34m\u001b[0m\u001b[0m\n\u001b[0;32m--> 380\u001b[0;31m             \u001b[0mprint\u001b[0m\u001b[0;34m(\u001b[0m\u001b[0mself\u001b[0m\u001b[0;34m.\u001b[0m\u001b[0m_jdf\u001b[0m\u001b[0;34m.\u001b[0m\u001b[0mshowString\u001b[0m\u001b[0;34m(\u001b[0m\u001b[0mn\u001b[0m\u001b[0;34m,\u001b[0m \u001b[0;36m20\u001b[0m\u001b[0;34m,\u001b[0m \u001b[0mvertical\u001b[0m\u001b[0;34m)\u001b[0m\u001b[0;34m)\u001b[0m\u001b[0;34m\u001b[0m\u001b[0;34m\u001b[0m\u001b[0m\n\u001b[0m\u001b[1;32m    381\u001b[0m         \u001b[0;32melse\u001b[0m\u001b[0;34m:\u001b[0m\u001b[0;34m\u001b[0m\u001b[0;34m\u001b[0m\u001b[0m\n\u001b[1;32m    382\u001b[0m             \u001b[0mprint\u001b[0m\u001b[0;34m(\u001b[0m\u001b[0mself\u001b[0m\u001b[0;34m.\u001b[0m\u001b[0m_jdf\u001b[0m\u001b[0;34m.\u001b[0m\u001b[0mshowString\u001b[0m\u001b[0;34m(\u001b[0m\u001b[0mn\u001b[0m\u001b[0;34m,\u001b[0m \u001b[0mint\u001b[0m\u001b[0;34m(\u001b[0m\u001b[0mtruncate\u001b[0m\u001b[0;34m)\u001b[0m\u001b[0;34m,\u001b[0m \u001b[0mvertical\u001b[0m\u001b[0;34m)\u001b[0m\u001b[0;34m)\u001b[0m\u001b[0;34m\u001b[0m\u001b[0;34m\u001b[0m\u001b[0m\n",
      "\u001b[0;32m/home/ubuntu/spark-2.4.4-bin-hadoop2.7/python/lib/py4j-0.10.7-src.zip/py4j/java_gateway.py\u001b[0m in \u001b[0;36m__call__\u001b[0;34m(self, *args)\u001b[0m\n\u001b[1;32m   1255\u001b[0m         \u001b[0manswer\u001b[0m \u001b[0;34m=\u001b[0m \u001b[0mself\u001b[0m\u001b[0;34m.\u001b[0m\u001b[0mgateway_client\u001b[0m\u001b[0;34m.\u001b[0m\u001b[0msend_command\u001b[0m\u001b[0;34m(\u001b[0m\u001b[0mcommand\u001b[0m\u001b[0;34m)\u001b[0m\u001b[0;34m\u001b[0m\u001b[0;34m\u001b[0m\u001b[0m\n\u001b[1;32m   1256\u001b[0m         return_value = get_return_value(\n\u001b[0;32m-> 1257\u001b[0;31m             answer, self.gateway_client, self.target_id, self.name)\n\u001b[0m\u001b[1;32m   1258\u001b[0m \u001b[0;34m\u001b[0m\u001b[0m\n\u001b[1;32m   1259\u001b[0m         \u001b[0;32mfor\u001b[0m \u001b[0mtemp_arg\u001b[0m \u001b[0;32min\u001b[0m \u001b[0mtemp_args\u001b[0m\u001b[0;34m:\u001b[0m\u001b[0;34m\u001b[0m\u001b[0;34m\u001b[0m\u001b[0m\n",
      "\u001b[0;32m/home/ubuntu/spark-2.4.4-bin-hadoop2.7/python/lib/pyspark.zip/pyspark/sql/utils.py\u001b[0m in \u001b[0;36mdeco\u001b[0;34m(*a, **kw)\u001b[0m\n\u001b[1;32m     61\u001b[0m     \u001b[0;32mdef\u001b[0m \u001b[0mdeco\u001b[0m\u001b[0;34m(\u001b[0m\u001b[0;34m*\u001b[0m\u001b[0ma\u001b[0m\u001b[0;34m,\u001b[0m \u001b[0;34m**\u001b[0m\u001b[0mkw\u001b[0m\u001b[0;34m)\u001b[0m\u001b[0;34m:\u001b[0m\u001b[0;34m\u001b[0m\u001b[0;34m\u001b[0m\u001b[0m\n\u001b[1;32m     62\u001b[0m         \u001b[0;32mtry\u001b[0m\u001b[0;34m:\u001b[0m\u001b[0;34m\u001b[0m\u001b[0;34m\u001b[0m\u001b[0m\n\u001b[0;32m---> 63\u001b[0;31m             \u001b[0;32mreturn\u001b[0m \u001b[0mf\u001b[0m\u001b[0;34m(\u001b[0m\u001b[0;34m*\u001b[0m\u001b[0ma\u001b[0m\u001b[0;34m,\u001b[0m \u001b[0;34m**\u001b[0m\u001b[0mkw\u001b[0m\u001b[0;34m)\u001b[0m\u001b[0;34m\u001b[0m\u001b[0;34m\u001b[0m\u001b[0m\n\u001b[0m\u001b[1;32m     64\u001b[0m         \u001b[0;32mexcept\u001b[0m \u001b[0mpy4j\u001b[0m\u001b[0;34m.\u001b[0m\u001b[0mprotocol\u001b[0m\u001b[0;34m.\u001b[0m\u001b[0mPy4JJavaError\u001b[0m \u001b[0;32mas\u001b[0m \u001b[0me\u001b[0m\u001b[0;34m:\u001b[0m\u001b[0;34m\u001b[0m\u001b[0;34m\u001b[0m\u001b[0m\n\u001b[1;32m     65\u001b[0m             \u001b[0ms\u001b[0m \u001b[0;34m=\u001b[0m \u001b[0me\u001b[0m\u001b[0;34m.\u001b[0m\u001b[0mjava_exception\u001b[0m\u001b[0;34m.\u001b[0m\u001b[0mtoString\u001b[0m\u001b[0;34m(\u001b[0m\u001b[0;34m)\u001b[0m\u001b[0;34m\u001b[0m\u001b[0;34m\u001b[0m\u001b[0m\n",
      "\u001b[0;32m/home/ubuntu/spark-2.4.4-bin-hadoop2.7/python/lib/py4j-0.10.7-src.zip/py4j/protocol.py\u001b[0m in \u001b[0;36mget_return_value\u001b[0;34m(answer, gateway_client, target_id, name)\u001b[0m\n\u001b[1;32m    326\u001b[0m                 raise Py4JJavaError(\n\u001b[1;32m    327\u001b[0m                     \u001b[0;34m\"An error occurred while calling {0}{1}{2}.\\n\"\u001b[0m\u001b[0;34m.\u001b[0m\u001b[0;34m\u001b[0m\u001b[0;34m\u001b[0m\u001b[0m\n\u001b[0;32m--> 328\u001b[0;31m                     format(target_id, \".\", name), value)\n\u001b[0m\u001b[1;32m    329\u001b[0m             \u001b[0;32melse\u001b[0m\u001b[0;34m:\u001b[0m\u001b[0;34m\u001b[0m\u001b[0;34m\u001b[0m\u001b[0m\n\u001b[1;32m    330\u001b[0m                 raise Py4JError(\n",
      "\u001b[0;31mPy4JJavaError\u001b[0m: An error occurred while calling o923.showString.\n: org.apache.spark.SparkException: Job aborted due to stage failure: Task 0 in stage 60.0 failed 1 times, most recent failure: Lost task 0.0 in stage 60.0 (TID 3972, localhost, executor driver): java.io.IOException: Cannot run program \"/home/ubuntu/spark-2.4.4-bin-hadoop2.7/python\": error=13, Permission denied\n\tat java.lang.ProcessBuilder.start(ProcessBuilder.java:1048)\n\tat org.apache.spark.api.python.PythonWorkerFactory.startDaemon(PythonWorkerFactory.scala:197)\n\tat org.apache.spark.api.python.PythonWorkerFactory.createThroughDaemon(PythonWorkerFactory.scala:122)\n\tat org.apache.spark.api.python.PythonWorkerFactory.create(PythonWorkerFactory.scala:95)\n\tat org.apache.spark.SparkEnv.createPythonWorker(SparkEnv.scala:117)\n\tat org.apache.spark.api.python.BasePythonRunner.compute(PythonRunner.scala:109)\n\tat org.apache.spark.api.python.PythonRDD.compute(PythonRDD.scala:65)\n\tat org.apache.spark.rdd.RDD.computeOrReadCheckpoint(RDD.scala:324)\n\tat org.apache.spark.rdd.RDD.iterator(RDD.scala:288)\n\tat org.apache.spark.rdd.MapPartitionsRDD.compute(MapPartitionsRDD.scala:52)\n\tat org.apache.spark.rdd.RDD.computeOrReadCheckpoint(RDD.scala:324)\n\tat org.apache.spark.rdd.RDD.iterator(RDD.scala:288)\n\tat org.apache.spark.rdd.MapPartitionsRDD.compute(MapPartitionsRDD.scala:52)\n\tat org.apache.spark.rdd.RDD.computeOrReadCheckpoint(RDD.scala:324)\n\tat org.apache.spark.rdd.RDD.iterator(RDD.scala:288)\n\tat org.apache.spark.rdd.MapPartitionsRDD.compute(MapPartitionsRDD.scala:52)\n\tat org.apache.spark.rdd.RDD.computeOrReadCheckpoint(RDD.scala:324)\n\tat org.apache.spark.rdd.RDD.iterator(RDD.scala:288)\n\tat org.apache.spark.rdd.MapPartitionsRDD.compute(MapPartitionsRDD.scala:52)\n\tat org.apache.spark.rdd.RDD.computeOrReadCheckpoint(RDD.scala:324)\n\tat org.apache.spark.rdd.RDD.iterator(RDD.scala:288)\n\tat org.apache.spark.rdd.MapPartitionsRDD.compute(MapPartitionsRDD.scala:52)\n\tat org.apache.spark.rdd.RDD.computeOrReadCheckpoint(RDD.scala:324)\n\tat org.apache.spark.rdd.RDD.iterator(RDD.scala:288)\n\tat org.apache.spark.rdd.MapPartitionsRDD.compute(MapPartitionsRDD.scala:52)\n\tat org.apache.spark.rdd.RDD.computeOrReadCheckpoint(RDD.scala:324)\n\tat org.apache.spark.rdd.RDD.iterator(RDD.scala:288)\n\tat org.apache.spark.rdd.MapPartitionsRDD.compute(MapPartitionsRDD.scala:52)\n\tat org.apache.spark.rdd.RDD.computeOrReadCheckpoint(RDD.scala:324)\n\tat org.apache.spark.rdd.RDD.iterator(RDD.scala:288)\n\tat org.apache.spark.scheduler.ResultTask.runTask(ResultTask.scala:90)\n\tat org.apache.spark.scheduler.Task.run(Task.scala:123)\n\tat org.apache.spark.executor.Executor$TaskRunner$$anonfun$10.apply(Executor.scala:408)\n\tat org.apache.spark.util.Utils$.tryWithSafeFinally(Utils.scala:1360)\n\tat org.apache.spark.executor.Executor$TaskRunner.run(Executor.scala:414)\n\tat java.util.concurrent.ThreadPoolExecutor.runWorker(ThreadPoolExecutor.java:1149)\n\tat java.util.concurrent.ThreadPoolExecutor$Worker.run(ThreadPoolExecutor.java:624)\n\tat java.lang.Thread.run(Thread.java:748)\nCaused by: java.io.IOException: error=13, Permission denied\n\tat java.lang.UNIXProcess.forkAndExec(Native Method)\n\tat java.lang.UNIXProcess.<init>(UNIXProcess.java:247)\n\tat java.lang.ProcessImpl.start(ProcessImpl.java:134)\n\tat java.lang.ProcessBuilder.start(ProcessBuilder.java:1029)\n\t... 37 more\n\nDriver stacktrace:\n\tat org.apache.spark.scheduler.DAGScheduler.org$apache$spark$scheduler$DAGScheduler$$failJobAndIndependentStages(DAGScheduler.scala:1889)\n\tat org.apache.spark.scheduler.DAGScheduler$$anonfun$abortStage$1.apply(DAGScheduler.scala:1877)\n\tat org.apache.spark.scheduler.DAGScheduler$$anonfun$abortStage$1.apply(DAGScheduler.scala:1876)\n\tat scala.collection.mutable.ResizableArray$class.foreach(ResizableArray.scala:59)\n\tat scala.collection.mutable.ArrayBuffer.foreach(ArrayBuffer.scala:48)\n\tat org.apache.spark.scheduler.DAGScheduler.abortStage(DAGScheduler.scala:1876)\n\tat org.apache.spark.scheduler.DAGScheduler$$anonfun$handleTaskSetFailed$1.apply(DAGScheduler.scala:926)\n\tat org.apache.spark.scheduler.DAGScheduler$$anonfun$handleTaskSetFailed$1.apply(DAGScheduler.scala:926)\n\tat scala.Option.foreach(Option.scala:257)\n\tat org.apache.spark.scheduler.DAGScheduler.handleTaskSetFailed(DAGScheduler.scala:926)\n\tat org.apache.spark.scheduler.DAGSchedulerEventProcessLoop.doOnReceive(DAGScheduler.scala:2110)\n\tat org.apache.spark.scheduler.DAGSchedulerEventProcessLoop.onReceive(DAGScheduler.scala:2059)\n\tat org.apache.spark.scheduler.DAGSchedulerEventProcessLoop.onReceive(DAGScheduler.scala:2048)\n\tat org.apache.spark.util.EventLoop$$anon$1.run(EventLoop.scala:49)\n\tat org.apache.spark.scheduler.DAGScheduler.runJob(DAGScheduler.scala:737)\n\tat org.apache.spark.SparkContext.runJob(SparkContext.scala:2061)\n\tat org.apache.spark.SparkContext.runJob(SparkContext.scala:2082)\n\tat org.apache.spark.SparkContext.runJob(SparkContext.scala:2101)\n\tat org.apache.spark.sql.execution.SparkPlan.executeTake(SparkPlan.scala:365)\n\tat org.apache.spark.sql.execution.CollectLimitExec.executeCollect(limit.scala:38)\n\tat org.apache.spark.sql.Dataset.org$apache$spark$sql$Dataset$$collectFromPlan(Dataset.scala:3389)\n\tat org.apache.spark.sql.Dataset$$anonfun$head$1.apply(Dataset.scala:2550)\n\tat org.apache.spark.sql.Dataset$$anonfun$head$1.apply(Dataset.scala:2550)\n\tat org.apache.spark.sql.Dataset$$anonfun$52.apply(Dataset.scala:3370)\n\tat org.apache.spark.sql.execution.SQLExecution$$anonfun$withNewExecutionId$1.apply(SQLExecution.scala:78)\n\tat org.apache.spark.sql.execution.SQLExecution$.withSQLConfPropagated(SQLExecution.scala:125)\n\tat org.apache.spark.sql.execution.SQLExecution$.withNewExecutionId(SQLExecution.scala:73)\n\tat org.apache.spark.sql.Dataset.withAction(Dataset.scala:3369)\n\tat org.apache.spark.sql.Dataset.head(Dataset.scala:2550)\n\tat org.apache.spark.sql.Dataset.take(Dataset.scala:2764)\n\tat org.apache.spark.sql.Dataset.getRows(Dataset.scala:254)\n\tat org.apache.spark.sql.Dataset.showString(Dataset.scala:291)\n\tat sun.reflect.NativeMethodAccessorImpl.invoke0(Native Method)\n\tat sun.reflect.NativeMethodAccessorImpl.invoke(NativeMethodAccessorImpl.java:62)\n\tat sun.reflect.DelegatingMethodAccessorImpl.invoke(DelegatingMethodAccessorImpl.java:43)\n\tat java.lang.reflect.Method.invoke(Method.java:498)\n\tat py4j.reflection.MethodInvoker.invoke(MethodInvoker.java:244)\n\tat py4j.reflection.ReflectionEngine.invoke(ReflectionEngine.java:357)\n\tat py4j.Gateway.invoke(Gateway.java:282)\n\tat py4j.commands.AbstractCommand.invokeMethod(AbstractCommand.java:132)\n\tat py4j.commands.CallCommand.execute(CallCommand.java:79)\n\tat py4j.GatewayConnection.run(GatewayConnection.java:238)\n\tat java.lang.Thread.run(Thread.java:748)\nCaused by: java.io.IOException: Cannot run program \"/home/ubuntu/spark-2.4.4-bin-hadoop2.7/python\": error=13, Permission denied\n\tat java.lang.ProcessBuilder.start(ProcessBuilder.java:1048)\n\tat org.apache.spark.api.python.PythonWorkerFactory.startDaemon(PythonWorkerFactory.scala:197)\n\tat org.apache.spark.api.python.PythonWorkerFactory.createThroughDaemon(PythonWorkerFactory.scala:122)\n\tat org.apache.spark.api.python.PythonWorkerFactory.create(PythonWorkerFactory.scala:95)\n\tat org.apache.spark.SparkEnv.createPythonWorker(SparkEnv.scala:117)\n\tat org.apache.spark.api.python.BasePythonRunner.compute(PythonRunner.scala:109)\n\tat org.apache.spark.api.python.PythonRDD.compute(PythonRDD.scala:65)\n\tat org.apache.spark.rdd.RDD.computeOrReadCheckpoint(RDD.scala:324)\n\tat org.apache.spark.rdd.RDD.iterator(RDD.scala:288)\n\tat org.apache.spark.rdd.MapPartitionsRDD.compute(MapPartitionsRDD.scala:52)\n\tat org.apache.spark.rdd.RDD.computeOrReadCheckpoint(RDD.scala:324)\n\tat org.apache.spark.rdd.RDD.iterator(RDD.scala:288)\n\tat org.apache.spark.rdd.MapPartitionsRDD.compute(MapPartitionsRDD.scala:52)\n\tat org.apache.spark.rdd.RDD.computeOrReadCheckpoint(RDD.scala:324)\n\tat org.apache.spark.rdd.RDD.iterator(RDD.scala:288)\n\tat org.apache.spark.rdd.MapPartitionsRDD.compute(MapPartitionsRDD.scala:52)\n\tat org.apache.spark.rdd.RDD.computeOrReadCheckpoint(RDD.scala:324)\n\tat org.apache.spark.rdd.RDD.iterator(RDD.scala:288)\n\tat org.apache.spark.rdd.MapPartitionsRDD.compute(MapPartitionsRDD.scala:52)\n\tat org.apache.spark.rdd.RDD.computeOrReadCheckpoint(RDD.scala:324)\n\tat org.apache.spark.rdd.RDD.iterator(RDD.scala:288)\n\tat org.apache.spark.rdd.MapPartitionsRDD.compute(MapPartitionsRDD.scala:52)\n\tat org.apache.spark.rdd.RDD.computeOrReadCheckpoint(RDD.scala:324)\n\tat org.apache.spark.rdd.RDD.iterator(RDD.scala:288)\n\tat org.apache.spark.rdd.MapPartitionsRDD.compute(MapPartitionsRDD.scala:52)\n\tat org.apache.spark.rdd.RDD.computeOrReadCheckpoint(RDD.scala:324)\n\tat org.apache.spark.rdd.RDD.iterator(RDD.scala:288)\n\tat org.apache.spark.rdd.MapPartitionsRDD.compute(MapPartitionsRDD.scala:52)\n\tat org.apache.spark.rdd.RDD.computeOrReadCheckpoint(RDD.scala:324)\n\tat org.apache.spark.rdd.RDD.iterator(RDD.scala:288)\n\tat org.apache.spark.scheduler.ResultTask.runTask(ResultTask.scala:90)\n\tat org.apache.spark.scheduler.Task.run(Task.scala:123)\n\tat org.apache.spark.executor.Executor$TaskRunner$$anonfun$10.apply(Executor.scala:408)\n\tat org.apache.spark.util.Utils$.tryWithSafeFinally(Utils.scala:1360)\n\tat org.apache.spark.executor.Executor$TaskRunner.run(Executor.scala:414)\n\tat java.util.concurrent.ThreadPoolExecutor.runWorker(ThreadPoolExecutor.java:1149)\n\tat java.util.concurrent.ThreadPoolExecutor$Worker.run(ThreadPoolExecutor.java:624)\n\t... 1 more\nCaused by: java.io.IOException: error=13, Permission denied\n\tat java.lang.UNIXProcess.forkAndExec(Native Method)\n\tat java.lang.UNIXProcess.<init>(UNIXProcess.java:247)\n\tat java.lang.ProcessImpl.start(ProcessImpl.java:134)\n\tat java.lang.ProcessBuilder.start(ProcessBuilder.java:1029)\n\t... 37 more\n"
     ]
    }
   ],
   "source": [
    "coors_df.show(5)"
   ]
  },
  {
   "cell_type": "code",
   "execution_count": 64,
   "metadata": {},
   "outputs": [],
   "source": [
    "train_test = pd.read_csv('train_test_split.csv')"
   ]
  },
  {
   "cell_type": "code",
   "execution_count": 65,
   "metadata": {},
   "outputs": [
    {
     "data": {
      "text/html": [
       "<div>\n",
       "<style scoped>\n",
       "    .dataframe tbody tr th:only-of-type {\n",
       "        vertical-align: middle;\n",
       "    }\n",
       "\n",
       "    .dataframe tbody tr th {\n",
       "        vertical-align: top;\n",
       "    }\n",
       "\n",
       "    .dataframe thead th {\n",
       "        text-align: right;\n",
       "    }\n",
       "</style>\n",
       "<table border=\"1\" class=\"dataframe\">\n",
       "  <thead>\n",
       "    <tr style=\"text-align: right;\">\n",
       "      <th></th>\n",
       "      <th>device_id</th>\n",
       "      <th>gender</th>\n",
       "      <th>age</th>\n",
       "      <th>group</th>\n",
       "      <th>train_test_flag</th>\n",
       "    </tr>\n",
       "  </thead>\n",
       "  <tbody>\n",
       "    <tr>\n",
       "      <th>0</th>\n",
       "      <td>-7548291590301750000</td>\n",
       "      <td>M</td>\n",
       "      <td>33</td>\n",
       "      <td>M32+</td>\n",
       "      <td>train</td>\n",
       "    </tr>\n",
       "    <tr>\n",
       "      <th>1</th>\n",
       "      <td>6943568600617760000</td>\n",
       "      <td>M</td>\n",
       "      <td>37</td>\n",
       "      <td>M32+</td>\n",
       "      <td>train</td>\n",
       "    </tr>\n",
       "    <tr>\n",
       "      <th>2</th>\n",
       "      <td>5441349705980020000</td>\n",
       "      <td>M</td>\n",
       "      <td>40</td>\n",
       "      <td>M32+</td>\n",
       "      <td>train</td>\n",
       "    </tr>\n",
       "    <tr>\n",
       "      <th>3</th>\n",
       "      <td>-5393876656119450000</td>\n",
       "      <td>M</td>\n",
       "      <td>33</td>\n",
       "      <td>M32+</td>\n",
       "      <td>train</td>\n",
       "    </tr>\n",
       "    <tr>\n",
       "      <th>4</th>\n",
       "      <td>4543988487649880000</td>\n",
       "      <td>M</td>\n",
       "      <td>53</td>\n",
       "      <td>M32+</td>\n",
       "      <td>train</td>\n",
       "    </tr>\n",
       "  </tbody>\n",
       "</table>\n",
       "</div>"
      ],
      "text/plain": [
       "             device_id gender  age group train_test_flag\n",
       "0 -7548291590301750000      M   33  M32+           train\n",
       "1  6943568600617760000      M   37  M32+           train\n",
       "2  5441349705980020000      M   40  M32+           train\n",
       "3 -5393876656119450000      M   33  M32+           train\n",
       "4  4543988487649880000      M   53  M32+           train"
      ]
     },
     "execution_count": 65,
     "metadata": {},
     "output_type": "execute_result"
    }
   ],
   "source": [
    "train_test.head()"
   ]
  },
  {
   "cell_type": "code",
   "execution_count": 63,
   "metadata": {},
   "outputs": [
    {
     "data": {
      "text/plain": [
       "74645"
      ]
     },
     "execution_count": 63,
     "metadata": {},
     "output_type": "execute_result"
    }
   ],
   "source": [
    "len(train_test.device_id.unique())"
   ]
  },
  {
   "cell_type": "code",
   "execution_count": 66,
   "metadata": {},
   "outputs": [],
   "source": [
    "train_ = train_test[train_test['train_test_flag'] == 'train']['device_id']\n",
    "test_ = train_test[train_test['train_test_flag'] == 'test']['device_id']"
   ]
  },
  {
   "cell_type": "code",
   "execution_count": 69,
   "metadata": {},
   "outputs": [
    {
     "data": {
      "text/plain": [
       "859293"
      ]
     },
     "execution_count": 69,
     "metadata": {},
     "output_type": "execute_result"
    }
   ],
   "source": [
    "df_event_data_llc_with_Avg_TS_lag_med.select('event_id').distinct().count()"
   ]
  },
  {
   "cell_type": "code",
   "execution_count": 67,
   "metadata": {},
   "outputs": [
    {
     "name": "stdout",
     "output_type": "stream",
     "text": [
      "+-------+-------+-------+--------------------+--------------------+------+---+------+--------+-------------------+---------+--------+-----+----+---------+----+----+-----------------+-------------+--------------+------------+\n",
      "|lat_med|lon_med|    eid|                 did|           device_id|gender|age|groups|event_id|         time_stamp|longitude|latitude|Month|Year|DayOfWeek|Week|Hour|     avg(Diff_TS)|prev_Latitude|prev_Longitude|Change_in_LL|\n",
      "+-------+-------+-------+--------------------+--------------------+------+---+------+--------+-------------------+---------+--------+-----+----+---------+----+----+-----------------+-------------+--------------+------------+\n",
      "|  23.19| 113.24|2728961|-9222956879900150000|-9222956879900150000|     M| 36|  M32+| 2728961|2016-05-07 14:22:50|   113.24|   23.19|    5|2016|        7|  18|  14|           677.55|        23.19|        113.24|        true|\n",
      "|  30.87| 114.36| 340913|-9221026417907250000|-9221026417907250000|     F| 31|F25-32|  340913|2016-05-05 07:04:27|   114.36|   30.87|    5|2016|        5|  18|   7|751.3595238095238|        30.87|        114.36|        true|\n",
      "|   34.7| 113.71| 837124|-9206202041936920000|-9206202041936920000|     M| 20| M0-24|  837124|2016-05-06 07:52:37|   113.71|    34.7|    5|2016|        6|  18|   7|419.8119047619047|         34.7|        113.71|        true|\n",
      "|   34.7| 113.71|1576659|-9206202041936920000|-9206202041936920000|     M| 20| M0-24| 1576659|2016-05-04 10:28:53|   113.71|    34.7|    5|2016|        4|  18|  10|419.8119047619047|         34.7|        113.71|        true|\n",
      "|  22.73|  113.8| 790970|-9205645091197540000|-9205645091197540000|     M| 44|  M32+|  790970|2016-05-05 11:07:33|    113.8|   22.73|    5|2016|        5|  18|  11|618.6699999999998|        22.73|         113.8|        true|\n",
      "+-------+-------+-------+--------------------+--------------------+------+---+------+--------+-------------------+---------+--------+-----+----+---------+----+----+-----------------+-------------+--------------+------------+\n",
      "only showing top 5 rows\n",
      "\n"
     ]
    }
   ],
   "source": [
    "df_event_data_llc_with_Avg_TS_lag_med.show(5)"
   ]
  },
  {
   "cell_type": "code",
   "execution_count": 70,
   "metadata": {},
   "outputs": [
    {
     "data": {
      "text/plain": [
       "859293"
      ]
     },
     "execution_count": 70,
     "metadata": {},
     "output_type": "execute_result"
    }
   ],
   "source": [
    "df_event_data_llc_with_Avg_TS_lag_med.count()"
   ]
  },
  {
   "cell_type": "code",
   "execution_count": 66,
   "metadata": {},
   "outputs": [
    {
     "name": "stdout",
     "output_type": "stream",
     "text": [
      "root\n",
      " |-- event_id: integer (nullable = true)\n",
      " |-- app_id: long (nullable = true)\n",
      " |-- is_installed: integer (nullable = true)\n",
      " |-- is_active: integer (nullable = true)\n",
      " |-- label_id: integer (nullable = true)\n",
      " |-- category: string (nullable = true)\n",
      "\n"
     ]
    }
   ],
   "source": [
    "df.printSchema()"
   ]
  },
  {
   "cell_type": "code",
   "execution_count": 68,
   "metadata": {},
   "outputs": [],
   "source": [
    "df_V1 = df_V1.withColumn('category',when(col('category').rlike(\"music|song|movie|show\"),\"entertainment\")\n",
    "                                     .when(col('category').rlike(\"sport\"),\"sports\")\n",
    "                                     .when(col('category').rlike(\"game|gam\"),\"game\")\n",
    "                                     .when(col('category').rlike(\"edu|study\"),\"education\")\n",
    "                                     .when(col('category').rlike(\"income|money|invest|loan|fund|broker\"),\"monetary\")\n",
    "                                     .when(col('category').rlike(\"health|medical\"),\"health\")\n",
    "                                     .when(col('category').rlike(\"library|book\"),\"books\")\n",
    "                                     .when(col('category').rlike(\"anim\"),\"animation\")\n",
    "                                     .when(col('category').rlike(\"comic\"),\"comics\")\n",
    "                                     .when(col('category').rlike(\"baby|kid|child\"),\"kids\")\n",
    "                                     .when(col('category').rlike(\"travel|tour|hotel|train\"),\"travel\")\n",
    "                                     .when(col('category').rlike(\"make|beauty\"),\"cosmetics\")\n",
    "                                     .when(col('category').rlike(\"bank\"),\"bank\")\n",
    "                                     .when(col('category').rlike(\"insur\"),\"insurance\")\n",
    "                                     .when(col('category').rlike(\"shop\"),\"shopping\")\n",
    "                                     .when(col('category').rlike(\"shares|equity|stock|future|option\"),\"market\")\n",
    "                                     .when(col('category').rlike(\"car\"),\"cars\")\n",
    "                                     .when(col('category').rlike(\"info\"),\"info\")\n",
    "                                     .when(col('category').rlike(\"airline\"),\"airlines\")\n",
    "                                     .when(col('category').rlike(\"art|culture|paint\"),\"art\")\n",
    "                                     .when(col('category').rlike(\"myth\"),\"myth\")\n",
    "                                     .when(col('category').rlike(\"basketball|rpg|warcraft|football|chess\"),\"game\")\n",
    "                                     .otherwise('others'))\n",
    "\n",
    "df_V2 = df_V2.withColumn('category',when(col('category').rlike(\"music|song|movie|show\"),\"entertainment\")\n",
    "                                     .when(col('category').rlike(\"sport\"),\"sports\")\n",
    "                                     .when(col('category').rlike(\"game|gam\"),\"game\")\n",
    "                                     .when(col('category').rlike(\"edu|study\"),\"education\")\n",
    "                                     .when(col('category').rlike(\"income|money|invest|loan|fund|broker\"),\"monetary\")\n",
    "                                     .when(col('category').rlike(\"health|medical\"),\"health\")\n",
    "                                     .when(col('category').rlike(\"library|book\"),\"books\")\n",
    "                                     .when(col('category').rlike(\"anim\"),\"animation\")\n",
    "                                     .when(col('category').rlike(\"comic\"),\"comics\")\n",
    "                                     .when(col('category').rlike(\"baby|kid|child\"),\"kids\")\n",
    "                                     .when(col('category').rlike(\"travel|tour|hotel|train\"),\"travel\")\n",
    "                                     .when(col('category').rlike(\"make|beauty\"),\"cosmetics\")\n",
    "                                     .when(col('category').rlike(\"bank\"),\"bank\")\n",
    "                                     .when(col('category').rlike(\"insur\"),\"insurance\")\n",
    "                                     .when(col('category').rlike(\"shop\"),\"shopping\")\n",
    "                                     .when(col('category').rlike(\"shares|equity|stock|future|option\"),\"market\")\n",
    "                                     .when(col('category').rlike(\"car\"),\"cars\")\n",
    "                                     .when(col('category').rlike(\"info\"),\"info\")\n",
    "                                     .when(col('category').rlike(\"airline\"),\"airlines\")\n",
    "                                     .when(col('category').rlike(\"art|culture|paint\"),\"art\")\n",
    "                                     .when(col('category').rlike(\"myth\"),\"myth\")\n",
    "                                     .when(col('category').rlike(\"basketball|rpg|warcraft|football|chess\"),\"game\")\n",
    "                                     .otherwise('others'))\n",
    "\n",
    "df = df.withColumn('category',when(col('category').rlike(\"music|song|movie|show\"),\"entertainment\")\n",
    "                                     .when(col('category').rlike(\"sport\"),\"sports\")\n",
    "                                     .when(col('category').rlike(\"game|gam\"),\"game\")\n",
    "                                     .when(col('category').rlike(\"edu|study\"),\"education\")\n",
    "                                     .when(col('category').rlike(\"income|money|invest|loan|fund|broker\"),\"monetary\")\n",
    "                                     .when(col('category').rlike(\"health|medical\"),\"health\")\n",
    "                                     .when(col('category').rlike(\"library|book\"),\"books\")\n",
    "                                     .when(col('category').rlike(\"anim\"),\"animation\")\n",
    "                                     .when(col('category').rlike(\"comic\"),\"comics\")\n",
    "                                     .when(col('category').rlike(\"baby|kid|child\"),\"kids\")\n",
    "                                     .when(col('category').rlike(\"travel|tour|hotel|train\"),\"travel\")\n",
    "                                     .when(col('category').rlike(\"make|beauty\"),\"cosmetics\")\n",
    "                                     .when(col('category').rlike(\"bank\"),\"bank\")\n",
    "                                     .when(col('category').rlike(\"insur\"),\"insurance\")\n",
    "                                     .when(col('category').rlike(\"shop\"),\"shopping\")\n",
    "                                     .when(col('category').rlike(\"shares|equity|stock|future|option\"),\"market\")\n",
    "                                     .when(col('category').rlike(\"car\"),\"cars\")\n",
    "                                     .when(col('category').rlike(\"info\"),\"info\")\n",
    "                                     .when(col('category').rlike(\"airline\"),\"airlines\")\n",
    "                                     .when(col('category').rlike(\"art|culture|paint\"),\"art\")\n",
    "                                     .when(col('category').rlike(\"myth\"),\"myth\")\n",
    "                                     .when(col('category').rlike(\"basketball|rpg|warcraft|football|chess\"),\"game\")\n",
    "                                     .otherwise('others'))"
   ]
  },
  {
   "cell_type": "code",
   "execution_count": 69,
   "metadata": {},
   "outputs": [
    {
     "name": "stdout",
     "output_type": "stream",
     "text": [
      "+--------+--------------------+------------+---------+--------+--------+\n",
      "|event_id|              app_id|is_installed|is_active|label_id|category|\n",
      "+--------+--------------------+------------+---------+--------+--------+\n",
      "| 1000000|-1051986413094956896|           1|        0|     787|  others|\n",
      "| 1000000|-1234297064722937607|           1|        0|     405|  others|\n",
      "| 1000000|-1234297064722937607|           1|        0|     737|monetary|\n",
      "| 1000000|-1234297064722937607|           1|        0|     738|monetary|\n",
      "| 1000000|-1562373526021293187|           1|        0|    1007|monetary|\n",
      "+--------+--------------------+------------+---------+--------+--------+\n",
      "only showing top 5 rows\n",
      "\n"
     ]
    }
   ],
   "source": [
    "df.show(5)"
   ]
  },
  {
   "cell_type": "code",
   "execution_count": 70,
   "metadata": {},
   "outputs": [
    {
     "name": "stdout",
     "output_type": "stream",
     "text": [
      "+--------+--------------------+------------+---------+--------+--------+\n",
      "|event_id|              app_id|is_installed|is_active|label_id|category|\n",
      "+--------+--------------------+------------+---------+--------+--------+\n",
      "| 1000000|-1051986413094956896|           1|        0|    1012|    bank|\n",
      "| 1000000|-1051986413094956896|           1|        0|     405|  others|\n",
      "| 1000000|-1051986413094956896|           1|        0|     777|  others|\n",
      "| 1000000|-1051986413094956896|           1|        0|     782|monetary|\n",
      "| 1000000|-1234297064722937607|           1|        0|     781|  others|\n",
      "+--------+--------------------+------------+---------+--------+--------+\n",
      "only showing top 5 rows\n",
      "\n"
     ]
    }
   ],
   "source": [
    "df_V1.show(5)"
   ]
  },
  {
   "cell_type": "code",
   "execution_count": 71,
   "metadata": {},
   "outputs": [
    {
     "name": "stdout",
     "output_type": "stream",
     "text": [
      "+--------+--------------------+------------+---------+--------+--------+\n",
      "|event_id|              app_id|is_installed|is_active|label_id|category|\n",
      "+--------+--------------------+------------+---------+--------+--------+\n",
      "| 1000000|-1051986413094956896|           1|        0|     730|  others|\n",
      "| 1000000|-1051986413094956896|           1|        0|     756|    bank|\n",
      "| 1000000|-1051986413094956896|           1|        0|     761|  others|\n",
      "| 1000000|-1234297064722937607|           1|        0|     730|  others|\n",
      "| 1000000|-1234297064722937607|           1|        0|     774|  others|\n",
      "+--------+--------------------+------------+---------+--------+--------+\n",
      "only showing top 5 rows\n",
      "\n"
     ]
    }
   ],
   "source": [
    "df_V2.show(5)"
   ]
  },
  {
   "cell_type": "code",
   "execution_count": 72,
   "metadata": {},
   "outputs": [],
   "source": [
    "df_G = df_V1.groupby(col('event_id')).pivot('category').sum('is_active')\n",
    "\n",
    "df_G2 = df_V2.groupby(col('event_id')).pivot('category').sum('is_active')\n",
    "\n",
    "df_G3 = df.groupby(col('event_id')).pivot('category').sum('is_active')"
   ]
  },
  {
   "cell_type": "code",
   "execution_count": 73,
   "metadata": {},
   "outputs": [],
   "source": [
    "df_all = df_G.union(df_G2).union(df_G3)"
   ]
  },
  {
   "cell_type": "code",
   "execution_count": 74,
   "metadata": {},
   "outputs": [
    {
     "name": "stdout",
     "output_type": "stream",
     "text": [
      "+--------+--------+---------+----+----+-----+----+------+---------+---------+-------------+----+------+----+---------+----+------+--------+----+------+--------+------+------+\n",
      "|event_id|airlines|animation| art|bank|books|cars|comics|cosmetics|education|entertainment|game|health|info|insurance|kids|market|monetary|myth|others|shopping|sports|travel|\n",
      "+--------+--------+---------+----+----+-----+----+------+---------+---------+-------------+----+------+----+---------+----+------+--------+----+------+--------+------+------+\n",
      "|  100170|    null|     null|null|   1| null|null|  null|     null|     null|         null|null|  null|null|     null|null|  null|       4|null|    35|    null|  null|  null|\n",
      "| 1012609|    null|     null|null|null| null|null|  null|     null|     null|         null|null|  null|null|     null|null|  null|    null|null|     5|    null|  null|  null|\n",
      "| 1016546|    null|     null|null|null| null|null|  null|     null|     null|         null|null|  null|null|     null|null|  null|    null|null|    30|    null|  null|  null|\n",
      "| 1038247|    null|     null|null|   0| null|null|  null|     null|     null|         null|null|  null|   0|        0|null|  null|       0|null|     3|       0|  null|  null|\n",
      "| 1056584|    null|     null|null|   0|    1|null|  null|     null|     null|         null|   0|     0|null|     null|null|  null|       0|null|     4|       1|  null|     2|\n",
      "+--------+--------+---------+----+----+-----+----+------+---------+---------+-------------+----+------+----+---------+----+------+--------+----+------+--------+------+------+\n",
      "only showing top 5 rows\n",
      "\n"
     ]
    }
   ],
   "source": [
    "df_all.show(5)"
   ]
  },
  {
   "cell_type": "code",
   "execution_count": 75,
   "metadata": {},
   "outputs": [],
   "source": [
    "df_all = df_all.fillna(0)"
   ]
  },
  {
   "cell_type": "code",
   "execution_count": 145,
   "metadata": {},
   "outputs": [],
   "source": [
    "final_data_1 = df_event_data_llc_with_Avg_TS_lag_med.join(df_all,['event_id'],'left')"
   ]
  },
  {
   "cell_type": "code",
   "execution_count": 146,
   "metadata": {},
   "outputs": [],
   "source": [
    "final_data_1 = final_data_1.drop('eid').drop('did')"
   ]
  },
  {
   "cell_type": "code",
   "execution_count": 85,
   "metadata": {},
   "outputs": [
    {
     "data": {
      "text/plain": [
       "['event_id',\n",
       " 'lat_med',\n",
       " 'lon_med',\n",
       " 'device_id',\n",
       " 'gender',\n",
       " 'age',\n",
       " 'groups',\n",
       " 'time_stamp',\n",
       " 'longitude',\n",
       " 'latitude',\n",
       " 'Month',\n",
       " 'Year',\n",
       " 'DayOfWeek',\n",
       " 'Week',\n",
       " 'Hour',\n",
       " 'avg(Diff_TS)',\n",
       " 'prev_Latitude',\n",
       " 'prev_Longitude',\n",
       " 'Change_in_LL',\n",
       " 'airlines',\n",
       " 'animation',\n",
       " 'art',\n",
       " 'bank',\n",
       " 'books',\n",
       " 'cars',\n",
       " 'comics',\n",
       " 'cosmetics',\n",
       " 'education',\n",
       " 'entertainment',\n",
       " 'game',\n",
       " 'health',\n",
       " 'info',\n",
       " 'insurance',\n",
       " 'kids',\n",
       " 'market',\n",
       " 'monetary',\n",
       " 'myth',\n",
       " 'others',\n",
       " 'shopping',\n",
       " 'sports',\n",
       " 'travel']"
      ]
     },
     "execution_count": 85,
     "metadata": {},
     "output_type": "execute_result"
    }
   ],
   "source": [
    "final_data_1.columns"
   ]
  },
  {
   "cell_type": "code",
   "execution_count": 147,
   "metadata": {},
   "outputs": [],
   "source": [
    "final_data_1 = final_data_1.withColumn('Key',col('latitude').cast(StringType())+'_'+col('longitude').cast(StringType()))"
   ]
  },
  {
   "cell_type": "code",
   "execution_count": 148,
   "metadata": {},
   "outputs": [],
   "source": [
    "final_data_1 = final_data_1.withColumn('LL_Cluster', mapping_expr[final_data_1['Key']])"
   ]
  },
  {
   "cell_type": "code",
   "execution_count": 107,
   "metadata": {},
   "outputs": [
    {
     "name": "stdout",
     "output_type": "stream",
     "text": [
      "+--------+-------+-------+--------------------+------+---+------+-------------------+---------+--------+-----+----+---------+----+----+------------------+-------------+--------------+------------+--------+---------+----+----+-----+----+------+---------+---------+-------------+----+------+----+---------+----+------+--------+----+------+--------+------+------+----+----------+\n",
      "|event_id|lat_med|lon_med|           device_id|gender|age|groups|         time_stamp|longitude|latitude|Month|Year|DayOfWeek|Week|Hour|      avg(Diff_TS)|prev_Latitude|prev_Longitude|Change_in_LL|airlines|animation| art|bank|books|cars|comics|cosmetics|education|entertainment|game|health|info|insurance|kids|market|monetary|myth|others|shopping|sports|travel| Key|LL_Cluster|\n",
      "+--------+-------+-------+--------------------+------+---+------+-------------------+---------+--------+-----+----+---------+----+----+------------------+-------------+--------------+------------+--------+---------+----+----+-----+----+------+---------+---------+-------------+----+------+----+---------+----+------+--------+----+------+--------+------+------+----+----------+\n",
      "|     471|  34.74| 111.92|-8340098378141150000|     M| 28|M25-32|2016-05-04 00:45:36|   111.92|   34.74|    5|2016|        4|  18|   0|1424.8619047619047|        34.74|        111.92|        true|    null|     null|null|null| null|null|  null|     null|     null|         null|null|  null|null|     null|null|  null|    null|null|  null|    null|  null|  null|null|      null|\n",
      "|     496|  34.23| 108.41|-1145489861592230000|     M| 49|  M32+|2016-05-04 00:16:34|   108.41|   34.23|    5|2016|        4|  18|   0| 518.0166666666667|        34.23|         108.4|       false|    null|     null|null|null| null|null|  null|     null|     null|         null|null|  null|null|     null|null|  null|    null|null|  null|    null|  null|  null|null|      null|\n",
      "|    1591|  41.82| 123.47|-3746248670824150000|     M| 46|  M32+|2016-05-07 01:40:05|   123.47|   41.82|    5|2016|        7|  18|   1| 907.4785714285715|        41.82|        123.47|        true|    null|     null|null|null| null|null|  null|     null|     null|         null|null|  null|null|     null|null|  null|    null|null|  null|    null|  null|  null|null|      null|\n",
      "|    2659|  38.03| 114.47| 4782582047729160000|     M| 36|  M32+|2016-05-03 04:07:01|   114.47|   38.03|    5|2016|        3|  18|   4|1254.1937500000001|        38.03|        114.47|        true|    null|     null|null|null| null|null|  null|     null|     null|         null|null|  null|null|     null|null|  null|    null|null|  null|    null|  null|  null|null|      null|\n",
      "|    4519|  32.03| 119.73|-1084174363886130000|     M| 24| M0-24|2016-05-07 06:44:27|   119.73|   32.03|    5|2016|        7|  18|   6|1302.8357142857144|        32.03|        119.73|        true|    null|     null|null|null| null|null|  null|     null|     null|         null|null|  null|null|     null|null|  null|    null|null|  null|    null|  null|  null|null|      null|\n",
      "+--------+-------+-------+--------------------+------+---+------+-------------------+---------+--------+-----+----+---------+----+----+------------------+-------------+--------------+------------+--------+---------+----+----+-----+----+------+---------+---------+-------------+----+------+----+---------+----+------+--------+----+------+--------+------+------+----+----------+\n",
      "only showing top 5 rows\n",
      "\n"
     ]
    }
   ],
   "source": [
    "final_data_1.show(5)"
   ]
  },
  {
   "cell_type": "code",
   "execution_count": 149,
   "metadata": {},
   "outputs": [],
   "source": [
    "final_data_1 = final_data_1.fillna(0)"
   ]
  },
  {
   "cell_type": "code",
   "execution_count": 109,
   "metadata": {},
   "outputs": [
    {
     "data": {
      "text/plain": [
       "['event_id',\n",
       " 'lat_med',\n",
       " 'lon_med',\n",
       " 'device_id',\n",
       " 'gender',\n",
       " 'age',\n",
       " 'groups',\n",
       " 'time_stamp',\n",
       " 'longitude',\n",
       " 'latitude',\n",
       " 'Month',\n",
       " 'Year',\n",
       " 'DayOfWeek',\n",
       " 'Week',\n",
       " 'Hour',\n",
       " 'avg(Diff_TS)',\n",
       " 'prev_Latitude',\n",
       " 'prev_Longitude',\n",
       " 'Change_in_LL',\n",
       " 'airlines',\n",
       " 'animation',\n",
       " 'art',\n",
       " 'bank',\n",
       " 'books',\n",
       " 'cars',\n",
       " 'comics',\n",
       " 'cosmetics',\n",
       " 'education',\n",
       " 'entertainment',\n",
       " 'game',\n",
       " 'health',\n",
       " 'info',\n",
       " 'insurance',\n",
       " 'kids',\n",
       " 'market',\n",
       " 'monetary',\n",
       " 'myth',\n",
       " 'others',\n",
       " 'shopping',\n",
       " 'sports',\n",
       " 'travel',\n",
       " 'Key',\n",
       " 'LL_Cluster']"
      ]
     },
     "execution_count": 109,
     "metadata": {},
     "output_type": "execute_result"
    }
   ],
   "source": [
    "final_data_1.columns"
   ]
  },
  {
   "cell_type": "code",
   "execution_count": 153,
   "metadata": {},
   "outputs": [
    {
     "name": "stdout",
     "output_type": "stream",
     "text": [
      "root\n",
      " |-- event_id: integer (nullable = true)\n",
      " |-- lat_med: double (nullable = false)\n",
      " |-- lon_med: double (nullable = false)\n",
      " |-- device_id: long (nullable = true)\n",
      " |-- gender: string (nullable = true)\n",
      " |-- age: integer (nullable = true)\n",
      " |-- groups: string (nullable = true)\n",
      " |-- time_stamp: timestamp (nullable = true)\n",
      " |-- longitude: double (nullable = false)\n",
      " |-- latitude: double (nullable = false)\n",
      " |-- Month: integer (nullable = true)\n",
      " |-- Year: integer (nullable = true)\n",
      " |-- DayOfWeek: integer (nullable = true)\n",
      " |-- Week: integer (nullable = true)\n",
      " |-- Hour: integer (nullable = true)\n",
      " |-- avg(Diff_TS): double (nullable = false)\n",
      " |-- prev_Latitude: double (nullable = false)\n",
      " |-- prev_Longitude: double (nullable = false)\n",
      " |-- Change_in_LL: integer (nullable = false)\n",
      " |-- airlines: long (nullable = true)\n",
      " |-- animation: long (nullable = true)\n",
      " |-- art: long (nullable = true)\n",
      " |-- bank: long (nullable = true)\n",
      " |-- books: long (nullable = true)\n",
      " |-- cars: long (nullable = true)\n",
      " |-- comics: long (nullable = true)\n",
      " |-- cosmetics: long (nullable = true)\n",
      " |-- education: long (nullable = true)\n",
      " |-- entertainment: long (nullable = true)\n",
      " |-- game: long (nullable = true)\n",
      " |-- health: long (nullable = true)\n",
      " |-- info: long (nullable = true)\n",
      " |-- insurance: long (nullable = true)\n",
      " |-- kids: long (nullable = true)\n",
      " |-- market: long (nullable = true)\n",
      " |-- monetary: long (nullable = true)\n",
      " |-- myth: long (nullable = true)\n",
      " |-- others: long (nullable = true)\n",
      " |-- shopping: long (nullable = true)\n",
      " |-- sports: long (nullable = true)\n",
      " |-- travel: long (nullable = true)\n",
      " |-- Key: double (nullable = false)\n",
      " |-- LL_Cluster: integer (nullable = true)\n",
      "\n"
     ]
    }
   ],
   "source": [
    "final_data_1.printSchema()"
   ]
  },
  {
   "cell_type": "code",
   "execution_count": 151,
   "metadata": {},
   "outputs": [],
   "source": [
    "final_data_1 = final_data_1.withColumn('Change_in_LL',when(col('Change_in_LL') == True,1).otherwise(0))"
   ]
  },
  {
   "cell_type": "code",
   "execution_count": 154,
   "metadata": {},
   "outputs": [
    {
     "name": "stdout",
     "output_type": "stream",
     "text": [
      "root\n",
      " |-- event_id: integer (nullable = true)\n",
      " |-- lat_med: double (nullable = false)\n",
      " |-- lon_med: double (nullable = false)\n",
      " |-- device_id: long (nullable = true)\n",
      " |-- gender: string (nullable = true)\n",
      " |-- age: integer (nullable = true)\n",
      " |-- groups: string (nullable = true)\n",
      " |-- time_stamp: timestamp (nullable = true)\n",
      " |-- longitude: double (nullable = false)\n",
      " |-- latitude: double (nullable = false)\n",
      " |-- Month: integer (nullable = true)\n",
      " |-- Year: integer (nullable = true)\n",
      " |-- DayOfWeek: integer (nullable = true)\n",
      " |-- Week: integer (nullable = true)\n",
      " |-- Hour: integer (nullable = true)\n",
      " |-- avg(Diff_TS): double (nullable = false)\n",
      " |-- prev_Latitude: double (nullable = false)\n",
      " |-- prev_Longitude: double (nullable = false)\n",
      " |-- Change_in_LL: integer (nullable = false)\n",
      " |-- airlines: long (nullable = true)\n",
      " |-- animation: long (nullable = true)\n",
      " |-- art: long (nullable = true)\n",
      " |-- bank: long (nullable = true)\n",
      " |-- books: long (nullable = true)\n",
      " |-- cars: long (nullable = true)\n",
      " |-- comics: long (nullable = true)\n",
      " |-- cosmetics: long (nullable = true)\n",
      " |-- education: long (nullable = true)\n",
      " |-- entertainment: long (nullable = true)\n",
      " |-- game: long (nullable = true)\n",
      " |-- health: long (nullable = true)\n",
      " |-- info: long (nullable = true)\n",
      " |-- insurance: long (nullable = true)\n",
      " |-- kids: long (nullable = true)\n",
      " |-- market: long (nullable = true)\n",
      " |-- monetary: long (nullable = true)\n",
      " |-- myth: long (nullable = true)\n",
      " |-- others: long (nullable = true)\n",
      " |-- shopping: long (nullable = true)\n",
      " |-- sports: long (nullable = true)\n",
      " |-- travel: long (nullable = true)\n",
      " |-- Key: double (nullable = false)\n",
      " |-- LL_Cluster: integer (nullable = true)\n",
      "\n"
     ]
    }
   ],
   "source": [
    "final_data_1.printSchema()"
   ]
  },
  {
   "cell_type": "code",
   "execution_count": 157,
   "metadata": {},
   "outputs": [],
   "source": [
    "final_data_1_1 = final_data_1.groupby(col('device_id'),\n",
    "                                     col('gender'),\n",
    "                                     col('age'),\n",
    "                                      col('avg(Diff_TS)'),\n",
    "                                     col('LL_Cluster')).agg(                                     col('avg(Diff_TS)'),\n",
    "                                                            sum('Change_in_LL'),\n",
    "                                                            count('event_id'),\n",
    "                                                            sum('airlines'),\n",
    "                                                            sum('animation'),\n",
    "                                                            sum('art'),\n",
    "                                                            sum('bank'),\n",
    "                                                            sum('books'),\n",
    "                                                            sum('cars'),\n",
    "                                                            sum('comics'),\n",
    "                                                            sum('cosmetics'),\n",
    "                                                            sum('education'),\n",
    "                                                            sum('entertainment'),\n",
    "                                                            sum('game'),\n",
    "                                                            sum('health'),\n",
    "                                                            sum('info'),\n",
    "                                                            sum('insurance'),\n",
    "                                                            sum('kids'),\n",
    "                                                            sum('market'),\n",
    "                                                            sum('monetary'),\n",
    "                                                            sum('myth'),\n",
    "                                                            sum('others'),\n",
    "                                                            sum('shopping'),\n",
    "                                                            sum('sports'),\n",
    "                                                            sum('travel'))"
   ]
  },
  {
   "cell_type": "code",
   "execution_count": null,
   "metadata": {},
   "outputs": [],
   "source": [
    "# df_G.columns\n",
    "\n",
    "# categories = set(categories)\n",
    "\n",
    "# categories_ = categories.copy()\n",
    "\n",
    "# import re\n",
    "\n",
    "# categories = [re.sub('[^a-zA-Z]',' ',c).strip() for c in categories_]\n",
    "# categories = ['game' if c.find('game') > -1 else c for c in categories]\n",
    "# categories = ['sports' if c.find('sport') > -1 else c for c in categories]\n",
    "# categories = ['finance' if c.find('financ') > -1 else c for c in categories]\n",
    "# categories = ['investment' if c.find('invest') > -1 else c for c in categories]\n",
    "# categories = ['parental' if c.find('parent') > -1 else c for c in categories]\n",
    "# categories = ['books' if c.find('books') > -1 else c for c in categories]\n",
    "# categories = ['comic' if c.find('comic') > -1 else c for c in categories]\n",
    "# categories = ['animation' if c.find('anime') > -1 or c.find('anim') > -1  else c for c in categories]\n",
    "# categories = ['loan' if c.find('loan') > -1 else c for c in categories]\n",
    "# categories = ['income' if c.find('income') > -1 else c for c in categories]\n",
    "# categories = ['airlines' if c.find('airline') > -1 else c for c in categories]\n",
    "# categories = ['mythology' if c.find('myth') > -1 else c for c in categories]\n",
    "# categories = ['bank' if c.find('bank') > -1 else c for c in categories]\n",
    "# categories = ['tourism' if c.find('tourism') > -1 else c for c in categories]\n",
    "# categories = ['news' if c.find('news') > -1 else c for c in categories]\n",
    "# categories = ['travel' if c.find('travel') > -1 else c for c in categories]\n",
    "# categories = ['insurance' if c.find('insurance') > -1 else c for c in categories]\n",
    "# categories = ['funds' if c.find('fund') > -1 else c for c in categories]\n",
    "# categories = ['kids' if c.find('baby') > -1 or c.find('kid') > -1 else c for c in categories]\n",
    "# categories = ['risk' if c.find('risk') > -1 else c for c in categories]\n",
    "# categories = ['shop' if c.find('shop') > -1 else c for c in categories]\n",
    "# categories = ['fitness' if c.find('exercise') > -1 else c for c in categories]\n",
    "# categories = ['fitness' if c.find('fitness') > -1 else c for c in categories]\n",
    "# categories = ['fashion' if c.find('fashion') > -1 else c for c in categories]\n",
    "# categories = ['payment' if c.find('pay') > -1 else c for c in categories]\n",
    "# categories = ['painting' if c.find('paint') > -1 else c for c in categories]\n",
    "# categories = ['love' if c.find('love') > -1 else c for c in categories]\n",
    "# categories = ['professional' if c.find('professional') > -1 else c for c in categories]\n",
    "# categories = ['car' if c.find('car') > -1 else c for c in categories]\n",
    "# categories = ['abroad' if c.find('abroad') > -1 else c for c in categories]\n",
    "# categories = ['study' if c.find('study') > -1 else c for c in categories]\n",
    "# categories = ['fight' if c.find('fight') > -1 else c for c in categories]\n",
    "# categories = ['trendy' if c.find('trend') > -1 else c for c in categories]\n",
    "# categories = ['business' if c.find('business') > -1 else c for c in categories]\n",
    "# categories = ['office' if c.find('office') > -1 else c for c in categories]\n",
    "# categories = ['health' if c.find('health') > -1 else c for c in categories]\n",
    "# categories = ['language' if c.find('language') > -1 else c for c in categories]\n",
    "# categories = ['kids' if c.find('babies') > -1 else c for c in categories]\n",
    "# categories = ['family' if c.find('family') > -1 else c for c in categories]\n",
    "# categories = ['family' if c.find('families') > -1 else c for c in categories]\n",
    "# categories = ['game' if c.find('gaming') > -1 else c for c in categories]\n",
    "# categories = ['hotel' if c.find('hotel') > -1 else c for c in categories]\n",
    "# categories = ['food' if c.find('food') > -1 else c for c in categories]\n",
    "# categories = ['food' if c.find('restau') > -1 else c for c in categories]\n",
    "# categories = ['songs' if c.find('song') > -1 else c for c in categories]\n",
    "# categories = ['songs' if c.find('music') > -1 else c for c in categories]\n",
    "# categories = ['cosmetics' if (c.find('make') > -1 and c.find('up') > -1) or (c.find('cosmetic') > -1) else c for c in categories]\n",
    "\n",
    "\n",
    "# len(Counter(categories))\n",
    "\n",
    "# # categories = set(categories)\n",
    "\n",
    "# # nlp=spacy.load('en_core_web_md',disable=['parser','ner'])\n",
    "\n",
    "# # categories_LOL = []\n",
    "# # for cat in categories:\n",
    "# #     cat_toks = nlp(cat)\n",
    "# #     temp = []\n",
    "# #     for c in cat_toks:\n",
    "# #         temp.append(c.lemma_)\n",
    "# #     categories_LOL.append(temp)\n",
    "\n",
    "# # categories_LOL\n",
    "\n",
    "# # import gensim\n",
    "# # import gensim.downloader as api\n",
    "# # from gensim.models import doc2vec\n",
    " \n",
    "# # # get dataset\n",
    "# # dataset = api.load(\"text8\")\n",
    "# # data =[]\n",
    "# # for w in dataset:\n",
    "# #   data.append(w)\n",
    " \n",
    "# # # To train the model we need a list of tagged documents\n",
    "# # def tagged_document(list_of_ListOfWords):\n",
    "# #   for x, ListOfWords in enumerate(list_of_ListOfWords):\n",
    "# #     yield doc2vec.TaggedDocument(ListOfWords, [x])\n",
    "   \n",
    "# # # training data\n",
    "# # data_train = list(tagged_document(data))\n",
    "   \n",
    "# # # print trained dataset\n",
    "# # # print(data_train[:1])\n",
    "\n",
    "# # # Initialize the model\n",
    "# # d2v_model = doc2vec.Doc2Vec(vector_size = 40, min_count = 1, epochs = 30)\n",
    " \n",
    "# # # build the vocabulary\n",
    "# # d2v_model.build_vocab(data_train)\n",
    " \n",
    "# # # Train Doc2Vec model\n",
    "# # d2v_model.train(data_train, total_examples = d2v_model.corpus_count, epochs = d2v_model.epochs)\n",
    "\n",
    "# #  # Analyzing the output\n",
    "    \n",
    "# # vectors = []\n",
    "# # for l in  tqdm(categories_LOL):\n",
    "# #     vectors.append(d2v_model.infer_vector(l))\n",
    "\n",
    "# # vectors = np.array(vectors)\n",
    "\n",
    "# # from sklearn.cluster import KMeans\n",
    "\n",
    "# # kmM = KMeans(n_clusters=100,init='k-means++', n_init=100, max_iter=500, tol=0.0001, verbose=0, random_state=42, copy_x=True)\n",
    "\n",
    "# # kmMCat = kmM.fit(vectors)\n",
    "# # clusters = kmMCat.labels_\n",
    "\n",
    "# # len(categories)\n",
    "\n",
    "# # len(clusters)\n",
    "\n",
    "# # metrics.silhouette_score(vectors, clusters)\n",
    "\n",
    "# cat_df = pd.DataFrame()\n",
    "\n",
    "# cat_df['Categories_'] = list(categories_)\n",
    "# cat_df['Categories'] = list(categories)\n",
    "# # cat_df['Clusters'] = clusters\n",
    "\n",
    "# len(set(categories_))\n",
    "\n",
    "# cat_dict = {}\n",
    "# for ind,data in cat_df.iterrows():\n",
    "#     if data[1] not in cat_dict:\n",
    "#         cat_dict[data[1]] = [data[0]]\n",
    "#     else:\n",
    "#         cat_dict[data[1]].append(data[0])\n",
    "\n",
    "# df_t_Pandas.fillna(0,inplace = True)\n",
    "# df_t1_Pandas.fillna(0,inplace = True)\n",
    "# df_t2_Pandas.fillna(0,inplace = True)\n",
    "\n",
    "# 'game' in df_t_Pandas.columns\n",
    "\n",
    "# for k,v in tqdm(cat_dict.items()):\n",
    "#     df_t_Pandas[k+'_C'] = 0\n",
    "#     df_t1_Pandas[k+'_C'] = 0\n",
    "#     df_t2_Pandas[k+'_C'] = 0\n",
    "#     for v_ in v:\n",
    "#         if v_ in df_t_Pandas.columns:\n",
    "# #             print('----',v_)\n",
    "#             df_t_Pandas[k+'_C'] = df_t_Pandas[k+'_C'] + df_t_Pandas[v_]\n",
    "#             df_t_Pandas.drop(v_,axis = 1,inplace = True)\n",
    "#         if v_ in df_t1_Pandas.columns:\n",
    "#             df_t1_Pandas[k+'_C'] = df_t1_Pandas[k+'_C'] + df_t1_Pandas[v_]\n",
    "#             df_t1_Pandas.drop(v_,axis = 1,inplace = True)\n",
    "#         if v_ in df_t2_Pandas.columns:\n",
    "#             df_t2_Pandas[k+'_C'] = df_t2_Pandas[k+'_C'] + df_t2_Pandas[v_]\n",
    "#             df_t2_Pandas.drop(v_,axis = 1,inplace = True)            "
   ]
  },
  {
   "cell_type": "code",
   "execution_count": 158,
   "metadata": {},
   "outputs": [
    {
     "data": {
      "text/plain": [
       "['device_id',\n",
       " 'gender',\n",
       " 'age',\n",
       " 'avg(Diff_TS)',\n",
       " 'LL_Cluster',\n",
       " 'avg(Diff_TS)',\n",
       " 'sum(Change_in_LL)',\n",
       " 'count(event_id)',\n",
       " 'sum(airlines)',\n",
       " 'sum(animation)',\n",
       " 'sum(art)',\n",
       " 'sum(bank)',\n",
       " 'sum(books)',\n",
       " 'sum(cars)',\n",
       " 'sum(comics)',\n",
       " 'sum(cosmetics)',\n",
       " 'sum(education)',\n",
       " 'sum(entertainment)',\n",
       " 'sum(game)',\n",
       " 'sum(health)',\n",
       " 'sum(info)',\n",
       " 'sum(insurance)',\n",
       " 'sum(kids)',\n",
       " 'sum(market)',\n",
       " 'sum(monetary)',\n",
       " 'sum(myth)',\n",
       " 'sum(others)',\n",
       " 'sum(shopping)',\n",
       " 'sum(sports)',\n",
       " 'sum(travel)']"
      ]
     },
     "execution_count": 158,
     "metadata": {},
     "output_type": "execute_result"
    }
   ],
   "source": [
    "final_data_1_1.columns"
   ]
  },
  {
   "cell_type": "code",
   "execution_count": 159,
   "metadata": {},
   "outputs": [],
   "source": [
    "final_data_1_1 = final_data_1_1.drop('gender').drop('age')"
   ]
  },
  {
   "cell_type": "code",
   "execution_count": 121,
   "metadata": {},
   "outputs": [
    {
     "data": {
      "text/plain": [
       "['device_id',\n",
       " 'DayOfWeek',\n",
       " 'Hour',\n",
       " 'avg(Diff_TS)',\n",
       " 'Change_in_LL',\n",
       " 'LL_Cluster',\n",
       " 'count(event_id)',\n",
       " 'sum(airlines)',\n",
       " 'sum(animation)',\n",
       " 'sum(art)',\n",
       " 'sum(bank)',\n",
       " 'sum(books)',\n",
       " 'sum(cars)',\n",
       " 'sum(comics)',\n",
       " 'sum(cosmetics)',\n",
       " 'sum(education)',\n",
       " 'sum(entertainment)',\n",
       " 'sum(game)',\n",
       " 'sum(health)',\n",
       " 'sum(info)',\n",
       " 'sum(insurance)',\n",
       " 'sum(kids)',\n",
       " 'sum(market)',\n",
       " 'sum(monetary)',\n",
       " 'sum(myth)',\n",
       " 'sum(others)',\n",
       " 'sum(shopping)',\n",
       " 'sum(sports)',\n",
       " 'sum(travel)']"
      ]
     },
     "execution_count": 121,
     "metadata": {},
     "output_type": "execute_result"
    }
   ],
   "source": [
    "final_data_1_1.columns"
   ]
  },
  {
   "cell_type": "code",
   "execution_count": 160,
   "metadata": {},
   "outputs": [],
   "source": [
    "final_data = df_non_event_data.join(final_data_1_1,['device_id'],'left')"
   ]
  },
  {
   "cell_type": "code",
   "execution_count": 123,
   "metadata": {},
   "outputs": [
    {
     "name": "stdout",
     "output_type": "stream",
     "text": [
      "+--------------------+------+---+------+-----------+------------+---------+----+-----------------+------------+----------+---------------+-------------+--------------+--------+---------+----------+---------+-----------+--------------+--------------+------------------+---------+-----------+---------+--------------+---------+-----------+-------------+---------+-----------+-------------+-----------+-----------+\n",
      "|           device_id|gender|age|groups|phone_brand|device_model|DayOfWeek|Hour|     avg(Diff_TS)|Change_in_LL|LL_Cluster|count(event_id)|sum(airlines)|sum(animation)|sum(art)|sum(bank)|sum(books)|sum(cars)|sum(comics)|sum(cosmetics)|sum(education)|sum(entertainment)|sum(game)|sum(health)|sum(info)|sum(insurance)|sum(kids)|sum(market)|sum(monetary)|sum(myth)|sum(others)|sum(shopping)|sum(sports)|sum(travel)|\n",
      "+--------------------+------+---+------+-----------+------------+---------+----+-----------------+------------+----------+---------------+-------------+--------------+--------+---------+----------+---------+-----------+--------------+--------------+------------------+---------+-----------+---------+--------------+---------+-----------+-------------+---------+-----------+-------------+-----------+-----------+\n",
      "|-9193445811384420000|     F| 26|F25-32|    samsung|   Galaxy A7|     null|null|             null|        null|      null|           null|         null|          null|    null|     null|      null|     null|       null|          null|          null|              null|     null|       null|     null|          null|     null|       null|         null|     null|       null|         null|       null|       null|\n",
      "|-9156769850272230000|     M| 31|M25-32|     Xiaomi|       MI 2S|        4|  23|99.24444444444445|        true|         0|              9|            0|             0|       0|        0|         0|        0|          0|             0|             0|                 0|        0|          0|        0|             0|        0|          0|            2|        0|         14|            0|          0|          0|\n",
      "|-9156769850272230000|     M| 31|M25-32|     Xiaomi|       MI 2S|        2|  21|99.24444444444445|        true|         0|             11|            0|             0|       0|        0|         0|        0|          0|             0|             0|                 0|        0|          0|        0|             0|        0|          0|            2|        0|         14|            0|          0|          0|\n",
      "|-9156769850272230000|     M| 31|M25-32|     Xiaomi|       MI 2S|        2|  18|99.24444444444445|        true|         0|              5|            0|             0|       0|        0|         0|        0|          0|             0|             0|                 0|        0|          0|        0|             0|        0|          0|            2|        0|         14|            0|          0|          0|\n",
      "|-9156769850272230000|     M| 31|M25-32|     Xiaomi|       MI 2S|        2|  18|99.24444444444445|       false|         0|              3|            0|             0|       0|        0|         0|        0|          0|             0|             0|                 0|        0|          0|        0|             0|        0|          0|            0|        0|          0|            0|          0|          0|\n",
      "+--------------------+------+---+------+-----------+------------+---------+----+-----------------+------------+----------+---------------+-------------+--------------+--------+---------+----------+---------+-----------+--------------+--------------+------------------+---------+-----------+---------+--------------+---------+-----------+-------------+---------+-----------+-------------+-----------+-----------+\n",
      "only showing top 5 rows\n",
      "\n"
     ]
    }
   ],
   "source": [
    "final_data.show(5)"
   ]
  },
  {
   "cell_type": "code",
   "execution_count": 137,
   "metadata": {},
   "outputs": [
    {
     "data": {
      "text/plain": [
       "268952"
      ]
     },
     "execution_count": 137,
     "metadata": {},
     "output_type": "execute_result"
    }
   ],
   "source": [
    "final_data.count()"
   ]
  },
  {
   "cell_type": "code",
   "execution_count": 169,
   "metadata": {},
   "outputs": [],
   "source": [
    "final_data_PD = final_data.toPandas()"
   ]
  },
  {
   "cell_type": "code",
   "execution_count": 162,
   "metadata": {},
   "outputs": [
    {
     "data": {
      "text/html": [
       "<div>\n",
       "<style scoped>\n",
       "    .dataframe tbody tr th:only-of-type {\n",
       "        vertical-align: middle;\n",
       "    }\n",
       "\n",
       "    .dataframe tbody tr th {\n",
       "        vertical-align: top;\n",
       "    }\n",
       "\n",
       "    .dataframe thead th {\n",
       "        text-align: right;\n",
       "    }\n",
       "</style>\n",
       "<table border=\"1\" class=\"dataframe\">\n",
       "  <thead>\n",
       "    <tr style=\"text-align: right;\">\n",
       "      <th></th>\n",
       "      <th>device_id</th>\n",
       "      <th>gender</th>\n",
       "      <th>age</th>\n",
       "      <th>groups</th>\n",
       "      <th>phone_brand</th>\n",
       "      <th>device_model</th>\n",
       "      <th>avg(Diff_TS)</th>\n",
       "      <th>LL_Cluster</th>\n",
       "      <th>avg(Diff_TS)</th>\n",
       "      <th>sum(Change_in_LL)</th>\n",
       "      <th>...</th>\n",
       "      <th>sum(info)</th>\n",
       "      <th>sum(insurance)</th>\n",
       "      <th>sum(kids)</th>\n",
       "      <th>sum(market)</th>\n",
       "      <th>sum(monetary)</th>\n",
       "      <th>sum(myth)</th>\n",
       "      <th>sum(others)</th>\n",
       "      <th>sum(shopping)</th>\n",
       "      <th>sum(sports)</th>\n",
       "      <th>sum(travel)</th>\n",
       "    </tr>\n",
       "  </thead>\n",
       "  <tbody>\n",
       "    <tr>\n",
       "      <th>0</th>\n",
       "      <td>-9193445811384420000</td>\n",
       "      <td>F</td>\n",
       "      <td>26</td>\n",
       "      <td>F25-32</td>\n",
       "      <td>samsung</td>\n",
       "      <td>Galaxy A7</td>\n",
       "      <td>NaN</td>\n",
       "      <td>NaN</td>\n",
       "      <td>NaN</td>\n",
       "      <td>NaN</td>\n",
       "      <td>...</td>\n",
       "      <td>NaN</td>\n",
       "      <td>NaN</td>\n",
       "      <td>NaN</td>\n",
       "      <td>NaN</td>\n",
       "      <td>NaN</td>\n",
       "      <td>NaN</td>\n",
       "      <td>NaN</td>\n",
       "      <td>NaN</td>\n",
       "      <td>NaN</td>\n",
       "      <td>NaN</td>\n",
       "    </tr>\n",
       "    <tr>\n",
       "      <th>1</th>\n",
       "      <td>-9156769850272230000</td>\n",
       "      <td>M</td>\n",
       "      <td>31</td>\n",
       "      <td>M25-32</td>\n",
       "      <td>Xiaomi</td>\n",
       "      <td>MI 2S</td>\n",
       "      <td>99.244444</td>\n",
       "      <td>0.0</td>\n",
       "      <td>99.244444</td>\n",
       "      <td>44.0</td>\n",
       "      <td>...</td>\n",
       "      <td>0.0</td>\n",
       "      <td>0.0</td>\n",
       "      <td>0.0</td>\n",
       "      <td>0.0</td>\n",
       "      <td>8.0</td>\n",
       "      <td>0.0</td>\n",
       "      <td>56.0</td>\n",
       "      <td>0.0</td>\n",
       "      <td>0.0</td>\n",
       "      <td>0.0</td>\n",
       "    </tr>\n",
       "    <tr>\n",
       "      <th>2</th>\n",
       "      <td>-9115419745209610000</td>\n",
       "      <td>F</td>\n",
       "      <td>19</td>\n",
       "      <td>F0-24</td>\n",
       "      <td>Huawei</td>\n",
       "      <td>è£è€€3C</td>\n",
       "      <td>NaN</td>\n",
       "      <td>NaN</td>\n",
       "      <td>NaN</td>\n",
       "      <td>NaN</td>\n",
       "      <td>...</td>\n",
       "      <td>NaN</td>\n",
       "      <td>NaN</td>\n",
       "      <td>NaN</td>\n",
       "      <td>NaN</td>\n",
       "      <td>NaN</td>\n",
       "      <td>NaN</td>\n",
       "      <td>NaN</td>\n",
       "      <td>NaN</td>\n",
       "      <td>NaN</td>\n",
       "      <td>NaN</td>\n",
       "    </tr>\n",
       "    <tr>\n",
       "      <th>3</th>\n",
       "      <td>-9101962973644730000</td>\n",
       "      <td>F</td>\n",
       "      <td>31</td>\n",
       "      <td>F25-32</td>\n",
       "      <td>samsung</td>\n",
       "      <td>Galaxy A7</td>\n",
       "      <td>57.252778</td>\n",
       "      <td>0.0</td>\n",
       "      <td>57.252778</td>\n",
       "      <td>97.0</td>\n",
       "      <td>...</td>\n",
       "      <td>0.0</td>\n",
       "      <td>0.0</td>\n",
       "      <td>0.0</td>\n",
       "      <td>0.0</td>\n",
       "      <td>0.0</td>\n",
       "      <td>0.0</td>\n",
       "      <td>240.0</td>\n",
       "      <td>0.0</td>\n",
       "      <td>0.0</td>\n",
       "      <td>0.0</td>\n",
       "    </tr>\n",
       "    <tr>\n",
       "      <th>4</th>\n",
       "      <td>-9072332457196160000</td>\n",
       "      <td>F</td>\n",
       "      <td>33</td>\n",
       "      <td>F32+</td>\n",
       "      <td>samsung</td>\n",
       "      <td>Galaxy Note 3</td>\n",
       "      <td>NaN</td>\n",
       "      <td>NaN</td>\n",
       "      <td>NaN</td>\n",
       "      <td>NaN</td>\n",
       "      <td>...</td>\n",
       "      <td>NaN</td>\n",
       "      <td>NaN</td>\n",
       "      <td>NaN</td>\n",
       "      <td>NaN</td>\n",
       "      <td>NaN</td>\n",
       "      <td>NaN</td>\n",
       "      <td>NaN</td>\n",
       "      <td>NaN</td>\n",
       "      <td>NaN</td>\n",
       "      <td>NaN</td>\n",
       "    </tr>\n",
       "  </tbody>\n",
       "</table>\n",
       "<p>5 rows × 33 columns</p>\n",
       "</div>"
      ],
      "text/plain": [
       "             device_id gender  age  groups phone_brand   device_model  \\\n",
       "0 -9193445811384420000      F   26  F25-32     samsung      Galaxy A7   \n",
       "1 -9156769850272230000      M   31  M25-32      Xiaomi          MI 2S   \n",
       "2 -9115419745209610000      F   19   F0-24      Huawei       è£è€€3C   \n",
       "3 -9101962973644730000      F   31  F25-32     samsung      Galaxy A7   \n",
       "4 -9072332457196160000      F   33    F32+     samsung  Galaxy Note 3   \n",
       "\n",
       "   avg(Diff_TS)  LL_Cluster  avg(Diff_TS)  sum(Change_in_LL)     ...       \\\n",
       "0           NaN         NaN           NaN                NaN     ...        \n",
       "1     99.244444         0.0     99.244444               44.0     ...        \n",
       "2           NaN         NaN           NaN                NaN     ...        \n",
       "3     57.252778         0.0     57.252778               97.0     ...        \n",
       "4           NaN         NaN           NaN                NaN     ...        \n",
       "\n",
       "   sum(info)  sum(insurance)  sum(kids)  sum(market)  sum(monetary)  \\\n",
       "0        NaN             NaN        NaN          NaN            NaN   \n",
       "1        0.0             0.0        0.0          0.0            8.0   \n",
       "2        NaN             NaN        NaN          NaN            NaN   \n",
       "3        0.0             0.0        0.0          0.0            0.0   \n",
       "4        NaN             NaN        NaN          NaN            NaN   \n",
       "\n",
       "   sum(myth)  sum(others)  sum(shopping)  sum(sports)  sum(travel)  \n",
       "0        NaN          NaN            NaN          NaN          NaN  \n",
       "1        0.0         56.0            0.0          0.0          0.0  \n",
       "2        NaN          NaN            NaN          NaN          NaN  \n",
       "3        0.0        240.0            0.0          0.0          0.0  \n",
       "4        NaN          NaN            NaN          NaN          NaN  \n",
       "\n",
       "[5 rows x 33 columns]"
      ]
     },
     "execution_count": 162,
     "metadata": {},
     "output_type": "execute_result"
    }
   ],
   "source": [
    "final_data_PD.head()"
   ]
  },
  {
   "cell_type": "code",
   "execution_count": 173,
   "metadata": {},
   "outputs": [
    {
     "data": {
      "text/plain": [
       "(74646, 33)"
      ]
     },
     "execution_count": 173,
     "metadata": {},
     "output_type": "execute_result"
    }
   ],
   "source": [
    "final_data_PD.shape"
   ]
  },
  {
   "cell_type": "code",
   "execution_count": 164,
   "metadata": {},
   "outputs": [
    {
     "data": {
      "text/plain": [
       "(74645, 5)"
      ]
     },
     "execution_count": 164,
     "metadata": {},
     "output_type": "execute_result"
    }
   ],
   "source": [
    "train_test.shape"
   ]
  },
  {
   "cell_type": "code",
   "execution_count": 179,
   "metadata": {},
   "outputs": [
    {
     "data": {
      "text/html": [
       "<div>\n",
       "<style scoped>\n",
       "    .dataframe tbody tr th:only-of-type {\n",
       "        vertical-align: middle;\n",
       "    }\n",
       "\n",
       "    .dataframe tbody tr th {\n",
       "        vertical-align: top;\n",
       "    }\n",
       "\n",
       "    .dataframe thead th {\n",
       "        text-align: right;\n",
       "    }\n",
       "</style>\n",
       "<table border=\"1\" class=\"dataframe\">\n",
       "  <thead>\n",
       "    <tr style=\"text-align: right;\">\n",
       "      <th></th>\n",
       "      <th>device_id</th>\n",
       "      <th>gender</th>\n",
       "      <th>age</th>\n",
       "      <th>group</th>\n",
       "      <th>train_test_flag</th>\n",
       "    </tr>\n",
       "  </thead>\n",
       "  <tbody>\n",
       "    <tr>\n",
       "      <th>0</th>\n",
       "      <td>-7548291590301750000</td>\n",
       "      <td>M</td>\n",
       "      <td>33</td>\n",
       "      <td>M32+</td>\n",
       "      <td>train</td>\n",
       "    </tr>\n",
       "    <tr>\n",
       "      <th>1</th>\n",
       "      <td>6943568600617760000</td>\n",
       "      <td>M</td>\n",
       "      <td>37</td>\n",
       "      <td>M32+</td>\n",
       "      <td>train</td>\n",
       "    </tr>\n",
       "    <tr>\n",
       "      <th>2</th>\n",
       "      <td>5441349705980020000</td>\n",
       "      <td>M</td>\n",
       "      <td>40</td>\n",
       "      <td>M32+</td>\n",
       "      <td>train</td>\n",
       "    </tr>\n",
       "    <tr>\n",
       "      <th>3</th>\n",
       "      <td>-5393876656119450000</td>\n",
       "      <td>M</td>\n",
       "      <td>33</td>\n",
       "      <td>M32+</td>\n",
       "      <td>train</td>\n",
       "    </tr>\n",
       "    <tr>\n",
       "      <th>4</th>\n",
       "      <td>4543988487649880000</td>\n",
       "      <td>M</td>\n",
       "      <td>53</td>\n",
       "      <td>M32+</td>\n",
       "      <td>train</td>\n",
       "    </tr>\n",
       "  </tbody>\n",
       "</table>\n",
       "</div>"
      ],
      "text/plain": [
       "             device_id gender  age group train_test_flag\n",
       "0 -7548291590301750000      M   33  M32+           train\n",
       "1  6943568600617760000      M   37  M32+           train\n",
       "2  5441349705980020000      M   40  M32+           train\n",
       "3 -5393876656119450000      M   33  M32+           train\n",
       "4  4543988487649880000      M   53  M32+           train"
      ]
     },
     "execution_count": 179,
     "metadata": {},
     "output_type": "execute_result"
    }
   ],
   "source": [
    "train_test.head()"
   ]
  },
  {
   "cell_type": "code",
   "execution_count": 177,
   "metadata": {},
   "outputs": [],
   "source": [
    "final_data_PD_ = final_data_PD[~(final_data_PD.index == 6737)]"
   ]
  },
  {
   "cell_type": "code",
   "execution_count": 178,
   "metadata": {},
   "outputs": [
    {
     "data": {
      "text/plain": [
       "(74645, 33)"
      ]
     },
     "execution_count": 178,
     "metadata": {},
     "output_type": "execute_result"
    }
   ],
   "source": [
    "final_data_PD_.shape"
   ]
  },
  {
   "cell_type": "code",
   "execution_count": 180,
   "metadata": {},
   "outputs": [],
   "source": [
    "final_data_PD__tt = final_data_PD_.merge(train_test[['device_id','train_test_flag']], left_on = 'device_id',right_on = 'device_id')"
   ]
  },
  {
   "cell_type": "code",
   "execution_count": 181,
   "metadata": {},
   "outputs": [
    {
     "data": {
      "text/plain": [
       "(74645, 34)"
      ]
     },
     "execution_count": 181,
     "metadata": {},
     "output_type": "execute_result"
    }
   ],
   "source": [
    "final_data_PD__tt.shape"
   ]
  },
  {
   "cell_type": "code",
   "execution_count": 183,
   "metadata": {},
   "outputs": [],
   "source": [
    "final_data_PD__tt.to_excel('train_test_dataset.xlsx')"
   ]
  },
  {
   "cell_type": "code",
   "execution_count": 186,
   "metadata": {},
   "outputs": [],
   "source": [
    "final_data_PD__tt.fillna(0,inplace = True)"
   ]
  },
  {
   "cell_type": "code",
   "execution_count": 187,
   "metadata": {},
   "outputs": [],
   "source": [
    "from sklearn.preprocessing import LabelEncoder,OneHotEncoder"
   ]
  },
  {
   "cell_type": "code",
   "execution_count": 191,
   "metadata": {},
   "outputs": [],
   "source": [
    "import re"
   ]
  },
  {
   "cell_type": "code",
   "execution_count": 193,
   "metadata": {},
   "outputs": [],
   "source": [
    "final_data_PD__tt['groups'] = final_data_PD__tt['groups'].apply(lambda x : re.sub('[a-zA-z]','',x))"
   ]
  },
  {
   "cell_type": "code",
   "execution_count": 195,
   "metadata": {},
   "outputs": [],
   "source": [
    "final_data_PD__tt.sort_values('train_test_flag',inplace = True)"
   ]
  },
  {
   "cell_type": "code",
   "execution_count": 203,
   "metadata": {},
   "outputs": [
    {
     "data": {
      "text/html": [
       "<div>\n",
       "<style scoped>\n",
       "    .dataframe tbody tr th:only-of-type {\n",
       "        vertical-align: middle;\n",
       "    }\n",
       "\n",
       "    .dataframe tbody tr th {\n",
       "        vertical-align: top;\n",
       "    }\n",
       "\n",
       "    .dataframe thead th {\n",
       "        text-align: right;\n",
       "    }\n",
       "</style>\n",
       "<table border=\"1\" class=\"dataframe\">\n",
       "  <thead>\n",
       "    <tr style=\"text-align: right;\">\n",
       "      <th></th>\n",
       "      <th>device_id</th>\n",
       "      <th>gender</th>\n",
       "      <th>age</th>\n",
       "      <th>groups</th>\n",
       "      <th>phone_brand</th>\n",
       "      <th>device_model</th>\n",
       "      <th>avg(Diff_TS)</th>\n",
       "      <th>LL_Cluster</th>\n",
       "      <th>avg(Diff_TS)</th>\n",
       "      <th>sum(Change_in_LL)</th>\n",
       "      <th>...</th>\n",
       "      <th>sum(myth)</th>\n",
       "      <th>sum(others)</th>\n",
       "      <th>sum(shopping)</th>\n",
       "      <th>sum(sports)</th>\n",
       "      <th>sum(travel)</th>\n",
       "      <th>train_test_flag</th>\n",
       "      <th>genderLabel</th>\n",
       "      <th>groupsLabel</th>\n",
       "      <th>device_modelLabel</th>\n",
       "      <th>phone_brandLabel</th>\n",
       "    </tr>\n",
       "  </thead>\n",
       "  <tbody>\n",
       "    <tr>\n",
       "      <th>20914</th>\n",
       "      <td>8866025070059070000</td>\n",
       "      <td>M</td>\n",
       "      <td>26</td>\n",
       "      <td>25-32</td>\n",
       "      <td>samsung</td>\n",
       "      <td>Galaxy Note 3</td>\n",
       "      <td>0.000000</td>\n",
       "      <td>0.0</td>\n",
       "      <td>0.000000</td>\n",
       "      <td>0.0</td>\n",
       "      <td>...</td>\n",
       "      <td>0.0</td>\n",
       "      <td>0.0</td>\n",
       "      <td>0.0</td>\n",
       "      <td>0.0</td>\n",
       "      <td>0.0</td>\n",
       "      <td>test</td>\n",
       "      <td>1</td>\n",
       "      <td>1</td>\n",
       "      <td>496</td>\n",
       "      <td>86</td>\n",
       "    </tr>\n",
       "    <tr>\n",
       "      <th>15330</th>\n",
       "      <td>7868021447680650000</td>\n",
       "      <td>M</td>\n",
       "      <td>27</td>\n",
       "      <td>25-32</td>\n",
       "      <td>samsung</td>\n",
       "      <td>Galaxy Note 3</td>\n",
       "      <td>0.000000</td>\n",
       "      <td>0.0</td>\n",
       "      <td>0.000000</td>\n",
       "      <td>0.0</td>\n",
       "      <td>...</td>\n",
       "      <td>0.0</td>\n",
       "      <td>0.0</td>\n",
       "      <td>0.0</td>\n",
       "      <td>0.0</td>\n",
       "      <td>0.0</td>\n",
       "      <td>test</td>\n",
       "      <td>1</td>\n",
       "      <td>1</td>\n",
       "      <td>496</td>\n",
       "      <td>86</td>\n",
       "    </tr>\n",
       "    <tr>\n",
       "      <th>62597</th>\n",
       "      <td>7234180210114850000</td>\n",
       "      <td>M</td>\n",
       "      <td>35</td>\n",
       "      <td>32+</td>\n",
       "      <td>Meizu</td>\n",
       "      <td>menote1 2</td>\n",
       "      <td>0.000000</td>\n",
       "      <td>0.0</td>\n",
       "      <td>0.000000</td>\n",
       "      <td>0.0</td>\n",
       "      <td>...</td>\n",
       "      <td>0.0</td>\n",
       "      <td>0.0</td>\n",
       "      <td>0.0</td>\n",
       "      <td>0.0</td>\n",
       "      <td>0.0</td>\n",
       "      <td>test</td>\n",
       "      <td>1</td>\n",
       "      <td>2</td>\n",
       "      <td>1308</td>\n",
       "      <td>21</td>\n",
       "    </tr>\n",
       "    <tr>\n",
       "      <th>32423</th>\n",
       "      <td>-9090242314887240000</td>\n",
       "      <td>M</td>\n",
       "      <td>29</td>\n",
       "      <td>25-32</td>\n",
       "      <td>samsung</td>\n",
       "      <td>Galaxy Note 2</td>\n",
       "      <td>0.000000</td>\n",
       "      <td>0.0</td>\n",
       "      <td>0.000000</td>\n",
       "      <td>0.0</td>\n",
       "      <td>...</td>\n",
       "      <td>0.0</td>\n",
       "      <td>0.0</td>\n",
       "      <td>0.0</td>\n",
       "      <td>0.0</td>\n",
       "      <td>0.0</td>\n",
       "      <td>test</td>\n",
       "      <td>1</td>\n",
       "      <td>1</td>\n",
       "      <td>495</td>\n",
       "      <td>86</td>\n",
       "    </tr>\n",
       "    <tr>\n",
       "      <th>32424</th>\n",
       "      <td>-9086090884397990000</td>\n",
       "      <td>M</td>\n",
       "      <td>30</td>\n",
       "      <td>25-32</td>\n",
       "      <td>OPPO</td>\n",
       "      <td>R7s</td>\n",
       "      <td>412.316667</td>\n",
       "      <td>0.0</td>\n",
       "      <td>412.316667</td>\n",
       "      <td>77.0</td>\n",
       "      <td>...</td>\n",
       "      <td>0.0</td>\n",
       "      <td>820.0</td>\n",
       "      <td>0.0</td>\n",
       "      <td>0.0</td>\n",
       "      <td>0.0</td>\n",
       "      <td>test</td>\n",
       "      <td>1</td>\n",
       "      <td>1</td>\n",
       "      <td>838</td>\n",
       "      <td>24</td>\n",
       "    </tr>\n",
       "  </tbody>\n",
       "</table>\n",
       "<p>5 rows × 38 columns</p>\n",
       "</div>"
      ],
      "text/plain": [
       "                 device_id gender  age groups phone_brand   device_model  \\\n",
       "20914  8866025070059070000      M   26  25-32     samsung  Galaxy Note 3   \n",
       "15330  7868021447680650000      M   27  25-32     samsung  Galaxy Note 3   \n",
       "62597  7234180210114850000      M   35    32+       Meizu      menote1 2   \n",
       "32423 -9090242314887240000      M   29  25-32     samsung  Galaxy Note 2   \n",
       "32424 -9086090884397990000      M   30  25-32        OPPO            R7s   \n",
       "\n",
       "       avg(Diff_TS)  LL_Cluster  avg(Diff_TS)  sum(Change_in_LL)  \\\n",
       "20914      0.000000         0.0      0.000000                0.0   \n",
       "15330      0.000000         0.0      0.000000                0.0   \n",
       "62597      0.000000         0.0      0.000000                0.0   \n",
       "32423      0.000000         0.0      0.000000                0.0   \n",
       "32424    412.316667         0.0    412.316667               77.0   \n",
       "\n",
       "             ...         sum(myth)  sum(others)  sum(shopping)  sum(sports)  \\\n",
       "20914        ...               0.0          0.0            0.0          0.0   \n",
       "15330        ...               0.0          0.0            0.0          0.0   \n",
       "62597        ...               0.0          0.0            0.0          0.0   \n",
       "32423        ...               0.0          0.0            0.0          0.0   \n",
       "32424        ...               0.0        820.0            0.0          0.0   \n",
       "\n",
       "       sum(travel)  train_test_flag  genderLabel  groupsLabel  \\\n",
       "20914          0.0             test            1            1   \n",
       "15330          0.0             test            1            1   \n",
       "62597          0.0             test            1            2   \n",
       "32423          0.0             test            1            1   \n",
       "32424          0.0             test            1            1   \n",
       "\n",
       "       device_modelLabel  phone_brandLabel  \n",
       "20914                496                86  \n",
       "15330                496                86  \n",
       "62597               1308                21  \n",
       "32423                495                86  \n",
       "32424                838                24  \n",
       "\n",
       "[5 rows x 38 columns]"
      ]
     },
     "execution_count": 203,
     "metadata": {},
     "output_type": "execute_result"
    }
   ],
   "source": [
    "final_data_PD__tt.head()"
   ]
  },
  {
   "cell_type": "code",
   "execution_count": 217,
   "metadata": {},
   "outputs": [
    {
     "data": {
      "text/plain": [
       "array([0.])"
      ]
     },
     "execution_count": 217,
     "metadata": {},
     "output_type": "execute_result"
    }
   ],
   "source": [
    "final_data_PD__tt.LL_Cluster.unique()"
   ]
  },
  {
   "cell_type": "code",
   "execution_count": 224,
   "metadata": {},
   "outputs": [
    {
     "data": {
      "text/html": [
       "<div>\n",
       "<style scoped>\n",
       "    .dataframe tbody tr th:only-of-type {\n",
       "        vertical-align: middle;\n",
       "    }\n",
       "\n",
       "    .dataframe tbody tr th {\n",
       "        vertical-align: top;\n",
       "    }\n",
       "\n",
       "    .dataframe thead th {\n",
       "        text-align: right;\n",
       "    }\n",
       "</style>\n",
       "<table border=\"1\" class=\"dataframe\">\n",
       "  <thead>\n",
       "    <tr style=\"text-align: right;\">\n",
       "      <th></th>\n",
       "      <th>latitude</th>\n",
       "      <th>longitude</th>\n",
       "      <th>Clusters_LL</th>\n",
       "      <th>Key</th>\n",
       "    </tr>\n",
       "  </thead>\n",
       "  <tbody>\n",
       "    <tr>\n",
       "      <th>0</th>\n",
       "      <td>23.19</td>\n",
       "      <td>113.24</td>\n",
       "      <td>0</td>\n",
       "      <td>23.19_113.24</td>\n",
       "    </tr>\n",
       "    <tr>\n",
       "      <th>1</th>\n",
       "      <td>30.87</td>\n",
       "      <td>114.36</td>\n",
       "      <td>1</td>\n",
       "      <td>30.87_114.36</td>\n",
       "    </tr>\n",
       "    <tr>\n",
       "      <th>2</th>\n",
       "      <td>34.70</td>\n",
       "      <td>113.71</td>\n",
       "      <td>2</td>\n",
       "      <td>34.7_113.71</td>\n",
       "    </tr>\n",
       "    <tr>\n",
       "      <th>4</th>\n",
       "      <td>22.73</td>\n",
       "      <td>113.80</td>\n",
       "      <td>0</td>\n",
       "      <td>22.73_113.8</td>\n",
       "    </tr>\n",
       "    <tr>\n",
       "      <th>5</th>\n",
       "      <td>22.53</td>\n",
       "      <td>114.06</td>\n",
       "      <td>0</td>\n",
       "      <td>22.53_114.06</td>\n",
       "    </tr>\n",
       "  </tbody>\n",
       "</table>\n",
       "</div>"
      ],
      "text/plain": [
       "   latitude  longitude  Clusters_LL           Key\n",
       "0     23.19     113.24            0  23.19_113.24\n",
       "1     30.87     114.36            1  30.87_114.36\n",
       "2     34.70     113.71            2   34.7_113.71\n",
       "4     22.73     113.80            0   22.73_113.8\n",
       "5     22.53     114.06            0  22.53_114.06"
      ]
     },
     "execution_count": 224,
     "metadata": {},
     "output_type": "execute_result"
    }
   ],
   "source": [
    "coords.head()"
   ]
  },
  {
   "cell_type": "code",
   "execution_count": 225,
   "metadata": {},
   "outputs": [],
   "source": [
    "dll_P['Key'] = dll_P.latitude.astype(str)+'_'+dll_P.longitude.astype(str)"
   ]
  },
  {
   "cell_type": "code",
   "execution_count": 227,
   "metadata": {},
   "outputs": [],
   "source": [
    "dll_P = dll_P.merge(coords[['Key','Clusters_LL']],left_on = 'Key',right_on = 'Key')"
   ]
  },
  {
   "cell_type": "code",
   "execution_count": 228,
   "metadata": {},
   "outputs": [
    {
     "data": {
      "text/html": [
       "<div>\n",
       "<style scoped>\n",
       "    .dataframe tbody tr th:only-of-type {\n",
       "        vertical-align: middle;\n",
       "    }\n",
       "\n",
       "    .dataframe tbody tr th {\n",
       "        vertical-align: top;\n",
       "    }\n",
       "\n",
       "    .dataframe thead th {\n",
       "        text-align: right;\n",
       "    }\n",
       "</style>\n",
       "<table border=\"1\" class=\"dataframe\">\n",
       "  <thead>\n",
       "    <tr style=\"text-align: right;\">\n",
       "      <th></th>\n",
       "      <th>device_id</th>\n",
       "      <th>latitude</th>\n",
       "      <th>longitude</th>\n",
       "      <th>Key</th>\n",
       "      <th>Clusters_LL</th>\n",
       "    </tr>\n",
       "  </thead>\n",
       "  <tbody>\n",
       "    <tr>\n",
       "      <th>0</th>\n",
       "      <td>-1001337759327040000</td>\n",
       "      <td>30.29</td>\n",
       "      <td>120.11</td>\n",
       "      <td>30.29_120.11</td>\n",
       "      <td>70</td>\n",
       "    </tr>\n",
       "    <tr>\n",
       "      <th>1</th>\n",
       "      <td>-1001337759327040000</td>\n",
       "      <td>30.29</td>\n",
       "      <td>120.11</td>\n",
       "      <td>30.29_120.11</td>\n",
       "      <td>70</td>\n",
       "    </tr>\n",
       "    <tr>\n",
       "      <th>2</th>\n",
       "      <td>-1001337759327040000</td>\n",
       "      <td>30.29</td>\n",
       "      <td>120.11</td>\n",
       "      <td>30.29_120.11</td>\n",
       "      <td>70</td>\n",
       "    </tr>\n",
       "    <tr>\n",
       "      <th>3</th>\n",
       "      <td>-1001337759327040000</td>\n",
       "      <td>30.29</td>\n",
       "      <td>120.11</td>\n",
       "      <td>30.29_120.11</td>\n",
       "      <td>70</td>\n",
       "    </tr>\n",
       "    <tr>\n",
       "      <th>4</th>\n",
       "      <td>-3388525784534110000</td>\n",
       "      <td>30.29</td>\n",
       "      <td>120.11</td>\n",
       "      <td>30.29_120.11</td>\n",
       "      <td>70</td>\n",
       "    </tr>\n",
       "  </tbody>\n",
       "</table>\n",
       "</div>"
      ],
      "text/plain": [
       "             device_id  latitude  longitude           Key  Clusters_LL\n",
       "0 -1001337759327040000     30.29     120.11  30.29_120.11           70\n",
       "1 -1001337759327040000     30.29     120.11  30.29_120.11           70\n",
       "2 -1001337759327040000     30.29     120.11  30.29_120.11           70\n",
       "3 -1001337759327040000     30.29     120.11  30.29_120.11           70\n",
       "4 -3388525784534110000     30.29     120.11  30.29_120.11           70"
      ]
     },
     "execution_count": 228,
     "metadata": {},
     "output_type": "execute_result"
    }
   ],
   "source": [
    "dll_P.head()"
   ]
  },
  {
   "cell_type": "code",
   "execution_count": 248,
   "metadata": {},
   "outputs": [],
   "source": [
    "final_data_PD__tt_ = final_data_PD__tt.merge(dll_P[['device_id','Clusters_LL']].drop_duplicates(),\n",
    "                                             how = 'left',\n",
    "                                             left_on = 'device_id',\n",
    "                                            right_on = 'device_id')"
   ]
  },
  {
   "cell_type": "code",
   "execution_count": 251,
   "metadata": {},
   "outputs": [
    {
     "data": {
      "text/plain": [
       "(74645, 39)"
      ]
     },
     "execution_count": 251,
     "metadata": {},
     "output_type": "execute_result"
    }
   ],
   "source": [
    "final_data_PD__tt.shape"
   ]
  },
  {
   "cell_type": "code",
   "execution_count": 258,
   "metadata": {},
   "outputs": [],
   "source": [
    "final_data_PD__tt_.fillna(-2,inplace = True)"
   ]
  },
  {
   "cell_type": "code",
   "execution_count": 345,
   "metadata": {},
   "outputs": [],
   "source": [
    "final_data_PD__tt_S1 = final_data_PD__tt_[final_data_PD__tt_.Clusters_LL != -2]\n",
    "final_data_PD__tt_S2 = final_data_PD__tt_[final_data_PD__tt_.Clusters_LL == -2]"
   ]
  },
  {
   "cell_type": "code",
   "execution_count": 346,
   "metadata": {},
   "outputs": [],
   "source": [
    "final_data_PD__tt_g = final_data_PD__tt_S1.pivot_table(index = 'device_id', columns = 'Clusters_LL', values = 'gender',aggfunc = 'count')\n",
    "\n",
    "final_data_PD__tt_g = final_data_PD__tt_g.fillna(0).reset_index()\n",
    "\n",
    "final_data_PD__tt_g = pd.DataFrame(final_data_PD__tt_S1['device_id']).merge(final_data_PD__tt_g.drop_duplicates(),how = 'left',left_on = 'device_id',right_on = 'device_id')\n",
    "\n",
    "final_data_PD__tt_g.iloc[-10:]"
   ]
  },
  {
   "cell_type": "code",
   "execution_count": 349,
   "metadata": {},
   "outputs": [
    {
     "data": {
      "text/plain": [
       "(16307, 2346)"
      ]
     },
     "execution_count": 349,
     "metadata": {},
     "output_type": "execute_result"
    }
   ],
   "source": [
    "final_data_PD__tt_g.shape"
   ]
  },
  {
   "cell_type": "code",
   "execution_count": 350,
   "metadata": {},
   "outputs": [
    {
     "data": {
      "text/plain": [
       "(16307, 40)"
      ]
     },
     "execution_count": 350,
     "metadata": {},
     "output_type": "execute_result"
    }
   ],
   "source": [
    "final_data_PD__tt_S1.shape"
   ]
  },
  {
   "cell_type": "code",
   "execution_count": 351,
   "metadata": {},
   "outputs": [],
   "source": [
    "labelE = LabelEncoder()\n",
    "final_data_PD__tt_S1['genderLabel'] = labelE.fit_transform(final_data_PD__tt_S1.gender)\n",
    "final_data_PD__tt_S1['groupsLabel'] = labelE.fit_transform(final_data_PD__tt_S1.groups)\n",
    "final_data_PD__tt_S1['device_modelLabel'] = labelE.fit_transform(final_data_PD__tt_S1.device_model)\n",
    "final_data_PD__tt_S1['phone_brandLabel'] = labelE.fit_transform(final_data_PD__tt_S1.phone_brand)\n",
    "\n",
    "ohe = OneHotEncoder()\n",
    "device_modelE_S1 = ohe.fit_transform(np.array(final_data_PD__tt_S1.device_modelLabel).reshape(-1,1))\n",
    "phone_brandE_S1 = ohe.fit_transform(np.array(final_data_PD__tt_S1.phone_brandLabel).reshape(-1,1))"
   ]
  },
  {
   "cell_type": "code",
   "execution_count": 357,
   "metadata": {},
   "outputs": [],
   "source": [
    "from scipy.sparse import csr_matrix,hstack"
   ]
  },
  {
   "cell_type": "code",
   "execution_count": 358,
   "metadata": {},
   "outputs": [],
   "source": [
    "LL_ClusterE = csr_matrix(np.array(final_data_PD__tt_g.iloc[:,1:]))"
   ]
  },
  {
   "cell_type": "code",
   "execution_count": 359,
   "metadata": {},
   "outputs": [
    {
     "data": {
      "text/plain": [
       "(16307, 2345)"
      ]
     },
     "execution_count": 359,
     "metadata": {},
     "output_type": "execute_result"
    }
   ],
   "source": [
    "LL_ClusterE.shape"
   ]
  },
  {
   "cell_type": "code",
   "execution_count": 360,
   "metadata": {},
   "outputs": [],
   "source": [
    "numerics = np.array(final_data_PD__tt_S1[['avg(Diff_TS)', 'sum(Change_in_LL)',\n",
    "       'count(event_id)', 'sum(airlines)', 'sum(animation)', 'sum(art)',\n",
    "       'sum(bank)', 'sum(books)', 'sum(cars)', 'sum(comics)', 'sum(cosmetics)',\n",
    "       'sum(education)', 'sum(entertainment)', 'sum(game)', 'sum(health)',\n",
    "       'sum(info)', 'sum(insurance)', 'sum(kids)', 'sum(market)',\n",
    "       'sum(monetary)', 'sum(myth)', 'sum(others)', 'sum(shopping)',\n",
    "       'sum(sports)', 'sum(travel)']])"
   ]
  },
  {
   "cell_type": "code",
   "execution_count": 361,
   "metadata": {},
   "outputs": [],
   "source": [
    "from sklearn.preprocessing import MinMaxScaler\n",
    "mms = MinMaxScaler()\n",
    "numerics_Scaled = mms.fit_transform(numerics)"
   ]
  },
  {
   "cell_type": "code",
   "execution_count": 362,
   "metadata": {},
   "outputs": [],
   "source": [
    "numerics_Scaled_CSR = csr_matrix(numerics_Scaled)"
   ]
  },
  {
   "cell_type": "code",
   "execution_count": 363,
   "metadata": {},
   "outputs": [],
   "source": [
    "features_S1 = hstack([LL_ClusterE,device_modelE_S1,phone_brandE_S1,numerics_Scaled_CSR])"
   ]
  },
  {
   "cell_type": "code",
   "execution_count": 364,
   "metadata": {},
   "outputs": [
    {
     "data": {
      "text/plain": [
       "(16307, 3008)"
      ]
     },
     "execution_count": 364,
     "metadata": {},
     "output_type": "execute_result"
    }
   ],
   "source": [
    "features_S1.shape"
   ]
  },
  {
   "cell_type": "code",
   "execution_count": 366,
   "metadata": {},
   "outputs": [],
   "source": [
    "final_data_PD__tt_S2['genderLabel'] = labelE.fit_transform(final_data_PD__tt_S2.gender)\n",
    "final_data_PD__tt_S2['groupsLabel'] = labelE.fit_transform(final_data_PD__tt_S2.groups)\n",
    "final_data_PD__tt_S2['device_modelLabel'] = labelE.fit_transform(final_data_PD__tt_S2.device_model)\n",
    "final_data_PD__tt_S2['phone_brandLabel'] = labelE.fit_transform(final_data_PD__tt_S2.phone_brand)\n",
    "\n",
    "device_modelE_S2 = ohe.fit_transform(np.array(final_data_PD__tt_S2.device_modelLabel).reshape(-1,1))\n",
    "phone_brandE_S2 = ohe.fit_transform(np.array(final_data_PD__tt_S2.phone_brandLabel).reshape(-1,1))"
   ]
  },
  {
   "cell_type": "code",
   "execution_count": 371,
   "metadata": {},
   "outputs": [
    {
     "data": {
      "text/plain": [
       "(62665, 1516)"
      ]
     },
     "execution_count": 371,
     "metadata": {},
     "output_type": "execute_result"
    }
   ],
   "source": [
    "features_S2 = hstack([device_modelE_S2,phone_brandE_S2])\n",
    "\n",
    "features_S2.shape"
   ]
  },
  {
   "cell_type": "code",
   "execution_count": 373,
   "metadata": {},
   "outputs": [
    {
     "data": {
      "text/plain": [
       "Index(['device_id', 'gender', 'age', 'groups', 'phone_brand', 'device_model',\n",
       "       'avg(Diff_TS)', 'LL_Cluster', 'avg(Diff_TS)', 'sum(Change_in_LL)',\n",
       "       'count(event_id)', 'sum(airlines)', 'sum(animation)', 'sum(art)',\n",
       "       'sum(bank)', 'sum(books)', 'sum(cars)', 'sum(comics)', 'sum(cosmetics)',\n",
       "       'sum(education)', 'sum(entertainment)', 'sum(game)', 'sum(health)',\n",
       "       'sum(info)', 'sum(insurance)', 'sum(kids)', 'sum(market)',\n",
       "       'sum(monetary)', 'sum(myth)', 'sum(others)', 'sum(shopping)',\n",
       "       'sum(sports)', 'sum(travel)', 'train_test_flag', 'genderLabel',\n",
       "       'groupsLabel', 'device_modelLabel', 'phone_brandLabel',\n",
       "       'LL_ClusterLabel', 'Clusters_LL'],\n",
       "      dtype='object')"
      ]
     },
     "execution_count": 373,
     "metadata": {},
     "output_type": "execute_result"
    }
   ],
   "source": [
    "final_data_PD__tt_S1.columns"
   ]
  },
  {
   "cell_type": "markdown",
   "metadata": {},
   "source": [
    "# Model"
   ]
  },
  {
   "cell_type": "code",
   "execution_count": 380,
   "metadata": {},
   "outputs": [],
   "source": [
    "# Scenario 1\n",
    "\n",
    "train_S1 = features_S1.A[len(final_data_PD__tt_S1[final_data_PD__tt_S1.train_test_flag == 'test']):,:]\n",
    "test_S1 = features_S1.A[:len(final_data_PD__tt_S1[final_data_PD__tt_S1.train_test_flag == 'test']),:]"
   ]
  },
  {
   "cell_type": "code",
   "execution_count": 385,
   "metadata": {},
   "outputs": [],
   "source": [
    "train_S1_Y = final_data_PD__tt_S1[final_data_PD__tt_S1.train_test_flag == 'train'].genderLabel\n",
    "test_S1_Y = final_data_PD__tt_S1[final_data_PD__tt_S1.train_test_flag == 'test'].genderLabel"
   ]
  },
  {
   "cell_type": "code",
   "execution_count": 384,
   "metadata": {},
   "outputs": [
    {
     "data": {
      "text/plain": [
       "True"
      ]
     },
     "execution_count": 384,
     "metadata": {},
     "output_type": "execute_result"
    }
   ],
   "source": [
    "len(final_data_PD__tt_S1) == train_S1.shape[0] + test_S1.shape[0]"
   ]
  },
  {
   "cell_type": "code",
   "execution_count": null,
   "metadata": {},
   "outputs": [],
   "source": [
    "# Age prediction Model"
   ]
  },
  {
   "cell_type": "code",
   "execution_count": 414,
   "metadata": {},
   "outputs": [],
   "source": [
    "# Logistic Regression Model\n",
    "\n",
    "from sklearn.linear_model import LogisticRegression\n",
    "from sklearn.metrics import confusion_matrix,classification_report"
   ]
  },
  {
   "cell_type": "code",
   "execution_count": 410,
   "metadata": {},
   "outputs": [],
   "source": [
    "log_reg = LogisticRegression(penalty = 'l2')"
   ]
  },
  {
   "cell_type": "code",
   "execution_count": 411,
   "metadata": {},
   "outputs": [],
   "source": [
    "lr_M = log_reg.fit(train_S1,train_S1_Y)"
   ]
  },
  {
   "cell_type": "code",
   "execution_count": 412,
   "metadata": {},
   "outputs": [],
   "source": [
    "p_hat_S1_lr = lr_M.predict(test_S1)"
   ]
  },
  {
   "cell_type": "code",
   "execution_count": 416,
   "metadata": {},
   "outputs": [
    {
     "name": "stdout",
     "output_type": "stream",
     "text": [
      "              precision    recall  f1-score   support\n",
      "\n",
      "           0       0.39      0.12      0.18      1115\n",
      "           1       0.74      0.93      0.83      3023\n",
      "\n",
      "    accuracy                           0.71      4138\n",
      "   macro avg       0.56      0.52      0.50      4138\n",
      "weighted avg       0.65      0.71      0.65      4138\n",
      "\n"
     ]
    }
   ],
   "source": [
    "print(classification_report(test_S1_Y,p_hat_S1_lr))"
   ]
  },
  {
   "cell_type": "code",
   "execution_count": 417,
   "metadata": {},
   "outputs": [
    {
     "name": "stdout",
     "output_type": "stream",
     "text": [
      "[[ 132  983]\n",
      " [ 210 2813]]\n"
     ]
    }
   ],
   "source": [
    "print(confusion_matrix(test_S1_Y,p_hat_S1_lr))"
   ]
  },
  {
   "cell_type": "code",
   "execution_count": null,
   "metadata": {},
   "outputs": [],
   "source": [
    "# Random Forest Classifier\n",
    "\n",
    "from sklearn.prepro"
   ]
  },
  {
   "cell_type": "code",
   "execution_count": null,
   "metadata": {},
   "outputs": [],
   "source": [
    "# XGBoost"
   ]
  },
  {
   "cell_type": "code",
   "execution_count": null,
   "metadata": {},
   "outputs": [],
   "source": [
    "# Stacking"
   ]
  }
 ],
 "metadata": {
  "kernelspec": {
   "display_name": "Python 3",
   "language": "python",
   "name": "python3"
  },
  "language_info": {
   "codemirror_mode": {
    "name": "ipython",
    "version": 3
   },
   "file_extension": ".py",
   "mimetype": "text/x-python",
   "name": "python",
   "nbconvert_exporter": "python",
   "pygments_lexer": "ipython3",
   "version": "3.6.9"
  }
 },
 "nbformat": 4,
 "nbformat_minor": 2
}
